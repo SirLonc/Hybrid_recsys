{
  "cells": [
    {
      "cell_type": "markdown",
      "id": "30e41b68-e05d-4c3d-8b19-f2f1d22438bc",
      "metadata": {
        "id": "30e41b68-e05d-4c3d-8b19-f2f1d22438bc"
      },
      "source": [
        "# Hybrid model"
      ]
    },
    {
      "cell_type": "code",
      "execution_count": 2,
      "id": "bf9cd3e2-cea6-4884-a7bb-1fcd5b5e5069",
      "metadata": {
        "colab": {
          "base_uri": "https://localhost:8080/"
        },
        "id": "bf9cd3e2-cea6-4884-a7bb-1fcd5b5e5069",
        "outputId": "49500566-1a12-4909-cfaf-d953800689f9"
      },
      "outputs": [
        {
          "output_type": "stream",
          "name": "stdout",
          "text": [
            "Collecting dill\n",
            "  Downloading dill-0.3.7-py3-none-any.whl (115 kB)\n",
            "\u001b[?25l     \u001b[90m━━━━━━━━━━━━━━━━━━━━━━━━━━━━━━━━━━━━━━━━\u001b[0m \u001b[32m0.0/115.3 kB\u001b[0m \u001b[31m?\u001b[0m eta \u001b[36m-:--:--\u001b[0m\r\u001b[2K     \u001b[91m━━━━━━━━━━━━━━━━━━━━━━━━━━━━━━━━━━━━━━\u001b[0m\u001b[90m╺\u001b[0m \u001b[32m112.6/115.3 kB\u001b[0m \u001b[31m3.9 MB/s\u001b[0m eta \u001b[36m0:00:01\u001b[0m\r\u001b[2K     \u001b[90m━━━━━━━━━━━━━━━━━━━━━━━━━━━━━━━━━━━━━━━\u001b[0m \u001b[32m115.3/115.3 kB\u001b[0m \u001b[31m2.8 MB/s\u001b[0m eta \u001b[36m0:00:00\u001b[0m\n",
            "\u001b[?25hInstalling collected packages: dill\n",
            "Successfully installed dill-0.3.7\n"
          ]
        }
      ],
      "source": [
        "#!pip install dill\n",
        "import datetime\n",
        "import dill\n",
        "import numpy as np\n",
        "import pandas as pd\n",
        "from tqdm.auto import tqdm\n",
        "from zipfile import ZipFile\n",
        "import matplotlib.pyplot as plt\n",
        "from sklearn.utils import shuffle\n",
        "from sklearn.model_selection import train_test_split\n",
        "import warnings\n",
        "warnings.simplefilter('ignore')"
      ]
    },
    {
      "cell_type": "code",
      "execution_count": 3,
      "id": "9e845e7d-215f-4736-a194-9637d644028c",
      "metadata": {
        "id": "9e845e7d-215f-4736-a194-9637d644028c"
      },
      "outputs": [],
      "source": [
        "PATH_TO_DATA = \"/content/data_kion.zip\"\n",
        "\n",
        "with ZipFile(PATH_TO_DATA) as z:\n",
        "\n",
        "    with z.open(\"data_kion/interactions_df.csv\") as f:\n",
        "        interactions = pd.read_csv(f)\n",
        "\n",
        "    with z.open(\"data_kion/items.csv\") as f:\n",
        "        items = pd.read_csv(f)\n",
        "\n",
        "    with z.open(\"data_kion/users.csv\") as f:\n",
        "        users = pd.read_csv(f)"
      ]
    },
    {
      "cell_type": "markdown",
      "id": "645b2da1-edc4-4cc8-8f97-bb3d5353ed21",
      "metadata": {
        "id": "645b2da1-edc4-4cc8-8f97-bb3d5353ed21"
      },
      "source": [
        "## EDA"
      ]
    },
    {
      "cell_type": "code",
      "execution_count": 4,
      "id": "0e3d239a-600a-4080-a366-4ff7612d5d14",
      "metadata": {
        "colab": {
          "base_uri": "https://localhost:8080/",
          "height": 206
        },
        "id": "0e3d239a-600a-4080-a366-4ff7612d5d14",
        "outputId": "e7f27f81-a8bc-4d83-83b5-23e264947851"
      },
      "outputs": [
        {
          "output_type": "execute_result",
          "data": {
            "text/plain": [
              "   user_id  item_id last_watch_dt  total_dur  watched_pct\n",
              "0   176549     9506    2021-05-11       4250         72.0\n",
              "1   699317     1659    2021-05-29       8317        100.0\n",
              "2   656683     7107    2021-05-09         10          0.0\n",
              "3   864613     7638    2021-07-05      14483        100.0\n",
              "4   964868     9506    2021-04-30       6725        100.0"
            ],
            "text/html": [
              "\n",
              "  <div id=\"df-62e22650-2144-4d64-be3f-bcc3dc0d1c5d\" class=\"colab-df-container\">\n",
              "    <div>\n",
              "<style scoped>\n",
              "    .dataframe tbody tr th:only-of-type {\n",
              "        vertical-align: middle;\n",
              "    }\n",
              "\n",
              "    .dataframe tbody tr th {\n",
              "        vertical-align: top;\n",
              "    }\n",
              "\n",
              "    .dataframe thead th {\n",
              "        text-align: right;\n",
              "    }\n",
              "</style>\n",
              "<table border=\"1\" class=\"dataframe\">\n",
              "  <thead>\n",
              "    <tr style=\"text-align: right;\">\n",
              "      <th></th>\n",
              "      <th>user_id</th>\n",
              "      <th>item_id</th>\n",
              "      <th>last_watch_dt</th>\n",
              "      <th>total_dur</th>\n",
              "      <th>watched_pct</th>\n",
              "    </tr>\n",
              "  </thead>\n",
              "  <tbody>\n",
              "    <tr>\n",
              "      <th>0</th>\n",
              "      <td>176549</td>\n",
              "      <td>9506</td>\n",
              "      <td>2021-05-11</td>\n",
              "      <td>4250</td>\n",
              "      <td>72.0</td>\n",
              "    </tr>\n",
              "    <tr>\n",
              "      <th>1</th>\n",
              "      <td>699317</td>\n",
              "      <td>1659</td>\n",
              "      <td>2021-05-29</td>\n",
              "      <td>8317</td>\n",
              "      <td>100.0</td>\n",
              "    </tr>\n",
              "    <tr>\n",
              "      <th>2</th>\n",
              "      <td>656683</td>\n",
              "      <td>7107</td>\n",
              "      <td>2021-05-09</td>\n",
              "      <td>10</td>\n",
              "      <td>0.0</td>\n",
              "    </tr>\n",
              "    <tr>\n",
              "      <th>3</th>\n",
              "      <td>864613</td>\n",
              "      <td>7638</td>\n",
              "      <td>2021-07-05</td>\n",
              "      <td>14483</td>\n",
              "      <td>100.0</td>\n",
              "    </tr>\n",
              "    <tr>\n",
              "      <th>4</th>\n",
              "      <td>964868</td>\n",
              "      <td>9506</td>\n",
              "      <td>2021-04-30</td>\n",
              "      <td>6725</td>\n",
              "      <td>100.0</td>\n",
              "    </tr>\n",
              "  </tbody>\n",
              "</table>\n",
              "</div>\n",
              "    <div class=\"colab-df-buttons\">\n",
              "\n",
              "  <div class=\"colab-df-container\">\n",
              "    <button class=\"colab-df-convert\" onclick=\"convertToInteractive('df-62e22650-2144-4d64-be3f-bcc3dc0d1c5d')\"\n",
              "            title=\"Convert this dataframe to an interactive table.\"\n",
              "            style=\"display:none;\">\n",
              "\n",
              "  <svg xmlns=\"http://www.w3.org/2000/svg\" height=\"24px\" viewBox=\"0 -960 960 960\">\n",
              "    <path d=\"M120-120v-720h720v720H120Zm60-500h600v-160H180v160Zm220 220h160v-160H400v160Zm0 220h160v-160H400v160ZM180-400h160v-160H180v160Zm440 0h160v-160H620v160ZM180-180h160v-160H180v160Zm440 0h160v-160H620v160Z\"/>\n",
              "  </svg>\n",
              "    </button>\n",
              "\n",
              "  <style>\n",
              "    .colab-df-container {\n",
              "      display:flex;\n",
              "      gap: 12px;\n",
              "    }\n",
              "\n",
              "    .colab-df-convert {\n",
              "      background-color: #E8F0FE;\n",
              "      border: none;\n",
              "      border-radius: 50%;\n",
              "      cursor: pointer;\n",
              "      display: none;\n",
              "      fill: #1967D2;\n",
              "      height: 32px;\n",
              "      padding: 0 0 0 0;\n",
              "      width: 32px;\n",
              "    }\n",
              "\n",
              "    .colab-df-convert:hover {\n",
              "      background-color: #E2EBFA;\n",
              "      box-shadow: 0px 1px 2px rgba(60, 64, 67, 0.3), 0px 1px 3px 1px rgba(60, 64, 67, 0.15);\n",
              "      fill: #174EA6;\n",
              "    }\n",
              "\n",
              "    .colab-df-buttons div {\n",
              "      margin-bottom: 4px;\n",
              "    }\n",
              "\n",
              "    [theme=dark] .colab-df-convert {\n",
              "      background-color: #3B4455;\n",
              "      fill: #D2E3FC;\n",
              "    }\n",
              "\n",
              "    [theme=dark] .colab-df-convert:hover {\n",
              "      background-color: #434B5C;\n",
              "      box-shadow: 0px 1px 3px 1px rgba(0, 0, 0, 0.15);\n",
              "      filter: drop-shadow(0px 1px 2px rgba(0, 0, 0, 0.3));\n",
              "      fill: #FFFFFF;\n",
              "    }\n",
              "  </style>\n",
              "\n",
              "    <script>\n",
              "      const buttonEl =\n",
              "        document.querySelector('#df-62e22650-2144-4d64-be3f-bcc3dc0d1c5d button.colab-df-convert');\n",
              "      buttonEl.style.display =\n",
              "        google.colab.kernel.accessAllowed ? 'block' : 'none';\n",
              "\n",
              "      async function convertToInteractive(key) {\n",
              "        const element = document.querySelector('#df-62e22650-2144-4d64-be3f-bcc3dc0d1c5d');\n",
              "        const dataTable =\n",
              "          await google.colab.kernel.invokeFunction('convertToInteractive',\n",
              "                                                    [key], {});\n",
              "        if (!dataTable) return;\n",
              "\n",
              "        const docLinkHtml = 'Like what you see? Visit the ' +\n",
              "          '<a target=\"_blank\" href=https://colab.research.google.com/notebooks/data_table.ipynb>data table notebook</a>'\n",
              "          + ' to learn more about interactive tables.';\n",
              "        element.innerHTML = '';\n",
              "        dataTable['output_type'] = 'display_data';\n",
              "        await google.colab.output.renderOutput(dataTable, element);\n",
              "        const docLink = document.createElement('div');\n",
              "        docLink.innerHTML = docLinkHtml;\n",
              "        element.appendChild(docLink);\n",
              "      }\n",
              "    </script>\n",
              "  </div>\n",
              "\n",
              "\n",
              "<div id=\"df-23ffef46-b4bf-40bc-8934-42aee1a86b5e\">\n",
              "  <button class=\"colab-df-quickchart\" onclick=\"quickchart('df-23ffef46-b4bf-40bc-8934-42aee1a86b5e')\"\n",
              "            title=\"Suggest charts.\"\n",
              "            style=\"display:none;\">\n",
              "\n",
              "<svg xmlns=\"http://www.w3.org/2000/svg\" height=\"24px\"viewBox=\"0 0 24 24\"\n",
              "     width=\"24px\">\n",
              "    <g>\n",
              "        <path d=\"M19 3H5c-1.1 0-2 .9-2 2v14c0 1.1.9 2 2 2h14c1.1 0 2-.9 2-2V5c0-1.1-.9-2-2-2zM9 17H7v-7h2v7zm4 0h-2V7h2v10zm4 0h-2v-4h2v4z\"/>\n",
              "    </g>\n",
              "</svg>\n",
              "  </button>\n",
              "\n",
              "<style>\n",
              "  .colab-df-quickchart {\n",
              "      --bg-color: #E8F0FE;\n",
              "      --fill-color: #1967D2;\n",
              "      --hover-bg-color: #E2EBFA;\n",
              "      --hover-fill-color: #174EA6;\n",
              "      --disabled-fill-color: #AAA;\n",
              "      --disabled-bg-color: #DDD;\n",
              "  }\n",
              "\n",
              "  [theme=dark] .colab-df-quickchart {\n",
              "      --bg-color: #3B4455;\n",
              "      --fill-color: #D2E3FC;\n",
              "      --hover-bg-color: #434B5C;\n",
              "      --hover-fill-color: #FFFFFF;\n",
              "      --disabled-bg-color: #3B4455;\n",
              "      --disabled-fill-color: #666;\n",
              "  }\n",
              "\n",
              "  .colab-df-quickchart {\n",
              "    background-color: var(--bg-color);\n",
              "    border: none;\n",
              "    border-radius: 50%;\n",
              "    cursor: pointer;\n",
              "    display: none;\n",
              "    fill: var(--fill-color);\n",
              "    height: 32px;\n",
              "    padding: 0;\n",
              "    width: 32px;\n",
              "  }\n",
              "\n",
              "  .colab-df-quickchart:hover {\n",
              "    background-color: var(--hover-bg-color);\n",
              "    box-shadow: 0 1px 2px rgba(60, 64, 67, 0.3), 0 1px 3px 1px rgba(60, 64, 67, 0.15);\n",
              "    fill: var(--button-hover-fill-color);\n",
              "  }\n",
              "\n",
              "  .colab-df-quickchart-complete:disabled,\n",
              "  .colab-df-quickchart-complete:disabled:hover {\n",
              "    background-color: var(--disabled-bg-color);\n",
              "    fill: var(--disabled-fill-color);\n",
              "    box-shadow: none;\n",
              "  }\n",
              "\n",
              "  .colab-df-spinner {\n",
              "    border: 2px solid var(--fill-color);\n",
              "    border-color: transparent;\n",
              "    border-bottom-color: var(--fill-color);\n",
              "    animation:\n",
              "      spin 1s steps(1) infinite;\n",
              "  }\n",
              "\n",
              "  @keyframes spin {\n",
              "    0% {\n",
              "      border-color: transparent;\n",
              "      border-bottom-color: var(--fill-color);\n",
              "      border-left-color: var(--fill-color);\n",
              "    }\n",
              "    20% {\n",
              "      border-color: transparent;\n",
              "      border-left-color: var(--fill-color);\n",
              "      border-top-color: var(--fill-color);\n",
              "    }\n",
              "    30% {\n",
              "      border-color: transparent;\n",
              "      border-left-color: var(--fill-color);\n",
              "      border-top-color: var(--fill-color);\n",
              "      border-right-color: var(--fill-color);\n",
              "    }\n",
              "    40% {\n",
              "      border-color: transparent;\n",
              "      border-right-color: var(--fill-color);\n",
              "      border-top-color: var(--fill-color);\n",
              "    }\n",
              "    60% {\n",
              "      border-color: transparent;\n",
              "      border-right-color: var(--fill-color);\n",
              "    }\n",
              "    80% {\n",
              "      border-color: transparent;\n",
              "      border-right-color: var(--fill-color);\n",
              "      border-bottom-color: var(--fill-color);\n",
              "    }\n",
              "    90% {\n",
              "      border-color: transparent;\n",
              "      border-bottom-color: var(--fill-color);\n",
              "    }\n",
              "  }\n",
              "</style>\n",
              "\n",
              "  <script>\n",
              "    async function quickchart(key) {\n",
              "      const quickchartButtonEl =\n",
              "        document.querySelector('#' + key + ' button');\n",
              "      quickchartButtonEl.disabled = true;  // To prevent multiple clicks.\n",
              "      quickchartButtonEl.classList.add('colab-df-spinner');\n",
              "      try {\n",
              "        const charts = await google.colab.kernel.invokeFunction(\n",
              "            'suggestCharts', [key], {});\n",
              "      } catch (error) {\n",
              "        console.error('Error during call to suggestCharts:', error);\n",
              "      }\n",
              "      quickchartButtonEl.classList.remove('colab-df-spinner');\n",
              "      quickchartButtonEl.classList.add('colab-df-quickchart-complete');\n",
              "    }\n",
              "    (() => {\n",
              "      let quickchartButtonEl =\n",
              "        document.querySelector('#df-23ffef46-b4bf-40bc-8934-42aee1a86b5e button');\n",
              "      quickchartButtonEl.style.display =\n",
              "        google.colab.kernel.accessAllowed ? 'block' : 'none';\n",
              "    })();\n",
              "  </script>\n",
              "</div>\n",
              "    </div>\n",
              "  </div>\n"
            ]
          },
          "metadata": {},
          "execution_count": 4
        }
      ],
      "source": [
        "interactions.head()"
      ]
    },
    {
      "cell_type": "code",
      "execution_count": 5,
      "id": "27012e44-e993-4734-b79d-0b43fb219d29",
      "metadata": {
        "colab": {
          "base_uri": "https://localhost:8080/"
        },
        "id": "27012e44-e993-4734-b79d-0b43fb219d29",
        "outputId": "e98266bc-31ba-4732-950d-2a3ae9ceb7d1"
      },
      "outputs": [
        {
          "output_type": "stream",
          "name": "stdout",
          "text": [
            "Unique users in  interactions: 962_179\n",
            "Unique items in  interactions: 15_706\n"
          ]
        }
      ],
      "source": [
        "interactions['last_watch_dt'] = pd.to_datetime(interactions['last_watch_dt']).map(lambda x: x.date())\n",
        "\n",
        "print(f\"Unique users in  interactions: {interactions['user_id'].nunique():_}\")\n",
        "print(f\"Unique items in  interactions: {interactions['item_id'].nunique():_}\")"
      ]
    },
    {
      "cell_type": "code",
      "execution_count": 6,
      "id": "3795c266-13a3-4130-834a-da33d89d0aa3",
      "metadata": {
        "colab": {
          "base_uri": "https://localhost:8080/"
        },
        "id": "3795c266-13a3-4130-834a-da33d89d0aa3",
        "outputId": "dc137b07-1b69-4955-93a3-e72ecdf4b3ef"
      },
      "outputs": [
        {
          "output_type": "stream",
          "name": "stdout",
          "text": [
            "min date in interactions: 2021-03-13\n",
            "max date in interactions: 2021-08-22\n"
          ]
        }
      ],
      "source": [
        "max_date = interactions['last_watch_dt'].max()\n",
        "min_date = interactions['last_watch_dt'].min()\n",
        "\n",
        "print(f\"min date in interactions: {min_date}\")\n",
        "print(f\"max date in interactions: {max_date}\")"
      ]
    },
    {
      "cell_type": "code",
      "execution_count": 7,
      "id": "35f7dd7b-a862-4ff2-927f-2f5b770bb33a",
      "metadata": {
        "colab": {
          "base_uri": "https://localhost:8080/",
          "height": 206
        },
        "id": "35f7dd7b-a862-4ff2-927f-2f5b770bb33a",
        "outputId": "514c0179-5410-40c0-9722-b172dc27cece"
      },
      "outputs": [
        {
          "output_type": "execute_result",
          "data": {
            "text/plain": [
              "   user_id        age        income sex  kids_flg\n",
              "0   973171  age_25_34  income_60_90   М         1\n",
              "1   962099  age_18_24  income_20_40   М         0\n",
              "2  1047345  age_45_54  income_40_60   Ж         0\n",
              "3   721985  age_45_54  income_20_40   Ж         0\n",
              "4   704055  age_35_44  income_60_90   Ж         0"
            ],
            "text/html": [
              "\n",
              "  <div id=\"df-c8547d93-d568-4b78-b949-e3a553064c6e\" class=\"colab-df-container\">\n",
              "    <div>\n",
              "<style scoped>\n",
              "    .dataframe tbody tr th:only-of-type {\n",
              "        vertical-align: middle;\n",
              "    }\n",
              "\n",
              "    .dataframe tbody tr th {\n",
              "        vertical-align: top;\n",
              "    }\n",
              "\n",
              "    .dataframe thead th {\n",
              "        text-align: right;\n",
              "    }\n",
              "</style>\n",
              "<table border=\"1\" class=\"dataframe\">\n",
              "  <thead>\n",
              "    <tr style=\"text-align: right;\">\n",
              "      <th></th>\n",
              "      <th>user_id</th>\n",
              "      <th>age</th>\n",
              "      <th>income</th>\n",
              "      <th>sex</th>\n",
              "      <th>kids_flg</th>\n",
              "    </tr>\n",
              "  </thead>\n",
              "  <tbody>\n",
              "    <tr>\n",
              "      <th>0</th>\n",
              "      <td>973171</td>\n",
              "      <td>age_25_34</td>\n",
              "      <td>income_60_90</td>\n",
              "      <td>М</td>\n",
              "      <td>1</td>\n",
              "    </tr>\n",
              "    <tr>\n",
              "      <th>1</th>\n",
              "      <td>962099</td>\n",
              "      <td>age_18_24</td>\n",
              "      <td>income_20_40</td>\n",
              "      <td>М</td>\n",
              "      <td>0</td>\n",
              "    </tr>\n",
              "    <tr>\n",
              "      <th>2</th>\n",
              "      <td>1047345</td>\n",
              "      <td>age_45_54</td>\n",
              "      <td>income_40_60</td>\n",
              "      <td>Ж</td>\n",
              "      <td>0</td>\n",
              "    </tr>\n",
              "    <tr>\n",
              "      <th>3</th>\n",
              "      <td>721985</td>\n",
              "      <td>age_45_54</td>\n",
              "      <td>income_20_40</td>\n",
              "      <td>Ж</td>\n",
              "      <td>0</td>\n",
              "    </tr>\n",
              "    <tr>\n",
              "      <th>4</th>\n",
              "      <td>704055</td>\n",
              "      <td>age_35_44</td>\n",
              "      <td>income_60_90</td>\n",
              "      <td>Ж</td>\n",
              "      <td>0</td>\n",
              "    </tr>\n",
              "  </tbody>\n",
              "</table>\n",
              "</div>\n",
              "    <div class=\"colab-df-buttons\">\n",
              "\n",
              "  <div class=\"colab-df-container\">\n",
              "    <button class=\"colab-df-convert\" onclick=\"convertToInteractive('df-c8547d93-d568-4b78-b949-e3a553064c6e')\"\n",
              "            title=\"Convert this dataframe to an interactive table.\"\n",
              "            style=\"display:none;\">\n",
              "\n",
              "  <svg xmlns=\"http://www.w3.org/2000/svg\" height=\"24px\" viewBox=\"0 -960 960 960\">\n",
              "    <path d=\"M120-120v-720h720v720H120Zm60-500h600v-160H180v160Zm220 220h160v-160H400v160Zm0 220h160v-160H400v160ZM180-400h160v-160H180v160Zm440 0h160v-160H620v160ZM180-180h160v-160H180v160Zm440 0h160v-160H620v160Z\"/>\n",
              "  </svg>\n",
              "    </button>\n",
              "\n",
              "  <style>\n",
              "    .colab-df-container {\n",
              "      display:flex;\n",
              "      gap: 12px;\n",
              "    }\n",
              "\n",
              "    .colab-df-convert {\n",
              "      background-color: #E8F0FE;\n",
              "      border: none;\n",
              "      border-radius: 50%;\n",
              "      cursor: pointer;\n",
              "      display: none;\n",
              "      fill: #1967D2;\n",
              "      height: 32px;\n",
              "      padding: 0 0 0 0;\n",
              "      width: 32px;\n",
              "    }\n",
              "\n",
              "    .colab-df-convert:hover {\n",
              "      background-color: #E2EBFA;\n",
              "      box-shadow: 0px 1px 2px rgba(60, 64, 67, 0.3), 0px 1px 3px 1px rgba(60, 64, 67, 0.15);\n",
              "      fill: #174EA6;\n",
              "    }\n",
              "\n",
              "    .colab-df-buttons div {\n",
              "      margin-bottom: 4px;\n",
              "    }\n",
              "\n",
              "    [theme=dark] .colab-df-convert {\n",
              "      background-color: #3B4455;\n",
              "      fill: #D2E3FC;\n",
              "    }\n",
              "\n",
              "    [theme=dark] .colab-df-convert:hover {\n",
              "      background-color: #434B5C;\n",
              "      box-shadow: 0px 1px 3px 1px rgba(0, 0, 0, 0.15);\n",
              "      filter: drop-shadow(0px 1px 2px rgba(0, 0, 0, 0.3));\n",
              "      fill: #FFFFFF;\n",
              "    }\n",
              "  </style>\n",
              "\n",
              "    <script>\n",
              "      const buttonEl =\n",
              "        document.querySelector('#df-c8547d93-d568-4b78-b949-e3a553064c6e button.colab-df-convert');\n",
              "      buttonEl.style.display =\n",
              "        google.colab.kernel.accessAllowed ? 'block' : 'none';\n",
              "\n",
              "      async function convertToInteractive(key) {\n",
              "        const element = document.querySelector('#df-c8547d93-d568-4b78-b949-e3a553064c6e');\n",
              "        const dataTable =\n",
              "          await google.colab.kernel.invokeFunction('convertToInteractive',\n",
              "                                                    [key], {});\n",
              "        if (!dataTable) return;\n",
              "\n",
              "        const docLinkHtml = 'Like what you see? Visit the ' +\n",
              "          '<a target=\"_blank\" href=https://colab.research.google.com/notebooks/data_table.ipynb>data table notebook</a>'\n",
              "          + ' to learn more about interactive tables.';\n",
              "        element.innerHTML = '';\n",
              "        dataTable['output_type'] = 'display_data';\n",
              "        await google.colab.output.renderOutput(dataTable, element);\n",
              "        const docLink = document.createElement('div');\n",
              "        docLink.innerHTML = docLinkHtml;\n",
              "        element.appendChild(docLink);\n",
              "      }\n",
              "    </script>\n",
              "  </div>\n",
              "\n",
              "\n",
              "<div id=\"df-5c211595-d67c-4464-9884-57c6805576f7\">\n",
              "  <button class=\"colab-df-quickchart\" onclick=\"quickchart('df-5c211595-d67c-4464-9884-57c6805576f7')\"\n",
              "            title=\"Suggest charts.\"\n",
              "            style=\"display:none;\">\n",
              "\n",
              "<svg xmlns=\"http://www.w3.org/2000/svg\" height=\"24px\"viewBox=\"0 0 24 24\"\n",
              "     width=\"24px\">\n",
              "    <g>\n",
              "        <path d=\"M19 3H5c-1.1 0-2 .9-2 2v14c0 1.1.9 2 2 2h14c1.1 0 2-.9 2-2V5c0-1.1-.9-2-2-2zM9 17H7v-7h2v7zm4 0h-2V7h2v10zm4 0h-2v-4h2v4z\"/>\n",
              "    </g>\n",
              "</svg>\n",
              "  </button>\n",
              "\n",
              "<style>\n",
              "  .colab-df-quickchart {\n",
              "      --bg-color: #E8F0FE;\n",
              "      --fill-color: #1967D2;\n",
              "      --hover-bg-color: #E2EBFA;\n",
              "      --hover-fill-color: #174EA6;\n",
              "      --disabled-fill-color: #AAA;\n",
              "      --disabled-bg-color: #DDD;\n",
              "  }\n",
              "\n",
              "  [theme=dark] .colab-df-quickchart {\n",
              "      --bg-color: #3B4455;\n",
              "      --fill-color: #D2E3FC;\n",
              "      --hover-bg-color: #434B5C;\n",
              "      --hover-fill-color: #FFFFFF;\n",
              "      --disabled-bg-color: #3B4455;\n",
              "      --disabled-fill-color: #666;\n",
              "  }\n",
              "\n",
              "  .colab-df-quickchart {\n",
              "    background-color: var(--bg-color);\n",
              "    border: none;\n",
              "    border-radius: 50%;\n",
              "    cursor: pointer;\n",
              "    display: none;\n",
              "    fill: var(--fill-color);\n",
              "    height: 32px;\n",
              "    padding: 0;\n",
              "    width: 32px;\n",
              "  }\n",
              "\n",
              "  .colab-df-quickchart:hover {\n",
              "    background-color: var(--hover-bg-color);\n",
              "    box-shadow: 0 1px 2px rgba(60, 64, 67, 0.3), 0 1px 3px 1px rgba(60, 64, 67, 0.15);\n",
              "    fill: var(--button-hover-fill-color);\n",
              "  }\n",
              "\n",
              "  .colab-df-quickchart-complete:disabled,\n",
              "  .colab-df-quickchart-complete:disabled:hover {\n",
              "    background-color: var(--disabled-bg-color);\n",
              "    fill: var(--disabled-fill-color);\n",
              "    box-shadow: none;\n",
              "  }\n",
              "\n",
              "  .colab-df-spinner {\n",
              "    border: 2px solid var(--fill-color);\n",
              "    border-color: transparent;\n",
              "    border-bottom-color: var(--fill-color);\n",
              "    animation:\n",
              "      spin 1s steps(1) infinite;\n",
              "  }\n",
              "\n",
              "  @keyframes spin {\n",
              "    0% {\n",
              "      border-color: transparent;\n",
              "      border-bottom-color: var(--fill-color);\n",
              "      border-left-color: var(--fill-color);\n",
              "    }\n",
              "    20% {\n",
              "      border-color: transparent;\n",
              "      border-left-color: var(--fill-color);\n",
              "      border-top-color: var(--fill-color);\n",
              "    }\n",
              "    30% {\n",
              "      border-color: transparent;\n",
              "      border-left-color: var(--fill-color);\n",
              "      border-top-color: var(--fill-color);\n",
              "      border-right-color: var(--fill-color);\n",
              "    }\n",
              "    40% {\n",
              "      border-color: transparent;\n",
              "      border-right-color: var(--fill-color);\n",
              "      border-top-color: var(--fill-color);\n",
              "    }\n",
              "    60% {\n",
              "      border-color: transparent;\n",
              "      border-right-color: var(--fill-color);\n",
              "    }\n",
              "    80% {\n",
              "      border-color: transparent;\n",
              "      border-right-color: var(--fill-color);\n",
              "      border-bottom-color: var(--fill-color);\n",
              "    }\n",
              "    90% {\n",
              "      border-color: transparent;\n",
              "      border-bottom-color: var(--fill-color);\n",
              "    }\n",
              "  }\n",
              "</style>\n",
              "\n",
              "  <script>\n",
              "    async function quickchart(key) {\n",
              "      const quickchartButtonEl =\n",
              "        document.querySelector('#' + key + ' button');\n",
              "      quickchartButtonEl.disabled = true;  // To prevent multiple clicks.\n",
              "      quickchartButtonEl.classList.add('colab-df-spinner');\n",
              "      try {\n",
              "        const charts = await google.colab.kernel.invokeFunction(\n",
              "            'suggestCharts', [key], {});\n",
              "      } catch (error) {\n",
              "        console.error('Error during call to suggestCharts:', error);\n",
              "      }\n",
              "      quickchartButtonEl.classList.remove('colab-df-spinner');\n",
              "      quickchartButtonEl.classList.add('colab-df-quickchart-complete');\n",
              "    }\n",
              "    (() => {\n",
              "      let quickchartButtonEl =\n",
              "        document.querySelector('#df-5c211595-d67c-4464-9884-57c6805576f7 button');\n",
              "      quickchartButtonEl.style.display =\n",
              "        google.colab.kernel.accessAllowed ? 'block' : 'none';\n",
              "    })();\n",
              "  </script>\n",
              "</div>\n",
              "    </div>\n",
              "  </div>\n"
            ]
          },
          "metadata": {},
          "execution_count": 7
        }
      ],
      "source": [
        "users.head()"
      ]
    },
    {
      "cell_type": "code",
      "execution_count": 8,
      "id": "7495e4e8-6261-4642-8640-0cb5761dfea5",
      "metadata": {
        "colab": {
          "base_uri": "https://localhost:8080/",
          "height": 35
        },
        "id": "7495e4e8-6261-4642-8640-0cb5761dfea5",
        "outputId": "6e80ac4b-01c6-42ed-9fb1-677dc124ce12"
      },
      "outputs": [
        {
          "output_type": "execute_result",
          "data": {
            "text/plain": [
              "'Num unique users in users: 840_197'"
            ],
            "application/vnd.google.colaboratory.intrinsic+json": {
              "type": "string"
            }
          },
          "metadata": {},
          "execution_count": 8
        }
      ],
      "source": [
        "f\"Num unique users in users: {users.shape[0]:_}\""
      ]
    },
    {
      "cell_type": "code",
      "execution_count": 9,
      "id": "8139f014-89b6-446f-8dd1-91e137755da9",
      "metadata": {
        "colab": {
          "base_uri": "https://localhost:8080/",
          "height": 608
        },
        "id": "8139f014-89b6-446f-8dd1-91e137755da9",
        "outputId": "5ef64f89-8c6a-419c-b563-dfaccf4e11b6"
      },
      "outputs": [
        {
          "output_type": "execute_result",
          "data": {
            "text/plain": [
              "   item_id content_type                 title      title_orig  release_year  \\\n",
              "0    10711         film        Поговори с ней  Hable con ella        2002.0   \n",
              "1     2508         film           Голые перцы    Search Party        2014.0   \n",
              "2    10716         film      Тактическая сила  Tactical Force        2011.0   \n",
              "3     7868         film                45 лет        45 Years        2015.0   \n",
              "4    16268         film  Все решает мгновение             NaN        1978.0   \n",
              "\n",
              "                                             genres       countries  for_kids  \\\n",
              "0           драмы, зарубежные, детективы, мелодрамы         Испания       NaN   \n",
              "1                  зарубежные, приключения, комедии             США       NaN   \n",
              "2  криминал, зарубежные, триллеры, боевики, комедии          Канада       NaN   \n",
              "3                      драмы, зарубежные, мелодрамы  Великобритания       NaN   \n",
              "4                драмы, спорт, советские, мелодрамы            СССР       NaN   \n",
              "\n",
              "   age_rating   studios         directors  \\\n",
              "0        16.0       NaN  Педро Альмодовар   \n",
              "1        16.0       NaN    Скот Армстронг   \n",
              "2        16.0       NaN  Адам П. Калтраро   \n",
              "3        16.0       NaN         Эндрю Хэй   \n",
              "4        12.0  Ленфильм  Виктор Садовский   \n",
              "\n",
              "                                              actors  \\\n",
              "0  Адольфо Фернандес, Ана Фернандес, Дарио Гранди...   \n",
              "1  Адам Палли, Брайан Хаски, Дж.Б. Смув, Джейсон ...   \n",
              "2  Адриан Холмс, Даррен Шалави, Джерри Вассерман,...   \n",
              "3  Александра Риддлстон-Барретт, Джеральдин Джейм...   \n",
              "4  Александр Абдулов, Александр Демьяненко, Алекс...   \n",
              "\n",
              "                                         description  \\\n",
              "0  Мелодрама легендарного Педро Альмодовара «Пого...   \n",
              "1  Уморительная современная комедия на популярную...   \n",
              "2  Профессиональный рестлер Стив Остин («Все или ...   \n",
              "3  Шарлотта Рэмплинг, Том Кортни, Джеральдин Джей...   \n",
              "4  Расчетливая чаровница из советского кинохита «...   \n",
              "\n",
              "                                            keywords  \n",
              "0  Поговори, ней, 2002, Испания, друзья, любовь, ...  \n",
              "1  Голые, перцы, 2014, США, друзья, свадьбы, прео...  \n",
              "2  Тактическая, сила, 2011, Канада, бандиты, ганг...  \n",
              "3  45, лет, 2015, Великобритания, брак, жизнь, лю...  \n",
              "4  Все, решает, мгновение, 1978, СССР, сильные, ж...  "
            ],
            "text/html": [
              "\n",
              "  <div id=\"df-835148f7-891f-493e-b1c6-578050b2ac98\" class=\"colab-df-container\">\n",
              "    <div>\n",
              "<style scoped>\n",
              "    .dataframe tbody tr th:only-of-type {\n",
              "        vertical-align: middle;\n",
              "    }\n",
              "\n",
              "    .dataframe tbody tr th {\n",
              "        vertical-align: top;\n",
              "    }\n",
              "\n",
              "    .dataframe thead th {\n",
              "        text-align: right;\n",
              "    }\n",
              "</style>\n",
              "<table border=\"1\" class=\"dataframe\">\n",
              "  <thead>\n",
              "    <tr style=\"text-align: right;\">\n",
              "      <th></th>\n",
              "      <th>item_id</th>\n",
              "      <th>content_type</th>\n",
              "      <th>title</th>\n",
              "      <th>title_orig</th>\n",
              "      <th>release_year</th>\n",
              "      <th>genres</th>\n",
              "      <th>countries</th>\n",
              "      <th>for_kids</th>\n",
              "      <th>age_rating</th>\n",
              "      <th>studios</th>\n",
              "      <th>directors</th>\n",
              "      <th>actors</th>\n",
              "      <th>description</th>\n",
              "      <th>keywords</th>\n",
              "    </tr>\n",
              "  </thead>\n",
              "  <tbody>\n",
              "    <tr>\n",
              "      <th>0</th>\n",
              "      <td>10711</td>\n",
              "      <td>film</td>\n",
              "      <td>Поговори с ней</td>\n",
              "      <td>Hable con ella</td>\n",
              "      <td>2002.0</td>\n",
              "      <td>драмы, зарубежные, детективы, мелодрамы</td>\n",
              "      <td>Испания</td>\n",
              "      <td>NaN</td>\n",
              "      <td>16.0</td>\n",
              "      <td>NaN</td>\n",
              "      <td>Педро Альмодовар</td>\n",
              "      <td>Адольфо Фернандес, Ана Фернандес, Дарио Гранди...</td>\n",
              "      <td>Мелодрама легендарного Педро Альмодовара «Пого...</td>\n",
              "      <td>Поговори, ней, 2002, Испания, друзья, любовь, ...</td>\n",
              "    </tr>\n",
              "    <tr>\n",
              "      <th>1</th>\n",
              "      <td>2508</td>\n",
              "      <td>film</td>\n",
              "      <td>Голые перцы</td>\n",
              "      <td>Search Party</td>\n",
              "      <td>2014.0</td>\n",
              "      <td>зарубежные, приключения, комедии</td>\n",
              "      <td>США</td>\n",
              "      <td>NaN</td>\n",
              "      <td>16.0</td>\n",
              "      <td>NaN</td>\n",
              "      <td>Скот Армстронг</td>\n",
              "      <td>Адам Палли, Брайан Хаски, Дж.Б. Смув, Джейсон ...</td>\n",
              "      <td>Уморительная современная комедия на популярную...</td>\n",
              "      <td>Голые, перцы, 2014, США, друзья, свадьбы, прео...</td>\n",
              "    </tr>\n",
              "    <tr>\n",
              "      <th>2</th>\n",
              "      <td>10716</td>\n",
              "      <td>film</td>\n",
              "      <td>Тактическая сила</td>\n",
              "      <td>Tactical Force</td>\n",
              "      <td>2011.0</td>\n",
              "      <td>криминал, зарубежные, триллеры, боевики, комедии</td>\n",
              "      <td>Канада</td>\n",
              "      <td>NaN</td>\n",
              "      <td>16.0</td>\n",
              "      <td>NaN</td>\n",
              "      <td>Адам П. Калтраро</td>\n",
              "      <td>Адриан Холмс, Даррен Шалави, Джерри Вассерман,...</td>\n",
              "      <td>Профессиональный рестлер Стив Остин («Все или ...</td>\n",
              "      <td>Тактическая, сила, 2011, Канада, бандиты, ганг...</td>\n",
              "    </tr>\n",
              "    <tr>\n",
              "      <th>3</th>\n",
              "      <td>7868</td>\n",
              "      <td>film</td>\n",
              "      <td>45 лет</td>\n",
              "      <td>45 Years</td>\n",
              "      <td>2015.0</td>\n",
              "      <td>драмы, зарубежные, мелодрамы</td>\n",
              "      <td>Великобритания</td>\n",
              "      <td>NaN</td>\n",
              "      <td>16.0</td>\n",
              "      <td>NaN</td>\n",
              "      <td>Эндрю Хэй</td>\n",
              "      <td>Александра Риддлстон-Барретт, Джеральдин Джейм...</td>\n",
              "      <td>Шарлотта Рэмплинг, Том Кортни, Джеральдин Джей...</td>\n",
              "      <td>45, лет, 2015, Великобритания, брак, жизнь, лю...</td>\n",
              "    </tr>\n",
              "    <tr>\n",
              "      <th>4</th>\n",
              "      <td>16268</td>\n",
              "      <td>film</td>\n",
              "      <td>Все решает мгновение</td>\n",
              "      <td>NaN</td>\n",
              "      <td>1978.0</td>\n",
              "      <td>драмы, спорт, советские, мелодрамы</td>\n",
              "      <td>СССР</td>\n",
              "      <td>NaN</td>\n",
              "      <td>12.0</td>\n",
              "      <td>Ленфильм</td>\n",
              "      <td>Виктор Садовский</td>\n",
              "      <td>Александр Абдулов, Александр Демьяненко, Алекс...</td>\n",
              "      <td>Расчетливая чаровница из советского кинохита «...</td>\n",
              "      <td>Все, решает, мгновение, 1978, СССР, сильные, ж...</td>\n",
              "    </tr>\n",
              "  </tbody>\n",
              "</table>\n",
              "</div>\n",
              "    <div class=\"colab-df-buttons\">\n",
              "\n",
              "  <div class=\"colab-df-container\">\n",
              "    <button class=\"colab-df-convert\" onclick=\"convertToInteractive('df-835148f7-891f-493e-b1c6-578050b2ac98')\"\n",
              "            title=\"Convert this dataframe to an interactive table.\"\n",
              "            style=\"display:none;\">\n",
              "\n",
              "  <svg xmlns=\"http://www.w3.org/2000/svg\" height=\"24px\" viewBox=\"0 -960 960 960\">\n",
              "    <path d=\"M120-120v-720h720v720H120Zm60-500h600v-160H180v160Zm220 220h160v-160H400v160Zm0 220h160v-160H400v160ZM180-400h160v-160H180v160Zm440 0h160v-160H620v160ZM180-180h160v-160H180v160Zm440 0h160v-160H620v160Z\"/>\n",
              "  </svg>\n",
              "    </button>\n",
              "\n",
              "  <style>\n",
              "    .colab-df-container {\n",
              "      display:flex;\n",
              "      gap: 12px;\n",
              "    }\n",
              "\n",
              "    .colab-df-convert {\n",
              "      background-color: #E8F0FE;\n",
              "      border: none;\n",
              "      border-radius: 50%;\n",
              "      cursor: pointer;\n",
              "      display: none;\n",
              "      fill: #1967D2;\n",
              "      height: 32px;\n",
              "      padding: 0 0 0 0;\n",
              "      width: 32px;\n",
              "    }\n",
              "\n",
              "    .colab-df-convert:hover {\n",
              "      background-color: #E2EBFA;\n",
              "      box-shadow: 0px 1px 2px rgba(60, 64, 67, 0.3), 0px 1px 3px 1px rgba(60, 64, 67, 0.15);\n",
              "      fill: #174EA6;\n",
              "    }\n",
              "\n",
              "    .colab-df-buttons div {\n",
              "      margin-bottom: 4px;\n",
              "    }\n",
              "\n",
              "    [theme=dark] .colab-df-convert {\n",
              "      background-color: #3B4455;\n",
              "      fill: #D2E3FC;\n",
              "    }\n",
              "\n",
              "    [theme=dark] .colab-df-convert:hover {\n",
              "      background-color: #434B5C;\n",
              "      box-shadow: 0px 1px 3px 1px rgba(0, 0, 0, 0.15);\n",
              "      filter: drop-shadow(0px 1px 2px rgba(0, 0, 0, 0.3));\n",
              "      fill: #FFFFFF;\n",
              "    }\n",
              "  </style>\n",
              "\n",
              "    <script>\n",
              "      const buttonEl =\n",
              "        document.querySelector('#df-835148f7-891f-493e-b1c6-578050b2ac98 button.colab-df-convert');\n",
              "      buttonEl.style.display =\n",
              "        google.colab.kernel.accessAllowed ? 'block' : 'none';\n",
              "\n",
              "      async function convertToInteractive(key) {\n",
              "        const element = document.querySelector('#df-835148f7-891f-493e-b1c6-578050b2ac98');\n",
              "        const dataTable =\n",
              "          await google.colab.kernel.invokeFunction('convertToInteractive',\n",
              "                                                    [key], {});\n",
              "        if (!dataTable) return;\n",
              "\n",
              "        const docLinkHtml = 'Like what you see? Visit the ' +\n",
              "          '<a target=\"_blank\" href=https://colab.research.google.com/notebooks/data_table.ipynb>data table notebook</a>'\n",
              "          + ' to learn more about interactive tables.';\n",
              "        element.innerHTML = '';\n",
              "        dataTable['output_type'] = 'display_data';\n",
              "        await google.colab.output.renderOutput(dataTable, element);\n",
              "        const docLink = document.createElement('div');\n",
              "        docLink.innerHTML = docLinkHtml;\n",
              "        element.appendChild(docLink);\n",
              "      }\n",
              "    </script>\n",
              "  </div>\n",
              "\n",
              "\n",
              "<div id=\"df-12e369fc-a4e3-404c-87d1-032e9d9748a1\">\n",
              "  <button class=\"colab-df-quickchart\" onclick=\"quickchart('df-12e369fc-a4e3-404c-87d1-032e9d9748a1')\"\n",
              "            title=\"Suggest charts.\"\n",
              "            style=\"display:none;\">\n",
              "\n",
              "<svg xmlns=\"http://www.w3.org/2000/svg\" height=\"24px\"viewBox=\"0 0 24 24\"\n",
              "     width=\"24px\">\n",
              "    <g>\n",
              "        <path d=\"M19 3H5c-1.1 0-2 .9-2 2v14c0 1.1.9 2 2 2h14c1.1 0 2-.9 2-2V5c0-1.1-.9-2-2-2zM9 17H7v-7h2v7zm4 0h-2V7h2v10zm4 0h-2v-4h2v4z\"/>\n",
              "    </g>\n",
              "</svg>\n",
              "  </button>\n",
              "\n",
              "<style>\n",
              "  .colab-df-quickchart {\n",
              "      --bg-color: #E8F0FE;\n",
              "      --fill-color: #1967D2;\n",
              "      --hover-bg-color: #E2EBFA;\n",
              "      --hover-fill-color: #174EA6;\n",
              "      --disabled-fill-color: #AAA;\n",
              "      --disabled-bg-color: #DDD;\n",
              "  }\n",
              "\n",
              "  [theme=dark] .colab-df-quickchart {\n",
              "      --bg-color: #3B4455;\n",
              "      --fill-color: #D2E3FC;\n",
              "      --hover-bg-color: #434B5C;\n",
              "      --hover-fill-color: #FFFFFF;\n",
              "      --disabled-bg-color: #3B4455;\n",
              "      --disabled-fill-color: #666;\n",
              "  }\n",
              "\n",
              "  .colab-df-quickchart {\n",
              "    background-color: var(--bg-color);\n",
              "    border: none;\n",
              "    border-radius: 50%;\n",
              "    cursor: pointer;\n",
              "    display: none;\n",
              "    fill: var(--fill-color);\n",
              "    height: 32px;\n",
              "    padding: 0;\n",
              "    width: 32px;\n",
              "  }\n",
              "\n",
              "  .colab-df-quickchart:hover {\n",
              "    background-color: var(--hover-bg-color);\n",
              "    box-shadow: 0 1px 2px rgba(60, 64, 67, 0.3), 0 1px 3px 1px rgba(60, 64, 67, 0.15);\n",
              "    fill: var(--button-hover-fill-color);\n",
              "  }\n",
              "\n",
              "  .colab-df-quickchart-complete:disabled,\n",
              "  .colab-df-quickchart-complete:disabled:hover {\n",
              "    background-color: var(--disabled-bg-color);\n",
              "    fill: var(--disabled-fill-color);\n",
              "    box-shadow: none;\n",
              "  }\n",
              "\n",
              "  .colab-df-spinner {\n",
              "    border: 2px solid var(--fill-color);\n",
              "    border-color: transparent;\n",
              "    border-bottom-color: var(--fill-color);\n",
              "    animation:\n",
              "      spin 1s steps(1) infinite;\n",
              "  }\n",
              "\n",
              "  @keyframes spin {\n",
              "    0% {\n",
              "      border-color: transparent;\n",
              "      border-bottom-color: var(--fill-color);\n",
              "      border-left-color: var(--fill-color);\n",
              "    }\n",
              "    20% {\n",
              "      border-color: transparent;\n",
              "      border-left-color: var(--fill-color);\n",
              "      border-top-color: var(--fill-color);\n",
              "    }\n",
              "    30% {\n",
              "      border-color: transparent;\n",
              "      border-left-color: var(--fill-color);\n",
              "      border-top-color: var(--fill-color);\n",
              "      border-right-color: var(--fill-color);\n",
              "    }\n",
              "    40% {\n",
              "      border-color: transparent;\n",
              "      border-right-color: var(--fill-color);\n",
              "      border-top-color: var(--fill-color);\n",
              "    }\n",
              "    60% {\n",
              "      border-color: transparent;\n",
              "      border-right-color: var(--fill-color);\n",
              "    }\n",
              "    80% {\n",
              "      border-color: transparent;\n",
              "      border-right-color: var(--fill-color);\n",
              "      border-bottom-color: var(--fill-color);\n",
              "    }\n",
              "    90% {\n",
              "      border-color: transparent;\n",
              "      border-bottom-color: var(--fill-color);\n",
              "    }\n",
              "  }\n",
              "</style>\n",
              "\n",
              "  <script>\n",
              "    async function quickchart(key) {\n",
              "      const quickchartButtonEl =\n",
              "        document.querySelector('#' + key + ' button');\n",
              "      quickchartButtonEl.disabled = true;  // To prevent multiple clicks.\n",
              "      quickchartButtonEl.classList.add('colab-df-spinner');\n",
              "      try {\n",
              "        const charts = await google.colab.kernel.invokeFunction(\n",
              "            'suggestCharts', [key], {});\n",
              "      } catch (error) {\n",
              "        console.error('Error during call to suggestCharts:', error);\n",
              "      }\n",
              "      quickchartButtonEl.classList.remove('colab-df-spinner');\n",
              "      quickchartButtonEl.classList.add('colab-df-quickchart-complete');\n",
              "    }\n",
              "    (() => {\n",
              "      let quickchartButtonEl =\n",
              "        document.querySelector('#df-12e369fc-a4e3-404c-87d1-032e9d9748a1 button');\n",
              "      quickchartButtonEl.style.display =\n",
              "        google.colab.kernel.accessAllowed ? 'block' : 'none';\n",
              "    })();\n",
              "  </script>\n",
              "</div>\n",
              "    </div>\n",
              "  </div>\n"
            ]
          },
          "metadata": {},
          "execution_count": 9
        }
      ],
      "source": [
        "items.head()"
      ]
    },
    {
      "cell_type": "code",
      "execution_count": 10,
      "id": "9a3fb69e-c364-431a-b242-87c84fef610f",
      "metadata": {
        "colab": {
          "base_uri": "https://localhost:8080/",
          "height": 35
        },
        "id": "9a3fb69e-c364-431a-b242-87c84fef610f",
        "outputId": "74960269-eac4-40b3-c464-7a8ea357f363"
      },
      "outputs": [
        {
          "output_type": "execute_result",
          "data": {
            "text/plain": [
              "'Unique items in items 15_963'"
            ],
            "application/vnd.google.colaboratory.intrinsic+json": {
              "type": "string"
            }
          },
          "metadata": {},
          "execution_count": 10
        }
      ],
      "source": [
        "f\"Unique items in items {items.shape[0]:_}\""
      ]
    },
    {
      "cell_type": "markdown",
      "id": "76983499-458c-47a1-b610-e2af0cf010d6",
      "metadata": {
        "id": "76983499-458c-47a1-b610-e2af0cf010d6"
      },
      "source": [
        "## Global train_test split"
      ]
    },
    {
      "cell_type": "code",
      "execution_count": 11,
      "id": "778f0473-5ebd-4c23-a1c4-6a9cd9302b54",
      "metadata": {
        "colab": {
          "base_uri": "https://localhost:8080/"
        },
        "id": "778f0473-5ebd-4c23-a1c4-6a9cd9302b54",
        "outputId": "853ccf58-925f-480b-9874-28edb50ff28f"
      },
      "outputs": [
        {
          "output_type": "stream",
          "name": "stdout",
          "text": [
            "train: (3832711, 5)\n",
            "test: (490982, 5)\n"
          ]
        }
      ],
      "source": [
        "train = interactions[(interactions['last_watch_dt'] < max_date - pd.Timedelta(days=7))]\n",
        "test = interactions[(interactions['last_watch_dt'] >= max_date - pd.Timedelta(days=7))]\n",
        "\n",
        "train = train[train['total_dur'] >= 300]\n",
        "\n",
        "print(f\"train: {train.shape}\")\n",
        "print(f\"test: {test.shape}\")"
      ]
    },
    {
      "cell_type": "markdown",
      "id": "a65d393b-41ae-413c-9cdc-d5acbd1495c4",
      "metadata": {
        "id": "a65d393b-41ae-413c-9cdc-d5acbd1495c4"
      },
      "source": [
        "#### First we will train LightFM user2item"
      ]
    },
    {
      "cell_type": "code",
      "execution_count": 12,
      "id": "49589a4e-74b4-4a9a-850c-1aefe92bd72f",
      "metadata": {
        "colab": {
          "base_uri": "https://localhost:8080/"
        },
        "id": "49589a4e-74b4-4a9a-850c-1aefe92bd72f",
        "outputId": "b9d25949-3167-49d6-afe7-91f43e802de5"
      },
      "outputs": [
        {
          "output_type": "execute_result",
          "data": {
            "text/plain": [
              "datetime.date(2021, 7, 6)"
            ]
          },
          "metadata": {},
          "execution_count": 12
        }
      ],
      "source": [
        "lfm_date_threshold = train['last_watch_dt'].quantile(q=0.6, interpolation='nearest')\n",
        "lfm_date_threshold"
      ]
    },
    {
      "cell_type": "code",
      "execution_count": 13,
      "id": "1e6df944-f034-46f8-ba43-e8452e8d66b7",
      "metadata": {
        "colab": {
          "base_uri": "https://localhost:8080/"
        },
        "id": "1e6df944-f034-46f8-ba43-e8452e8d66b7",
        "outputId": "dfd10563-7682-452c-aca1-9693121b89da"
      },
      "outputs": [
        {
          "output_type": "stream",
          "name": "stdout",
          "text": [
            "lfm_train: (2286604, 5)\n",
            "lfm_pred: (1546107, 5)\n"
          ]
        }
      ],
      "source": [
        "lfm_train = train[(train['last_watch_dt'] < lfm_date_threshold)]\n",
        "lfm_pred = train[(train['last_watch_dt'] >= lfm_date_threshold)]\n",
        "\n",
        "print(f\"lfm_train: {lfm_train.shape}\")\n",
        "print(f\"lfm_pred: {lfm_pred.shape}\")"
      ]
    },
    {
      "cell_type": "code",
      "execution_count": 14,
      "id": "d85eebde-74c6-4863-97c7-7b7f7d6f213d",
      "metadata": {
        "id": "d85eebde-74c6-4863-97c7-7b7f7d6f213d"
      },
      "outputs": [],
      "source": [
        "lfm_pred = lfm_pred[lfm_pred['user_id'].isin(lfm_train['user_id'].unique())]"
      ]
    },
    {
      "cell_type": "code",
      "execution_count": 15,
      "id": "483d8040-89ad-4115-ace1-55e4079f191d",
      "metadata": {
        "colab": {
          "base_uri": "https://localhost:8080/",
          "height": 206
        },
        "id": "483d8040-89ad-4115-ace1-55e4079f191d",
        "outputId": "bf034210-4228-416c-e650-f8a02d09e3eb"
      },
      "outputs": [
        {
          "output_type": "execute_result",
          "data": {
            "text/plain": [
              "    user_id  item_id last_watch_dt  total_dur  watched_pct\n",
              "11   988709     7571    2021-07-07       6558        100.0\n",
              "16   646903    16228    2021-07-23      57375         46.0\n",
              "19   215229     7793    2021-08-01        873         14.0\n",
              "28    81786     2616    2021-07-24      41422         90.0\n",
              "42   205710    10152    2021-07-20       1946         38.0"
            ],
            "text/html": [
              "\n",
              "  <div id=\"df-651a3eef-4c69-4840-92c2-9b87c7e4445d\" class=\"colab-df-container\">\n",
              "    <div>\n",
              "<style scoped>\n",
              "    .dataframe tbody tr th:only-of-type {\n",
              "        vertical-align: middle;\n",
              "    }\n",
              "\n",
              "    .dataframe tbody tr th {\n",
              "        vertical-align: top;\n",
              "    }\n",
              "\n",
              "    .dataframe thead th {\n",
              "        text-align: right;\n",
              "    }\n",
              "</style>\n",
              "<table border=\"1\" class=\"dataframe\">\n",
              "  <thead>\n",
              "    <tr style=\"text-align: right;\">\n",
              "      <th></th>\n",
              "      <th>user_id</th>\n",
              "      <th>item_id</th>\n",
              "      <th>last_watch_dt</th>\n",
              "      <th>total_dur</th>\n",
              "      <th>watched_pct</th>\n",
              "    </tr>\n",
              "  </thead>\n",
              "  <tbody>\n",
              "    <tr>\n",
              "      <th>11</th>\n",
              "      <td>988709</td>\n",
              "      <td>7571</td>\n",
              "      <td>2021-07-07</td>\n",
              "      <td>6558</td>\n",
              "      <td>100.0</td>\n",
              "    </tr>\n",
              "    <tr>\n",
              "      <th>16</th>\n",
              "      <td>646903</td>\n",
              "      <td>16228</td>\n",
              "      <td>2021-07-23</td>\n",
              "      <td>57375</td>\n",
              "      <td>46.0</td>\n",
              "    </tr>\n",
              "    <tr>\n",
              "      <th>19</th>\n",
              "      <td>215229</td>\n",
              "      <td>7793</td>\n",
              "      <td>2021-08-01</td>\n",
              "      <td>873</td>\n",
              "      <td>14.0</td>\n",
              "    </tr>\n",
              "    <tr>\n",
              "      <th>28</th>\n",
              "      <td>81786</td>\n",
              "      <td>2616</td>\n",
              "      <td>2021-07-24</td>\n",
              "      <td>41422</td>\n",
              "      <td>90.0</td>\n",
              "    </tr>\n",
              "    <tr>\n",
              "      <th>42</th>\n",
              "      <td>205710</td>\n",
              "      <td>10152</td>\n",
              "      <td>2021-07-20</td>\n",
              "      <td>1946</td>\n",
              "      <td>38.0</td>\n",
              "    </tr>\n",
              "  </tbody>\n",
              "</table>\n",
              "</div>\n",
              "    <div class=\"colab-df-buttons\">\n",
              "\n",
              "  <div class=\"colab-df-container\">\n",
              "    <button class=\"colab-df-convert\" onclick=\"convertToInteractive('df-651a3eef-4c69-4840-92c2-9b87c7e4445d')\"\n",
              "            title=\"Convert this dataframe to an interactive table.\"\n",
              "            style=\"display:none;\">\n",
              "\n",
              "  <svg xmlns=\"http://www.w3.org/2000/svg\" height=\"24px\" viewBox=\"0 -960 960 960\">\n",
              "    <path d=\"M120-120v-720h720v720H120Zm60-500h600v-160H180v160Zm220 220h160v-160H400v160Zm0 220h160v-160H400v160ZM180-400h160v-160H180v160Zm440 0h160v-160H620v160ZM180-180h160v-160H180v160Zm440 0h160v-160H620v160Z\"/>\n",
              "  </svg>\n",
              "    </button>\n",
              "\n",
              "  <style>\n",
              "    .colab-df-container {\n",
              "      display:flex;\n",
              "      gap: 12px;\n",
              "    }\n",
              "\n",
              "    .colab-df-convert {\n",
              "      background-color: #E8F0FE;\n",
              "      border: none;\n",
              "      border-radius: 50%;\n",
              "      cursor: pointer;\n",
              "      display: none;\n",
              "      fill: #1967D2;\n",
              "      height: 32px;\n",
              "      padding: 0 0 0 0;\n",
              "      width: 32px;\n",
              "    }\n",
              "\n",
              "    .colab-df-convert:hover {\n",
              "      background-color: #E2EBFA;\n",
              "      box-shadow: 0px 1px 2px rgba(60, 64, 67, 0.3), 0px 1px 3px 1px rgba(60, 64, 67, 0.15);\n",
              "      fill: #174EA6;\n",
              "    }\n",
              "\n",
              "    .colab-df-buttons div {\n",
              "      margin-bottom: 4px;\n",
              "    }\n",
              "\n",
              "    [theme=dark] .colab-df-convert {\n",
              "      background-color: #3B4455;\n",
              "      fill: #D2E3FC;\n",
              "    }\n",
              "\n",
              "    [theme=dark] .colab-df-convert:hover {\n",
              "      background-color: #434B5C;\n",
              "      box-shadow: 0px 1px 3px 1px rgba(0, 0, 0, 0.15);\n",
              "      filter: drop-shadow(0px 1px 2px rgba(0, 0, 0, 0.3));\n",
              "      fill: #FFFFFF;\n",
              "    }\n",
              "  </style>\n",
              "\n",
              "    <script>\n",
              "      const buttonEl =\n",
              "        document.querySelector('#df-651a3eef-4c69-4840-92c2-9b87c7e4445d button.colab-df-convert');\n",
              "      buttonEl.style.display =\n",
              "        google.colab.kernel.accessAllowed ? 'block' : 'none';\n",
              "\n",
              "      async function convertToInteractive(key) {\n",
              "        const element = document.querySelector('#df-651a3eef-4c69-4840-92c2-9b87c7e4445d');\n",
              "        const dataTable =\n",
              "          await google.colab.kernel.invokeFunction('convertToInteractive',\n",
              "                                                    [key], {});\n",
              "        if (!dataTable) return;\n",
              "\n",
              "        const docLinkHtml = 'Like what you see? Visit the ' +\n",
              "          '<a target=\"_blank\" href=https://colab.research.google.com/notebooks/data_table.ipynb>data table notebook</a>'\n",
              "          + ' to learn more about interactive tables.';\n",
              "        element.innerHTML = '';\n",
              "        dataTable['output_type'] = 'display_data';\n",
              "        await google.colab.output.renderOutput(dataTable, element);\n",
              "        const docLink = document.createElement('div');\n",
              "        docLink.innerHTML = docLinkHtml;\n",
              "        element.appendChild(docLink);\n",
              "      }\n",
              "    </script>\n",
              "  </div>\n",
              "\n",
              "\n",
              "<div id=\"df-7da5bbcf-8649-4bda-8e7f-d4e731a61ed0\">\n",
              "  <button class=\"colab-df-quickchart\" onclick=\"quickchart('df-7da5bbcf-8649-4bda-8e7f-d4e731a61ed0')\"\n",
              "            title=\"Suggest charts.\"\n",
              "            style=\"display:none;\">\n",
              "\n",
              "<svg xmlns=\"http://www.w3.org/2000/svg\" height=\"24px\"viewBox=\"0 0 24 24\"\n",
              "     width=\"24px\">\n",
              "    <g>\n",
              "        <path d=\"M19 3H5c-1.1 0-2 .9-2 2v14c0 1.1.9 2 2 2h14c1.1 0 2-.9 2-2V5c0-1.1-.9-2-2-2zM9 17H7v-7h2v7zm4 0h-2V7h2v10zm4 0h-2v-4h2v4z\"/>\n",
              "    </g>\n",
              "</svg>\n",
              "  </button>\n",
              "\n",
              "<style>\n",
              "  .colab-df-quickchart {\n",
              "      --bg-color: #E8F0FE;\n",
              "      --fill-color: #1967D2;\n",
              "      --hover-bg-color: #E2EBFA;\n",
              "      --hover-fill-color: #174EA6;\n",
              "      --disabled-fill-color: #AAA;\n",
              "      --disabled-bg-color: #DDD;\n",
              "  }\n",
              "\n",
              "  [theme=dark] .colab-df-quickchart {\n",
              "      --bg-color: #3B4455;\n",
              "      --fill-color: #D2E3FC;\n",
              "      --hover-bg-color: #434B5C;\n",
              "      --hover-fill-color: #FFFFFF;\n",
              "      --disabled-bg-color: #3B4455;\n",
              "      --disabled-fill-color: #666;\n",
              "  }\n",
              "\n",
              "  .colab-df-quickchart {\n",
              "    background-color: var(--bg-color);\n",
              "    border: none;\n",
              "    border-radius: 50%;\n",
              "    cursor: pointer;\n",
              "    display: none;\n",
              "    fill: var(--fill-color);\n",
              "    height: 32px;\n",
              "    padding: 0;\n",
              "    width: 32px;\n",
              "  }\n",
              "\n",
              "  .colab-df-quickchart:hover {\n",
              "    background-color: var(--hover-bg-color);\n",
              "    box-shadow: 0 1px 2px rgba(60, 64, 67, 0.3), 0 1px 3px 1px rgba(60, 64, 67, 0.15);\n",
              "    fill: var(--button-hover-fill-color);\n",
              "  }\n",
              "\n",
              "  .colab-df-quickchart-complete:disabled,\n",
              "  .colab-df-quickchart-complete:disabled:hover {\n",
              "    background-color: var(--disabled-bg-color);\n",
              "    fill: var(--disabled-fill-color);\n",
              "    box-shadow: none;\n",
              "  }\n",
              "\n",
              "  .colab-df-spinner {\n",
              "    border: 2px solid var(--fill-color);\n",
              "    border-color: transparent;\n",
              "    border-bottom-color: var(--fill-color);\n",
              "    animation:\n",
              "      spin 1s steps(1) infinite;\n",
              "  }\n",
              "\n",
              "  @keyframes spin {\n",
              "    0% {\n",
              "      border-color: transparent;\n",
              "      border-bottom-color: var(--fill-color);\n",
              "      border-left-color: var(--fill-color);\n",
              "    }\n",
              "    20% {\n",
              "      border-color: transparent;\n",
              "      border-left-color: var(--fill-color);\n",
              "      border-top-color: var(--fill-color);\n",
              "    }\n",
              "    30% {\n",
              "      border-color: transparent;\n",
              "      border-left-color: var(--fill-color);\n",
              "      border-top-color: var(--fill-color);\n",
              "      border-right-color: var(--fill-color);\n",
              "    }\n",
              "    40% {\n",
              "      border-color: transparent;\n",
              "      border-right-color: var(--fill-color);\n",
              "      border-top-color: var(--fill-color);\n",
              "    }\n",
              "    60% {\n",
              "      border-color: transparent;\n",
              "      border-right-color: var(--fill-color);\n",
              "    }\n",
              "    80% {\n",
              "      border-color: transparent;\n",
              "      border-right-color: var(--fill-color);\n",
              "      border-bottom-color: var(--fill-color);\n",
              "    }\n",
              "    90% {\n",
              "      border-color: transparent;\n",
              "      border-bottom-color: var(--fill-color);\n",
              "    }\n",
              "  }\n",
              "</style>\n",
              "\n",
              "  <script>\n",
              "    async function quickchart(key) {\n",
              "      const quickchartButtonEl =\n",
              "        document.querySelector('#' + key + ' button');\n",
              "      quickchartButtonEl.disabled = true;  // To prevent multiple clicks.\n",
              "      quickchartButtonEl.classList.add('colab-df-spinner');\n",
              "      try {\n",
              "        const charts = await google.colab.kernel.invokeFunction(\n",
              "            'suggestCharts', [key], {});\n",
              "      } catch (error) {\n",
              "        console.error('Error during call to suggestCharts:', error);\n",
              "      }\n",
              "      quickchartButtonEl.classList.remove('colab-df-spinner');\n",
              "      quickchartButtonEl.classList.add('colab-df-quickchart-complete');\n",
              "    }\n",
              "    (() => {\n",
              "      let quickchartButtonEl =\n",
              "        document.querySelector('#df-7da5bbcf-8649-4bda-8e7f-d4e731a61ed0 button');\n",
              "      quickchartButtonEl.style.display =\n",
              "        google.colab.kernel.accessAllowed ? 'block' : 'none';\n",
              "    })();\n",
              "  </script>\n",
              "</div>\n",
              "    </div>\n",
              "  </div>\n"
            ]
          },
          "metadata": {},
          "execution_count": 15
        }
      ],
      "source": [
        "lfm_pred.head()"
      ]
    },
    {
      "cell_type": "code",
      "execution_count": 16,
      "id": "d5033476-ad6b-4ee6-8274-adf8bca0cae3",
      "metadata": {
        "colab": {
          "base_uri": "https://localhost:8080/",
          "height": 206
        },
        "id": "d5033476-ad6b-4ee6-8274-adf8bca0cae3",
        "outputId": "57d25529-69e0-4a53-a38a-e44a5f356734"
      },
      "outputs": [
        {
          "output_type": "execute_result",
          "data": {
            "text/plain": [
              "   user_id  item_id last_watch_dt  total_dur  watched_pct\n",
              "0   176549     9506    2021-05-11       4250         72.0\n",
              "1   699317     1659    2021-05-29       8317        100.0\n",
              "3   864613     7638    2021-07-05      14483        100.0\n",
              "4   964868     9506    2021-04-30       6725        100.0\n",
              "5  1032142     6686    2021-05-13      11286        100.0"
            ],
            "text/html": [
              "\n",
              "  <div id=\"df-cebb349b-6763-49eb-872d-ec4d311818e3\" class=\"colab-df-container\">\n",
              "    <div>\n",
              "<style scoped>\n",
              "    .dataframe tbody tr th:only-of-type {\n",
              "        vertical-align: middle;\n",
              "    }\n",
              "\n",
              "    .dataframe tbody tr th {\n",
              "        vertical-align: top;\n",
              "    }\n",
              "\n",
              "    .dataframe thead th {\n",
              "        text-align: right;\n",
              "    }\n",
              "</style>\n",
              "<table border=\"1\" class=\"dataframe\">\n",
              "  <thead>\n",
              "    <tr style=\"text-align: right;\">\n",
              "      <th></th>\n",
              "      <th>user_id</th>\n",
              "      <th>item_id</th>\n",
              "      <th>last_watch_dt</th>\n",
              "      <th>total_dur</th>\n",
              "      <th>watched_pct</th>\n",
              "    </tr>\n",
              "  </thead>\n",
              "  <tbody>\n",
              "    <tr>\n",
              "      <th>0</th>\n",
              "      <td>176549</td>\n",
              "      <td>9506</td>\n",
              "      <td>2021-05-11</td>\n",
              "      <td>4250</td>\n",
              "      <td>72.0</td>\n",
              "    </tr>\n",
              "    <tr>\n",
              "      <th>1</th>\n",
              "      <td>699317</td>\n",
              "      <td>1659</td>\n",
              "      <td>2021-05-29</td>\n",
              "      <td>8317</td>\n",
              "      <td>100.0</td>\n",
              "    </tr>\n",
              "    <tr>\n",
              "      <th>3</th>\n",
              "      <td>864613</td>\n",
              "      <td>7638</td>\n",
              "      <td>2021-07-05</td>\n",
              "      <td>14483</td>\n",
              "      <td>100.0</td>\n",
              "    </tr>\n",
              "    <tr>\n",
              "      <th>4</th>\n",
              "      <td>964868</td>\n",
              "      <td>9506</td>\n",
              "      <td>2021-04-30</td>\n",
              "      <td>6725</td>\n",
              "      <td>100.0</td>\n",
              "    </tr>\n",
              "    <tr>\n",
              "      <th>5</th>\n",
              "      <td>1032142</td>\n",
              "      <td>6686</td>\n",
              "      <td>2021-05-13</td>\n",
              "      <td>11286</td>\n",
              "      <td>100.0</td>\n",
              "    </tr>\n",
              "  </tbody>\n",
              "</table>\n",
              "</div>\n",
              "    <div class=\"colab-df-buttons\">\n",
              "\n",
              "  <div class=\"colab-df-container\">\n",
              "    <button class=\"colab-df-convert\" onclick=\"convertToInteractive('df-cebb349b-6763-49eb-872d-ec4d311818e3')\"\n",
              "            title=\"Convert this dataframe to an interactive table.\"\n",
              "            style=\"display:none;\">\n",
              "\n",
              "  <svg xmlns=\"http://www.w3.org/2000/svg\" height=\"24px\" viewBox=\"0 -960 960 960\">\n",
              "    <path d=\"M120-120v-720h720v720H120Zm60-500h600v-160H180v160Zm220 220h160v-160H400v160Zm0 220h160v-160H400v160ZM180-400h160v-160H180v160Zm440 0h160v-160H620v160ZM180-180h160v-160H180v160Zm440 0h160v-160H620v160Z\"/>\n",
              "  </svg>\n",
              "    </button>\n",
              "\n",
              "  <style>\n",
              "    .colab-df-container {\n",
              "      display:flex;\n",
              "      gap: 12px;\n",
              "    }\n",
              "\n",
              "    .colab-df-convert {\n",
              "      background-color: #E8F0FE;\n",
              "      border: none;\n",
              "      border-radius: 50%;\n",
              "      cursor: pointer;\n",
              "      display: none;\n",
              "      fill: #1967D2;\n",
              "      height: 32px;\n",
              "      padding: 0 0 0 0;\n",
              "      width: 32px;\n",
              "    }\n",
              "\n",
              "    .colab-df-convert:hover {\n",
              "      background-color: #E2EBFA;\n",
              "      box-shadow: 0px 1px 2px rgba(60, 64, 67, 0.3), 0px 1px 3px 1px rgba(60, 64, 67, 0.15);\n",
              "      fill: #174EA6;\n",
              "    }\n",
              "\n",
              "    .colab-df-buttons div {\n",
              "      margin-bottom: 4px;\n",
              "    }\n",
              "\n",
              "    [theme=dark] .colab-df-convert {\n",
              "      background-color: #3B4455;\n",
              "      fill: #D2E3FC;\n",
              "    }\n",
              "\n",
              "    [theme=dark] .colab-df-convert:hover {\n",
              "      background-color: #434B5C;\n",
              "      box-shadow: 0px 1px 3px 1px rgba(0, 0, 0, 0.15);\n",
              "      filter: drop-shadow(0px 1px 2px rgba(0, 0, 0, 0.3));\n",
              "      fill: #FFFFFF;\n",
              "    }\n",
              "  </style>\n",
              "\n",
              "    <script>\n",
              "      const buttonEl =\n",
              "        document.querySelector('#df-cebb349b-6763-49eb-872d-ec4d311818e3 button.colab-df-convert');\n",
              "      buttonEl.style.display =\n",
              "        google.colab.kernel.accessAllowed ? 'block' : 'none';\n",
              "\n",
              "      async function convertToInteractive(key) {\n",
              "        const element = document.querySelector('#df-cebb349b-6763-49eb-872d-ec4d311818e3');\n",
              "        const dataTable =\n",
              "          await google.colab.kernel.invokeFunction('convertToInteractive',\n",
              "                                                    [key], {});\n",
              "        if (!dataTable) return;\n",
              "\n",
              "        const docLinkHtml = 'Like what you see? Visit the ' +\n",
              "          '<a target=\"_blank\" href=https://colab.research.google.com/notebooks/data_table.ipynb>data table notebook</a>'\n",
              "          + ' to learn more about interactive tables.';\n",
              "        element.innerHTML = '';\n",
              "        dataTable['output_type'] = 'display_data';\n",
              "        await google.colab.output.renderOutput(dataTable, element);\n",
              "        const docLink = document.createElement('div');\n",
              "        docLink.innerHTML = docLinkHtml;\n",
              "        element.appendChild(docLink);\n",
              "      }\n",
              "    </script>\n",
              "  </div>\n",
              "\n",
              "\n",
              "<div id=\"df-d3a3b62f-342b-4749-a07c-ec386435adc9\">\n",
              "  <button class=\"colab-df-quickchart\" onclick=\"quickchart('df-d3a3b62f-342b-4749-a07c-ec386435adc9')\"\n",
              "            title=\"Suggest charts.\"\n",
              "            style=\"display:none;\">\n",
              "\n",
              "<svg xmlns=\"http://www.w3.org/2000/svg\" height=\"24px\"viewBox=\"0 0 24 24\"\n",
              "     width=\"24px\">\n",
              "    <g>\n",
              "        <path d=\"M19 3H5c-1.1 0-2 .9-2 2v14c0 1.1.9 2 2 2h14c1.1 0 2-.9 2-2V5c0-1.1-.9-2-2-2zM9 17H7v-7h2v7zm4 0h-2V7h2v10zm4 0h-2v-4h2v4z\"/>\n",
              "    </g>\n",
              "</svg>\n",
              "  </button>\n",
              "\n",
              "<style>\n",
              "  .colab-df-quickchart {\n",
              "      --bg-color: #E8F0FE;\n",
              "      --fill-color: #1967D2;\n",
              "      --hover-bg-color: #E2EBFA;\n",
              "      --hover-fill-color: #174EA6;\n",
              "      --disabled-fill-color: #AAA;\n",
              "      --disabled-bg-color: #DDD;\n",
              "  }\n",
              "\n",
              "  [theme=dark] .colab-df-quickchart {\n",
              "      --bg-color: #3B4455;\n",
              "      --fill-color: #D2E3FC;\n",
              "      --hover-bg-color: #434B5C;\n",
              "      --hover-fill-color: #FFFFFF;\n",
              "      --disabled-bg-color: #3B4455;\n",
              "      --disabled-fill-color: #666;\n",
              "  }\n",
              "\n",
              "  .colab-df-quickchart {\n",
              "    background-color: var(--bg-color);\n",
              "    border: none;\n",
              "    border-radius: 50%;\n",
              "    cursor: pointer;\n",
              "    display: none;\n",
              "    fill: var(--fill-color);\n",
              "    height: 32px;\n",
              "    padding: 0;\n",
              "    width: 32px;\n",
              "  }\n",
              "\n",
              "  .colab-df-quickchart:hover {\n",
              "    background-color: var(--hover-bg-color);\n",
              "    box-shadow: 0 1px 2px rgba(60, 64, 67, 0.3), 0 1px 3px 1px rgba(60, 64, 67, 0.15);\n",
              "    fill: var(--button-hover-fill-color);\n",
              "  }\n",
              "\n",
              "  .colab-df-quickchart-complete:disabled,\n",
              "  .colab-df-quickchart-complete:disabled:hover {\n",
              "    background-color: var(--disabled-bg-color);\n",
              "    fill: var(--disabled-fill-color);\n",
              "    box-shadow: none;\n",
              "  }\n",
              "\n",
              "  .colab-df-spinner {\n",
              "    border: 2px solid var(--fill-color);\n",
              "    border-color: transparent;\n",
              "    border-bottom-color: var(--fill-color);\n",
              "    animation:\n",
              "      spin 1s steps(1) infinite;\n",
              "  }\n",
              "\n",
              "  @keyframes spin {\n",
              "    0% {\n",
              "      border-color: transparent;\n",
              "      border-bottom-color: var(--fill-color);\n",
              "      border-left-color: var(--fill-color);\n",
              "    }\n",
              "    20% {\n",
              "      border-color: transparent;\n",
              "      border-left-color: var(--fill-color);\n",
              "      border-top-color: var(--fill-color);\n",
              "    }\n",
              "    30% {\n",
              "      border-color: transparent;\n",
              "      border-left-color: var(--fill-color);\n",
              "      border-top-color: var(--fill-color);\n",
              "      border-right-color: var(--fill-color);\n",
              "    }\n",
              "    40% {\n",
              "      border-color: transparent;\n",
              "      border-right-color: var(--fill-color);\n",
              "      border-top-color: var(--fill-color);\n",
              "    }\n",
              "    60% {\n",
              "      border-color: transparent;\n",
              "      border-right-color: var(--fill-color);\n",
              "    }\n",
              "    80% {\n",
              "      border-color: transparent;\n",
              "      border-right-color: var(--fill-color);\n",
              "      border-bottom-color: var(--fill-color);\n",
              "    }\n",
              "    90% {\n",
              "      border-color: transparent;\n",
              "      border-bottom-color: var(--fill-color);\n",
              "    }\n",
              "  }\n",
              "</style>\n",
              "\n",
              "  <script>\n",
              "    async function quickchart(key) {\n",
              "      const quickchartButtonEl =\n",
              "        document.querySelector('#' + key + ' button');\n",
              "      quickchartButtonEl.disabled = true;  // To prevent multiple clicks.\n",
              "      quickchartButtonEl.classList.add('colab-df-spinner');\n",
              "      try {\n",
              "        const charts = await google.colab.kernel.invokeFunction(\n",
              "            'suggestCharts', [key], {});\n",
              "      } catch (error) {\n",
              "        console.error('Error during call to suggestCharts:', error);\n",
              "      }\n",
              "      quickchartButtonEl.classList.remove('colab-df-spinner');\n",
              "      quickchartButtonEl.classList.add('colab-df-quickchart-complete');\n",
              "    }\n",
              "    (() => {\n",
              "      let quickchartButtonEl =\n",
              "        document.querySelector('#df-d3a3b62f-342b-4749-a07c-ec386435adc9 button');\n",
              "      quickchartButtonEl.style.display =\n",
              "        google.colab.kernel.accessAllowed ? 'block' : 'none';\n",
              "    })();\n",
              "  </script>\n",
              "</div>\n",
              "    </div>\n",
              "  </div>\n"
            ]
          },
          "metadata": {},
          "execution_count": 16
        }
      ],
      "source": [
        "lfm_train.head()"
      ]
    },
    {
      "cell_type": "markdown",
      "id": "80e4c5bb-0453-4393-9f19-d14b87592cc2",
      "metadata": {
        "id": "80e4c5bb-0453-4393-9f19-d14b87592cc2"
      },
      "source": [
        "## LightFM train"
      ]
    },
    {
      "cell_type": "code",
      "execution_count": 18,
      "id": "dbce3fb8-487b-4f83-9492-e993a6a2cfd1",
      "metadata": {
        "colab": {
          "base_uri": "https://localhost:8080/"
        },
        "id": "dbce3fb8-487b-4f83-9492-e993a6a2cfd1",
        "outputId": "7ed45958-8a8f-4784-95c8-9b807248498a"
      },
      "outputs": [
        {
          "output_type": "stream",
          "name": "stdout",
          "text": [
            "Collecting lightfm\n",
            "  Downloading lightfm-1.17.tar.gz (316 kB)\n",
            "\u001b[?25l     \u001b[90m━━━━━━━━━━━━━━━━━━━━━━━━━━━━━━━━━━━━━━━━\u001b[0m \u001b[32m0.0/316.4 kB\u001b[0m \u001b[31m?\u001b[0m eta \u001b[36m-:--:--\u001b[0m\r\u001b[2K     \u001b[91m━━━━━━━━━━━━━━━━━\u001b[0m\u001b[91m╸\u001b[0m\u001b[90m━━━━━━━━━━━━━━━━━━━━━\u001b[0m \u001b[32m143.4/316.4 kB\u001b[0m \u001b[31m4.6 MB/s\u001b[0m eta \u001b[36m0:00:01\u001b[0m\r\u001b[2K     \u001b[90m━━━━━━━━━━━━━━━━━━━━━━━━━━━━━━━━━━━━━━━\u001b[0m \u001b[32m316.4/316.4 kB\u001b[0m \u001b[31m5.3 MB/s\u001b[0m eta \u001b[36m0:00:00\u001b[0m\n",
            "\u001b[?25h  Preparing metadata (setup.py) ... \u001b[?25l\u001b[?25hdone\n",
            "Requirement already satisfied: numpy in /usr/local/lib/python3.10/dist-packages (from lightfm) (1.23.5)\n",
            "Requirement already satisfied: scipy>=0.17.0 in /usr/local/lib/python3.10/dist-packages (from lightfm) (1.11.2)\n",
            "Requirement already satisfied: requests in /usr/local/lib/python3.10/dist-packages (from lightfm) (2.31.0)\n",
            "Requirement already satisfied: scikit-learn in /usr/local/lib/python3.10/dist-packages (from lightfm) (1.2.2)\n",
            "Requirement already satisfied: charset-normalizer<4,>=2 in /usr/local/lib/python3.10/dist-packages (from requests->lightfm) (3.2.0)\n",
            "Requirement already satisfied: idna<4,>=2.5 in /usr/local/lib/python3.10/dist-packages (from requests->lightfm) (3.4)\n",
            "Requirement already satisfied: urllib3<3,>=1.21.1 in /usr/local/lib/python3.10/dist-packages (from requests->lightfm) (2.0.4)\n",
            "Requirement already satisfied: certifi>=2017.4.17 in /usr/local/lib/python3.10/dist-packages (from requests->lightfm) (2023.7.22)\n",
            "Requirement already satisfied: joblib>=1.1.1 in /usr/local/lib/python3.10/dist-packages (from scikit-learn->lightfm) (1.3.2)\n",
            "Requirement already satisfied: threadpoolctl>=2.0.0 in /usr/local/lib/python3.10/dist-packages (from scikit-learn->lightfm) (3.2.0)\n",
            "Building wheels for collected packages: lightfm\n",
            "  Building wheel for lightfm (setup.py) ... \u001b[?25l\u001b[?25hdone\n",
            "  Created wheel for lightfm: filename=lightfm-1.17-cp310-cp310-linux_x86_64.whl size=808327 sha256=8a32658800964fbbc672aef74b1f95fdefb583a625764c279bde040f875fedb7\n",
            "  Stored in directory: /root/.cache/pip/wheels/4f/9b/7e/0b256f2168511d8fa4dae4fae0200fdbd729eb424a912ad636\n",
            "Successfully built lightfm\n",
            "Installing collected packages: lightfm\n",
            "Successfully installed lightfm-1.17\n"
          ]
        }
      ],
      "source": [
        "#!pip install lightfm\n",
        "from lightfm.data import Dataset\n",
        "from lightfm import LightFM"
      ]
    },
    {
      "cell_type": "code",
      "execution_count": 19,
      "id": "dcd58101-ee85-4fed-96f5-7c358b1c6c27",
      "metadata": {
        "id": "dcd58101-ee85-4fed-96f5-7c358b1c6c27"
      },
      "outputs": [],
      "source": [
        "dataset = Dataset()\n",
        "dataset.fit(lfm_train['user_id'].unique(), lfm_train['item_id'].unique())"
      ]
    },
    {
      "cell_type": "code",
      "execution_count": 20,
      "id": "21026e1c-e08f-462d-88ea-b10b780c2966",
      "metadata": {
        "id": "21026e1c-e08f-462d-88ea-b10b780c2966"
      },
      "outputs": [],
      "source": [
        "interactions_matrix, weights_matrix = dataset.build_interactions(\n",
        "    zip(*lfm_train[['user_id', 'item_id', 'total_dur']].values.T)\n",
        ")\n",
        "\n",
        "weights_matrix_csr = weights_matrix.tocsr()"
      ]
    },
    {
      "cell_type": "code",
      "execution_count": 21,
      "id": "7870306e-f7d7-4b14-885d-53b7257af589",
      "metadata": {
        "colab": {
          "base_uri": "https://localhost:8080/"
        },
        "id": "7870306e-f7d7-4b14-885d-53b7257af589",
        "outputId": "17ef2d35-5adf-4a29-a381-3e2262590b7e"
      },
      "outputs": [
        {
          "output_type": "stream",
          "name": "stdout",
          "text": [
            "users_mapping amount: 512783\n",
            "items_mapping amount: 12796\n"
          ]
        }
      ],
      "source": [
        "# user / item mappings\n",
        "lightfm_mapping = dataset.mapping()\n",
        "lightfm_mapping = {\n",
        "    'users_mapping': lightfm_mapping[0],\n",
        "    'items_mapping': lightfm_mapping[2],\n",
        "}\n",
        "\n",
        "lightfm_mapping['users_inv_mapping'] = {v: k for k, v in lightfm_mapping['users_mapping'].items()}\n",
        "lightfm_mapping['items_inv_mapping'] = {v: k for k, v in lightfm_mapping['items_mapping'].items()}\n",
        "\n",
        "print(f\"users_mapping amount: {len(lightfm_mapping['users_mapping'])}\")\n",
        "print(f\"items_mapping amount: {len(lightfm_mapping['items_mapping'])}\")"
      ]
    },
    {
      "cell_type": "code",
      "execution_count": 22,
      "id": "bdae9caa-13a6-4b22-bc1a-6f727edfd05f",
      "metadata": {
        "id": "bdae9caa-13a6-4b22-bc1a-6f727edfd05f"
      },
      "outputs": [],
      "source": [
        "lfm_model = LightFM(\n",
        "    no_components=64,\n",
        "    learning_rate=0.1,\n",
        "    loss='warp',\n",
        "    max_sampled=5,\n",
        "    random_state=42\n",
        ")"
      ]
    },
    {
      "cell_type": "code",
      "execution_count": 23,
      "id": "cce6f462-38a4-4976-985c-1aeb982185a7",
      "metadata": {
        "colab": {
          "base_uri": "https://localhost:8080/",
          "height": 1000,
          "referenced_widgets": [
            "cb678c57fb28494e98875ddfc1e730b9",
            "ae44c344f15a47079b88ab350aa9a44e",
            "5f37471951054fdeb1546dea9f185b3a",
            "e16fa34eec4b43a18d7db6f86741b3e8",
            "b508a8a892a6459abba4f1ddc5a84174",
            "0f575d43d6fd4e868233848730082d1d",
            "3b2b4c7f58404abb94aa9fbc8362ac04",
            "2757855d42cb4437812bcc6e051383c0",
            "2cfde6bb1dbb4a2d9a7e1c2a3b32d7bd",
            "ed7a0d5ec837452a9c052bcd369a22a0",
            "a06f3124bfdb4abc9ae9c8d2cef3c54a"
          ]
        },
        "id": "cce6f462-38a4-4976-985c-1aeb982185a7",
        "outputId": "f7c88bd5-ce53-4dd5-9ded-88e2b07133d7"
      },
      "outputs": [
        {
          "output_type": "display_data",
          "data": {
            "text/plain": [
              "  0%|          | 0/20 [00:00<?, ?it/s]"
            ],
            "application/vnd.jupyter.widget-view+json": {
              "version_major": 2,
              "version_minor": 0,
              "model_id": "cb678c57fb28494e98875ddfc1e730b9"
            }
          },
          "metadata": {}
        },
        {
          "output_type": "stream",
          "name": "stderr",
          "text": [
            "\n",
            "Epoch:   0%|          | 0/1 [00:00<?, ?it/s]\u001b[A\n",
            "Epoch: 100%|██████████| 1/1 [00:08<00:00,  8.77s/it]\n",
            "\n",
            "Epoch:   0%|          | 0/1 [00:00<?, ?it/s]\u001b[A\n",
            "Epoch: 100%|██████████| 1/1 [00:08<00:00,  8.43s/it]\n",
            "\n",
            "Epoch:   0%|          | 0/1 [00:00<?, ?it/s]\u001b[A\n",
            "Epoch: 100%|██████████| 1/1 [00:04<00:00,  4.36s/it]\n",
            "\n",
            "Epoch:   0%|          | 0/1 [00:00<?, ?it/s]\u001b[A\n",
            "Epoch: 100%|██████████| 1/1 [00:05<00:00,  5.39s/it]\n",
            "\n",
            "Epoch:   0%|          | 0/1 [00:00<?, ?it/s]\u001b[A\n",
            "Epoch: 100%|██████████| 1/1 [00:04<00:00,  4.13s/it]\n",
            "\n",
            "Epoch:   0%|          | 0/1 [00:00<?, ?it/s]\u001b[A\n",
            "Epoch: 100%|██████████| 1/1 [00:03<00:00,  3.95s/it]\n",
            "\n",
            "Epoch:   0%|          | 0/1 [00:00<?, ?it/s]\u001b[A\n",
            "Epoch: 100%|██████████| 1/1 [00:05<00:00,  5.02s/it]\n",
            "\n",
            "Epoch:   0%|          | 0/1 [00:00<?, ?it/s]\u001b[A\n",
            "Epoch: 100%|██████████| 1/1 [00:03<00:00,  3.70s/it]\n",
            "\n",
            "Epoch:   0%|          | 0/1 [00:00<?, ?it/s]\u001b[A\n",
            "Epoch: 100%|██████████| 1/1 [00:03<00:00,  3.53s/it]\n",
            "\n",
            "Epoch:   0%|          | 0/1 [00:00<?, ?it/s]\u001b[A\n",
            "Epoch: 100%|██████████| 1/1 [00:04<00:00,  4.85s/it]\n",
            "\n",
            "Epoch:   0%|          | 0/1 [00:00<?, ?it/s]\u001b[A\n",
            "Epoch: 100%|██████████| 1/1 [00:03<00:00,  3.85s/it]\n",
            "\n",
            "Epoch:   0%|          | 0/1 [00:00<?, ?it/s]\u001b[A\n",
            "Epoch: 100%|██████████| 1/1 [00:04<00:00,  4.05s/it]\n",
            "\n",
            "Epoch:   0%|          | 0/1 [00:00<?, ?it/s]\u001b[A\n",
            "Epoch: 100%|██████████| 1/1 [00:06<00:00,  6.00s/it]\n",
            "\n",
            "Epoch:   0%|          | 0/1 [00:00<?, ?it/s]\u001b[A\n",
            "Epoch: 100%|██████████| 1/1 [00:03<00:00,  3.70s/it]\n",
            "\n",
            "Epoch:   0%|          | 0/1 [00:00<?, ?it/s]\u001b[A\n",
            "Epoch: 100%|██████████| 1/1 [00:04<00:00,  4.83s/it]\n",
            "\n",
            "Epoch:   0%|          | 0/1 [00:00<?, ?it/s]\u001b[A\n",
            "Epoch: 100%|██████████| 1/1 [00:06<00:00,  6.35s/it]\n",
            "\n",
            "Epoch:   0%|          | 0/1 [00:00<?, ?it/s]\u001b[A\n",
            "Epoch: 100%|██████████| 1/1 [00:06<00:00,  6.20s/it]\n",
            "\n",
            "Epoch:   0%|          | 0/1 [00:00<?, ?it/s]\u001b[A\n",
            "Epoch: 100%|██████████| 1/1 [00:08<00:00,  8.34s/it]\n",
            "\n",
            "Epoch:   0%|          | 0/1 [00:00<?, ?it/s]\u001b[A\n",
            "Epoch: 100%|██████████| 1/1 [00:07<00:00,  7.16s/it]\n",
            "\n",
            "Epoch:   0%|          | 0/1 [00:00<?, ?it/s]\u001b[A\n",
            "Epoch: 100%|██████████| 1/1 [00:06<00:00,  6.36s/it]\n"
          ]
        }
      ],
      "source": [
        "num_epochs = 20\n",
        "\n",
        "for _ in tqdm(range(num_epochs)):\n",
        "    lfm_model.fit_partial(\n",
        "        weights_matrix_csr,\n",
        "        num_threads = 4,\n",
        "        verbose=True\n",
        "    )"
      ]
    },
    {
      "cell_type": "code",
      "execution_count": 24,
      "id": "66c66226-25f5-4400-ac63-e856a0dcc1f3",
      "metadata": {
        "colab": {
          "base_uri": "https://localhost:8080/"
        },
        "id": "66c66226-25f5-4400-ac63-e856a0dcc1f3",
        "outputId": "217842dd-c55a-4a8b-a783-d8e0922edb1b"
      },
      "outputs": [
        {
          "output_type": "execute_result",
          "data": {
            "text/plain": [
              "<512783x12796 sparse matrix of type '<class 'numpy.float32'>'\n",
              "\twith 2286604 stored elements in Compressed Sparse Row format>"
            ]
          },
          "metadata": {},
          "execution_count": 24
        }
      ],
      "source": [
        "weights_matrix_csr"
      ]
    },
    {
      "cell_type": "code",
      "execution_count": 25,
      "id": "110a36d3-f53f-450d-8919-16bcc30c9f6a",
      "metadata": {
        "id": "110a36d3-f53f-450d-8919-16bcc30c9f6a"
      },
      "outputs": [],
      "source": [
        "# save model\n",
        "with open(f\"lfm_model.dill\", 'wb') as f:\n",
        "    dill.dump(lfm_model, f)"
      ]
    },
    {
      "cell_type": "markdown",
      "source": [
        "## Generate candidates"
      ],
      "metadata": {
        "id": "L95sgu9jhTYk"
      },
      "id": "L95sgu9jhTYk"
    },
    {
      "cell_type": "code",
      "source": [
        "candidates = pd.DataFrame({\n",
        "    'user_id': lfm_pred['user_id'].unique()\n",
        "})\n",
        "\n",
        "candidates.head(3)"
      ],
      "metadata": {
        "colab": {
          "base_uri": "https://localhost:8080/",
          "height": 143
        },
        "id": "5YnXSK8EhA0v",
        "outputId": "0e1058bf-c86c-4c3a-9e26-a9e56f367f0b"
      },
      "id": "5YnXSK8EhA0v",
      "execution_count": 26,
      "outputs": [
        {
          "output_type": "execute_result",
          "data": {
            "text/plain": [
              "   user_id\n",
              "0   988709\n",
              "1   646903\n",
              "2   215229"
            ],
            "text/html": [
              "\n",
              "  <div id=\"df-ebe9c744-3787-460f-9398-1a52f65625b3\" class=\"colab-df-container\">\n",
              "    <div>\n",
              "<style scoped>\n",
              "    .dataframe tbody tr th:only-of-type {\n",
              "        vertical-align: middle;\n",
              "    }\n",
              "\n",
              "    .dataframe tbody tr th {\n",
              "        vertical-align: top;\n",
              "    }\n",
              "\n",
              "    .dataframe thead th {\n",
              "        text-align: right;\n",
              "    }\n",
              "</style>\n",
              "<table border=\"1\" class=\"dataframe\">\n",
              "  <thead>\n",
              "    <tr style=\"text-align: right;\">\n",
              "      <th></th>\n",
              "      <th>user_id</th>\n",
              "    </tr>\n",
              "  </thead>\n",
              "  <tbody>\n",
              "    <tr>\n",
              "      <th>0</th>\n",
              "      <td>988709</td>\n",
              "    </tr>\n",
              "    <tr>\n",
              "      <th>1</th>\n",
              "      <td>646903</td>\n",
              "    </tr>\n",
              "    <tr>\n",
              "      <th>2</th>\n",
              "      <td>215229</td>\n",
              "    </tr>\n",
              "  </tbody>\n",
              "</table>\n",
              "</div>\n",
              "    <div class=\"colab-df-buttons\">\n",
              "\n",
              "  <div class=\"colab-df-container\">\n",
              "    <button class=\"colab-df-convert\" onclick=\"convertToInteractive('df-ebe9c744-3787-460f-9398-1a52f65625b3')\"\n",
              "            title=\"Convert this dataframe to an interactive table.\"\n",
              "            style=\"display:none;\">\n",
              "\n",
              "  <svg xmlns=\"http://www.w3.org/2000/svg\" height=\"24px\" viewBox=\"0 -960 960 960\">\n",
              "    <path d=\"M120-120v-720h720v720H120Zm60-500h600v-160H180v160Zm220 220h160v-160H400v160Zm0 220h160v-160H400v160ZM180-400h160v-160H180v160Zm440 0h160v-160H620v160ZM180-180h160v-160H180v160Zm440 0h160v-160H620v160Z\"/>\n",
              "  </svg>\n",
              "    </button>\n",
              "\n",
              "  <style>\n",
              "    .colab-df-container {\n",
              "      display:flex;\n",
              "      gap: 12px;\n",
              "    }\n",
              "\n",
              "    .colab-df-convert {\n",
              "      background-color: #E8F0FE;\n",
              "      border: none;\n",
              "      border-radius: 50%;\n",
              "      cursor: pointer;\n",
              "      display: none;\n",
              "      fill: #1967D2;\n",
              "      height: 32px;\n",
              "      padding: 0 0 0 0;\n",
              "      width: 32px;\n",
              "    }\n",
              "\n",
              "    .colab-df-convert:hover {\n",
              "      background-color: #E2EBFA;\n",
              "      box-shadow: 0px 1px 2px rgba(60, 64, 67, 0.3), 0px 1px 3px 1px rgba(60, 64, 67, 0.15);\n",
              "      fill: #174EA6;\n",
              "    }\n",
              "\n",
              "    .colab-df-buttons div {\n",
              "      margin-bottom: 4px;\n",
              "    }\n",
              "\n",
              "    [theme=dark] .colab-df-convert {\n",
              "      background-color: #3B4455;\n",
              "      fill: #D2E3FC;\n",
              "    }\n",
              "\n",
              "    [theme=dark] .colab-df-convert:hover {\n",
              "      background-color: #434B5C;\n",
              "      box-shadow: 0px 1px 3px 1px rgba(0, 0, 0, 0.15);\n",
              "      filter: drop-shadow(0px 1px 2px rgba(0, 0, 0, 0.3));\n",
              "      fill: #FFFFFF;\n",
              "    }\n",
              "  </style>\n",
              "\n",
              "    <script>\n",
              "      const buttonEl =\n",
              "        document.querySelector('#df-ebe9c744-3787-460f-9398-1a52f65625b3 button.colab-df-convert');\n",
              "      buttonEl.style.display =\n",
              "        google.colab.kernel.accessAllowed ? 'block' : 'none';\n",
              "\n",
              "      async function convertToInteractive(key) {\n",
              "        const element = document.querySelector('#df-ebe9c744-3787-460f-9398-1a52f65625b3');\n",
              "        const dataTable =\n",
              "          await google.colab.kernel.invokeFunction('convertToInteractive',\n",
              "                                                    [key], {});\n",
              "        if (!dataTable) return;\n",
              "\n",
              "        const docLinkHtml = 'Like what you see? Visit the ' +\n",
              "          '<a target=\"_blank\" href=https://colab.research.google.com/notebooks/data_table.ipynb>data table notebook</a>'\n",
              "          + ' to learn more about interactive tables.';\n",
              "        element.innerHTML = '';\n",
              "        dataTable['output_type'] = 'display_data';\n",
              "        await google.colab.output.renderOutput(dataTable, element);\n",
              "        const docLink = document.createElement('div');\n",
              "        docLink.innerHTML = docLinkHtml;\n",
              "        element.appendChild(docLink);\n",
              "      }\n",
              "    </script>\n",
              "  </div>\n",
              "\n",
              "\n",
              "<div id=\"df-5b932d23-ae4b-4b56-a8c9-e413ccf935d3\">\n",
              "  <button class=\"colab-df-quickchart\" onclick=\"quickchart('df-5b932d23-ae4b-4b56-a8c9-e413ccf935d3')\"\n",
              "            title=\"Suggest charts.\"\n",
              "            style=\"display:none;\">\n",
              "\n",
              "<svg xmlns=\"http://www.w3.org/2000/svg\" height=\"24px\"viewBox=\"0 0 24 24\"\n",
              "     width=\"24px\">\n",
              "    <g>\n",
              "        <path d=\"M19 3H5c-1.1 0-2 .9-2 2v14c0 1.1.9 2 2 2h14c1.1 0 2-.9 2-2V5c0-1.1-.9-2-2-2zM9 17H7v-7h2v7zm4 0h-2V7h2v10zm4 0h-2v-4h2v4z\"/>\n",
              "    </g>\n",
              "</svg>\n",
              "  </button>\n",
              "\n",
              "<style>\n",
              "  .colab-df-quickchart {\n",
              "      --bg-color: #E8F0FE;\n",
              "      --fill-color: #1967D2;\n",
              "      --hover-bg-color: #E2EBFA;\n",
              "      --hover-fill-color: #174EA6;\n",
              "      --disabled-fill-color: #AAA;\n",
              "      --disabled-bg-color: #DDD;\n",
              "  }\n",
              "\n",
              "  [theme=dark] .colab-df-quickchart {\n",
              "      --bg-color: #3B4455;\n",
              "      --fill-color: #D2E3FC;\n",
              "      --hover-bg-color: #434B5C;\n",
              "      --hover-fill-color: #FFFFFF;\n",
              "      --disabled-bg-color: #3B4455;\n",
              "      --disabled-fill-color: #666;\n",
              "  }\n",
              "\n",
              "  .colab-df-quickchart {\n",
              "    background-color: var(--bg-color);\n",
              "    border: none;\n",
              "    border-radius: 50%;\n",
              "    cursor: pointer;\n",
              "    display: none;\n",
              "    fill: var(--fill-color);\n",
              "    height: 32px;\n",
              "    padding: 0;\n",
              "    width: 32px;\n",
              "  }\n",
              "\n",
              "  .colab-df-quickchart:hover {\n",
              "    background-color: var(--hover-bg-color);\n",
              "    box-shadow: 0 1px 2px rgba(60, 64, 67, 0.3), 0 1px 3px 1px rgba(60, 64, 67, 0.15);\n",
              "    fill: var(--button-hover-fill-color);\n",
              "  }\n",
              "\n",
              "  .colab-df-quickchart-complete:disabled,\n",
              "  .colab-df-quickchart-complete:disabled:hover {\n",
              "    background-color: var(--disabled-bg-color);\n",
              "    fill: var(--disabled-fill-color);\n",
              "    box-shadow: none;\n",
              "  }\n",
              "\n",
              "  .colab-df-spinner {\n",
              "    border: 2px solid var(--fill-color);\n",
              "    border-color: transparent;\n",
              "    border-bottom-color: var(--fill-color);\n",
              "    animation:\n",
              "      spin 1s steps(1) infinite;\n",
              "  }\n",
              "\n",
              "  @keyframes spin {\n",
              "    0% {\n",
              "      border-color: transparent;\n",
              "      border-bottom-color: var(--fill-color);\n",
              "      border-left-color: var(--fill-color);\n",
              "    }\n",
              "    20% {\n",
              "      border-color: transparent;\n",
              "      border-left-color: var(--fill-color);\n",
              "      border-top-color: var(--fill-color);\n",
              "    }\n",
              "    30% {\n",
              "      border-color: transparent;\n",
              "      border-left-color: var(--fill-color);\n",
              "      border-top-color: var(--fill-color);\n",
              "      border-right-color: var(--fill-color);\n",
              "    }\n",
              "    40% {\n",
              "      border-color: transparent;\n",
              "      border-right-color: var(--fill-color);\n",
              "      border-top-color: var(--fill-color);\n",
              "    }\n",
              "    60% {\n",
              "      border-color: transparent;\n",
              "      border-right-color: var(--fill-color);\n",
              "    }\n",
              "    80% {\n",
              "      border-color: transparent;\n",
              "      border-right-color: var(--fill-color);\n",
              "      border-bottom-color: var(--fill-color);\n",
              "    }\n",
              "    90% {\n",
              "      border-color: transparent;\n",
              "      border-bottom-color: var(--fill-color);\n",
              "    }\n",
              "  }\n",
              "</style>\n",
              "\n",
              "  <script>\n",
              "    async function quickchart(key) {\n",
              "      const quickchartButtonEl =\n",
              "        document.querySelector('#' + key + ' button');\n",
              "      quickchartButtonEl.disabled = true;  // To prevent multiple clicks.\n",
              "      quickchartButtonEl.classList.add('colab-df-spinner');\n",
              "      try {\n",
              "        const charts = await google.colab.kernel.invokeFunction(\n",
              "            'suggestCharts', [key], {});\n",
              "      } catch (error) {\n",
              "        console.error('Error during call to suggestCharts:', error);\n",
              "      }\n",
              "      quickchartButtonEl.classList.remove('colab-df-spinner');\n",
              "      quickchartButtonEl.classList.add('colab-df-quickchart-complete');\n",
              "    }\n",
              "    (() => {\n",
              "      let quickchartButtonEl =\n",
              "        document.querySelector('#df-5b932d23-ae4b-4b56-a8c9-e413ccf935d3 button');\n",
              "      quickchartButtonEl.style.display =\n",
              "        google.colab.kernel.accessAllowed ? 'block' : 'none';\n",
              "    })();\n",
              "  </script>\n",
              "</div>\n",
              "    </div>\n",
              "  </div>\n"
            ]
          },
          "metadata": {},
          "execution_count": 26
        }
      ]
    },
    {
      "cell_type": "code",
      "source": [
        "def generate_lightfm_recs_mapper(model, item_ids, known_items,\n",
        "                                 user_features, item_features, N,\n",
        "                                 user_mapping, item_inv_mapping,\n",
        "                                 num_threads=1):\n",
        "    def _recs_mapper(user):\n",
        "        user_id = user_mapping[user]\n",
        "        recs = model.predict(user_id, item_ids, user_features=user_features,\n",
        "                             item_features=item_features, num_threads=num_threads)\n",
        "\n",
        "        additional_N = len(known_items[user_id]) if user_id in known_items else 0\n",
        "        total_N = N + additional_N\n",
        "        top_cols = np.argpartition(recs, -np.arange(total_N))[-total_N:][::-1]\n",
        "\n",
        "        final_recs = [item_inv_mapping[item] for item in top_cols]\n",
        "        if additional_N > 0:\n",
        "            filter_items = known_items[user_id]\n",
        "            final_recs = [item for item in final_recs if item not in filter_items]\n",
        "        return final_recs[:N]\n",
        "    return _recs_mapper"
      ],
      "metadata": {
        "id": "_ZmLiVY8hWtj"
      },
      "id": "_ZmLiVY8hWtj",
      "execution_count": 27,
      "outputs": []
    },
    {
      "cell_type": "code",
      "source": [
        "\n",
        "top_N = 20\n",
        "\n",
        "all_cols = list(lightfm_mapping['items_mapping'].values())\n",
        "\n",
        "mapper = generate_lightfm_recs_mapper(\n",
        "    lfm_model,\n",
        "    item_ids=all_cols,\n",
        "    known_items=dict(),\n",
        "    N=top_N,\n",
        "    user_features=None,\n",
        "    item_features=None,\n",
        "    user_mapping=lightfm_mapping['users_mapping'],\n",
        "    item_inv_mapping=lightfm_mapping['items_inv_mapping'],\n",
        "    num_threads=20\n",
        ")"
      ],
      "metadata": {
        "id": "G1BnMfCuheIl"
      },
      "id": "G1BnMfCuheIl",
      "execution_count": 28,
      "outputs": []
    },
    {
      "cell_type": "code",
      "source": [
        "candidates['item_id'] = candidates['user_id'].map(mapper)\n",
        "candidates = candidates.explode('item_id')\n",
        "candidates['rank'] = candidates.groupby('user_id').cumcount() + 1\n",
        "\n",
        "candidates.head()"
      ],
      "metadata": {
        "colab": {
          "base_uri": "https://localhost:8080/",
          "height": 206
        },
        "id": "km2zjyT7hmFz",
        "outputId": "50a10386-0535-4f3d-b0c3-de6b85632576"
      },
      "id": "km2zjyT7hmFz",
      "execution_count": 29,
      "outputs": [
        {
          "output_type": "execute_result",
          "data": {
            "text/plain": [
              "   user_id item_id  rank\n",
              "0   988709   10440     1\n",
              "0   988709   15297     2\n",
              "0   988709   13865     3\n",
              "0   988709    4151     4\n",
              "0   988709    9728     5"
            ],
            "text/html": [
              "\n",
              "  <div id=\"df-7be53ff6-682a-4af3-a57f-cdbc15124ed5\" class=\"colab-df-container\">\n",
              "    <div>\n",
              "<style scoped>\n",
              "    .dataframe tbody tr th:only-of-type {\n",
              "        vertical-align: middle;\n",
              "    }\n",
              "\n",
              "    .dataframe tbody tr th {\n",
              "        vertical-align: top;\n",
              "    }\n",
              "\n",
              "    .dataframe thead th {\n",
              "        text-align: right;\n",
              "    }\n",
              "</style>\n",
              "<table border=\"1\" class=\"dataframe\">\n",
              "  <thead>\n",
              "    <tr style=\"text-align: right;\">\n",
              "      <th></th>\n",
              "      <th>user_id</th>\n",
              "      <th>item_id</th>\n",
              "      <th>rank</th>\n",
              "    </tr>\n",
              "  </thead>\n",
              "  <tbody>\n",
              "    <tr>\n",
              "      <th>0</th>\n",
              "      <td>988709</td>\n",
              "      <td>10440</td>\n",
              "      <td>1</td>\n",
              "    </tr>\n",
              "    <tr>\n",
              "      <th>0</th>\n",
              "      <td>988709</td>\n",
              "      <td>15297</td>\n",
              "      <td>2</td>\n",
              "    </tr>\n",
              "    <tr>\n",
              "      <th>0</th>\n",
              "      <td>988709</td>\n",
              "      <td>13865</td>\n",
              "      <td>3</td>\n",
              "    </tr>\n",
              "    <tr>\n",
              "      <th>0</th>\n",
              "      <td>988709</td>\n",
              "      <td>4151</td>\n",
              "      <td>4</td>\n",
              "    </tr>\n",
              "    <tr>\n",
              "      <th>0</th>\n",
              "      <td>988709</td>\n",
              "      <td>9728</td>\n",
              "      <td>5</td>\n",
              "    </tr>\n",
              "  </tbody>\n",
              "</table>\n",
              "</div>\n",
              "    <div class=\"colab-df-buttons\">\n",
              "\n",
              "  <div class=\"colab-df-container\">\n",
              "    <button class=\"colab-df-convert\" onclick=\"convertToInteractive('df-7be53ff6-682a-4af3-a57f-cdbc15124ed5')\"\n",
              "            title=\"Convert this dataframe to an interactive table.\"\n",
              "            style=\"display:none;\">\n",
              "\n",
              "  <svg xmlns=\"http://www.w3.org/2000/svg\" height=\"24px\" viewBox=\"0 -960 960 960\">\n",
              "    <path d=\"M120-120v-720h720v720H120Zm60-500h600v-160H180v160Zm220 220h160v-160H400v160Zm0 220h160v-160H400v160ZM180-400h160v-160H180v160Zm440 0h160v-160H620v160ZM180-180h160v-160H180v160Zm440 0h160v-160H620v160Z\"/>\n",
              "  </svg>\n",
              "    </button>\n",
              "\n",
              "  <style>\n",
              "    .colab-df-container {\n",
              "      display:flex;\n",
              "      gap: 12px;\n",
              "    }\n",
              "\n",
              "    .colab-df-convert {\n",
              "      background-color: #E8F0FE;\n",
              "      border: none;\n",
              "      border-radius: 50%;\n",
              "      cursor: pointer;\n",
              "      display: none;\n",
              "      fill: #1967D2;\n",
              "      height: 32px;\n",
              "      padding: 0 0 0 0;\n",
              "      width: 32px;\n",
              "    }\n",
              "\n",
              "    .colab-df-convert:hover {\n",
              "      background-color: #E2EBFA;\n",
              "      box-shadow: 0px 1px 2px rgba(60, 64, 67, 0.3), 0px 1px 3px 1px rgba(60, 64, 67, 0.15);\n",
              "      fill: #174EA6;\n",
              "    }\n",
              "\n",
              "    .colab-df-buttons div {\n",
              "      margin-bottom: 4px;\n",
              "    }\n",
              "\n",
              "    [theme=dark] .colab-df-convert {\n",
              "      background-color: #3B4455;\n",
              "      fill: #D2E3FC;\n",
              "    }\n",
              "\n",
              "    [theme=dark] .colab-df-convert:hover {\n",
              "      background-color: #434B5C;\n",
              "      box-shadow: 0px 1px 3px 1px rgba(0, 0, 0, 0.15);\n",
              "      filter: drop-shadow(0px 1px 2px rgba(0, 0, 0, 0.3));\n",
              "      fill: #FFFFFF;\n",
              "    }\n",
              "  </style>\n",
              "\n",
              "    <script>\n",
              "      const buttonEl =\n",
              "        document.querySelector('#df-7be53ff6-682a-4af3-a57f-cdbc15124ed5 button.colab-df-convert');\n",
              "      buttonEl.style.display =\n",
              "        google.colab.kernel.accessAllowed ? 'block' : 'none';\n",
              "\n",
              "      async function convertToInteractive(key) {\n",
              "        const element = document.querySelector('#df-7be53ff6-682a-4af3-a57f-cdbc15124ed5');\n",
              "        const dataTable =\n",
              "          await google.colab.kernel.invokeFunction('convertToInteractive',\n",
              "                                                    [key], {});\n",
              "        if (!dataTable) return;\n",
              "\n",
              "        const docLinkHtml = 'Like what you see? Visit the ' +\n",
              "          '<a target=\"_blank\" href=https://colab.research.google.com/notebooks/data_table.ipynb>data table notebook</a>'\n",
              "          + ' to learn more about interactive tables.';\n",
              "        element.innerHTML = '';\n",
              "        dataTable['output_type'] = 'display_data';\n",
              "        await google.colab.output.renderOutput(dataTable, element);\n",
              "        const docLink = document.createElement('div');\n",
              "        docLink.innerHTML = docLinkHtml;\n",
              "        element.appendChild(docLink);\n",
              "      }\n",
              "    </script>\n",
              "  </div>\n",
              "\n",
              "\n",
              "<div id=\"df-8e42bd27-1f20-4d4e-afc4-974c70140928\">\n",
              "  <button class=\"colab-df-quickchart\" onclick=\"quickchart('df-8e42bd27-1f20-4d4e-afc4-974c70140928')\"\n",
              "            title=\"Suggest charts.\"\n",
              "            style=\"display:none;\">\n",
              "\n",
              "<svg xmlns=\"http://www.w3.org/2000/svg\" height=\"24px\"viewBox=\"0 0 24 24\"\n",
              "     width=\"24px\">\n",
              "    <g>\n",
              "        <path d=\"M19 3H5c-1.1 0-2 .9-2 2v14c0 1.1.9 2 2 2h14c1.1 0 2-.9 2-2V5c0-1.1-.9-2-2-2zM9 17H7v-7h2v7zm4 0h-2V7h2v10zm4 0h-2v-4h2v4z\"/>\n",
              "    </g>\n",
              "</svg>\n",
              "  </button>\n",
              "\n",
              "<style>\n",
              "  .colab-df-quickchart {\n",
              "      --bg-color: #E8F0FE;\n",
              "      --fill-color: #1967D2;\n",
              "      --hover-bg-color: #E2EBFA;\n",
              "      --hover-fill-color: #174EA6;\n",
              "      --disabled-fill-color: #AAA;\n",
              "      --disabled-bg-color: #DDD;\n",
              "  }\n",
              "\n",
              "  [theme=dark] .colab-df-quickchart {\n",
              "      --bg-color: #3B4455;\n",
              "      --fill-color: #D2E3FC;\n",
              "      --hover-bg-color: #434B5C;\n",
              "      --hover-fill-color: #FFFFFF;\n",
              "      --disabled-bg-color: #3B4455;\n",
              "      --disabled-fill-color: #666;\n",
              "  }\n",
              "\n",
              "  .colab-df-quickchart {\n",
              "    background-color: var(--bg-color);\n",
              "    border: none;\n",
              "    border-radius: 50%;\n",
              "    cursor: pointer;\n",
              "    display: none;\n",
              "    fill: var(--fill-color);\n",
              "    height: 32px;\n",
              "    padding: 0;\n",
              "    width: 32px;\n",
              "  }\n",
              "\n",
              "  .colab-df-quickchart:hover {\n",
              "    background-color: var(--hover-bg-color);\n",
              "    box-shadow: 0 1px 2px rgba(60, 64, 67, 0.3), 0 1px 3px 1px rgba(60, 64, 67, 0.15);\n",
              "    fill: var(--button-hover-fill-color);\n",
              "  }\n",
              "\n",
              "  .colab-df-quickchart-complete:disabled,\n",
              "  .colab-df-quickchart-complete:disabled:hover {\n",
              "    background-color: var(--disabled-bg-color);\n",
              "    fill: var(--disabled-fill-color);\n",
              "    box-shadow: none;\n",
              "  }\n",
              "\n",
              "  .colab-df-spinner {\n",
              "    border: 2px solid var(--fill-color);\n",
              "    border-color: transparent;\n",
              "    border-bottom-color: var(--fill-color);\n",
              "    animation:\n",
              "      spin 1s steps(1) infinite;\n",
              "  }\n",
              "\n",
              "  @keyframes spin {\n",
              "    0% {\n",
              "      border-color: transparent;\n",
              "      border-bottom-color: var(--fill-color);\n",
              "      border-left-color: var(--fill-color);\n",
              "    }\n",
              "    20% {\n",
              "      border-color: transparent;\n",
              "      border-left-color: var(--fill-color);\n",
              "      border-top-color: var(--fill-color);\n",
              "    }\n",
              "    30% {\n",
              "      border-color: transparent;\n",
              "      border-left-color: var(--fill-color);\n",
              "      border-top-color: var(--fill-color);\n",
              "      border-right-color: var(--fill-color);\n",
              "    }\n",
              "    40% {\n",
              "      border-color: transparent;\n",
              "      border-right-color: var(--fill-color);\n",
              "      border-top-color: var(--fill-color);\n",
              "    }\n",
              "    60% {\n",
              "      border-color: transparent;\n",
              "      border-right-color: var(--fill-color);\n",
              "    }\n",
              "    80% {\n",
              "      border-color: transparent;\n",
              "      border-right-color: var(--fill-color);\n",
              "      border-bottom-color: var(--fill-color);\n",
              "    }\n",
              "    90% {\n",
              "      border-color: transparent;\n",
              "      border-bottom-color: var(--fill-color);\n",
              "    }\n",
              "  }\n",
              "</style>\n",
              "\n",
              "  <script>\n",
              "    async function quickchart(key) {\n",
              "      const quickchartButtonEl =\n",
              "        document.querySelector('#' + key + ' button');\n",
              "      quickchartButtonEl.disabled = true;  // To prevent multiple clicks.\n",
              "      quickchartButtonEl.classList.add('colab-df-spinner');\n",
              "      try {\n",
              "        const charts = await google.colab.kernel.invokeFunction(\n",
              "            'suggestCharts', [key], {});\n",
              "      } catch (error) {\n",
              "        console.error('Error during call to suggestCharts:', error);\n",
              "      }\n",
              "      quickchartButtonEl.classList.remove('colab-df-spinner');\n",
              "      quickchartButtonEl.classList.add('colab-df-quickchart-complete');\n",
              "    }\n",
              "    (() => {\n",
              "      let quickchartButtonEl =\n",
              "        document.querySelector('#df-8e42bd27-1f20-4d4e-afc4-974c70140928 button');\n",
              "      quickchartButtonEl.style.display =\n",
              "        google.colab.kernel.accessAllowed ? 'block' : 'none';\n",
              "    })();\n",
              "  </script>\n",
              "</div>\n",
              "    </div>\n",
              "  </div>\n"
            ]
          },
          "metadata": {},
          "execution_count": 29
        }
      ]
    },
    {
      "cell_type": "code",
      "source": [
        "candidates.shape"
      ],
      "metadata": {
        "colab": {
          "base_uri": "https://localhost:8080/"
        },
        "id": "CE9Bk_HXhnsm",
        "outputId": "7ef870ac-46d9-4375-cf5a-c32ee7677513"
      },
      "id": "CE9Bk_HXhnsm",
      "execution_count": 30,
      "outputs": [
        {
          "output_type": "execute_result",
          "data": {
            "text/plain": [
              "(3262560, 3)"
            ]
          },
          "metadata": {},
          "execution_count": 30
        }
      ]
    },
    {
      "cell_type": "markdown",
      "source": [
        "## 2nd step. Train Catboost"
      ],
      "metadata": {
        "id": "LMkqIOevhrZc"
      },
      "id": "LMkqIOevhrZc"
    },
    {
      "cell_type": "code",
      "source": [
        "pos = candidates.merge(lfm_pred,\n",
        "                        on=['user_id', 'item_id'],\n",
        "                        how='inner')\n",
        "\n",
        "pos['target'] = 1\n",
        "print(pos.shape)\n",
        "pos.head()\n",
        "neg = candidates.set_index(['user_id', 'item_id'])\\\n",
        "        .join(lfm_pred.set_index(['user_id', 'item_id']))\n",
        "\n",
        "neg = neg[neg['watched_pct'].isnull()].reset_index()\n",
        "\n",
        "neg = neg.sample(frac=0.07)\n",
        "neg['target'] = 0\n",
        "\n",
        "neg.shape"
      ],
      "metadata": {
        "colab": {
          "base_uri": "https://localhost:8080/"
        },
        "id": "o_3gMYenhpux",
        "outputId": "8d3eb6a5-321a-4873-e036-a3f129d1457f"
      },
      "id": "o_3gMYenhpux",
      "execution_count": 37,
      "outputs": [
        {
          "output_type": "stream",
          "name": "stdout",
          "text": [
            "(125727, 7)\n"
          ]
        },
        {
          "output_type": "execute_result",
          "data": {
            "text/plain": [
              "(219578, 7)"
            ]
          },
          "metadata": {},
          "execution_count": 37
        }
      ]
    },
    {
      "cell_type": "markdown",
      "source": [
        "## Forming train and test for boosting by users and not by date"
      ],
      "metadata": {
        "id": "VI2uxxL0h5k9"
      },
      "id": "VI2uxxL0h5k9"
    },
    {
      "cell_type": "code",
      "source": [
        "ctb_train_users, ctb_test_users = train_test_split(lfm_pred['user_id'].unique(),\n",
        "                                                  random_state=1,\n",
        "                                                  test_size=0.2)"
      ],
      "metadata": {
        "id": "ZaTdpij1hwh3"
      },
      "id": "ZaTdpij1hwh3",
      "execution_count": 38,
      "outputs": []
    },
    {
      "cell_type": "code",
      "source": [
        "ctb_train_users, ctb_eval_users = train_test_split(ctb_train_users,\n",
        "                                                  random_state=1,\n",
        "                                                  test_size=0.1)"
      ],
      "metadata": {
        "id": "ZZVmhOAPiFpQ"
      },
      "id": "ZZVmhOAPiFpQ",
      "execution_count": 39,
      "outputs": []
    },
    {
      "cell_type": "code",
      "source": [
        "select_col = ['user_id', 'item_id', 'rank', 'target']\n",
        "\n",
        "# Catboost train\n",
        "ctb_train = shuffle(\n",
        "    pd.concat([\n",
        "        pos[pos['user_id'].isin(ctb_train_users)],\n",
        "        neg[neg['user_id'].isin(ctb_train_users)]\n",
        "])[select_col]\n",
        ")\n",
        "\n",
        "# Catboost test\n",
        "ctb_test = shuffle(\n",
        "    pd.concat([\n",
        "        pos[pos['user_id'].isin(ctb_test_users)],\n",
        "        neg[neg['user_id'].isin(ctb_test_users)]\n",
        "])[select_col]\n",
        ")\n",
        "\n",
        "# eval\n",
        "ctb_eval = shuffle(\n",
        "    pd.concat([\n",
        "        pos[pos['user_id'].isin(ctb_eval_users)],\n",
        "        neg[neg['user_id'].isin(ctb_eval_users)]\n",
        "])[select_col]\n",
        ")"
      ],
      "metadata": {
        "id": "oqymDsx8iHn7"
      },
      "id": "oqymDsx8iHn7",
      "execution_count": 40,
      "outputs": []
    },
    {
      "cell_type": "markdown",
      "source": [
        "## let`s check class balance"
      ],
      "metadata": {
        "id": "GTLipiLFiQNM"
      },
      "id": "GTLipiLFiQNM"
    },
    {
      "cell_type": "code",
      "source": [
        "\n",
        "ctb_train['target'].value_counts(normalize=True)"
      ],
      "metadata": {
        "colab": {
          "base_uri": "https://localhost:8080/"
        },
        "id": "0SudRlfLiPVI",
        "outputId": "62f090aa-6f01-426f-af2f-cd6f4c07e9f0"
      },
      "id": "0SudRlfLiPVI",
      "execution_count": 41,
      "outputs": [
        {
          "output_type": "execute_result",
          "data": {
            "text/plain": [
              "0    0.637145\n",
              "1    0.362855\n",
              "Name: target, dtype: float64"
            ]
          },
          "metadata": {},
          "execution_count": 41
        }
      ]
    },
    {
      "cell_type": "code",
      "source": [
        "ctb_test['target'].value_counts(normalize=True)"
      ],
      "metadata": {
        "colab": {
          "base_uri": "https://localhost:8080/"
        },
        "id": "AYM_f_cfiW_C",
        "outputId": "8f4bcd10-07a4-4cd8-bb6b-3c7cb088a129"
      },
      "id": "AYM_f_cfiW_C",
      "execution_count": 42,
      "outputs": [
        {
          "output_type": "execute_result",
          "data": {
            "text/plain": [
              "0    0.633107\n",
              "1    0.366893\n",
              "Name: target, dtype: float64"
            ]
          },
          "metadata": {},
          "execution_count": 42
        }
      ]
    },
    {
      "cell_type": "markdown",
      "source": [
        "## Add new features for our ranking model"
      ],
      "metadata": {
        "id": "Ey0WDuKRiimD"
      },
      "id": "Ey0WDuKRiimD"
    },
    {
      "cell_type": "code",
      "source": [
        "user_col = ['user_id', 'age', 'income', 'sex', 'kids_flg']\n",
        "item_col = ['item_id', 'content_type', 'countries', 'for_kids', 'age_rating', 'studios']"
      ],
      "metadata": {
        "id": "wwpCWM8BiXJQ"
      },
      "id": "wwpCWM8BiXJQ",
      "execution_count": 43,
      "outputs": []
    },
    {
      "cell_type": "code",
      "source": [
        "train_feat = ctb_train.merge(users[user_col],\n",
        "                           on=['user_id'],\n",
        "                           how='left')\\\n",
        "                        .merge(items[item_col],\n",
        "                                   on=['item_id'],\n",
        "                                   how='left')\n",
        "\n",
        "eval_feat = ctb_eval.merge(users[user_col],\n",
        "                           on=['user_id'],\n",
        "                           how='left')\\\n",
        "                        .merge(items[item_col],\n",
        "                                   on=['item_id'],\n",
        "                                   how='left')"
      ],
      "metadata": {
        "id": "V2oyPrqQifuo"
      },
      "id": "V2oyPrqQifuo",
      "execution_count": 44,
      "outputs": []
    },
    {
      "cell_type": "code",
      "source": [
        "train_feat.head()"
      ],
      "metadata": {
        "colab": {
          "base_uri": "https://localhost:8080/",
          "height": 226
        },
        "id": "Xe4jkQ-minO_",
        "outputId": "5e9b3aa4-a659-49cb-c145-3292dfa5b2b7"
      },
      "id": "Xe4jkQ-minO_",
      "execution_count": 45,
      "outputs": [
        {
          "output_type": "execute_result",
          "data": {
            "text/plain": [
              "   user_id item_id  rank  target        age        income  sex  kids_flg  \\\n",
              "0   891374    3693    11       0  age_18_24  income_20_40    М       0.0   \n",
              "1   719804    4151    10       1  age_35_44  income_20_40    М       1.0   \n",
              "2   438134     142     8       0        NaN           NaN  NaN       NaN   \n",
              "3   825172   13865     3       1        NaN           NaN  NaN       NaN   \n",
              "4   957880    7866    18       0  age_45_54   income_0_20    Ж       0.0   \n",
              "\n",
              "  content_type countries  for_kids  age_rating studios  \n",
              "0         film       США       NaN        18.0     NaN  \n",
              "1       series    Россия       NaN        18.0     NaN  \n",
              "2         film    Россия       NaN        16.0     NaN  \n",
              "3         film    Россия       NaN        12.0     NaN  \n",
              "4         film  Германия       NaN        16.0     NaN  "
            ],
            "text/html": [
              "\n",
              "  <div id=\"df-5d11b565-7628-469f-a6fb-c3f79010baec\" class=\"colab-df-container\">\n",
              "    <div>\n",
              "<style scoped>\n",
              "    .dataframe tbody tr th:only-of-type {\n",
              "        vertical-align: middle;\n",
              "    }\n",
              "\n",
              "    .dataframe tbody tr th {\n",
              "        vertical-align: top;\n",
              "    }\n",
              "\n",
              "    .dataframe thead th {\n",
              "        text-align: right;\n",
              "    }\n",
              "</style>\n",
              "<table border=\"1\" class=\"dataframe\">\n",
              "  <thead>\n",
              "    <tr style=\"text-align: right;\">\n",
              "      <th></th>\n",
              "      <th>user_id</th>\n",
              "      <th>item_id</th>\n",
              "      <th>rank</th>\n",
              "      <th>target</th>\n",
              "      <th>age</th>\n",
              "      <th>income</th>\n",
              "      <th>sex</th>\n",
              "      <th>kids_flg</th>\n",
              "      <th>content_type</th>\n",
              "      <th>countries</th>\n",
              "      <th>for_kids</th>\n",
              "      <th>age_rating</th>\n",
              "      <th>studios</th>\n",
              "    </tr>\n",
              "  </thead>\n",
              "  <tbody>\n",
              "    <tr>\n",
              "      <th>0</th>\n",
              "      <td>891374</td>\n",
              "      <td>3693</td>\n",
              "      <td>11</td>\n",
              "      <td>0</td>\n",
              "      <td>age_18_24</td>\n",
              "      <td>income_20_40</td>\n",
              "      <td>М</td>\n",
              "      <td>0.0</td>\n",
              "      <td>film</td>\n",
              "      <td>США</td>\n",
              "      <td>NaN</td>\n",
              "      <td>18.0</td>\n",
              "      <td>NaN</td>\n",
              "    </tr>\n",
              "    <tr>\n",
              "      <th>1</th>\n",
              "      <td>719804</td>\n",
              "      <td>4151</td>\n",
              "      <td>10</td>\n",
              "      <td>1</td>\n",
              "      <td>age_35_44</td>\n",
              "      <td>income_20_40</td>\n",
              "      <td>М</td>\n",
              "      <td>1.0</td>\n",
              "      <td>series</td>\n",
              "      <td>Россия</td>\n",
              "      <td>NaN</td>\n",
              "      <td>18.0</td>\n",
              "      <td>NaN</td>\n",
              "    </tr>\n",
              "    <tr>\n",
              "      <th>2</th>\n",
              "      <td>438134</td>\n",
              "      <td>142</td>\n",
              "      <td>8</td>\n",
              "      <td>0</td>\n",
              "      <td>NaN</td>\n",
              "      <td>NaN</td>\n",
              "      <td>NaN</td>\n",
              "      <td>NaN</td>\n",
              "      <td>film</td>\n",
              "      <td>Россия</td>\n",
              "      <td>NaN</td>\n",
              "      <td>16.0</td>\n",
              "      <td>NaN</td>\n",
              "    </tr>\n",
              "    <tr>\n",
              "      <th>3</th>\n",
              "      <td>825172</td>\n",
              "      <td>13865</td>\n",
              "      <td>3</td>\n",
              "      <td>1</td>\n",
              "      <td>NaN</td>\n",
              "      <td>NaN</td>\n",
              "      <td>NaN</td>\n",
              "      <td>NaN</td>\n",
              "      <td>film</td>\n",
              "      <td>Россия</td>\n",
              "      <td>NaN</td>\n",
              "      <td>12.0</td>\n",
              "      <td>NaN</td>\n",
              "    </tr>\n",
              "    <tr>\n",
              "      <th>4</th>\n",
              "      <td>957880</td>\n",
              "      <td>7866</td>\n",
              "      <td>18</td>\n",
              "      <td>0</td>\n",
              "      <td>age_45_54</td>\n",
              "      <td>income_0_20</td>\n",
              "      <td>Ж</td>\n",
              "      <td>0.0</td>\n",
              "      <td>film</td>\n",
              "      <td>Германия</td>\n",
              "      <td>NaN</td>\n",
              "      <td>16.0</td>\n",
              "      <td>NaN</td>\n",
              "    </tr>\n",
              "  </tbody>\n",
              "</table>\n",
              "</div>\n",
              "    <div class=\"colab-df-buttons\">\n",
              "\n",
              "  <div class=\"colab-df-container\">\n",
              "    <button class=\"colab-df-convert\" onclick=\"convertToInteractive('df-5d11b565-7628-469f-a6fb-c3f79010baec')\"\n",
              "            title=\"Convert this dataframe to an interactive table.\"\n",
              "            style=\"display:none;\">\n",
              "\n",
              "  <svg xmlns=\"http://www.w3.org/2000/svg\" height=\"24px\" viewBox=\"0 -960 960 960\">\n",
              "    <path d=\"M120-120v-720h720v720H120Zm60-500h600v-160H180v160Zm220 220h160v-160H400v160Zm0 220h160v-160H400v160ZM180-400h160v-160H180v160Zm440 0h160v-160H620v160ZM180-180h160v-160H180v160Zm440 0h160v-160H620v160Z\"/>\n",
              "  </svg>\n",
              "    </button>\n",
              "\n",
              "  <style>\n",
              "    .colab-df-container {\n",
              "      display:flex;\n",
              "      gap: 12px;\n",
              "    }\n",
              "\n",
              "    .colab-df-convert {\n",
              "      background-color: #E8F0FE;\n",
              "      border: none;\n",
              "      border-radius: 50%;\n",
              "      cursor: pointer;\n",
              "      display: none;\n",
              "      fill: #1967D2;\n",
              "      height: 32px;\n",
              "      padding: 0 0 0 0;\n",
              "      width: 32px;\n",
              "    }\n",
              "\n",
              "    .colab-df-convert:hover {\n",
              "      background-color: #E2EBFA;\n",
              "      box-shadow: 0px 1px 2px rgba(60, 64, 67, 0.3), 0px 1px 3px 1px rgba(60, 64, 67, 0.15);\n",
              "      fill: #174EA6;\n",
              "    }\n",
              "\n",
              "    .colab-df-buttons div {\n",
              "      margin-bottom: 4px;\n",
              "    }\n",
              "\n",
              "    [theme=dark] .colab-df-convert {\n",
              "      background-color: #3B4455;\n",
              "      fill: #D2E3FC;\n",
              "    }\n",
              "\n",
              "    [theme=dark] .colab-df-convert:hover {\n",
              "      background-color: #434B5C;\n",
              "      box-shadow: 0px 1px 3px 1px rgba(0, 0, 0, 0.15);\n",
              "      filter: drop-shadow(0px 1px 2px rgba(0, 0, 0, 0.3));\n",
              "      fill: #FFFFFF;\n",
              "    }\n",
              "  </style>\n",
              "\n",
              "    <script>\n",
              "      const buttonEl =\n",
              "        document.querySelector('#df-5d11b565-7628-469f-a6fb-c3f79010baec button.colab-df-convert');\n",
              "      buttonEl.style.display =\n",
              "        google.colab.kernel.accessAllowed ? 'block' : 'none';\n",
              "\n",
              "      async function convertToInteractive(key) {\n",
              "        const element = document.querySelector('#df-5d11b565-7628-469f-a6fb-c3f79010baec');\n",
              "        const dataTable =\n",
              "          await google.colab.kernel.invokeFunction('convertToInteractive',\n",
              "                                                    [key], {});\n",
              "        if (!dataTable) return;\n",
              "\n",
              "        const docLinkHtml = 'Like what you see? Visit the ' +\n",
              "          '<a target=\"_blank\" href=https://colab.research.google.com/notebooks/data_table.ipynb>data table notebook</a>'\n",
              "          + ' to learn more about interactive tables.';\n",
              "        element.innerHTML = '';\n",
              "        dataTable['output_type'] = 'display_data';\n",
              "        await google.colab.output.renderOutput(dataTable, element);\n",
              "        const docLink = document.createElement('div');\n",
              "        docLink.innerHTML = docLinkHtml;\n",
              "        element.appendChild(docLink);\n",
              "      }\n",
              "    </script>\n",
              "  </div>\n",
              "\n",
              "\n",
              "<div id=\"df-14c091e4-cc29-48cc-a005-13570178e3dc\">\n",
              "  <button class=\"colab-df-quickchart\" onclick=\"quickchart('df-14c091e4-cc29-48cc-a005-13570178e3dc')\"\n",
              "            title=\"Suggest charts.\"\n",
              "            style=\"display:none;\">\n",
              "\n",
              "<svg xmlns=\"http://www.w3.org/2000/svg\" height=\"24px\"viewBox=\"0 0 24 24\"\n",
              "     width=\"24px\">\n",
              "    <g>\n",
              "        <path d=\"M19 3H5c-1.1 0-2 .9-2 2v14c0 1.1.9 2 2 2h14c1.1 0 2-.9 2-2V5c0-1.1-.9-2-2-2zM9 17H7v-7h2v7zm4 0h-2V7h2v10zm4 0h-2v-4h2v4z\"/>\n",
              "    </g>\n",
              "</svg>\n",
              "  </button>\n",
              "\n",
              "<style>\n",
              "  .colab-df-quickchart {\n",
              "      --bg-color: #E8F0FE;\n",
              "      --fill-color: #1967D2;\n",
              "      --hover-bg-color: #E2EBFA;\n",
              "      --hover-fill-color: #174EA6;\n",
              "      --disabled-fill-color: #AAA;\n",
              "      --disabled-bg-color: #DDD;\n",
              "  }\n",
              "\n",
              "  [theme=dark] .colab-df-quickchart {\n",
              "      --bg-color: #3B4455;\n",
              "      --fill-color: #D2E3FC;\n",
              "      --hover-bg-color: #434B5C;\n",
              "      --hover-fill-color: #FFFFFF;\n",
              "      --disabled-bg-color: #3B4455;\n",
              "      --disabled-fill-color: #666;\n",
              "  }\n",
              "\n",
              "  .colab-df-quickchart {\n",
              "    background-color: var(--bg-color);\n",
              "    border: none;\n",
              "    border-radius: 50%;\n",
              "    cursor: pointer;\n",
              "    display: none;\n",
              "    fill: var(--fill-color);\n",
              "    height: 32px;\n",
              "    padding: 0;\n",
              "    width: 32px;\n",
              "  }\n",
              "\n",
              "  .colab-df-quickchart:hover {\n",
              "    background-color: var(--hover-bg-color);\n",
              "    box-shadow: 0 1px 2px rgba(60, 64, 67, 0.3), 0 1px 3px 1px rgba(60, 64, 67, 0.15);\n",
              "    fill: var(--button-hover-fill-color);\n",
              "  }\n",
              "\n",
              "  .colab-df-quickchart-complete:disabled,\n",
              "  .colab-df-quickchart-complete:disabled:hover {\n",
              "    background-color: var(--disabled-bg-color);\n",
              "    fill: var(--disabled-fill-color);\n",
              "    box-shadow: none;\n",
              "  }\n",
              "\n",
              "  .colab-df-spinner {\n",
              "    border: 2px solid var(--fill-color);\n",
              "    border-color: transparent;\n",
              "    border-bottom-color: var(--fill-color);\n",
              "    animation:\n",
              "      spin 1s steps(1) infinite;\n",
              "  }\n",
              "\n",
              "  @keyframes spin {\n",
              "    0% {\n",
              "      border-color: transparent;\n",
              "      border-bottom-color: var(--fill-color);\n",
              "      border-left-color: var(--fill-color);\n",
              "    }\n",
              "    20% {\n",
              "      border-color: transparent;\n",
              "      border-left-color: var(--fill-color);\n",
              "      border-top-color: var(--fill-color);\n",
              "    }\n",
              "    30% {\n",
              "      border-color: transparent;\n",
              "      border-left-color: var(--fill-color);\n",
              "      border-top-color: var(--fill-color);\n",
              "      border-right-color: var(--fill-color);\n",
              "    }\n",
              "    40% {\n",
              "      border-color: transparent;\n",
              "      border-right-color: var(--fill-color);\n",
              "      border-top-color: var(--fill-color);\n",
              "    }\n",
              "    60% {\n",
              "      border-color: transparent;\n",
              "      border-right-color: var(--fill-color);\n",
              "    }\n",
              "    80% {\n",
              "      border-color: transparent;\n",
              "      border-right-color: var(--fill-color);\n",
              "      border-bottom-color: var(--fill-color);\n",
              "    }\n",
              "    90% {\n",
              "      border-color: transparent;\n",
              "      border-bottom-color: var(--fill-color);\n",
              "    }\n",
              "  }\n",
              "</style>\n",
              "\n",
              "  <script>\n",
              "    async function quickchart(key) {\n",
              "      const quickchartButtonEl =\n",
              "        document.querySelector('#' + key + ' button');\n",
              "      quickchartButtonEl.disabled = true;  // To prevent multiple clicks.\n",
              "      quickchartButtonEl.classList.add('colab-df-spinner');\n",
              "      try {\n",
              "        const charts = await google.colab.kernel.invokeFunction(\n",
              "            'suggestCharts', [key], {});\n",
              "      } catch (error) {\n",
              "        console.error('Error during call to suggestCharts:', error);\n",
              "      }\n",
              "      quickchartButtonEl.classList.remove('colab-df-spinner');\n",
              "      quickchartButtonEl.classList.add('colab-df-quickchart-complete');\n",
              "    }\n",
              "    (() => {\n",
              "      let quickchartButtonEl =\n",
              "        document.querySelector('#df-14c091e4-cc29-48cc-a005-13570178e3dc button');\n",
              "      quickchartButtonEl.style.display =\n",
              "        google.colab.kernel.accessAllowed ? 'block' : 'none';\n",
              "    })();\n",
              "  </script>\n",
              "</div>\n",
              "    </div>\n",
              "  </div>\n"
            ]
          },
          "metadata": {},
          "execution_count": 45
        }
      ]
    },
    {
      "cell_type": "code",
      "source": [
        "drop_col = ['user_id', 'item_id']\n",
        "target_col = ['target']\n",
        "cat_col = ['age', 'income', 'sex', 'content_type', 'countries', 'studios']"
      ],
      "metadata": {
        "id": "-GturcT7inZx"
      },
      "id": "-GturcT7inZx",
      "execution_count": 46,
      "outputs": []
    },
    {
      "cell_type": "code",
      "source": [
        "X_train, y_train = train_feat.drop(drop_col + target_col, axis=1), train_feat[target_col]\n",
        "X_val, y_val = eval_feat.drop(drop_col + target_col, axis=1), eval_feat[target_col]"
      ],
      "metadata": {
        "id": "6VNE59zGipUg"
      },
      "id": "6VNE59zGipUg",
      "execution_count": 47,
      "outputs": []
    },
    {
      "cell_type": "code",
      "source": [
        "# fillna for catboost with the most frequent value\n",
        "X_train = X_train.fillna(X_train.mode().iloc[0])\n",
        "X_val = X_val.fillna(X_train.mode().iloc[0])"
      ],
      "metadata": {
        "id": "4crLSDd6iqzQ"
      },
      "id": "4crLSDd6iqzQ",
      "execution_count": 48,
      "outputs": []
    },
    {
      "cell_type": "markdown",
      "source": [
        "## CatboostClassifier train"
      ],
      "metadata": {
        "id": "OR9pzz7GiyES"
      },
      "id": "OR9pzz7GiyES"
    },
    {
      "cell_type": "code",
      "source": [
        "from catboost import CatBoostClassifier\n",
        "\n",
        "# параметры для обучения\n",
        "est_params = {\n",
        "  'subsample': 0.9,\n",
        "  'max_depth': 5,\n",
        "  'n_estimators': 2000,\n",
        "  'learning_rate': 0.1,\n",
        "  'thread_count': 20,\n",
        "  'random_state': 42,\n",
        "  'verbose': 200,\n",
        "}\n",
        "\n",
        "ctb_model = CatBoostClassifier(**est_params)"
      ],
      "metadata": {
        "id": "QK6-0TPFit9a"
      },
      "id": "QK6-0TPFit9a",
      "execution_count": 62,
      "outputs": []
    },
    {
      "cell_type": "code",
      "source": [
        "ctb_model.fit(X_train,\n",
        "              y_train,\n",
        "              eval_set=(X_val, y_val),\n",
        "              early_stopping_rounds=100,\n",
        "              cat_features=cat_col,\n",
        "              plot=True)"
      ],
      "metadata": {
        "colab": {
          "base_uri": "https://localhost:8080/",
          "height": 208,
          "referenced_widgets": [
            "b2186d40cdfa4128b541a8cf0d6b426c"
          ]
        },
        "id": "CRehCf4Fi3ud",
        "outputId": "3d92c592-0aff-48bc-ca01-2ce9b2f2c7d6"
      },
      "id": "CRehCf4Fi3ud",
      "execution_count": 63,
      "outputs": [
        {
          "output_type": "display_data",
          "data": {
            "text/plain": [
              "MetricVisualizer(layout=Layout(align_self='stretch', height='500px'))"
            ],
            "application/vnd.jupyter.widget-view+json": {
              "version_major": 2,
              "version_minor": 0,
              "model_id": "b2186d40cdfa4128b541a8cf0d6b426c"
            }
          },
          "metadata": {}
        },
        {
          "output_type": "stream",
          "name": "stdout",
          "text": [
            "0:\tlearn: 0.6740665\ttest: 0.6744929\tbest: 0.6744929 (0)\ttotal: 313ms\tremaining: 10m 24s\n",
            "200:\tlearn: 0.5585568\ttest: 0.5626197\tbest: 0.5626172 (199)\ttotal: 1m 3s\tremaining: 9m 32s\n",
            "400:\tlearn: 0.5569722\ttest: 0.5619506\tbest: 0.5619502 (399)\ttotal: 2m 1s\tremaining: 8m 4s\n",
            "600:\tlearn: 0.5558482\ttest: 0.5616637\tbest: 0.5616637 (600)\ttotal: 3m 1s\tremaining: 7m 1s\n",
            "Stopped by overfitting detector  (100 iterations wait)\n",
            "\n",
            "bestTest = 0.5616112568\n",
            "bestIteration = 633\n",
            "\n",
            "Shrink model to first 634 iterations.\n"
          ]
        },
        {
          "output_type": "execute_result",
          "data": {
            "text/plain": [
              "<catboost.core.CatBoostClassifier at 0x7d4080f01ff0>"
            ]
          },
          "metadata": {},
          "execution_count": 63
        }
      ]
    },
    {
      "cell_type": "code",
      "source": [
        "# save model\n",
        "with open(f\"ctb_model.dill\", 'wb') as f:\n",
        "    dill.dump(ctb_model, f)"
      ],
      "metadata": {
        "id": "xLFi8hHOqb-x"
      },
      "id": "xLFi8hHOqb-x",
      "execution_count": 64,
      "outputs": []
    },
    {
      "cell_type": "markdown",
      "source": [
        "## Feature importance"
      ],
      "metadata": {
        "id": "70nu7R4NtsWu"
      },
      "id": "70nu7R4NtsWu"
    },
    {
      "cell_type": "code",
      "source": [
        "!pip install shap\n",
        "import shap\n",
        "from catboost import Pool\n",
        "\n",
        "# сэмплируем для shap_values\n",
        "X_train_subs, _, y_train_subs, __ = train_test_split(X_train, y_train,\n",
        "                                                     test_size=0.9,\n",
        "                                                     random_state=42)\n",
        "# считаем shap_values\n",
        "shap_values = ctb_model.get_feature_importance(Pool(X_train_subs, y_train_subs,\n",
        "                                                   cat_features=cat_col), type='ShapValues')\n",
        "\n",
        "expected_value = shap_values[0, -1]\n",
        "shap_values = shap_values[:, :-1]"
      ],
      "metadata": {
        "colab": {
          "base_uri": "https://localhost:8080/"
        },
        "id": "dCQ3JJ4Mtp-D",
        "outputId": "e81600d7-0712-4277-d6b1-23bc93f2999e"
      },
      "id": "dCQ3JJ4Mtp-D",
      "execution_count": 67,
      "outputs": [
        {
          "output_type": "stream",
          "name": "stdout",
          "text": [
            "Collecting shap\n",
            "  Downloading shap-0.42.1-cp310-cp310-manylinux_2_12_x86_64.manylinux2010_x86_64.manylinux_2_17_x86_64.manylinux2014_x86_64.whl (547 kB)\n",
            "\u001b[2K     \u001b[90m━━━━━━━━━━━━━━━━━━━━━━━━━━━━━━━━━━━━━━━\u001b[0m \u001b[32m547.9/547.9 kB\u001b[0m \u001b[31m9.2 MB/s\u001b[0m eta \u001b[36m0:00:00\u001b[0m\n",
            "\u001b[?25hRequirement already satisfied: numpy in /usr/local/lib/python3.10/dist-packages (from shap) (1.23.5)\n",
            "Requirement already satisfied: scipy in /usr/local/lib/python3.10/dist-packages (from shap) (1.11.2)\n",
            "Requirement already satisfied: scikit-learn in /usr/local/lib/python3.10/dist-packages (from shap) (1.2.2)\n",
            "Requirement already satisfied: pandas in /usr/local/lib/python3.10/dist-packages (from shap) (1.5.3)\n",
            "Requirement already satisfied: tqdm>=4.27.0 in /usr/local/lib/python3.10/dist-packages (from shap) (4.66.1)\n",
            "Requirement already satisfied: packaging>20.9 in /usr/local/lib/python3.10/dist-packages (from shap) (23.1)\n",
            "Collecting slicer==0.0.7 (from shap)\n",
            "  Downloading slicer-0.0.7-py3-none-any.whl (14 kB)\n",
            "Requirement already satisfied: numba in /usr/local/lib/python3.10/dist-packages (from shap) (0.56.4)\n",
            "Requirement already satisfied: cloudpickle in /usr/local/lib/python3.10/dist-packages (from shap) (2.2.1)\n",
            "Requirement already satisfied: llvmlite<0.40,>=0.39.0dev0 in /usr/local/lib/python3.10/dist-packages (from numba->shap) (0.39.1)\n",
            "Requirement already satisfied: setuptools in /usr/local/lib/python3.10/dist-packages (from numba->shap) (67.7.2)\n",
            "Requirement already satisfied: python-dateutil>=2.8.1 in /usr/local/lib/python3.10/dist-packages (from pandas->shap) (2.8.2)\n",
            "Requirement already satisfied: pytz>=2020.1 in /usr/local/lib/python3.10/dist-packages (from pandas->shap) (2023.3.post1)\n",
            "Requirement already satisfied: joblib>=1.1.1 in /usr/local/lib/python3.10/dist-packages (from scikit-learn->shap) (1.3.2)\n",
            "Requirement already satisfied: threadpoolctl>=2.0.0 in /usr/local/lib/python3.10/dist-packages (from scikit-learn->shap) (3.2.0)\n",
            "Requirement already satisfied: six>=1.5 in /usr/local/lib/python3.10/dist-packages (from python-dateutil>=2.8.1->pandas->shap) (1.16.0)\n",
            "Installing collected packages: slicer, shap\n",
            "Successfully installed shap-0.42.1 slicer-0.0.7\n"
          ]
        }
      ]
    },
    {
      "cell_type": "code",
      "source": [
        "plt.title(\"Train features importance\")\n",
        "\n",
        "shap.summary_plot(\n",
        "    shap_values,\n",
        "    X_train_subs\n",
        ")"
      ],
      "metadata": {
        "colab": {
          "base_uri": "https://localhost:8080/",
          "height": 557
        },
        "id": "bswZiEzwtxSu",
        "outputId": "3420add4-bc7b-4005-fd16-f15cbe2ab5af"
      },
      "id": "bswZiEzwtxSu",
      "execution_count": 68,
      "outputs": [
        {
          "output_type": "display_data",
          "data": {
            "text/plain": [
              "<Figure size 800x550 with 2 Axes>"
            ],
            "image/png": "[encoded data removed]"
          },
          "metadata": {}
        }
      ]
    },
    {
      "cell_type": "markdown",
      "source": [
        "## Catboost metrics"
      ],
      "metadata": {
        "id": "YyBlaYUPwh4j"
      },
      "id": "YyBlaYUPwh4j"
    },
    {
      "cell_type": "code",
      "source": [
        "test_feat = ctb_test.merge(users[user_col],\n",
        "                           on=['user_id'],\n",
        "                           how='left')\\\n",
        "                    .merge(items[item_col],\n",
        "                               on=['item_id'],\n",
        "                               how='left')"
      ],
      "metadata": {
        "id": "pzzd-0nVt3-q"
      },
      "id": "pzzd-0nVt3-q",
      "execution_count": 69,
      "outputs": []
    },
    {
      "cell_type": "code",
      "source": [
        "# fillna for catboost with the most frequent value\n",
        "test_feat = test_feat.fillna(X_train.mode().iloc[0])"
      ],
      "metadata": {
        "id": "an_6yggywkrj"
      },
      "id": "an_6yggywkrj",
      "execution_count": 70,
      "outputs": []
    },
    {
      "cell_type": "code",
      "source": [
        "X_test, y_test = test_feat.drop(drop_col + target_col, axis=1), test_feat['target']"
      ],
      "metadata": {
        "id": "HOua3C3Hwl8f"
      },
      "id": "HOua3C3Hwl8f",
      "execution_count": 71,
      "outputs": []
    },
    {
      "cell_type": "code",
      "source": [
        "y_pred = ctb_model.predict_proba(X_test)"
      ],
      "metadata": {
        "id": "pqwpZuXGwnwj"
      },
      "id": "pqwpZuXGwnwj",
      "execution_count": 72,
      "outputs": []
    },
    {
      "cell_type": "code",
      "source": [
        "from sklearn.metrics import roc_auc_score\n",
        "\n",
        "f\"ROC AUC score = {roc_auc_score(y_test, y_pred[:, 1]):.2f}\""
      ],
      "metadata": {
        "colab": {
          "base_uri": "https://localhost:8080/",
          "height": 35
        },
        "id": "mTPdjoCAwp7Y",
        "outputId": "017839c7-cb79-4ba4-8b59-6657f1e5a638"
      },
      "id": "mTPdjoCAwp7Y",
      "execution_count": 73,
      "outputs": [
        {
          "output_type": "execute_result",
          "data": {
            "text/plain": [
              "'ROC AUC score = 0.75'"
            ],
            "application/vnd.google.colaboratory.intrinsic+json": {
              "type": "string"
            }
          },
          "metadata": {},
          "execution_count": 73
        }
      ]
    },
    {
      "cell_type": "markdown",
      "source": [
        "## Metrics on global test"
      ],
      "metadata": {
        "id": "Nk6zh3g4w8Ud"
      },
      "id": "Nk6zh3g4w8Ud"
    },
    {
      "cell_type": "code",
      "source": [
        "test = test[test['user_id'].isin(lfm_train['user_id'].unique())]"
      ],
      "metadata": {
        "id": "-gYzAxzMwrlC"
      },
      "id": "-gYzAxzMwrlC",
      "execution_count": 74,
      "outputs": []
    },
    {
      "cell_type": "code",
      "source": [
        "top_N = 200\n",
        "\n",
        "lfm_prediction = pd.DataFrame({\n",
        "    'user_id': test['user_id'].unique()\n",
        "})\n",
        "\n",
        "known_items = lfm_train.groupby('user_id')['item_id'].apply(list).to_dict()\n",
        "\n",
        "mapper = generate_lightfm_recs_mapper(\n",
        "    lfm_model,\n",
        "    item_ids=all_cols,\n",
        "    known_items=known_items,\n",
        "    N=top_N,\n",
        "    user_features=None,\n",
        "    item_features=None,\n",
        "    user_mapping=lightfm_mapping['users_mapping'],\n",
        "    item_inv_mapping=lightfm_mapping['items_inv_mapping'],\n",
        "    num_threads=20\n",
        ")\n",
        "\n",
        "lfm_prediction['item_id'] = lfm_prediction['user_id'].map(mapper)\n",
        "lfm_prediction = lfm_prediction.explode('item_id').reset_index(drop=True)\n",
        "lfm_prediction['rank'] = lfm_prediction.groupby('user_id').cumcount() + 1"
      ],
      "metadata": {
        "id": "nIRu3CFmxELv"
      },
      "id": "nIRu3CFmxELv",
      "execution_count": 75,
      "outputs": []
    },
    {
      "cell_type": "code",
      "source": [
        "def compute_metrics(df_true, df_pred, top_N, rank_col='rank'):\n",
        "    result = {}\n",
        "    test_recs = df_true.set_index(['user_id', 'item_id']).join(df_pred.set_index(['user_id', 'item_id']))\n",
        "    test_recs = test_recs.sort_values(by=['user_id', rank_col])\n",
        "\n",
        "    test_recs['users_item_count'] = test_recs.groupby(level='user_id')[rank_col].transform(np.size)\n",
        "    test_recs['reciprocal_rank'] = (1 / test_recs[rank_col]).fillna(0)\n",
        "    test_recs['cumulative_rank'] = test_recs.groupby(level='user_id').cumcount() + 1\n",
        "    test_recs['cumulative_rank'] = test_recs['cumulative_rank'] / test_recs[rank_col]\n",
        "\n",
        "    users_count = test_recs.index.get_level_values('user_id').nunique()\n",
        "    for k in range(1, top_N + 1):\n",
        "        hit_k = f'hit@{k}'\n",
        "        test_recs[hit_k] = test_recs[rank_col] <= k\n",
        "        result[f'Precision@{k}'] = (test_recs[hit_k] / k).sum() / users_count\n",
        "        result[f'Recall@{k}'] = (test_recs[hit_k] / test_recs['users_item_count']).sum() / users_count\n",
        "\n",
        "    result[f'MAP@{top_N}'] = (test_recs[\"cumulative_rank\"] / test_recs[\"users_item_count\"]).sum() / users_count\n",
        "    result[f'MRR'] = test_recs.groupby(level='user_id')['reciprocal_rank'].max().mean()\n",
        "    return pd.Series(result)"
      ],
      "metadata": {
        "id": "mOfhqOXvxHbE"
      },
      "id": "mOfhqOXvxHbE",
      "execution_count": 76,
      "outputs": []
    },
    {
      "cell_type": "code",
      "source": [
        "lfm_metrics = compute_metrics(test[['user_id', 'item_id']],\n",
        "                              lfm_prediction,\n",
        "                              top_N=10)\n",
        "lfm_metrics"
      ],
      "metadata": {
        "colab": {
          "base_uri": "https://localhost:8080/"
        },
        "id": "kNdH8vyOxKn3",
        "outputId": "f216c56c-5848-4366-b8d7-a5bf66ff4675"
      },
      "id": "kNdH8vyOxKn3",
      "execution_count": 77,
      "outputs": [
        {
          "output_type": "execute_result",
          "data": {
            "text/plain": [
              "Precision@1     0.026368\n",
              "Recall@1        0.014886\n",
              "Precision@2     0.028450\n",
              "Recall@2        0.032297\n",
              "Precision@3     0.027301\n",
              "Recall@3        0.045816\n",
              "Precision@4     0.026130\n",
              "Recall@4        0.057858\n",
              "Precision@5     0.025293\n",
              "Recall@5        0.069453\n",
              "Precision@6     0.023842\n",
              "Recall@6        0.077675\n",
              "Precision@7     0.022658\n",
              "Recall@7        0.085139\n",
              "Precision@8     0.021538\n",
              "Recall@8        0.091870\n",
              "Precision@9     0.020481\n",
              "Recall@9        0.097381\n",
              "Precision@10    0.019575\n",
              "Recall@10       0.102580\n",
              "MAP@10          0.045139\n",
              "MRR             0.073801\n",
              "dtype: float64"
            ]
          },
          "metadata": {},
          "execution_count": 77
        }
      ]
    },
    {
      "cell_type": "markdown",
      "source": [
        "## Metrics for LightFM + Catboost"
      ],
      "metadata": {
        "id": "RNA5PFv---9v"
      },
      "id": "RNA5PFv---9v"
    },
    {
      "cell_type": "code",
      "source": [
        "lfm_ctb_prediction = lfm_prediction.copy()\n",
        "\n",
        "\n",
        "score_feat = lfm_ctb_prediction.merge(users[user_col],\n",
        "                                   on=['user_id'],\n",
        "                                   how='left')\\\n",
        "                                .merge(items[item_col],\n",
        "                                       on=['item_id'],\n",
        "                                       how='left')\n",
        "\n",
        "\n",
        "score_feat = score_feat.fillna(X_train.mode().iloc[0])"
      ],
      "metadata": {
        "id": "EtCdwtne-6AU"
      },
      "id": "EtCdwtne-6AU",
      "execution_count": 78,
      "outputs": []
    },
    {
      "cell_type": "code",
      "source": [
        "score_feat.head()"
      ],
      "metadata": {
        "colab": {
          "base_uri": "https://localhost:8080/",
          "height": 244
        },
        "id": "dO56jbcW_CnS",
        "outputId": "90b5b273-227f-43ab-c612-bfb2b458805d"
      },
      "id": "dO56jbcW_CnS",
      "execution_count": 79,
      "outputs": [
        {
          "output_type": "execute_result",
          "data": {
            "text/plain": [
              "   user_id item_id  rank        age        income sex  kids_flg content_type  \\\n",
              "0   203219   10440     1  age_35_44  income_20_40   Ж       0.0       series   \n",
              "1   203219   15297     2  age_35_44  income_20_40   Ж       0.0       series   \n",
              "2   203219   13865     3  age_35_44  income_20_40   Ж       0.0         film   \n",
              "3   203219    4151     4  age_35_44  income_20_40   Ж       0.0       series   \n",
              "4   203219    9728     5  age_35_44  income_20_40   Ж       0.0         film   \n",
              "\n",
              "             countries  for_kids  age_rating studios  \n",
              "0               Россия       0.0        18.0     HBO  \n",
              "1               Россия       0.0        18.0     HBO  \n",
              "2               Россия       0.0        12.0     HBO  \n",
              "3               Россия       0.0        18.0     HBO  \n",
              "4  Великобритания, США       0.0        18.0     HBO  "
            ],
            "text/html": [
              "\n",
              "  <div id=\"df-4d1adb20-302d-45d1-8170-0571c8cd5dfe\" class=\"colab-df-container\">\n",
              "    <div>\n",
              "<style scoped>\n",
              "    .dataframe tbody tr th:only-of-type {\n",
              "        vertical-align: middle;\n",
              "    }\n",
              "\n",
              "    .dataframe tbody tr th {\n",
              "        vertical-align: top;\n",
              "    }\n",
              "\n",
              "    .dataframe thead th {\n",
              "        text-align: right;\n",
              "    }\n",
              "</style>\n",
              "<table border=\"1\" class=\"dataframe\">\n",
              "  <thead>\n",
              "    <tr style=\"text-align: right;\">\n",
              "      <th></th>\n",
              "      <th>user_id</th>\n",
              "      <th>item_id</th>\n",
              "      <th>rank</th>\n",
              "      <th>age</th>\n",
              "      <th>income</th>\n",
              "      <th>sex</th>\n",
              "      <th>kids_flg</th>\n",
              "      <th>content_type</th>\n",
              "      <th>countries</th>\n",
              "      <th>for_kids</th>\n",
              "      <th>age_rating</th>\n",
              "      <th>studios</th>\n",
              "    </tr>\n",
              "  </thead>\n",
              "  <tbody>\n",
              "    <tr>\n",
              "      <th>0</th>\n",
              "      <td>203219</td>\n",
              "      <td>10440</td>\n",
              "      <td>1</td>\n",
              "      <td>age_35_44</td>\n",
              "      <td>income_20_40</td>\n",
              "      <td>Ж</td>\n",
              "      <td>0.0</td>\n",
              "      <td>series</td>\n",
              "      <td>Россия</td>\n",
              "      <td>0.0</td>\n",
              "      <td>18.0</td>\n",
              "      <td>HBO</td>\n",
              "    </tr>\n",
              "    <tr>\n",
              "      <th>1</th>\n",
              "      <td>203219</td>\n",
              "      <td>15297</td>\n",
              "      <td>2</td>\n",
              "      <td>age_35_44</td>\n",
              "      <td>income_20_40</td>\n",
              "      <td>Ж</td>\n",
              "      <td>0.0</td>\n",
              "      <td>series</td>\n",
              "      <td>Россия</td>\n",
              "      <td>0.0</td>\n",
              "      <td>18.0</td>\n",
              "      <td>HBO</td>\n",
              "    </tr>\n",
              "    <tr>\n",
              "      <th>2</th>\n",
              "      <td>203219</td>\n",
              "      <td>13865</td>\n",
              "      <td>3</td>\n",
              "      <td>age_35_44</td>\n",
              "      <td>income_20_40</td>\n",
              "      <td>Ж</td>\n",
              "      <td>0.0</td>\n",
              "      <td>film</td>\n",
              "      <td>Россия</td>\n",
              "      <td>0.0</td>\n",
              "      <td>12.0</td>\n",
              "      <td>HBO</td>\n",
              "    </tr>\n",
              "    <tr>\n",
              "      <th>3</th>\n",
              "      <td>203219</td>\n",
              "      <td>4151</td>\n",
              "      <td>4</td>\n",
              "      <td>age_35_44</td>\n",
              "      <td>income_20_40</td>\n",
              "      <td>Ж</td>\n",
              "      <td>0.0</td>\n",
              "      <td>series</td>\n",
              "      <td>Россия</td>\n",
              "      <td>0.0</td>\n",
              "      <td>18.0</td>\n",
              "      <td>HBO</td>\n",
              "    </tr>\n",
              "    <tr>\n",
              "      <th>4</th>\n",
              "      <td>203219</td>\n",
              "      <td>9728</td>\n",
              "      <td>5</td>\n",
              "      <td>age_35_44</td>\n",
              "      <td>income_20_40</td>\n",
              "      <td>Ж</td>\n",
              "      <td>0.0</td>\n",
              "      <td>film</td>\n",
              "      <td>Великобритания, США</td>\n",
              "      <td>0.0</td>\n",
              "      <td>18.0</td>\n",
              "      <td>HBO</td>\n",
              "    </tr>\n",
              "  </tbody>\n",
              "</table>\n",
              "</div>\n",
              "    <div class=\"colab-df-buttons\">\n",
              "\n",
              "  <div class=\"colab-df-container\">\n",
              "    <button class=\"colab-df-convert\" onclick=\"convertToInteractive('df-4d1adb20-302d-45d1-8170-0571c8cd5dfe')\"\n",
              "            title=\"Convert this dataframe to an interactive table.\"\n",
              "            style=\"display:none;\">\n",
              "\n",
              "  <svg xmlns=\"http://www.w3.org/2000/svg\" height=\"24px\" viewBox=\"0 -960 960 960\">\n",
              "    <path d=\"M120-120v-720h720v720H120Zm60-500h600v-160H180v160Zm220 220h160v-160H400v160Zm0 220h160v-160H400v160ZM180-400h160v-160H180v160Zm440 0h160v-160H620v160ZM180-180h160v-160H180v160Zm440 0h160v-160H620v160Z\"/>\n",
              "  </svg>\n",
              "    </button>\n",
              "\n",
              "  <style>\n",
              "    .colab-df-container {\n",
              "      display:flex;\n",
              "      gap: 12px;\n",
              "    }\n",
              "\n",
              "    .colab-df-convert {\n",
              "      background-color: #E8F0FE;\n",
              "      border: none;\n",
              "      border-radius: 50%;\n",
              "      cursor: pointer;\n",
              "      display: none;\n",
              "      fill: #1967D2;\n",
              "      height: 32px;\n",
              "      padding: 0 0 0 0;\n",
              "      width: 32px;\n",
              "    }\n",
              "\n",
              "    .colab-df-convert:hover {\n",
              "      background-color: #E2EBFA;\n",
              "      box-shadow: 0px 1px 2px rgba(60, 64, 67, 0.3), 0px 1px 3px 1px rgba(60, 64, 67, 0.15);\n",
              "      fill: #174EA6;\n",
              "    }\n",
              "\n",
              "    .colab-df-buttons div {\n",
              "      margin-bottom: 4px;\n",
              "    }\n",
              "\n",
              "    [theme=dark] .colab-df-convert {\n",
              "      background-color: #3B4455;\n",
              "      fill: #D2E3FC;\n",
              "    }\n",
              "\n",
              "    [theme=dark] .colab-df-convert:hover {\n",
              "      background-color: #434B5C;\n",
              "      box-shadow: 0px 1px 3px 1px rgba(0, 0, 0, 0.15);\n",
              "      filter: drop-shadow(0px 1px 2px rgba(0, 0, 0, 0.3));\n",
              "      fill: #FFFFFF;\n",
              "    }\n",
              "  </style>\n",
              "\n",
              "    <script>\n",
              "      const buttonEl =\n",
              "        document.querySelector('#df-4d1adb20-302d-45d1-8170-0571c8cd5dfe button.colab-df-convert');\n",
              "      buttonEl.style.display =\n",
              "        google.colab.kernel.accessAllowed ? 'block' : 'none';\n",
              "\n",
              "      async function convertToInteractive(key) {\n",
              "        const element = document.querySelector('#df-4d1adb20-302d-45d1-8170-0571c8cd5dfe');\n",
              "        const dataTable =\n",
              "          await google.colab.kernel.invokeFunction('convertToInteractive',\n",
              "                                                    [key], {});\n",
              "        if (!dataTable) return;\n",
              "\n",
              "        const docLinkHtml = 'Like what you see? Visit the ' +\n",
              "          '<a target=\"_blank\" href=https://colab.research.google.com/notebooks/data_table.ipynb>data table notebook</a>'\n",
              "          + ' to learn more about interactive tables.';\n",
              "        element.innerHTML = '';\n",
              "        dataTable['output_type'] = 'display_data';\n",
              "        await google.colab.output.renderOutput(dataTable, element);\n",
              "        const docLink = document.createElement('div');\n",
              "        docLink.innerHTML = docLinkHtml;\n",
              "        element.appendChild(docLink);\n",
              "      }\n",
              "    </script>\n",
              "  </div>\n",
              "\n",
              "\n",
              "<div id=\"df-caf9533c-3b21-4452-b886-b66f6f0aa09c\">\n",
              "  <button class=\"colab-df-quickchart\" onclick=\"quickchart('df-caf9533c-3b21-4452-b886-b66f6f0aa09c')\"\n",
              "            title=\"Suggest charts.\"\n",
              "            style=\"display:none;\">\n",
              "\n",
              "<svg xmlns=\"http://www.w3.org/2000/svg\" height=\"24px\"viewBox=\"0 0 24 24\"\n",
              "     width=\"24px\">\n",
              "    <g>\n",
              "        <path d=\"M19 3H5c-1.1 0-2 .9-2 2v14c0 1.1.9 2 2 2h14c1.1 0 2-.9 2-2V5c0-1.1-.9-2-2-2zM9 17H7v-7h2v7zm4 0h-2V7h2v10zm4 0h-2v-4h2v4z\"/>\n",
              "    </g>\n",
              "</svg>\n",
              "  </button>\n",
              "\n",
              "<style>\n",
              "  .colab-df-quickchart {\n",
              "      --bg-color: #E8F0FE;\n",
              "      --fill-color: #1967D2;\n",
              "      --hover-bg-color: #E2EBFA;\n",
              "      --hover-fill-color: #174EA6;\n",
              "      --disabled-fill-color: #AAA;\n",
              "      --disabled-bg-color: #DDD;\n",
              "  }\n",
              "\n",
              "  [theme=dark] .colab-df-quickchart {\n",
              "      --bg-color: #3B4455;\n",
              "      --fill-color: #D2E3FC;\n",
              "      --hover-bg-color: #434B5C;\n",
              "      --hover-fill-color: #FFFFFF;\n",
              "      --disabled-bg-color: #3B4455;\n",
              "      --disabled-fill-color: #666;\n",
              "  }\n",
              "\n",
              "  .colab-df-quickchart {\n",
              "    background-color: var(--bg-color);\n",
              "    border: none;\n",
              "    border-radius: 50%;\n",
              "    cursor: pointer;\n",
              "    display: none;\n",
              "    fill: var(--fill-color);\n",
              "    height: 32px;\n",
              "    padding: 0;\n",
              "    width: 32px;\n",
              "  }\n",
              "\n",
              "  .colab-df-quickchart:hover {\n",
              "    background-color: var(--hover-bg-color);\n",
              "    box-shadow: 0 1px 2px rgba(60, 64, 67, 0.3), 0 1px 3px 1px rgba(60, 64, 67, 0.15);\n",
              "    fill: var(--button-hover-fill-color);\n",
              "  }\n",
              "\n",
              "  .colab-df-quickchart-complete:disabled,\n",
              "  .colab-df-quickchart-complete:disabled:hover {\n",
              "    background-color: var(--disabled-bg-color);\n",
              "    fill: var(--disabled-fill-color);\n",
              "    box-shadow: none;\n",
              "  }\n",
              "\n",
              "  .colab-df-spinner {\n",
              "    border: 2px solid var(--fill-color);\n",
              "    border-color: transparent;\n",
              "    border-bottom-color: var(--fill-color);\n",
              "    animation:\n",
              "      spin 1s steps(1) infinite;\n",
              "  }\n",
              "\n",
              "  @keyframes spin {\n",
              "    0% {\n",
              "      border-color: transparent;\n",
              "      border-bottom-color: var(--fill-color);\n",
              "      border-left-color: var(--fill-color);\n",
              "    }\n",
              "    20% {\n",
              "      border-color: transparent;\n",
              "      border-left-color: var(--fill-color);\n",
              "      border-top-color: var(--fill-color);\n",
              "    }\n",
              "    30% {\n",
              "      border-color: transparent;\n",
              "      border-left-color: var(--fill-color);\n",
              "      border-top-color: var(--fill-color);\n",
              "      border-right-color: var(--fill-color);\n",
              "    }\n",
              "    40% {\n",
              "      border-color: transparent;\n",
              "      border-right-color: var(--fill-color);\n",
              "      border-top-color: var(--fill-color);\n",
              "    }\n",
              "    60% {\n",
              "      border-color: transparent;\n",
              "      border-right-color: var(--fill-color);\n",
              "    }\n",
              "    80% {\n",
              "      border-color: transparent;\n",
              "      border-right-color: var(--fill-color);\n",
              "      border-bottom-color: var(--fill-color);\n",
              "    }\n",
              "    90% {\n",
              "      border-color: transparent;\n",
              "      border-bottom-color: var(--fill-color);\n",
              "    }\n",
              "  }\n",
              "</style>\n",
              "\n",
              "  <script>\n",
              "    async function quickchart(key) {\n",
              "      const quickchartButtonEl =\n",
              "        document.querySelector('#' + key + ' button');\n",
              "      quickchartButtonEl.disabled = true;  // To prevent multiple clicks.\n",
              "      quickchartButtonEl.classList.add('colab-df-spinner');\n",
              "      try {\n",
              "        const charts = await google.colab.kernel.invokeFunction(\n",
              "            'suggestCharts', [key], {});\n",
              "      } catch (error) {\n",
              "        console.error('Error during call to suggestCharts:', error);\n",
              "      }\n",
              "      quickchartButtonEl.classList.remove('colab-df-spinner');\n",
              "      quickchartButtonEl.classList.add('colab-df-quickchart-complete');\n",
              "    }\n",
              "    (() => {\n",
              "      let quickchartButtonEl =\n",
              "        document.querySelector('#df-caf9533c-3b21-4452-b886-b66f6f0aa09c button');\n",
              "      quickchartButtonEl.style.display =\n",
              "        google.colab.kernel.accessAllowed ? 'block' : 'none';\n",
              "    })();\n",
              "  </script>\n",
              "</div>\n",
              "    </div>\n",
              "  </div>\n"
            ]
          },
          "metadata": {},
          "execution_count": 79
        }
      ]
    },
    {
      "cell_type": "code",
      "source": [
        "ctb_prediction = ctb_model.predict_proba(score_feat.drop(drop_col, axis=1, errors='ignore'))\n",
        "\n",
        "lfm_ctb_prediction['ctb_pred'] = ctb_prediction[:, 1]\n",
        "lfm_ctb_prediction.head(3)"
      ],
      "metadata": {
        "colab": {
          "base_uri": "https://localhost:8080/",
          "height": 143
        },
        "id": "T4eGsHVf_GHJ",
        "outputId": "6c55673b-838a-41a2-8cba-26d2f967ccfb"
      },
      "id": "T4eGsHVf_GHJ",
      "execution_count": 80,
      "outputs": [
        {
          "output_type": "execute_result",
          "data": {
            "text/plain": [
              "   user_id item_id  rank  ctb_pred\n",
              "0   203219   10440     1  0.712418\n",
              "1   203219   15297     2  0.744204\n",
              "2   203219   13865     3  0.540615"
            ],
            "text/html": [
              "\n",
              "  <div id=\"df-abe0eb4d-f55e-4b26-bfff-f68fe3fcbf5c\" class=\"colab-df-container\">\n",
              "    <div>\n",
              "<style scoped>\n",
              "    .dataframe tbody tr th:only-of-type {\n",
              "        vertical-align: middle;\n",
              "    }\n",
              "\n",
              "    .dataframe tbody tr th {\n",
              "        vertical-align: top;\n",
              "    }\n",
              "\n",
              "    .dataframe thead th {\n",
              "        text-align: right;\n",
              "    }\n",
              "</style>\n",
              "<table border=\"1\" class=\"dataframe\">\n",
              "  <thead>\n",
              "    <tr style=\"text-align: right;\">\n",
              "      <th></th>\n",
              "      <th>user_id</th>\n",
              "      <th>item_id</th>\n",
              "      <th>rank</th>\n",
              "      <th>ctb_pred</th>\n",
              "    </tr>\n",
              "  </thead>\n",
              "  <tbody>\n",
              "    <tr>\n",
              "      <th>0</th>\n",
              "      <td>203219</td>\n",
              "      <td>10440</td>\n",
              "      <td>1</td>\n",
              "      <td>0.712418</td>\n",
              "    </tr>\n",
              "    <tr>\n",
              "      <th>1</th>\n",
              "      <td>203219</td>\n",
              "      <td>15297</td>\n",
              "      <td>2</td>\n",
              "      <td>0.744204</td>\n",
              "    </tr>\n",
              "    <tr>\n",
              "      <th>2</th>\n",
              "      <td>203219</td>\n",
              "      <td>13865</td>\n",
              "      <td>3</td>\n",
              "      <td>0.540615</td>\n",
              "    </tr>\n",
              "  </tbody>\n",
              "</table>\n",
              "</div>\n",
              "    <div class=\"colab-df-buttons\">\n",
              "\n",
              "  <div class=\"colab-df-container\">\n",
              "    <button class=\"colab-df-convert\" onclick=\"convertToInteractive('df-abe0eb4d-f55e-4b26-bfff-f68fe3fcbf5c')\"\n",
              "            title=\"Convert this dataframe to an interactive table.\"\n",
              "            style=\"display:none;\">\n",
              "\n",
              "  <svg xmlns=\"http://www.w3.org/2000/svg\" height=\"24px\" viewBox=\"0 -960 960 960\">\n",
              "    <path d=\"M120-120v-720h720v720H120Zm60-500h600v-160H180v160Zm220 220h160v-160H400v160Zm0 220h160v-160H400v160ZM180-400h160v-160H180v160Zm440 0h160v-160H620v160ZM180-180h160v-160H180v160Zm440 0h160v-160H620v160Z\"/>\n",
              "  </svg>\n",
              "    </button>\n",
              "\n",
              "  <style>\n",
              "    .colab-df-container {\n",
              "      display:flex;\n",
              "      gap: 12px;\n",
              "    }\n",
              "\n",
              "    .colab-df-convert {\n",
              "      background-color: #E8F0FE;\n",
              "      border: none;\n",
              "      border-radius: 50%;\n",
              "      cursor: pointer;\n",
              "      display: none;\n",
              "      fill: #1967D2;\n",
              "      height: 32px;\n",
              "      padding: 0 0 0 0;\n",
              "      width: 32px;\n",
              "    }\n",
              "\n",
              "    .colab-df-convert:hover {\n",
              "      background-color: #E2EBFA;\n",
              "      box-shadow: 0px 1px 2px rgba(60, 64, 67, 0.3), 0px 1px 3px 1px rgba(60, 64, 67, 0.15);\n",
              "      fill: #174EA6;\n",
              "    }\n",
              "\n",
              "    .colab-df-buttons div {\n",
              "      margin-bottom: 4px;\n",
              "    }\n",
              "\n",
              "    [theme=dark] .colab-df-convert {\n",
              "      background-color: #3B4455;\n",
              "      fill: #D2E3FC;\n",
              "    }\n",
              "\n",
              "    [theme=dark] .colab-df-convert:hover {\n",
              "      background-color: #434B5C;\n",
              "      box-shadow: 0px 1px 3px 1px rgba(0, 0, 0, 0.15);\n",
              "      filter: drop-shadow(0px 1px 2px rgba(0, 0, 0, 0.3));\n",
              "      fill: #FFFFFF;\n",
              "    }\n",
              "  </style>\n",
              "\n",
              "    <script>\n",
              "      const buttonEl =\n",
              "        document.querySelector('#df-abe0eb4d-f55e-4b26-bfff-f68fe3fcbf5c button.colab-df-convert');\n",
              "      buttonEl.style.display =\n",
              "        google.colab.kernel.accessAllowed ? 'block' : 'none';\n",
              "\n",
              "      async function convertToInteractive(key) {\n",
              "        const element = document.querySelector('#df-abe0eb4d-f55e-4b26-bfff-f68fe3fcbf5c');\n",
              "        const dataTable =\n",
              "          await google.colab.kernel.invokeFunction('convertToInteractive',\n",
              "                                                    [key], {});\n",
              "        if (!dataTable) return;\n",
              "\n",
              "        const docLinkHtml = 'Like what you see? Visit the ' +\n",
              "          '<a target=\"_blank\" href=https://colab.research.google.com/notebooks/data_table.ipynb>data table notebook</a>'\n",
              "          + ' to learn more about interactive tables.';\n",
              "        element.innerHTML = '';\n",
              "        dataTable['output_type'] = 'display_data';\n",
              "        await google.colab.output.renderOutput(dataTable, element);\n",
              "        const docLink = document.createElement('div');\n",
              "        docLink.innerHTML = docLinkHtml;\n",
              "        element.appendChild(docLink);\n",
              "      }\n",
              "    </script>\n",
              "  </div>\n",
              "\n",
              "\n",
              "<div id=\"df-c5e2b933-fc9c-48fa-b6c7-24481f3d0277\">\n",
              "  <button class=\"colab-df-quickchart\" onclick=\"quickchart('df-c5e2b933-fc9c-48fa-b6c7-24481f3d0277')\"\n",
              "            title=\"Suggest charts.\"\n",
              "            style=\"display:none;\">\n",
              "\n",
              "<svg xmlns=\"http://www.w3.org/2000/svg\" height=\"24px\"viewBox=\"0 0 24 24\"\n",
              "     width=\"24px\">\n",
              "    <g>\n",
              "        <path d=\"M19 3H5c-1.1 0-2 .9-2 2v14c0 1.1.9 2 2 2h14c1.1 0 2-.9 2-2V5c0-1.1-.9-2-2-2zM9 17H7v-7h2v7zm4 0h-2V7h2v10zm4 0h-2v-4h2v4z\"/>\n",
              "    </g>\n",
              "</svg>\n",
              "  </button>\n",
              "\n",
              "<style>\n",
              "  .colab-df-quickchart {\n",
              "      --bg-color: #E8F0FE;\n",
              "      --fill-color: #1967D2;\n",
              "      --hover-bg-color: #E2EBFA;\n",
              "      --hover-fill-color: #174EA6;\n",
              "      --disabled-fill-color: #AAA;\n",
              "      --disabled-bg-color: #DDD;\n",
              "  }\n",
              "\n",
              "  [theme=dark] .colab-df-quickchart {\n",
              "      --bg-color: #3B4455;\n",
              "      --fill-color: #D2E3FC;\n",
              "      --hover-bg-color: #434B5C;\n",
              "      --hover-fill-color: #FFFFFF;\n",
              "      --disabled-bg-color: #3B4455;\n",
              "      --disabled-fill-color: #666;\n",
              "  }\n",
              "\n",
              "  .colab-df-quickchart {\n",
              "    background-color: var(--bg-color);\n",
              "    border: none;\n",
              "    border-radius: 50%;\n",
              "    cursor: pointer;\n",
              "    display: none;\n",
              "    fill: var(--fill-color);\n",
              "    height: 32px;\n",
              "    padding: 0;\n",
              "    width: 32px;\n",
              "  }\n",
              "\n",
              "  .colab-df-quickchart:hover {\n",
              "    background-color: var(--hover-bg-color);\n",
              "    box-shadow: 0 1px 2px rgba(60, 64, 67, 0.3), 0 1px 3px 1px rgba(60, 64, 67, 0.15);\n",
              "    fill: var(--button-hover-fill-color);\n",
              "  }\n",
              "\n",
              "  .colab-df-quickchart-complete:disabled,\n",
              "  .colab-df-quickchart-complete:disabled:hover {\n",
              "    background-color: var(--disabled-bg-color);\n",
              "    fill: var(--disabled-fill-color);\n",
              "    box-shadow: none;\n",
              "  }\n",
              "\n",
              "  .colab-df-spinner {\n",
              "    border: 2px solid var(--fill-color);\n",
              "    border-color: transparent;\n",
              "    border-bottom-color: var(--fill-color);\n",
              "    animation:\n",
              "      spin 1s steps(1) infinite;\n",
              "  }\n",
              "\n",
              "  @keyframes spin {\n",
              "    0% {\n",
              "      border-color: transparent;\n",
              "      border-bottom-color: var(--fill-color);\n",
              "      border-left-color: var(--fill-color);\n",
              "    }\n",
              "    20% {\n",
              "      border-color: transparent;\n",
              "      border-left-color: var(--fill-color);\n",
              "      border-top-color: var(--fill-color);\n",
              "    }\n",
              "    30% {\n",
              "      border-color: transparent;\n",
              "      border-left-color: var(--fill-color);\n",
              "      border-top-color: var(--fill-color);\n",
              "      border-right-color: var(--fill-color);\n",
              "    }\n",
              "    40% {\n",
              "      border-color: transparent;\n",
              "      border-right-color: var(--fill-color);\n",
              "      border-top-color: var(--fill-color);\n",
              "    }\n",
              "    60% {\n",
              "      border-color: transparent;\n",
              "      border-right-color: var(--fill-color);\n",
              "    }\n",
              "    80% {\n",
              "      border-color: transparent;\n",
              "      border-right-color: var(--fill-color);\n",
              "      border-bottom-color: var(--fill-color);\n",
              "    }\n",
              "    90% {\n",
              "      border-color: transparent;\n",
              "      border-bottom-color: var(--fill-color);\n",
              "    }\n",
              "  }\n",
              "</style>\n",
              "\n",
              "  <script>\n",
              "    async function quickchart(key) {\n",
              "      const quickchartButtonEl =\n",
              "        document.querySelector('#' + key + ' button');\n",
              "      quickchartButtonEl.disabled = true;  // To prevent multiple clicks.\n",
              "      quickchartButtonEl.classList.add('colab-df-spinner');\n",
              "      try {\n",
              "        const charts = await google.colab.kernel.invokeFunction(\n",
              "            'suggestCharts', [key], {});\n",
              "      } catch (error) {\n",
              "        console.error('Error during call to suggestCharts:', error);\n",
              "      }\n",
              "      quickchartButtonEl.classList.remove('colab-df-spinner');\n",
              "      quickchartButtonEl.classList.add('colab-df-quickchart-complete');\n",
              "    }\n",
              "    (() => {\n",
              "      let quickchartButtonEl =\n",
              "        document.querySelector('#df-c5e2b933-fc9c-48fa-b6c7-24481f3d0277 button');\n",
              "      quickchartButtonEl.style.display =\n",
              "        google.colab.kernel.accessAllowed ? 'block' : 'none';\n",
              "    })();\n",
              "  </script>\n",
              "</div>\n",
              "    </div>\n",
              "  </div>\n"
            ]
          },
          "metadata": {},
          "execution_count": 80
        }
      ]
    },
    {
      "cell_type": "code",
      "source": [
        "lfm_prediction.sort_values(\n",
        "    by=['user_id'], ascending=[True]).head(10)"
      ],
      "metadata": {
        "colab": {
          "base_uri": "https://localhost:8080/",
          "height": 363
        },
        "id": "JK-NxFd9_IKl",
        "outputId": "f56fb14e-095a-45c8-ab41-79632178c812"
      },
      "id": "JK-NxFd9_IKl",
      "execution_count": 81,
      "outputs": [
        {
          "output_type": "execute_result",
          "data": {
            "text/plain": [
              "         user_id item_id  rank\n",
              "8807600       21   10440     1\n",
              "8807728       21   10772   129\n",
              "8807729       21   12463   130\n",
              "8807730       21    5805   131\n",
              "8807731       21    6117   132\n",
              "8807732       21   14775   133\n",
              "8807733       21    9214   134\n",
              "8807734       21    8486   135\n",
              "8807735       21    3908   136\n",
              "8807736       21    1574   137"
            ],
            "text/html": [
              "\n",
              "  <div id=\"df-5256d6bb-b124-4a0b-a344-0c60e191cc16\" class=\"colab-df-container\">\n",
              "    <div>\n",
              "<style scoped>\n",
              "    .dataframe tbody tr th:only-of-type {\n",
              "        vertical-align: middle;\n",
              "    }\n",
              "\n",
              "    .dataframe tbody tr th {\n",
              "        vertical-align: top;\n",
              "    }\n",
              "\n",
              "    .dataframe thead th {\n",
              "        text-align: right;\n",
              "    }\n",
              "</style>\n",
              "<table border=\"1\" class=\"dataframe\">\n",
              "  <thead>\n",
              "    <tr style=\"text-align: right;\">\n",
              "      <th></th>\n",
              "      <th>user_id</th>\n",
              "      <th>item_id</th>\n",
              "      <th>rank</th>\n",
              "    </tr>\n",
              "  </thead>\n",
              "  <tbody>\n",
              "    <tr>\n",
              "      <th>8807600</th>\n",
              "      <td>21</td>\n",
              "      <td>10440</td>\n",
              "      <td>1</td>\n",
              "    </tr>\n",
              "    <tr>\n",
              "      <th>8807728</th>\n",
              "      <td>21</td>\n",
              "      <td>10772</td>\n",
              "      <td>129</td>\n",
              "    </tr>\n",
              "    <tr>\n",
              "      <th>8807729</th>\n",
              "      <td>21</td>\n",
              "      <td>12463</td>\n",
              "      <td>130</td>\n",
              "    </tr>\n",
              "    <tr>\n",
              "      <th>8807730</th>\n",
              "      <td>21</td>\n",
              "      <td>5805</td>\n",
              "      <td>131</td>\n",
              "    </tr>\n",
              "    <tr>\n",
              "      <th>8807731</th>\n",
              "      <td>21</td>\n",
              "      <td>6117</td>\n",
              "      <td>132</td>\n",
              "    </tr>\n",
              "    <tr>\n",
              "      <th>8807732</th>\n",
              "      <td>21</td>\n",
              "      <td>14775</td>\n",
              "      <td>133</td>\n",
              "    </tr>\n",
              "    <tr>\n",
              "      <th>8807733</th>\n",
              "      <td>21</td>\n",
              "      <td>9214</td>\n",
              "      <td>134</td>\n",
              "    </tr>\n",
              "    <tr>\n",
              "      <th>8807734</th>\n",
              "      <td>21</td>\n",
              "      <td>8486</td>\n",
              "      <td>135</td>\n",
              "    </tr>\n",
              "    <tr>\n",
              "      <th>8807735</th>\n",
              "      <td>21</td>\n",
              "      <td>3908</td>\n",
              "      <td>136</td>\n",
              "    </tr>\n",
              "    <tr>\n",
              "      <th>8807736</th>\n",
              "      <td>21</td>\n",
              "      <td>1574</td>\n",
              "      <td>137</td>\n",
              "    </tr>\n",
              "  </tbody>\n",
              "</table>\n",
              "</div>\n",
              "    <div class=\"colab-df-buttons\">\n",
              "\n",
              "  <div class=\"colab-df-container\">\n",
              "    <button class=\"colab-df-convert\" onclick=\"convertToInteractive('df-5256d6bb-b124-4a0b-a344-0c60e191cc16')\"\n",
              "            title=\"Convert this dataframe to an interactive table.\"\n",
              "            style=\"display:none;\">\n",
              "\n",
              "  <svg xmlns=\"http://www.w3.org/2000/svg\" height=\"24px\" viewBox=\"0 -960 960 960\">\n",
              "    <path d=\"M120-120v-720h720v720H120Zm60-500h600v-160H180v160Zm220 220h160v-160H400v160Zm0 220h160v-160H400v160ZM180-400h160v-160H180v160Zm440 0h160v-160H620v160ZM180-180h160v-160H180v160Zm440 0h160v-160H620v160Z\"/>\n",
              "  </svg>\n",
              "    </button>\n",
              "\n",
              "  <style>\n",
              "    .colab-df-container {\n",
              "      display:flex;\n",
              "      gap: 12px;\n",
              "    }\n",
              "\n",
              "    .colab-df-convert {\n",
              "      background-color: #E8F0FE;\n",
              "      border: none;\n",
              "      border-radius: 50%;\n",
              "      cursor: pointer;\n",
              "      display: none;\n",
              "      fill: #1967D2;\n",
              "      height: 32px;\n",
              "      padding: 0 0 0 0;\n",
              "      width: 32px;\n",
              "    }\n",
              "\n",
              "    .colab-df-convert:hover {\n",
              "      background-color: #E2EBFA;\n",
              "      box-shadow: 0px 1px 2px rgba(60, 64, 67, 0.3), 0px 1px 3px 1px rgba(60, 64, 67, 0.15);\n",
              "      fill: #174EA6;\n",
              "    }\n",
              "\n",
              "    .colab-df-buttons div {\n",
              "      margin-bottom: 4px;\n",
              "    }\n",
              "\n",
              "    [theme=dark] .colab-df-convert {\n",
              "      background-color: #3B4455;\n",
              "      fill: #D2E3FC;\n",
              "    }\n",
              "\n",
              "    [theme=dark] .colab-df-convert:hover {\n",
              "      background-color: #434B5C;\n",
              "      box-shadow: 0px 1px 3px 1px rgba(0, 0, 0, 0.15);\n",
              "      filter: drop-shadow(0px 1px 2px rgba(0, 0, 0, 0.3));\n",
              "      fill: #FFFFFF;\n",
              "    }\n",
              "  </style>\n",
              "\n",
              "    <script>\n",
              "      const buttonEl =\n",
              "        document.querySelector('#df-5256d6bb-b124-4a0b-a344-0c60e191cc16 button.colab-df-convert');\n",
              "      buttonEl.style.display =\n",
              "        google.colab.kernel.accessAllowed ? 'block' : 'none';\n",
              "\n",
              "      async function convertToInteractive(key) {\n",
              "        const element = document.querySelector('#df-5256d6bb-b124-4a0b-a344-0c60e191cc16');\n",
              "        const dataTable =\n",
              "          await google.colab.kernel.invokeFunction('convertToInteractive',\n",
              "                                                    [key], {});\n",
              "        if (!dataTable) return;\n",
              "\n",
              "        const docLinkHtml = 'Like what you see? Visit the ' +\n",
              "          '<a target=\"_blank\" href=https://colab.research.google.com/notebooks/data_table.ipynb>data table notebook</a>'\n",
              "          + ' to learn more about interactive tables.';\n",
              "        element.innerHTML = '';\n",
              "        dataTable['output_type'] = 'display_data';\n",
              "        await google.colab.output.renderOutput(dataTable, element);\n",
              "        const docLink = document.createElement('div');\n",
              "        docLink.innerHTML = docLinkHtml;\n",
              "        element.appendChild(docLink);\n",
              "      }\n",
              "    </script>\n",
              "  </div>\n",
              "\n",
              "\n",
              "<div id=\"df-724bd4b8-f049-4fe0-a195-eed251bed3da\">\n",
              "  <button class=\"colab-df-quickchart\" onclick=\"quickchart('df-724bd4b8-f049-4fe0-a195-eed251bed3da')\"\n",
              "            title=\"Suggest charts.\"\n",
              "            style=\"display:none;\">\n",
              "\n",
              "<svg xmlns=\"http://www.w3.org/2000/svg\" height=\"24px\"viewBox=\"0 0 24 24\"\n",
              "     width=\"24px\">\n",
              "    <g>\n",
              "        <path d=\"M19 3H5c-1.1 0-2 .9-2 2v14c0 1.1.9 2 2 2h14c1.1 0 2-.9 2-2V5c0-1.1-.9-2-2-2zM9 17H7v-7h2v7zm4 0h-2V7h2v10zm4 0h-2v-4h2v4z\"/>\n",
              "    </g>\n",
              "</svg>\n",
              "  </button>\n",
              "\n",
              "<style>\n",
              "  .colab-df-quickchart {\n",
              "      --bg-color: #E8F0FE;\n",
              "      --fill-color: #1967D2;\n",
              "      --hover-bg-color: #E2EBFA;\n",
              "      --hover-fill-color: #174EA6;\n",
              "      --disabled-fill-color: #AAA;\n",
              "      --disabled-bg-color: #DDD;\n",
              "  }\n",
              "\n",
              "  [theme=dark] .colab-df-quickchart {\n",
              "      --bg-color: #3B4455;\n",
              "      --fill-color: #D2E3FC;\n",
              "      --hover-bg-color: #434B5C;\n",
              "      --hover-fill-color: #FFFFFF;\n",
              "      --disabled-bg-color: #3B4455;\n",
              "      --disabled-fill-color: #666;\n",
              "  }\n",
              "\n",
              "  .colab-df-quickchart {\n",
              "    background-color: var(--bg-color);\n",
              "    border: none;\n",
              "    border-radius: 50%;\n",
              "    cursor: pointer;\n",
              "    display: none;\n",
              "    fill: var(--fill-color);\n",
              "    height: 32px;\n",
              "    padding: 0;\n",
              "    width: 32px;\n",
              "  }\n",
              "\n",
              "  .colab-df-quickchart:hover {\n",
              "    background-color: var(--hover-bg-color);\n",
              "    box-shadow: 0 1px 2px rgba(60, 64, 67, 0.3), 0 1px 3px 1px rgba(60, 64, 67, 0.15);\n",
              "    fill: var(--button-hover-fill-color);\n",
              "  }\n",
              "\n",
              "  .colab-df-quickchart-complete:disabled,\n",
              "  .colab-df-quickchart-complete:disabled:hover {\n",
              "    background-color: var(--disabled-bg-color);\n",
              "    fill: var(--disabled-fill-color);\n",
              "    box-shadow: none;\n",
              "  }\n",
              "\n",
              "  .colab-df-spinner {\n",
              "    border: 2px solid var(--fill-color);\n",
              "    border-color: transparent;\n",
              "    border-bottom-color: var(--fill-color);\n",
              "    animation:\n",
              "      spin 1s steps(1) infinite;\n",
              "  }\n",
              "\n",
              "  @keyframes spin {\n",
              "    0% {\n",
              "      border-color: transparent;\n",
              "      border-bottom-color: var(--fill-color);\n",
              "      border-left-color: var(--fill-color);\n",
              "    }\n",
              "    20% {\n",
              "      border-color: transparent;\n",
              "      border-left-color: var(--fill-color);\n",
              "      border-top-color: var(--fill-color);\n",
              "    }\n",
              "    30% {\n",
              "      border-color: transparent;\n",
              "      border-left-color: var(--fill-color);\n",
              "      border-top-color: var(--fill-color);\n",
              "      border-right-color: var(--fill-color);\n",
              "    }\n",
              "    40% {\n",
              "      border-color: transparent;\n",
              "      border-right-color: var(--fill-color);\n",
              "      border-top-color: var(--fill-color);\n",
              "    }\n",
              "    60% {\n",
              "      border-color: transparent;\n",
              "      border-right-color: var(--fill-color);\n",
              "    }\n",
              "    80% {\n",
              "      border-color: transparent;\n",
              "      border-right-color: var(--fill-color);\n",
              "      border-bottom-color: var(--fill-color);\n",
              "    }\n",
              "    90% {\n",
              "      border-color: transparent;\n",
              "      border-bottom-color: var(--fill-color);\n",
              "    }\n",
              "  }\n",
              "</style>\n",
              "\n",
              "  <script>\n",
              "    async function quickchart(key) {\n",
              "      const quickchartButtonEl =\n",
              "        document.querySelector('#' + key + ' button');\n",
              "      quickchartButtonEl.disabled = true;  // To prevent multiple clicks.\n",
              "      quickchartButtonEl.classList.add('colab-df-spinner');\n",
              "      try {\n",
              "        const charts = await google.colab.kernel.invokeFunction(\n",
              "            'suggestCharts', [key], {});\n",
              "      } catch (error) {\n",
              "        console.error('Error during call to suggestCharts:', error);\n",
              "      }\n",
              "      quickchartButtonEl.classList.remove('colab-df-spinner');\n",
              "      quickchartButtonEl.classList.add('colab-df-quickchart-complete');\n",
              "    }\n",
              "    (() => {\n",
              "      let quickchartButtonEl =\n",
              "        document.querySelector('#df-724bd4b8-f049-4fe0-a195-eed251bed3da button');\n",
              "      quickchartButtonEl.style.display =\n",
              "        google.colab.kernel.accessAllowed ? 'block' : 'none';\n",
              "    })();\n",
              "  </script>\n",
              "</div>\n",
              "    </div>\n",
              "  </div>\n"
            ]
          },
          "metadata": {},
          "execution_count": 81
        }
      ]
    },
    {
      "cell_type": "code",
      "source": [
        "lfm_ctb_prediction = lfm_ctb_prediction.sort_values(\n",
        "    by=['user_id', 'ctb_pred'], ascending=[True, False])\n",
        "lfm_ctb_prediction['rank_ctb'] = lfm_ctb_prediction.groupby('user_id').cumcount() + 1"
      ],
      "metadata": {
        "id": "i4kLuZCs_Jrb"
      },
      "id": "i4kLuZCs_Jrb",
      "execution_count": 82,
      "outputs": []
    },
    {
      "cell_type": "code",
      "source": [
        "lfm_ctb_prediction.head(10)"
      ],
      "metadata": {
        "colab": {
          "base_uri": "https://localhost:8080/",
          "height": 363
        },
        "id": "ET0KdFDa_NdE",
        "outputId": "8ec299f0-0332-42e9-ead7-1f19962282e3"
      },
      "id": "ET0KdFDa_NdE",
      "execution_count": 83,
      "outputs": [
        {
          "output_type": "execute_result",
          "data": {
            "text/plain": [
              "         user_id item_id  rank  ctb_pred  rank_ctb\n",
              "8807600       21   10440     1  0.702364         1\n",
              "8807605       21    9728     6  0.591142         2\n",
              "8807602       21   13865     3  0.525939         3\n",
              "8807655       21   11754    56  0.487625         4\n",
              "8807788       21    5171   189  0.487625         5\n",
              "8807608       21   15297     9  0.474378         6\n",
              "8807612       21    4151    13  0.418237         7\n",
              "8807621       21    4880    22  0.368455         8\n",
              "8807630       21    9996    31  0.257626         9\n",
              "8807644       21    2657    45  0.257626        10"
            ],
            "text/html": [
              "\n",
              "  <div id=\"df-9df65466-133c-4508-8d10-a3b024d5ec14\" class=\"colab-df-container\">\n",
              "    <div>\n",
              "<style scoped>\n",
              "    .dataframe tbody tr th:only-of-type {\n",
              "        vertical-align: middle;\n",
              "    }\n",
              "\n",
              "    .dataframe tbody tr th {\n",
              "        vertical-align: top;\n",
              "    }\n",
              "\n",
              "    .dataframe thead th {\n",
              "        text-align: right;\n",
              "    }\n",
              "</style>\n",
              "<table border=\"1\" class=\"dataframe\">\n",
              "  <thead>\n",
              "    <tr style=\"text-align: right;\">\n",
              "      <th></th>\n",
              "      <th>user_id</th>\n",
              "      <th>item_id</th>\n",
              "      <th>rank</th>\n",
              "      <th>ctb_pred</th>\n",
              "      <th>rank_ctb</th>\n",
              "    </tr>\n",
              "  </thead>\n",
              "  <tbody>\n",
              "    <tr>\n",
              "      <th>8807600</th>\n",
              "      <td>21</td>\n",
              "      <td>10440</td>\n",
              "      <td>1</td>\n",
              "      <td>0.702364</td>\n",
              "      <td>1</td>\n",
              "    </tr>\n",
              "    <tr>\n",
              "      <th>8807605</th>\n",
              "      <td>21</td>\n",
              "      <td>9728</td>\n",
              "      <td>6</td>\n",
              "      <td>0.591142</td>\n",
              "      <td>2</td>\n",
              "    </tr>\n",
              "    <tr>\n",
              "      <th>8807602</th>\n",
              "      <td>21</td>\n",
              "      <td>13865</td>\n",
              "      <td>3</td>\n",
              "      <td>0.525939</td>\n",
              "      <td>3</td>\n",
              "    </tr>\n",
              "    <tr>\n",
              "      <th>8807655</th>\n",
              "      <td>21</td>\n",
              "      <td>11754</td>\n",
              "      <td>56</td>\n",
              "      <td>0.487625</td>\n",
              "      <td>4</td>\n",
              "    </tr>\n",
              "    <tr>\n",
              "      <th>8807788</th>\n",
              "      <td>21</td>\n",
              "      <td>5171</td>\n",
              "      <td>189</td>\n",
              "      <td>0.487625</td>\n",
              "      <td>5</td>\n",
              "    </tr>\n",
              "    <tr>\n",
              "      <th>8807608</th>\n",
              "      <td>21</td>\n",
              "      <td>15297</td>\n",
              "      <td>9</td>\n",
              "      <td>0.474378</td>\n",
              "      <td>6</td>\n",
              "    </tr>\n",
              "    <tr>\n",
              "      <th>8807612</th>\n",
              "      <td>21</td>\n",
              "      <td>4151</td>\n",
              "      <td>13</td>\n",
              "      <td>0.418237</td>\n",
              "      <td>7</td>\n",
              "    </tr>\n",
              "    <tr>\n",
              "      <th>8807621</th>\n",
              "      <td>21</td>\n",
              "      <td>4880</td>\n",
              "      <td>22</td>\n",
              "      <td>0.368455</td>\n",
              "      <td>8</td>\n",
              "    </tr>\n",
              "    <tr>\n",
              "      <th>8807630</th>\n",
              "      <td>21</td>\n",
              "      <td>9996</td>\n",
              "      <td>31</td>\n",
              "      <td>0.257626</td>\n",
              "      <td>9</td>\n",
              "    </tr>\n",
              "    <tr>\n",
              "      <th>8807644</th>\n",
              "      <td>21</td>\n",
              "      <td>2657</td>\n",
              "      <td>45</td>\n",
              "      <td>0.257626</td>\n",
              "      <td>10</td>\n",
              "    </tr>\n",
              "  </tbody>\n",
              "</table>\n",
              "</div>\n",
              "    <div class=\"colab-df-buttons\">\n",
              "\n",
              "  <div class=\"colab-df-container\">\n",
              "    <button class=\"colab-df-convert\" onclick=\"convertToInteractive('df-9df65466-133c-4508-8d10-a3b024d5ec14')\"\n",
              "            title=\"Convert this dataframe to an interactive table.\"\n",
              "            style=\"display:none;\">\n",
              "\n",
              "  <svg xmlns=\"http://www.w3.org/2000/svg\" height=\"24px\" viewBox=\"0 -960 960 960\">\n",
              "    <path d=\"M120-120v-720h720v720H120Zm60-500h600v-160H180v160Zm220 220h160v-160H400v160Zm0 220h160v-160H400v160ZM180-400h160v-160H180v160Zm440 0h160v-160H620v160ZM180-180h160v-160H180v160Zm440 0h160v-160H620v160Z\"/>\n",
              "  </svg>\n",
              "    </button>\n",
              "\n",
              "  <style>\n",
              "    .colab-df-container {\n",
              "      display:flex;\n",
              "      gap: 12px;\n",
              "    }\n",
              "\n",
              "    .colab-df-convert {\n",
              "      background-color: #E8F0FE;\n",
              "      border: none;\n",
              "      border-radius: 50%;\n",
              "      cursor: pointer;\n",
              "      display: none;\n",
              "      fill: #1967D2;\n",
              "      height: 32px;\n",
              "      padding: 0 0 0 0;\n",
              "      width: 32px;\n",
              "    }\n",
              "\n",
              "    .colab-df-convert:hover {\n",
              "      background-color: #E2EBFA;\n",
              "      box-shadow: 0px 1px 2px rgba(60, 64, 67, 0.3), 0px 1px 3px 1px rgba(60, 64, 67, 0.15);\n",
              "      fill: #174EA6;\n",
              "    }\n",
              "\n",
              "    .colab-df-buttons div {\n",
              "      margin-bottom: 4px;\n",
              "    }\n",
              "\n",
              "    [theme=dark] .colab-df-convert {\n",
              "      background-color: #3B4455;\n",
              "      fill: #D2E3FC;\n",
              "    }\n",
              "\n",
              "    [theme=dark] .colab-df-convert:hover {\n",
              "      background-color: #434B5C;\n",
              "      box-shadow: 0px 1px 3px 1px rgba(0, 0, 0, 0.15);\n",
              "      filter: drop-shadow(0px 1px 2px rgba(0, 0, 0, 0.3));\n",
              "      fill: #FFFFFF;\n",
              "    }\n",
              "  </style>\n",
              "\n",
              "    <script>\n",
              "      const buttonEl =\n",
              "        document.querySelector('#df-9df65466-133c-4508-8d10-a3b024d5ec14 button.colab-df-convert');\n",
              "      buttonEl.style.display =\n",
              "        google.colab.kernel.accessAllowed ? 'block' : 'none';\n",
              "\n",
              "      async function convertToInteractive(key) {\n",
              "        const element = document.querySelector('#df-9df65466-133c-4508-8d10-a3b024d5ec14');\n",
              "        const dataTable =\n",
              "          await google.colab.kernel.invokeFunction('convertToInteractive',\n",
              "                                                    [key], {});\n",
              "        if (!dataTable) return;\n",
              "\n",
              "        const docLinkHtml = 'Like what you see? Visit the ' +\n",
              "          '<a target=\"_blank\" href=https://colab.research.google.com/notebooks/data_table.ipynb>data table notebook</a>'\n",
              "          + ' to learn more about interactive tables.';\n",
              "        element.innerHTML = '';\n",
              "        dataTable['output_type'] = 'display_data';\n",
              "        await google.colab.output.renderOutput(dataTable, element);\n",
              "        const docLink = document.createElement('div');\n",
              "        docLink.innerHTML = docLinkHtml;\n",
              "        element.appendChild(docLink);\n",
              "      }\n",
              "    </script>\n",
              "  </div>\n",
              "\n",
              "\n",
              "<div id=\"df-09976b9e-605f-4587-ad26-ad3e6741beed\">\n",
              "  <button class=\"colab-df-quickchart\" onclick=\"quickchart('df-09976b9e-605f-4587-ad26-ad3e6741beed')\"\n",
              "            title=\"Suggest charts.\"\n",
              "            style=\"display:none;\">\n",
              "\n",
              "<svg xmlns=\"http://www.w3.org/2000/svg\" height=\"24px\"viewBox=\"0 0 24 24\"\n",
              "     width=\"24px\">\n",
              "    <g>\n",
              "        <path d=\"M19 3H5c-1.1 0-2 .9-2 2v14c0 1.1.9 2 2 2h14c1.1 0 2-.9 2-2V5c0-1.1-.9-2-2-2zM9 17H7v-7h2v7zm4 0h-2V7h2v10zm4 0h-2v-4h2v4z\"/>\n",
              "    </g>\n",
              "</svg>\n",
              "  </button>\n",
              "\n",
              "<style>\n",
              "  .colab-df-quickchart {\n",
              "      --bg-color: #E8F0FE;\n",
              "      --fill-color: #1967D2;\n",
              "      --hover-bg-color: #E2EBFA;\n",
              "      --hover-fill-color: #174EA6;\n",
              "      --disabled-fill-color: #AAA;\n",
              "      --disabled-bg-color: #DDD;\n",
              "  }\n",
              "\n",
              "  [theme=dark] .colab-df-quickchart {\n",
              "      --bg-color: #3B4455;\n",
              "      --fill-color: #D2E3FC;\n",
              "      --hover-bg-color: #434B5C;\n",
              "      --hover-fill-color: #FFFFFF;\n",
              "      --disabled-bg-color: #3B4455;\n",
              "      --disabled-fill-color: #666;\n",
              "  }\n",
              "\n",
              "  .colab-df-quickchart {\n",
              "    background-color: var(--bg-color);\n",
              "    border: none;\n",
              "    border-radius: 50%;\n",
              "    cursor: pointer;\n",
              "    display: none;\n",
              "    fill: var(--fill-color);\n",
              "    height: 32px;\n",
              "    padding: 0;\n",
              "    width: 32px;\n",
              "  }\n",
              "\n",
              "  .colab-df-quickchart:hover {\n",
              "    background-color: var(--hover-bg-color);\n",
              "    box-shadow: 0 1px 2px rgba(60, 64, 67, 0.3), 0 1px 3px 1px rgba(60, 64, 67, 0.15);\n",
              "    fill: var(--button-hover-fill-color);\n",
              "  }\n",
              "\n",
              "  .colab-df-quickchart-complete:disabled,\n",
              "  .colab-df-quickchart-complete:disabled:hover {\n",
              "    background-color: var(--disabled-bg-color);\n",
              "    fill: var(--disabled-fill-color);\n",
              "    box-shadow: none;\n",
              "  }\n",
              "\n",
              "  .colab-df-spinner {\n",
              "    border: 2px solid var(--fill-color);\n",
              "    border-color: transparent;\n",
              "    border-bottom-color: var(--fill-color);\n",
              "    animation:\n",
              "      spin 1s steps(1) infinite;\n",
              "  }\n",
              "\n",
              "  @keyframes spin {\n",
              "    0% {\n",
              "      border-color: transparent;\n",
              "      border-bottom-color: var(--fill-color);\n",
              "      border-left-color: var(--fill-color);\n",
              "    }\n",
              "    20% {\n",
              "      border-color: transparent;\n",
              "      border-left-color: var(--fill-color);\n",
              "      border-top-color: var(--fill-color);\n",
              "    }\n",
              "    30% {\n",
              "      border-color: transparent;\n",
              "      border-left-color: var(--fill-color);\n",
              "      border-top-color: var(--fill-color);\n",
              "      border-right-color: var(--fill-color);\n",
              "    }\n",
              "    40% {\n",
              "      border-color: transparent;\n",
              "      border-right-color: var(--fill-color);\n",
              "      border-top-color: var(--fill-color);\n",
              "    }\n",
              "    60% {\n",
              "      border-color: transparent;\n",
              "      border-right-color: var(--fill-color);\n",
              "    }\n",
              "    80% {\n",
              "      border-color: transparent;\n",
              "      border-right-color: var(--fill-color);\n",
              "      border-bottom-color: var(--fill-color);\n",
              "    }\n",
              "    90% {\n",
              "      border-color: transparent;\n",
              "      border-bottom-color: var(--fill-color);\n",
              "    }\n",
              "  }\n",
              "</style>\n",
              "\n",
              "  <script>\n",
              "    async function quickchart(key) {\n",
              "      const quickchartButtonEl =\n",
              "        document.querySelector('#' + key + ' button');\n",
              "      quickchartButtonEl.disabled = true;  // To prevent multiple clicks.\n",
              "      quickchartButtonEl.classList.add('colab-df-spinner');\n",
              "      try {\n",
              "        const charts = await google.colab.kernel.invokeFunction(\n",
              "            'suggestCharts', [key], {});\n",
              "      } catch (error) {\n",
              "        console.error('Error during call to suggestCharts:', error);\n",
              "      }\n",
              "      quickchartButtonEl.classList.remove('colab-df-spinner');\n",
              "      quickchartButtonEl.classList.add('colab-df-quickchart-complete');\n",
              "    }\n",
              "    (() => {\n",
              "      let quickchartButtonEl =\n",
              "        document.querySelector('#df-09976b9e-605f-4587-ad26-ad3e6741beed button');\n",
              "      quickchartButtonEl.style.display =\n",
              "        google.colab.kernel.accessAllowed ? 'block' : 'none';\n",
              "    })();\n",
              "  </script>\n",
              "</div>\n",
              "    </div>\n",
              "  </div>\n"
            ]
          },
          "metadata": {},
          "execution_count": 83
        }
      ]
    },
    {
      "cell_type": "code",
      "source": [
        "model_2step_metrics = compute_metrics(test[['user_id', 'item_id']],\n",
        "                                       lfm_ctb_prediction,\n",
        "                                       top_N=10,\n",
        "                                       rank_col='rank_ctb')\n",
        "model_2step_metrics"
      ],
      "metadata": {
        "colab": {
          "base_uri": "https://localhost:8080/"
        },
        "id": "fTh9a9uw_Od5",
        "outputId": "4eec8ded-1edf-45d2-d3e0-074e6830540f"
      },
      "id": "fTh9a9uw_Od5",
      "execution_count": 84,
      "outputs": [
        {
          "output_type": "execute_result",
          "data": {
            "text/plain": [
              "Precision@1     0.050316\n",
              "Recall@1        0.028406\n",
              "Precision@2     0.044182\n",
              "Recall@2        0.049752\n",
              "Precision@3     0.038267\n",
              "Recall@3        0.064209\n",
              "Precision@4     0.033413\n",
              "Recall@4        0.073971\n",
              "Precision@5     0.029906\n",
              "Recall@5        0.081963\n",
              "Precision@6     0.027263\n",
              "Recall@6        0.088719\n",
              "Precision@7     0.025220\n",
              "Recall@7        0.094893\n",
              "Precision@8     0.023558\n",
              "Recall@8        0.100504\n",
              "Precision@9     0.022086\n",
              "Recall@9        0.105457\n",
              "Precision@10    0.020764\n",
              "Recall@10       0.109755\n",
              "MAP@10          0.058452\n",
              "MRR             0.096998\n",
              "dtype: float64"
            ]
          },
          "metadata": {},
          "execution_count": 84
        }
      ]
    },
    {
      "cell_type": "markdown",
      "source": [
        "## Metrics comp"
      ],
      "metadata": {
        "id": "ncdkeWdD_WV2"
      },
      "id": "ncdkeWdD_WV2"
    },
    {
      "cell_type": "code",
      "source": [
        "df_metrics = pd.concat([\n",
        "    pd.DataFrame(lfm_metrics).transpose(),\n",
        "    pd.DataFrame(model_2step_metrics).transpose()\n",
        "])\n",
        "\n",
        "df_metrics.index = ['lightfm', 'hybrid_model']\n",
        "\n",
        "df_metrics"
      ],
      "metadata": {
        "colab": {
          "base_uri": "https://localhost:8080/",
          "height": 161
        },
        "id": "yOIoHr9J_Tyg",
        "outputId": "6ed7d884-2763-4cda-ae97-2b43600e9971"
      },
      "id": "yOIoHr9J_Tyg",
      "execution_count": 87,
      "outputs": [
        {
          "output_type": "execute_result",
          "data": {
            "text/plain": [
              "              Precision@1  Recall@1  Precision@2  Recall@2  Precision@3  \\\n",
              "lightfm          0.026368  0.014886     0.028450  0.032297     0.027301   \n",
              "hybrid_model     0.050316  0.028406     0.044182  0.049752     0.038267   \n",
              "\n",
              "              Recall@3  Precision@4  Recall@4  Precision@5  Recall@5  ...  \\\n",
              "lightfm       0.045816     0.026130  0.057858     0.025293  0.069453  ...   \n",
              "hybrid_model  0.064209     0.033413  0.073971     0.029906  0.081963  ...   \n",
              "\n",
              "              Precision@7  Recall@7  Precision@8  Recall@8  Precision@9  \\\n",
              "lightfm          0.022658  0.085139     0.021538  0.091870     0.020481   \n",
              "hybrid_model     0.025220  0.094893     0.023558  0.100504     0.022086   \n",
              "\n",
              "              Recall@9  Precision@10  Recall@10    MAP@10       MRR  \n",
              "lightfm       0.097381      0.019575   0.102580  0.045139  0.073801  \n",
              "hybrid_model  0.105457      0.020764   0.109755  0.058452  0.096998  \n",
              "\n",
              "[2 rows x 22 columns]"
            ],
            "text/html": [
              "\n",
              "  <div id=\"df-a093d4b7-6c0c-4775-949b-9976d4c32daf\" class=\"colab-df-container\">\n",
              "    <div>\n",
              "<style scoped>\n",
              "    .dataframe tbody tr th:only-of-type {\n",
              "        vertical-align: middle;\n",
              "    }\n",
              "\n",
              "    .dataframe tbody tr th {\n",
              "        vertical-align: top;\n",
              "    }\n",
              "\n",
              "    .dataframe thead th {\n",
              "        text-align: right;\n",
              "    }\n",
              "</style>\n",
              "<table border=\"1\" class=\"dataframe\">\n",
              "  <thead>\n",
              "    <tr style=\"text-align: right;\">\n",
              "      <th></th>\n",
              "      <th>Precision@1</th>\n",
              "      <th>Recall@1</th>\n",
              "      <th>Precision@2</th>\n",
              "      <th>Recall@2</th>\n",
              "      <th>Precision@3</th>\n",
              "      <th>Recall@3</th>\n",
              "      <th>Precision@4</th>\n",
              "      <th>Recall@4</th>\n",
              "      <th>Precision@5</th>\n",
              "      <th>Recall@5</th>\n",
              "      <th>...</th>\n",
              "      <th>Precision@7</th>\n",
              "      <th>Recall@7</th>\n",
              "      <th>Precision@8</th>\n",
              "      <th>Recall@8</th>\n",
              "      <th>Precision@9</th>\n",
              "      <th>Recall@9</th>\n",
              "      <th>Precision@10</th>\n",
              "      <th>Recall@10</th>\n",
              "      <th>MAP@10</th>\n",
              "      <th>MRR</th>\n",
              "    </tr>\n",
              "  </thead>\n",
              "  <tbody>\n",
              "    <tr>\n",
              "      <th>lightfm</th>\n",
              "      <td>0.026368</td>\n",
              "      <td>0.014886</td>\n",
              "      <td>0.028450</td>\n",
              "      <td>0.032297</td>\n",
              "      <td>0.027301</td>\n",
              "      <td>0.045816</td>\n",
              "      <td>0.026130</td>\n",
              "      <td>0.057858</td>\n",
              "      <td>0.025293</td>\n",
              "      <td>0.069453</td>\n",
              "      <td>...</td>\n",
              "      <td>0.022658</td>\n",
              "      <td>0.085139</td>\n",
              "      <td>0.021538</td>\n",
              "      <td>0.091870</td>\n",
              "      <td>0.020481</td>\n",
              "      <td>0.097381</td>\n",
              "      <td>0.019575</td>\n",
              "      <td>0.102580</td>\n",
              "      <td>0.045139</td>\n",
              "      <td>0.073801</td>\n",
              "    </tr>\n",
              "    <tr>\n",
              "      <th>hybrid_model</th>\n",
              "      <td>0.050316</td>\n",
              "      <td>0.028406</td>\n",
              "      <td>0.044182</td>\n",
              "      <td>0.049752</td>\n",
              "      <td>0.038267</td>\n",
              "      <td>0.064209</td>\n",
              "      <td>0.033413</td>\n",
              "      <td>0.073971</td>\n",
              "      <td>0.029906</td>\n",
              "      <td>0.081963</td>\n",
              "      <td>...</td>\n",
              "      <td>0.025220</td>\n",
              "      <td>0.094893</td>\n",
              "      <td>0.023558</td>\n",
              "      <td>0.100504</td>\n",
              "      <td>0.022086</td>\n",
              "      <td>0.105457</td>\n",
              "      <td>0.020764</td>\n",
              "      <td>0.109755</td>\n",
              "      <td>0.058452</td>\n",
              "      <td>0.096998</td>\n",
              "    </tr>\n",
              "  </tbody>\n",
              "</table>\n",
              "<p>2 rows × 22 columns</p>\n",
              "</div>\n",
              "    <div class=\"colab-df-buttons\">\n",
              "\n",
              "  <div class=\"colab-df-container\">\n",
              "    <button class=\"colab-df-convert\" onclick=\"convertToInteractive('df-a093d4b7-6c0c-4775-949b-9976d4c32daf')\"\n",
              "            title=\"Convert this dataframe to an interactive table.\"\n",
              "            style=\"display:none;\">\n",
              "\n",
              "  <svg xmlns=\"http://www.w3.org/2000/svg\" height=\"24px\" viewBox=\"0 -960 960 960\">\n",
              "    <path d=\"M120-120v-720h720v720H120Zm60-500h600v-160H180v160Zm220 220h160v-160H400v160Zm0 220h160v-160H400v160ZM180-400h160v-160H180v160Zm440 0h160v-160H620v160ZM180-180h160v-160H180v160Zm440 0h160v-160H620v160Z\"/>\n",
              "  </svg>\n",
              "    </button>\n",
              "\n",
              "  <style>\n",
              "    .colab-df-container {\n",
              "      display:flex;\n",
              "      gap: 12px;\n",
              "    }\n",
              "\n",
              "    .colab-df-convert {\n",
              "      background-color: #E8F0FE;\n",
              "      border: none;\n",
              "      border-radius: 50%;\n",
              "      cursor: pointer;\n",
              "      display: none;\n",
              "      fill: #1967D2;\n",
              "      height: 32px;\n",
              "      padding: 0 0 0 0;\n",
              "      width: 32px;\n",
              "    }\n",
              "\n",
              "    .colab-df-convert:hover {\n",
              "      background-color: #E2EBFA;\n",
              "      box-shadow: 0px 1px 2px rgba(60, 64, 67, 0.3), 0px 1px 3px 1px rgba(60, 64, 67, 0.15);\n",
              "      fill: #174EA6;\n",
              "    }\n",
              "\n",
              "    .colab-df-buttons div {\n",
              "      margin-bottom: 4px;\n",
              "    }\n",
              "\n",
              "    [theme=dark] .colab-df-convert {\n",
              "      background-color: #3B4455;\n",
              "      fill: #D2E3FC;\n",
              "    }\n",
              "\n",
              "    [theme=dark] .colab-df-convert:hover {\n",
              "      background-color: #434B5C;\n",
              "      box-shadow: 0px 1px 3px 1px rgba(0, 0, 0, 0.15);\n",
              "      filter: drop-shadow(0px 1px 2px rgba(0, 0, 0, 0.3));\n",
              "      fill: #FFFFFF;\n",
              "    }\n",
              "  </style>\n",
              "\n",
              "    <script>\n",
              "      const buttonEl =\n",
              "        document.querySelector('#df-a093d4b7-6c0c-4775-949b-9976d4c32daf button.colab-df-convert');\n",
              "      buttonEl.style.display =\n",
              "        google.colab.kernel.accessAllowed ? 'block' : 'none';\n",
              "\n",
              "      async function convertToInteractive(key) {\n",
              "        const element = document.querySelector('#df-a093d4b7-6c0c-4775-949b-9976d4c32daf');\n",
              "        const dataTable =\n",
              "          await google.colab.kernel.invokeFunction('convertToInteractive',\n",
              "                                                    [key], {});\n",
              "        if (!dataTable) return;\n",
              "\n",
              "        const docLinkHtml = 'Like what you see? Visit the ' +\n",
              "          '<a target=\"_blank\" href=https://colab.research.google.com/notebooks/data_table.ipynb>data table notebook</a>'\n",
              "          + ' to learn more about interactive tables.';\n",
              "        element.innerHTML = '';\n",
              "        dataTable['output_type'] = 'display_data';\n",
              "        await google.colab.output.renderOutput(dataTable, element);\n",
              "        const docLink = document.createElement('div');\n",
              "        docLink.innerHTML = docLinkHtml;\n",
              "        element.appendChild(docLink);\n",
              "      }\n",
              "    </script>\n",
              "  </div>\n",
              "\n",
              "\n",
              "<div id=\"df-5f7c564f-b9f4-4167-a569-91489ebf7363\">\n",
              "  <button class=\"colab-df-quickchart\" onclick=\"quickchart('df-5f7c564f-b9f4-4167-a569-91489ebf7363')\"\n",
              "            title=\"Suggest charts.\"\n",
              "            style=\"display:none;\">\n",
              "\n",
              "<svg xmlns=\"http://www.w3.org/2000/svg\" height=\"24px\"viewBox=\"0 0 24 24\"\n",
              "     width=\"24px\">\n",
              "    <g>\n",
              "        <path d=\"M19 3H5c-1.1 0-2 .9-2 2v14c0 1.1.9 2 2 2h14c1.1 0 2-.9 2-2V5c0-1.1-.9-2-2-2zM9 17H7v-7h2v7zm4 0h-2V7h2v10zm4 0h-2v-4h2v4z\"/>\n",
              "    </g>\n",
              "</svg>\n",
              "  </button>\n",
              "\n",
              "<style>\n",
              "  .colab-df-quickchart {\n",
              "      --bg-color: #E8F0FE;\n",
              "      --fill-color: #1967D2;\n",
              "      --hover-bg-color: #E2EBFA;\n",
              "      --hover-fill-color: #174EA6;\n",
              "      --disabled-fill-color: #AAA;\n",
              "      --disabled-bg-color: #DDD;\n",
              "  }\n",
              "\n",
              "  [theme=dark] .colab-df-quickchart {\n",
              "      --bg-color: #3B4455;\n",
              "      --fill-color: #D2E3FC;\n",
              "      --hover-bg-color: #434B5C;\n",
              "      --hover-fill-color: #FFFFFF;\n",
              "      --disabled-bg-color: #3B4455;\n",
              "      --disabled-fill-color: #666;\n",
              "  }\n",
              "\n",
              "  .colab-df-quickchart {\n",
              "    background-color: var(--bg-color);\n",
              "    border: none;\n",
              "    border-radius: 50%;\n",
              "    cursor: pointer;\n",
              "    display: none;\n",
              "    fill: var(--fill-color);\n",
              "    height: 32px;\n",
              "    padding: 0;\n",
              "    width: 32px;\n",
              "  }\n",
              "\n",
              "  .colab-df-quickchart:hover {\n",
              "    background-color: var(--hover-bg-color);\n",
              "    box-shadow: 0 1px 2px rgba(60, 64, 67, 0.3), 0 1px 3px 1px rgba(60, 64, 67, 0.15);\n",
              "    fill: var(--button-hover-fill-color);\n",
              "  }\n",
              "\n",
              "  .colab-df-quickchart-complete:disabled,\n",
              "  .colab-df-quickchart-complete:disabled:hover {\n",
              "    background-color: var(--disabled-bg-color);\n",
              "    fill: var(--disabled-fill-color);\n",
              "    box-shadow: none;\n",
              "  }\n",
              "\n",
              "  .colab-df-spinner {\n",
              "    border: 2px solid var(--fill-color);\n",
              "    border-color: transparent;\n",
              "    border-bottom-color: var(--fill-color);\n",
              "    animation:\n",
              "      spin 1s steps(1) infinite;\n",
              "  }\n",
              "\n",
              "  @keyframes spin {\n",
              "    0% {\n",
              "      border-color: transparent;\n",
              "      border-bottom-color: var(--fill-color);\n",
              "      border-left-color: var(--fill-color);\n",
              "    }\n",
              "    20% {\n",
              "      border-color: transparent;\n",
              "      border-left-color: var(--fill-color);\n",
              "      border-top-color: var(--fill-color);\n",
              "    }\n",
              "    30% {\n",
              "      border-color: transparent;\n",
              "      border-left-color: var(--fill-color);\n",
              "      border-top-color: var(--fill-color);\n",
              "      border-right-color: var(--fill-color);\n",
              "    }\n",
              "    40% {\n",
              "      border-color: transparent;\n",
              "      border-right-color: var(--fill-color);\n",
              "      border-top-color: var(--fill-color);\n",
              "    }\n",
              "    60% {\n",
              "      border-color: transparent;\n",
              "      border-right-color: var(--fill-color);\n",
              "    }\n",
              "    80% {\n",
              "      border-color: transparent;\n",
              "      border-right-color: var(--fill-color);\n",
              "      border-bottom-color: var(--fill-color);\n",
              "    }\n",
              "    90% {\n",
              "      border-color: transparent;\n",
              "      border-bottom-color: var(--fill-color);\n",
              "    }\n",
              "  }\n",
              "</style>\n",
              "\n",
              "  <script>\n",
              "    async function quickchart(key) {\n",
              "      const quickchartButtonEl =\n",
              "        document.querySelector('#' + key + ' button');\n",
              "      quickchartButtonEl.disabled = true;  // To prevent multiple clicks.\n",
              "      quickchartButtonEl.classList.add('colab-df-spinner');\n",
              "      try {\n",
              "        const charts = await google.colab.kernel.invokeFunction(\n",
              "            'suggestCharts', [key], {});\n",
              "      } catch (error) {\n",
              "        console.error('Error during call to suggestCharts:', error);\n",
              "      }\n",
              "      quickchartButtonEl.classList.remove('colab-df-spinner');\n",
              "      quickchartButtonEl.classList.add('colab-df-quickchart-complete');\n",
              "    }\n",
              "    (() => {\n",
              "      let quickchartButtonEl =\n",
              "        document.querySelector('#df-5f7c564f-b9f4-4167-a569-91489ebf7363 button');\n",
              "      quickchartButtonEl.style.display =\n",
              "        google.colab.kernel.accessAllowed ? 'block' : 'none';\n",
              "    })();\n",
              "  </script>\n",
              "</div>\n",
              "    </div>\n",
              "  </div>\n"
            ]
          },
          "metadata": {},
          "execution_count": 87
        }
      ]
    },
    {
      "cell_type": "code",
      "source": [
        "fig, axes = plt.subplots(ncols=1, nrows=2, figsize=(7, 15))\n",
        "\n",
        "for indx, metric in enumerate([f'Recall@', f'Precision@']):\n",
        "    for model in df_metrics.index:\n",
        "        axes[indx].plot(range(1, 11),\n",
        "                        df_metrics.loc[model][[metric+f'{k}' for k in range(1, 11)]].values,\n",
        "                        label=model, marker='o')\n",
        "        axes[indx].legend()\n",
        "        axes[indx].set_title(f'{metric}k')\n",
        "        axes[indx].set_xlabel('k')"
      ],
      "metadata": {
        "colab": {
          "base_uri": "https://localhost:8080/",
          "height": 1000
        },
        "id": "oNVkst1V_ZH0",
        "outputId": "39269f07-2291-4bd6-eaaa-9884d60c4253"
      },
      "id": "oNVkst1V_ZH0",
      "execution_count": 88,
      "outputs": [
        {
          "output_type": "display_data",
          "data": {
            "text/plain": [
              "<Figure size 700x1500 with 2 Axes>"
            ],
            "image/png": "[encoded data removed]"
          },
          "metadata": {}
        }
      ]
    },
    {
      "cell_type": "code",
      "source": [],
      "metadata": {
        "id": "Tx2OltxU_dE1"
      },
      "id": "Tx2OltxU_dE1",
      "execution_count": null,
      "outputs": []
    }
  ],
  "metadata": {
    "kernelspec": {
      "display_name": "Python 3 (ipykernel)",
      "language": "python",
      "name": "python3"
    },
    "language_info": {
      "codemirror_mode": {
        "name": "ipython",
        "version": 3
      },
      "file_extension": ".py",
      "mimetype": "text/x-python",
      "name": "python",
      "nbconvert_exporter": "python",
      "pygments_lexer": "ipython3",
      "version": "3.11.5"
    },
    "colab": {
      "provenance": []
    },
    "widgets": {
      "application/vnd.jupyter.widget-state+json": {
        "cb678c57fb28494e98875ddfc1e730b9": {
          "model_module": "@jupyter-widgets/controls",
          "model_name": "HBoxModel",
          "model_module_version": "1.5.0",
          "state": {
            "_dom_classes": [],
            "_model_module": "@jupyter-widgets/controls",
            "_model_module_version": "1.5.0",
            "_model_name": "HBoxModel",
            "_view_count": null,
            "_view_module": "@jupyter-widgets/controls",
            "_view_module_version": "1.5.0",
            "_view_name": "HBoxView",
            "box_style": "",
            "children": [
              "IPY_MODEL_ae44c344f15a47079b88ab350aa9a44e",
              "IPY_MODEL_5f37471951054fdeb1546dea9f185b3a",
              "IPY_MODEL_e16fa34eec4b43a18d7db6f86741b3e8"
            ],
            "layout": "IPY_MODEL_b508a8a892a6459abba4f1ddc5a84174"
          }
        },
        "ae44c344f15a47079b88ab350aa9a44e": {
          "model_module": "@jupyter-widgets/controls",
          "model_name": "HTMLModel",
          "model_module_version": "1.5.0",
          "state": {
            "_dom_classes": [],
            "_model_module": "@jupyter-widgets/controls",
            "_model_module_version": "1.5.0",
            "_model_name": "HTMLModel",
            "_view_count": null,
            "_view_module": "@jupyter-widgets/controls",
            "_view_module_version": "1.5.0",
            "_view_name": "HTMLView",
            "description": "",
            "description_tooltip": null,
            "layout": "IPY_MODEL_0f575d43d6fd4e868233848730082d1d",
            "placeholder": "​",
            "style": "IPY_MODEL_3b2b4c7f58404abb94aa9fbc8362ac04",
            "value": "100%"
          }
        },
        "5f37471951054fdeb1546dea9f185b3a": {
          "model_module": "@jupyter-widgets/controls",
          "model_name": "FloatProgressModel",
          "model_module_version": "1.5.0",
          "state": {
            "_dom_classes": [],
            "_model_module": "@jupyter-widgets/controls",
            "_model_module_version": "1.5.0",
            "_model_name": "FloatProgressModel",
            "_view_count": null,
            "_view_module": "@jupyter-widgets/controls",
            "_view_module_version": "1.5.0",
            "_view_name": "ProgressView",
            "bar_style": "success",
            "description": "",
            "description_tooltip": null,
            "layout": "IPY_MODEL_2757855d42cb4437812bcc6e051383c0",
            "max": 20,
            "min": 0,
            "orientation": "horizontal",
            "style": "IPY_MODEL_2cfde6bb1dbb4a2d9a7e1c2a3b32d7bd",
            "value": 20
          }
        },
        "e16fa34eec4b43a18d7db6f86741b3e8": {
          "model_module": "@jupyter-widgets/controls",
          "model_name": "HTMLModel",
          "model_module_version": "1.5.0",
          "state": {
            "_dom_classes": [],
            "_model_module": "@jupyter-widgets/controls",
            "_model_module_version": "1.5.0",
            "_model_name": "HTMLModel",
            "_view_count": null,
            "_view_module": "@jupyter-widgets/controls",
            "_view_module_version": "1.5.0",
            "_view_name": "HTMLView",
            "description": "",
            "description_tooltip": null,
            "layout": "IPY_MODEL_ed7a0d5ec837452a9c052bcd369a22a0",
            "placeholder": "​",
            "style": "IPY_MODEL_a06f3124bfdb4abc9ae9c8d2cef3c54a",
            "value": " 20/20 [01:52&lt;00:00,  6.57s/it]"
          }
        },
        "b508a8a892a6459abba4f1ddc5a84174": {
          "model_module": "@jupyter-widgets/base",
          "model_name": "LayoutModel",
          "model_module_version": "1.2.0",
          "state": {
            "_model_module": "@jupyter-widgets/base",
            "_model_module_version": "1.2.0",
            "_model_name": "LayoutModel",
            "_view_count": null,
            "_view_module": "@jupyter-widgets/base",
            "_view_module_version": "1.2.0",
            "_view_name": "LayoutView",
            "align_content": null,
            "align_items": null,
            "align_self": null,
            "border": null,
            "bottom": null,
            "display": null,
            "flex": null,
            "flex_flow": null,
            "grid_area": null,
            "grid_auto_columns": null,
            "grid_auto_flow": null,
            "grid_auto_rows": null,
            "grid_column": null,
            "grid_gap": null,
            "grid_row": null,
            "grid_template_areas": null,
            "grid_template_columns": null,
            "grid_template_rows": null,
            "height": null,
            "justify_content": null,
            "justify_items": null,
            "left": null,
            "margin": null,
            "max_height": null,
            "max_width": null,
            "min_height": null,
            "min_width": null,
            "object_fit": null,
            "object_position": null,
            "order": null,
            "overflow": null,
            "overflow_x": null,
            "overflow_y": null,
            "padding": null,
            "right": null,
            "top": null,
            "visibility": null,
            "width": null
          }
        },
        "0f575d43d6fd4e868233848730082d1d": {
          "model_module": "@jupyter-widgets/base",
          "model_name": "LayoutModel",
          "model_module_version": "1.2.0",
          "state": {
            "_model_module": "@jupyter-widgets/base",
            "_model_module_version": "1.2.0",
            "_model_name": "LayoutModel",
            "_view_count": null,
            "_view_module": "@jupyter-widgets/base",
            "_view_module_version": "1.2.0",
            "_view_name": "LayoutView",
            "align_content": null,
            "align_items": null,
            "align_self": null,
            "border": null,
            "bottom": null,
            "display": null,
            "flex": null,
            "flex_flow": null,
            "grid_area": null,
            "grid_auto_columns": null,
            "grid_auto_flow": null,
            "grid_auto_rows": null,
            "grid_column": null,
            "grid_gap": null,
            "grid_row": null,
            "grid_template_areas": null,
            "grid_template_columns": null,
            "grid_template_rows": null,
            "height": null,
            "justify_content": null,
            "justify_items": null,
            "left": null,
            "margin": null,
            "max_height": null,
            "max_width": null,
            "min_height": null,
            "min_width": null,
            "object_fit": null,
            "object_position": null,
            "order": null,
            "overflow": null,
            "overflow_x": null,
            "overflow_y": null,
            "padding": null,
            "right": null,
            "top": null,
            "visibility": null,
            "width": null
          }
        },
        "3b2b4c7f58404abb94aa9fbc8362ac04": {
          "model_module": "@jupyter-widgets/controls",
          "model_name": "DescriptionStyleModel",
          "model_module_version": "1.5.0",
          "state": {
            "_model_module": "@jupyter-widgets/controls",
            "_model_module_version": "1.5.0",
            "_model_name": "DescriptionStyleModel",
            "_view_count": null,
            "_view_module": "@jupyter-widgets/base",
            "_view_module_version": "1.2.0",
            "_view_name": "StyleView",
            "description_width": ""
          }
        },
        "2757855d42cb4437812bcc6e051383c0": {
          "model_module": "@jupyter-widgets/base",
          "model_name": "LayoutModel",
          "model_module_version": "1.2.0",
          "state": {
            "_model_module": "@jupyter-widgets/base",
            "_model_module_version": "1.2.0",
            "_model_name": "LayoutModel",
            "_view_count": null,
            "_view_module": "@jupyter-widgets/base",
            "_view_module_version": "1.2.0",
            "_view_name": "LayoutView",
            "align_content": null,
            "align_items": null,
            "align_self": null,
            "border": null,
            "bottom": null,
            "display": null,
            "flex": null,
            "flex_flow": null,
            "grid_area": null,
            "grid_auto_columns": null,
            "grid_auto_flow": null,
            "grid_auto_rows": null,
            "grid_column": null,
            "grid_gap": null,
            "grid_row": null,
            "grid_template_areas": null,
            "grid_template_columns": null,
            "grid_template_rows": null,
            "height": null,
            "justify_content": null,
            "justify_items": null,
            "left": null,
            "margin": null,
            "max_height": null,
            "max_width": null,
            "min_height": null,
            "min_width": null,
            "object_fit": null,
            "object_position": null,
            "order": null,
            "overflow": null,
            "overflow_x": null,
            "overflow_y": null,
            "padding": null,
            "right": null,
            "top": null,
            "visibility": null,
            "width": null
          }
        },
        "2cfde6bb1dbb4a2d9a7e1c2a3b32d7bd": {
          "model_module": "@jupyter-widgets/controls",
          "model_name": "ProgressStyleModel",
          "model_module_version": "1.5.0",
          "state": {
            "_model_module": "@jupyter-widgets/controls",
            "_model_module_version": "1.5.0",
            "_model_name": "ProgressStyleModel",
            "_view_count": null,
            "_view_module": "@jupyter-widgets/base",
            "_view_module_version": "1.2.0",
            "_view_name": "StyleView",
            "bar_color": null,
            "description_width": ""
          }
        },
        "ed7a0d5ec837452a9c052bcd369a22a0": {
          "model_module": "@jupyter-widgets/base",
          "model_name": "LayoutModel",
          "model_module_version": "1.2.0",
          "state": {
            "_model_module": "@jupyter-widgets/base",
            "_model_module_version": "1.2.0",
            "_model_name": "LayoutModel",
            "_view_count": null,
            "_view_module": "@jupyter-widgets/base",
            "_view_module_version": "1.2.0",
            "_view_name": "LayoutView",
            "align_content": null,
            "align_items": null,
            "align_self": null,
            "border": null,
            "bottom": null,
            "display": null,
            "flex": null,
            "flex_flow": null,
            "grid_area": null,
            "grid_auto_columns": null,
            "grid_auto_flow": null,
            "grid_auto_rows": null,
            "grid_column": null,
            "grid_gap": null,
            "grid_row": null,
            "grid_template_areas": null,
            "grid_template_columns": null,
            "grid_template_rows": null,
            "height": null,
            "justify_content": null,
            "justify_items": null,
            "left": null,
            "margin": null,
            "max_height": null,
            "max_width": null,
            "min_height": null,
            "min_width": null,
            "object_fit": null,
            "object_position": null,
            "order": null,
            "overflow": null,
            "overflow_x": null,
            "overflow_y": null,
            "padding": null,
            "right": null,
            "top": null,
            "visibility": null,
            "width": null
          }
        },
        "a06f3124bfdb4abc9ae9c8d2cef3c54a": {
          "model_module": "@jupyter-widgets/controls",
          "model_name": "DescriptionStyleModel",
          "model_module_version": "1.5.0",
          "state": {
            "_model_module": "@jupyter-widgets/controls",
            "_model_module_version": "1.5.0",
            "_model_name": "DescriptionStyleModel",
            "_view_count": null,
            "_view_module": "@jupyter-widgets/base",
            "_view_module_version": "1.2.0",
            "_view_name": "StyleView",
            "description_width": ""
          }
        },
        "b2186d40cdfa4128b541a8cf0d6b426c": {
          "model_module": "catboost-widget",
          "model_name": "CatboostWidgetModel",
          "model_module_version": "^1.0.0",
          "state": {
            "_dom_classes": [],
            "_model_module": "catboost-widget",
            "_model_module_version": "^1.0.0",
            "_model_name": "CatboostWidgetModel",
            "_view_count": null,
            "_view_module": "catboost-widget",
            "_view_module_version": "^1.0.0",
            "_view_name": "CatboostWidgetView",
            "data": {
              "catboost_info": {
                "path": "catboost_info",
                "name": "catboost_info",
                "content": {
                  "passed_iterations": 733,
                  "total_iterations": 2000,
                  "data": {
                    "iterations": [
                      {
                        "learn": [
                          0.6740664993
                        ],
                        "iteration": 0,
                        "passed_time": 0.3126431522,
                        "remaining_time": 624.9736613,
                        "test": [
                          0.6744928771
                        ]
                      },
                      {
                        "learn": [
                          0.6535750553
                        ],
                        "iteration": 1,
                        "passed_time": 0.5647261875,
                        "remaining_time": 564.1614613,
                        "test": [
                          0.6545213065
                        ]
                      },
                      {
                        "learn": [
                          0.6369891771
                        ],
                        "iteration": 2,
                        "passed_time": 0.8795356734,
                        "remaining_time": 585.4775799,
                        "test": [
                          0.6383669691
                        ]
                      },
                      {
                        "learn": [
                          0.6239854599
                        ],
                        "iteration": 3,
                        "passed_time": 1.119702211,
                        "remaining_time": 558.7314032,
                        "test": [
                          0.6257310162
                        ]
                      },
                      {
                        "learn": [
                          0.6135630232
                        ],
                        "iteration": 4,
                        "passed_time": 1.385371614,
                        "remaining_time": 552.7632741,
                        "test": [
                          0.6155395714
                        ]
                      },
                      {
                        "learn": [
                          0.6050398316
                        ],
                        "iteration": 5,
                        "passed_time": 1.878531502,
                        "remaining_time": 624.2986359,
                        "test": [
                          0.6073339356
                        ]
                      },
                      {
                        "learn": [
                          0.5980984406
                        ],
                        "iteration": 6,
                        "passed_time": 2.455495291,
                        "remaining_time": 699.1145878,
                        "test": [
                          0.6006843627
                        ]
                      },
                      {
                        "learn": [
                          0.5924164176
                        ],
                        "iteration": 7,
                        "passed_time": 2.939225641,
                        "remaining_time": 731.8671846,
                        "test": [
                          0.5951698658
                        ]
                      },
                      {
                        "learn": [
                          0.5876917892
                        ],
                        "iteration": 8,
                        "passed_time": 3.294460501,
                        "remaining_time": 728.8078731,
                        "test": [
                          0.5904877485
                        ]
                      },
                      {
                        "learn": [
                          0.5841175611
                        ],
                        "iteration": 9,
                        "passed_time": 3.795292032,
                        "remaining_time": 755.2631144,
                        "test": [
                          0.5870691667
                        ]
                      },
                      {
                        "learn": [
                          0.5812617747
                        ],
                        "iteration": 10,
                        "passed_time": 4.333357651,
                        "remaining_time": 783.5498516,
                        "test": [
                          0.5843459381
                        ]
                      },
                      {
                        "learn": [
                          0.5787976131
                        ],
                        "iteration": 11,
                        "passed_time": 5.080482274,
                        "remaining_time": 841.6665633,
                        "test": [
                          0.5819181422
                        ]
                      },
                      {
                        "learn": [
                          0.5765955214
                        ],
                        "iteration": 12,
                        "passed_time": 5.692720752,
                        "remaining_time": 870.1104719,
                        "test": [
                          0.5797768205
                        ]
                      },
                      {
                        "learn": [
                          0.574926903
                        ],
                        "iteration": 13,
                        "passed_time": 6.24650076,
                        "remaining_time": 886.1107507,
                        "test": [
                          0.5782273555
                        ]
                      },
                      {
                        "learn": [
                          0.5733918006
                        ],
                        "iteration": 14,
                        "passed_time": 6.763336779,
                        "remaining_time": 895.0149004,
                        "test": [
                          0.5767741877
                        ]
                      },
                      {
                        "learn": [
                          0.5722304207
                        ],
                        "iteration": 15,
                        "passed_time": 7.358297644,
                        "remaining_time": 912.4289079,
                        "test": [
                          0.5755979284
                        ]
                      },
                      {
                        "learn": [
                          0.5711874697
                        ],
                        "iteration": 16,
                        "passed_time": 7.864833211,
                        "remaining_time": 917.4096622,
                        "test": [
                          0.5746355171
                        ]
                      },
                      {
                        "learn": [
                          0.570527472
                        ],
                        "iteration": 17,
                        "passed_time": 8.376099391,
                        "remaining_time": 922.3016107,
                        "test": [
                          0.5740362257
                        ]
                      },
                      {
                        "learn": [
                          0.569757569
                        ],
                        "iteration": 18,
                        "passed_time": 8.803709802,
                        "remaining_time": 917.9025851,
                        "test": [
                          0.5732857013
                        ]
                      },
                      {
                        "learn": [
                          0.5689764146
                        ],
                        "iteration": 19,
                        "passed_time": 9.67049205,
                        "remaining_time": 957.378713,
                        "test": [
                          0.5725361498
                        ]
                      },
                      {
                        "learn": [
                          0.5684955932
                        ],
                        "iteration": 20,
                        "passed_time": 10.10841814,
                        "remaining_time": 952.5980716,
                        "test": [
                          0.57206085
                        ]
                      },
                      {
                        "learn": [
                          0.5680900435
                        ],
                        "iteration": 21,
                        "passed_time": 10.38849667,
                        "remaining_time": 934.0202918,
                        "test": [
                          0.5717147747
                        ]
                      },
                      {
                        "learn": [
                          0.5675459875
                        ],
                        "iteration": 22,
                        "passed_time": 10.85569514,
                        "remaining_time": 933.1177953,
                        "test": [
                          0.5712137259
                        ]
                      },
                      {
                        "learn": [
                          0.5672009858
                        ],
                        "iteration": 23,
                        "passed_time": 11.21398666,
                        "remaining_time": 923.284902,
                        "test": [
                          0.5708787895
                        ]
                      },
                      {
                        "learn": [
                          0.5669254524
                        ],
                        "iteration": 24,
                        "passed_time": 11.61865905,
                        "remaining_time": 917.8740647,
                        "test": [
                          0.5706089882
                        ]
                      },
                      {
                        "learn": [
                          0.5666544234
                        ],
                        "iteration": 25,
                        "passed_time": 11.92343944,
                        "remaining_time": 905.2642102,
                        "test": [
                          0.5703906409
                        ]
                      },
                      {
                        "learn": [
                          0.5664713575
                        ],
                        "iteration": 26,
                        "passed_time": 12.34111425,
                        "remaining_time": 901.8154968,
                        "test": [
                          0.5702053309
                        ]
                      },
                      {
                        "learn": [
                          0.5663126955
                        ],
                        "iteration": 27,
                        "passed_time": 12.81770733,
                        "remaining_time": 902.7328164,
                        "test": [
                          0.5700410928
                        ]
                      },
                      {
                        "learn": [
                          0.5661123195
                        ],
                        "iteration": 28,
                        "passed_time": 13.14482082,
                        "remaining_time": 893.3945462,
                        "test": [
                          0.5698676533
                        ]
                      },
                      {
                        "learn": [
                          0.5659561105
                        ],
                        "iteration": 29,
                        "passed_time": 13.58973305,
                        "remaining_time": 892.3924706,
                        "test": [
                          0.5697458201
                        ]
                      },
                      {
                        "learn": [
                          0.5657722152
                        ],
                        "iteration": 30,
                        "passed_time": 14.01239394,
                        "remaining_time": 890.0130214,
                        "test": [
                          0.5695407575
                        ]
                      },
                      {
                        "learn": [
                          0.5656488755
                        ],
                        "iteration": 31,
                        "passed_time": 14.47462604,
                        "remaining_time": 890.1895016,
                        "test": [
                          0.5694354849
                        ]
                      },
                      {
                        "learn": [
                          0.5653333056
                        ],
                        "iteration": 32,
                        "passed_time": 15.1050627,
                        "remaining_time": 900.353283,
                        "test": [
                          0.569135101
                        ]
                      },
                      {
                        "learn": [
                          0.5652392967
                        ],
                        "iteration": 33,
                        "passed_time": 15.92395269,
                        "remaining_time": 920.779147,
                        "test": [
                          0.5690226046
                        ]
                      },
                      {
                        "learn": [
                          0.5651426707
                        ],
                        "iteration": 34,
                        "passed_time": 16.52965244,
                        "remaining_time": 928.0219153,
                        "test": [
                          0.568911473
                        ]
                      },
                      {
                        "learn": [
                          0.5649284928
                        ],
                        "iteration": 35,
                        "passed_time": 16.99060087,
                        "remaining_time": 926.9316696,
                        "test": [
                          0.5687233503
                        ]
                      },
                      {
                        "learn": [
                          0.5647112407
                        ],
                        "iteration": 36,
                        "passed_time": 17.49809447,
                        "remaining_time": 928.3448498,
                        "test": [
                          0.5684783858
                        ]
                      },
                      {
                        "learn": [
                          0.5644049097
                        ],
                        "iteration": 37,
                        "passed_time": 17.91415962,
                        "remaining_time": 924.9363467,
                        "test": [
                          0.568160274
                        ]
                      },
                      {
                        "learn": [
                          0.5643112857
                        ],
                        "iteration": 38,
                        "passed_time": 18.18943694,
                        "remaining_time": 914.6022009,
                        "test": [
                          0.5680243775
                        ]
                      },
                      {
                        "learn": [
                          0.5642131103
                        ],
                        "iteration": 39,
                        "passed_time": 18.4574923,
                        "remaining_time": 904.4171228,
                        "test": [
                          0.5679386832
                        ]
                      },
                      {
                        "learn": [
                          0.5640109597
                        ],
                        "iteration": 40,
                        "passed_time": 18.74195626,
                        "remaining_time": 895.4998126,
                        "test": [
                          0.5677430786
                        ]
                      },
                      {
                        "learn": [
                          0.5639667329
                        ],
                        "iteration": 41,
                        "passed_time": 18.98981037,
                        "remaining_time": 885.2868739,
                        "test": [
                          0.5676653332
                        ]
                      },
                      {
                        "learn": [
                          0.5638362469
                        ],
                        "iteration": 42,
                        "passed_time": 19.28315423,
                        "remaining_time": 877.6077402,
                        "test": [
                          0.5675153936
                        ]
                      },
                      {
                        "learn": [
                          0.5637642094
                        ],
                        "iteration": 43,
                        "passed_time": 19.58225537,
                        "remaining_time": 870.5202613,
                        "test": [
                          0.5674470132
                        ]
                      },
                      {
                        "learn": [
                          0.5637202433
                        ],
                        "iteration": 44,
                        "passed_time": 19.82775953,
                        "remaining_time": 861.4059974,
                        "test": [
                          0.56741911
                        ]
                      },
                      {
                        "learn": [
                          0.5636173846
                        ],
                        "iteration": 45,
                        "passed_time": 20.08679282,
                        "remaining_time": 853.2520254,
                        "test": [
                          0.5673322132
                        ]
                      },
                      {
                        "learn": [
                          0.5633842471
                        ],
                        "iteration": 46,
                        "passed_time": 20.39381634,
                        "remaining_time": 847.4281554,
                        "test": [
                          0.5671011019
                        ]
                      },
                      {
                        "learn": [
                          0.5630938435
                        ],
                        "iteration": 47,
                        "passed_time": 20.68029299,
                        "remaining_time": 840.9985814,
                        "test": [
                          0.5668098666
                        ]
                      },
                      {
                        "learn": [
                          0.5630179554
                        ],
                        "iteration": 48,
                        "passed_time": 20.89891015,
                        "remaining_time": 832.1178307,
                        "test": [
                          0.5667427602
                        ]
                      },
                      {
                        "learn": [
                          0.5629855422
                        ],
                        "iteration": 49,
                        "passed_time": 21.14298233,
                        "remaining_time": 824.576311,
                        "test": [
                          0.5666856779
                        ]
                      },
                      {
                        "learn": [
                          0.5629701069
                        ],
                        "iteration": 50,
                        "passed_time": 21.35399781,
                        "remaining_time": 816.0576811,
                        "test": [
                          0.5666685831
                        ]
                      },
                      {
                        "learn": [
                          0.5627635942
                        ],
                        "iteration": 51,
                        "passed_time": 21.66603532,
                        "remaining_time": 811.6430154,
                        "test": [
                          0.5664621346
                        ]
                      },
                      {
                        "learn": [
                          0.5627451718
                        ],
                        "iteration": 52,
                        "passed_time": 21.92264984,
                        "remaining_time": 805.3471553,
                        "test": [
                          0.5664430418
                        ]
                      },
                      {
                        "learn": [
                          0.5626821885
                        ],
                        "iteration": 53,
                        "passed_time": 22.18430291,
                        "remaining_time": 799.4565456,
                        "test": [
                          0.5663567957
                        ]
                      },
                      {
                        "learn": [
                          0.5625796417
                        ],
                        "iteration": 54,
                        "passed_time": 22.46660783,
                        "remaining_time": 794.5009498,
                        "test": [
                          0.5662550936
                        ]
                      },
                      {
                        "learn": [
                          0.5625441668
                        ],
                        "iteration": 55,
                        "passed_time": 22.68766139,
                        "remaining_time": 787.5859596,
                        "test": [
                          0.5662239173
                        ]
                      },
                      {
                        "learn": [
                          0.5625354031
                        ],
                        "iteration": 56,
                        "passed_time": 22.87393294,
                        "remaining_time": 779.7202052,
                        "test": [
                          0.5662262011
                        ]
                      },
                      {
                        "learn": [
                          0.562388636
                        ],
                        "iteration": 57,
                        "passed_time": 23.15035095,
                        "remaining_time": 775.1376127,
                        "test": [
                          0.5660557551
                        ]
                      },
                      {
                        "learn": [
                          0.5623406715
                        ],
                        "iteration": 58,
                        "passed_time": 23.44289317,
                        "remaining_time": 771.2314515,
                        "test": [
                          0.5660222608
                        ]
                      },
                      {
                        "learn": [
                          0.562338399
                        ],
                        "iteration": 59,
                        "passed_time": 23.60092529,
                        "remaining_time": 763.0965842,
                        "test": [
                          0.5660204317
                        ]
                      },
                      {
                        "learn": [
                          0.5623180712
                        ],
                        "iteration": 60,
                        "passed_time": 23.82199763,
                        "remaining_time": 757.2271051,
                        "test": [
                          0.5660103129
                        ]
                      },
                      {
                        "learn": [
                          0.5623086301
                        ],
                        "iteration": 61,
                        "passed_time": 24.12318796,
                        "remaining_time": 754.0441657,
                        "test": [
                          0.5660105971
                        ]
                      },
                      {
                        "learn": [
                          0.5622392422
                        ],
                        "iteration": 62,
                        "passed_time": 24.40388038,
                        "remaining_time": 750.322481,
                        "test": [
                          0.5659327213
                        ]
                      },
                      {
                        "learn": [
                          0.5620663909
                        ],
                        "iteration": 63,
                        "passed_time": 24.67891528,
                        "remaining_time": 746.5371872,
                        "test": [
                          0.5657442176
                        ]
                      },
                      {
                        "learn": [
                          0.5620194914
                        ],
                        "iteration": 64,
                        "passed_time": 24.9909109,
                        "remaining_time": 743.9601937,
                        "test": [
                          0.5656669681
                        ]
                      },
                      {
                        "learn": [
                          0.5619977361
                        ],
                        "iteration": 65,
                        "passed_time": 25.30494556,
                        "remaining_time": 741.5115866,
                        "test": [
                          0.5656512257
                        ]
                      },
                      {
                        "learn": [
                          0.5619663605
                        ],
                        "iteration": 66,
                        "passed_time": 25.51692058,
                        "remaining_time": 736.1822013,
                        "test": [
                          0.5655965969
                        ]
                      },
                      {
                        "learn": [
                          0.5619176112
                        ],
                        "iteration": 67,
                        "passed_time": 25.74773168,
                        "remaining_time": 731.5384941,
                        "test": [
                          0.565546769
                        ]
                      },
                      {
                        "learn": [
                          0.5619046091
                        ],
                        "iteration": 68,
                        "passed_time": 25.98926864,
                        "remaining_time": 727.322866,
                        "test": [
                          0.5655451615
                        ]
                      },
                      {
                        "learn": [
                          0.561889321
                        ],
                        "iteration": 69,
                        "passed_time": 26.26761511,
                        "remaining_time": 724.2356737,
                        "test": [
                          0.5655324577
                        ]
                      },
                      {
                        "learn": [
                          0.5617659916
                        ],
                        "iteration": 70,
                        "passed_time": 26.51270189,
                        "remaining_time": 720.3239711,
                        "test": [
                          0.5654092948
                        ]
                      },
                      {
                        "learn": [
                          0.5616787075
                        ],
                        "iteration": 71,
                        "passed_time": 26.80216836,
                        "remaining_time": 717.7025082,
                        "test": [
                          0.5653149229
                        ]
                      },
                      {
                        "learn": [
                          0.5616392158
                        ],
                        "iteration": 72,
                        "passed_time": 27.03215561,
                        "remaining_time": 713.5748474,
                        "test": [
                          0.5652822396
                        ]
                      },
                      {
                        "learn": [
                          0.5614900423
                        ],
                        "iteration": 73,
                        "passed_time": 27.32239784,
                        "remaining_time": 711.120787,
                        "test": [
                          0.5651210405
                        ]
                      },
                      {
                        "learn": [
                          0.5614620299
                        ],
                        "iteration": 74,
                        "passed_time": 27.54971253,
                        "remaining_time": 707.1092883,
                        "test": [
                          0.5651043958
                        ]
                      },
                      {
                        "learn": [
                          0.5614185773
                        ],
                        "iteration": 75,
                        "passed_time": 27.79688834,
                        "remaining_time": 703.7001732,
                        "test": [
                          0.56506627
                        ]
                      },
                      {
                        "learn": [
                          0.5613149699
                        ],
                        "iteration": 76,
                        "passed_time": 28.2694572,
                        "remaining_time": 706.0021583,
                        "test": [
                          0.564951797
                        ]
                      },
                      {
                        "learn": [
                          0.5612967454
                        ],
                        "iteration": 77,
                        "passed_time": 28.72432691,
                        "remaining_time": 707.796876,
                        "test": [
                          0.5649178061
                        ]
                      },
                      {
                        "learn": [
                          0.5611337311
                        ],
                        "iteration": 78,
                        "passed_time": 29.21447197,
                        "remaining_time": 710.3924132,
                        "test": [
                          0.5647570003
                        ]
                      },
                      {
                        "learn": [
                          0.5611292883
                        ],
                        "iteration": 79,
                        "passed_time": 29.61360643,
                        "remaining_time": 710.7265542,
                        "test": [
                          0.5647515201
                        ]
                      },
                      {
                        "learn": [
                          0.5611149622
                        ],
                        "iteration": 80,
                        "passed_time": 30.04825794,
                        "remaining_time": 711.8840368,
                        "test": [
                          0.5647471791
                        ]
                      },
                      {
                        "learn": [
                          0.5611123885
                        ],
                        "iteration": 81,
                        "passed_time": 30.41800288,
                        "remaining_time": 711.4845064,
                        "test": [
                          0.5647452553
                        ]
                      },
                      {
                        "learn": [
                          0.5610800072
                        ],
                        "iteration": 82,
                        "passed_time": 30.8397094,
                        "remaining_time": 712.2858182,
                        "test": [
                          0.5647278997
                        ]
                      },
                      {
                        "learn": [
                          0.5610766854
                        ],
                        "iteration": 83,
                        "passed_time": 30.97397663,
                        "remaining_time": 706.5016575,
                        "test": [
                          0.564718499
                        ]
                      },
                      {
                        "learn": [
                          0.5610355728
                        ],
                        "iteration": 84,
                        "passed_time": 31.2435939,
                        "remaining_time": 703.8997919,
                        "test": [
                          0.564665299
                        ]
                      },
                      {
                        "learn": [
                          0.5610183342
                        ],
                        "iteration": 85,
                        "passed_time": 31.49482622,
                        "remaining_time": 700.9429928,
                        "test": [
                          0.5646495295
                        ]
                      },
                      {
                        "learn": [
                          0.5609928842
                        ],
                        "iteration": 86,
                        "passed_time": 31.74272268,
                        "remaining_time": 697.9750402,
                        "test": [
                          0.5646233129
                        ]
                      },
                      {
                        "learn": [
                          0.560982957
                        ],
                        "iteration": 87,
                        "passed_time": 31.98428157,
                        "remaining_time": 694.9312086,
                        "test": [
                          0.5646195332
                        ]
                      },
                      {
                        "learn": [
                          0.5609558784
                        ],
                        "iteration": 88,
                        "passed_time": 32.18916962,
                        "remaining_time": 691.1629566,
                        "test": [
                          0.5645763361
                        ]
                      },
                      {
                        "learn": [
                          0.5609367495
                        ],
                        "iteration": 89,
                        "passed_time": 32.45837239,
                        "remaining_time": 688.8387919,
                        "test": [
                          0.5645581202
                        ]
                      },
                      {
                        "learn": [
                          0.5609250536
                        ],
                        "iteration": 90,
                        "passed_time": 32.64630366,
                        "remaining_time": 684.8548758,
                        "test": [
                          0.5645510371
                        ]
                      },
                      {
                        "learn": [
                          0.5609050072
                        ],
                        "iteration": 91,
                        "passed_time": 32.90675882,
                        "remaining_time": 682.4575633,
                        "test": [
                          0.5645282911
                        ]
                      },
                      {
                        "learn": [
                          0.560871104
                        ],
                        "iteration": 92,
                        "passed_time": 33.15470979,
                        "remaining_time": 679.8498018,
                        "test": [
                          0.5644944218
                        ]
                      },
                      {
                        "learn": [
                          0.5608560946
                        ],
                        "iteration": 93,
                        "passed_time": 33.43167157,
                        "remaining_time": 677.8804895,
                        "test": [
                          0.5644758881
                        ]
                      },
                      {
                        "learn": [
                          0.560849316
                        ],
                        "iteration": 94,
                        "passed_time": 33.63262077,
                        "remaining_time": 674.4225532,
                        "test": [
                          0.5644789013
                        ]
                      },
                      {
                        "learn": [
                          0.5608177381
                        ],
                        "iteration": 95,
                        "passed_time": 33.85543016,
                        "remaining_time": 671.4660316,
                        "test": [
                          0.5644417513
                        ]
                      },
                      {
                        "learn": [
                          0.5607974472
                        ],
                        "iteration": 96,
                        "passed_time": 34.19458316,
                        "remaining_time": 670.8483686,
                        "test": [
                          0.5644136249
                        ]
                      },
                      {
                        "learn": [
                          0.5607887698
                        ],
                        "iteration": 97,
                        "passed_time": 34.42685189,
                        "remaining_time": 668.1619623,
                        "test": [
                          0.5643979734
                        ]
                      },
                      {
                        "learn": [
                          0.5607648837
                        ],
                        "iteration": 98,
                        "passed_time": 34.68348726,
                        "remaining_time": 665.9930231,
                        "test": [
                          0.5643792532
                        ]
                      },
                      {
                        "learn": [
                          0.5607593741
                        ],
                        "iteration": 99,
                        "passed_time": 34.90932555,
                        "remaining_time": 663.2771855,
                        "test": [
                          0.5643837618
                        ]
                      },
                      {
                        "learn": [
                          0.5607446125
                        ],
                        "iteration": 100,
                        "passed_time": 35.15525143,
                        "remaining_time": 660.9883413,
                        "test": [
                          0.5643716419
                        ]
                      },
                      {
                        "learn": [
                          0.5607097697
                        ],
                        "iteration": 101,
                        "passed_time": 35.40365905,
                        "remaining_time": 658.7857341,
                        "test": [
                          0.5643302073
                        ]
                      },
                      {
                        "learn": [
                          0.5607071493
                        ],
                        "iteration": 102,
                        "passed_time": 35.59664165,
                        "remaining_time": 655.6002835,
                        "test": [
                          0.5643258392
                        ]
                      },
                      {
                        "learn": [
                          0.5607045036
                        ],
                        "iteration": 103,
                        "passed_time": 35.79749328,
                        "remaining_time": 652.6158389,
                        "test": [
                          0.5643264718
                        ]
                      },
                      {
                        "learn": [
                          0.5606954915
                        ],
                        "iteration": 104,
                        "passed_time": 36.05976628,
                        "remaining_time": 650.7929248,
                        "test": [
                          0.5643143537
                        ]
                      },
                      {
                        "learn": [
                          0.5606234805
                        ],
                        "iteration": 105,
                        "passed_time": 36.32432718,
                        "remaining_time": 649.0403367,
                        "test": [
                          0.56427034
                        ]
                      },
                      {
                        "learn": [
                          0.5605925974
                        ],
                        "iteration": 106,
                        "passed_time": 36.62878616,
                        "remaining_time": 648.0214225,
                        "test": [
                          0.5642253675
                        ]
                      },
                      {
                        "learn": [
                          0.5604845786
                        ],
                        "iteration": 107,
                        "passed_time": 36.90538439,
                        "remaining_time": 646.52766,
                        "test": [
                          0.5641276431
                        ]
                      },
                      {
                        "learn": [
                          0.5604733815
                        ],
                        "iteration": 108,
                        "passed_time": 37.19483991,
                        "remaining_time": 645.2792868,
                        "test": [
                          0.564115741
                        ]
                      },
                      {
                        "learn": [
                          0.5604625787
                        ],
                        "iteration": 109,
                        "passed_time": 37.41253298,
                        "remaining_time": 642.8153394,
                        "test": [
                          0.5641145235
                        ]
                      },
                      {
                        "learn": [
                          0.5604565761
                        ],
                        "iteration": 110,
                        "passed_time": 37.65273285,
                        "remaining_time": 640.7748861,
                        "test": [
                          0.5641145974
                        ]
                      },
                      {
                        "learn": [
                          0.5604553164
                        ],
                        "iteration": 111,
                        "passed_time": 37.8578507,
                        "remaining_time": 638.1751976,
                        "test": [
                          0.5641135566
                        ]
                      },
                      {
                        "learn": [
                          0.5604150698
                        ],
                        "iteration": 112,
                        "passed_time": 38.10563994,
                        "remaining_time": 636.3304653,
                        "test": [
                          0.5640859728
                        ]
                      },
                      {
                        "learn": [
                          0.5603695095
                        ],
                        "iteration": 113,
                        "passed_time": 38.37088892,
                        "remaining_time": 634.8026009,
                        "test": [
                          0.5640575326
                        ]
                      },
                      {
                        "learn": [
                          0.5603617381
                        ],
                        "iteration": 114,
                        "passed_time": 38.58580717,
                        "remaining_time": 632.4717088,
                        "test": [
                          0.5640432501
                        ]
                      },
                      {
                        "learn": [
                          0.5603521083
                        ],
                        "iteration": 115,
                        "passed_time": 38.85808185,
                        "remaining_time": 631.1088466,
                        "test": [
                          0.5640423008
                        ]
                      },
                      {
                        "learn": [
                          0.5602897746
                        ],
                        "iteration": 116,
                        "passed_time": 39.12301556,
                        "remaining_time": 629.6464812,
                        "test": [
                          0.5639830689
                        ]
                      },
                      {
                        "learn": [
                          0.5602484176
                        ],
                        "iteration": 117,
                        "passed_time": 39.39436783,
                        "remaining_time": 628.3067819,
                        "test": [
                          0.563948048
                        ]
                      },
                      {
                        "learn": [
                          0.5602108878
                        ],
                        "iteration": 118,
                        "passed_time": 39.68231072,
                        "remaining_time": 627.2472813,
                        "test": [
                          0.5638969737
                        ]
                      },
                      {
                        "learn": [
                          0.5601712485
                        ],
                        "iteration": 119,
                        "passed_time": 39.95385826,
                        "remaining_time": 625.9437794,
                        "test": [
                          0.5638455522
                        ]
                      },
                      {
                        "learn": [
                          0.5601485954
                        ],
                        "iteration": 120,
                        "passed_time": 40.20175602,
                        "remaining_time": 624.290079,
                        "test": [
                          0.5638351381
                        ]
                      },
                      {
                        "learn": [
                          0.5601378997
                        ],
                        "iteration": 121,
                        "passed_time": 40.43532183,
                        "remaining_time": 622.4388065,
                        "test": [
                          0.5638300211
                        ]
                      },
                      {
                        "learn": [
                          0.5600662877
                        ],
                        "iteration": 122,
                        "passed_time": 40.71832085,
                        "remaining_time": 621.3681971,
                        "test": [
                          0.5637556036
                        ]
                      },
                      {
                        "learn": [
                          0.5600409602
                        ],
                        "iteration": 123,
                        "passed_time": 41.10679822,
                        "remaining_time": 621.9060763,
                        "test": [
                          0.5637476276
                        ]
                      },
                      {
                        "learn": [
                          0.5600298536
                        ],
                        "iteration": 124,
                        "passed_time": 41.62930138,
                        "remaining_time": 624.4395207,
                        "test": [
                          0.5637425927
                        ]
                      },
                      {
                        "learn": [
                          0.5600133565
                        ],
                        "iteration": 125,
                        "passed_time": 42.08875885,
                        "remaining_time": 625.9867785,
                        "test": [
                          0.5637356687
                        ]
                      },
                      {
                        "learn": [
                          0.5600065145
                        ],
                        "iteration": 126,
                        "passed_time": 42.60388264,
                        "remaining_time": 628.3234031,
                        "test": [
                          0.5637304592
                        ]
                      },
                      {
                        "learn": [
                          0.5599966756
                        ],
                        "iteration": 127,
                        "passed_time": 43.04164296,
                        "remaining_time": 629.4840283,
                        "test": [
                          0.5637289953
                        ]
                      },
                      {
                        "learn": [
                          0.5599401654
                        ],
                        "iteration": 128,
                        "passed_time": 43.61120033,
                        "remaining_time": 632.5314405,
                        "test": [
                          0.5636677541
                        ]
                      },
                      {
                        "learn": [
                          0.5599347723
                        ],
                        "iteration": 129,
                        "passed_time": 43.89665264,
                        "remaining_time": 631.4364649,
                        "test": [
                          0.5636628833
                        ]
                      },
                      {
                        "learn": [
                          0.5598920256
                        ],
                        "iteration": 130,
                        "passed_time": 44.14341296,
                        "remaining_time": 629.8018231,
                        "test": [
                          0.563624812
                        ]
                      },
                      {
                        "learn": [
                          0.5598863931
                        ],
                        "iteration": 131,
                        "passed_time": 44.35182309,
                        "remaining_time": 627.6454964,
                        "test": [
                          0.5636234329
                        ]
                      },
                      {
                        "learn": [
                          0.5598775478
                        ],
                        "iteration": 132,
                        "passed_time": 44.64546215,
                        "remaining_time": 626.714871,
                        "test": [
                          0.5636078325
                        ]
                      },
                      {
                        "learn": [
                          0.5598341048
                        ],
                        "iteration": 133,
                        "passed_time": 44.90212822,
                        "remaining_time": 625.27889,
                        "test": [
                          0.5635648664
                        ]
                      },
                      {
                        "learn": [
                          0.5598302007
                        ],
                        "iteration": 134,
                        "passed_time": 45.11170912,
                        "remaining_time": 623.2099075,
                        "test": [
                          0.5635665532
                        ]
                      },
                      {
                        "learn": [
                          0.5597788406
                        ],
                        "iteration": 135,
                        "passed_time": 45.35435899,
                        "remaining_time": 621.6215085,
                        "test": [
                          0.5635192682
                        ]
                      },
                      {
                        "learn": [
                          0.5597447056
                        ],
                        "iteration": 136,
                        "passed_time": 45.58893433,
                        "remaining_time": 619.9429537,
                        "test": [
                          0.5634894419
                        ]
                      },
                      {
                        "learn": [
                          0.5597201647
                        ],
                        "iteration": 137,
                        "passed_time": 45.87355055,
                        "remaining_time": 618.9605154,
                        "test": [
                          0.5634745111
                        ]
                      },
                      {
                        "learn": [
                          0.5596920026
                        ],
                        "iteration": 138,
                        "passed_time": 46.13403795,
                        "remaining_time": 617.6650692,
                        "test": [
                          0.5634429084
                        ]
                      },
                      {
                        "learn": [
                          0.5596683515
                        ],
                        "iteration": 139,
                        "passed_time": 46.44165365,
                        "remaining_time": 617.0105413,
                        "test": [
                          0.5634289277
                        ]
                      },
                      {
                        "learn": [
                          0.5596368608
                        ],
                        "iteration": 140,
                        "passed_time": 46.65854332,
                        "remaining_time": 615.1647662,
                        "test": [
                          0.563404269
                        ]
                      },
                      {
                        "learn": [
                          0.5596020034
                        ],
                        "iteration": 141,
                        "passed_time": 46.89696435,
                        "remaining_time": 613.6236603,
                        "test": [
                          0.5634047272
                        ]
                      },
                      {
                        "learn": [
                          0.5595925637
                        ],
                        "iteration": 142,
                        "passed_time": 47.11130598,
                        "remaining_time": 611.7880784,
                        "test": [
                          0.5633989441
                        ]
                      },
                      {
                        "learn": [
                          0.5595852132
                        ],
                        "iteration": 143,
                        "passed_time": 47.40842124,
                        "remaining_time": 611.0418738,
                        "test": [
                          0.5633938548
                        ]
                      },
                      {
                        "learn": [
                          0.5595720374
                        ],
                        "iteration": 144,
                        "passed_time": 47.68430746,
                        "remaining_time": 610.0302782,
                        "test": [
                          0.5633942238
                        ]
                      },
                      {
                        "learn": [
                          0.5594811505
                        ],
                        "iteration": 145,
                        "passed_time": 47.95353098,
                        "remaining_time": 608.9441536,
                        "test": [
                          0.5632902441
                        ]
                      },
                      {
                        "learn": [
                          0.5594695237
                        ],
                        "iteration": 146,
                        "passed_time": 48.22665288,
                        "remaining_time": 607.9182842,
                        "test": [
                          0.5632808373
                        ]
                      },
                      {
                        "learn": [
                          0.5594544049
                        ],
                        "iteration": 147,
                        "passed_time": 48.52228085,
                        "remaining_time": 607.1842171,
                        "test": [
                          0.5632637858
                        ]
                      },
                      {
                        "learn": [
                          0.5594256646
                        ],
                        "iteration": 148,
                        "passed_time": 48.81232375,
                        "remaining_time": 606.3866527,
                        "test": [
                          0.5632371864
                        ]
                      },
                      {
                        "learn": [
                          0.5594166324
                        ],
                        "iteration": 149,
                        "passed_time": 49.43429734,
                        "remaining_time": 609.6896672,
                        "test": [
                          0.5632343352
                        ]
                      },
                      {
                        "learn": [
                          0.5593943713
                        ],
                        "iteration": 150,
                        "passed_time": 49.7063714,
                        "remaining_time": 608.6561637,
                        "test": [
                          0.5632097796
                        ]
                      },
                      {
                        "learn": [
                          0.5593866364
                        ],
                        "iteration": 151,
                        "passed_time": 49.99705308,
                        "remaining_time": 607.8589085,
                        "test": [
                          0.5632055977
                        ]
                      },
                      {
                        "learn": [
                          0.5593635623
                        ],
                        "iteration": 152,
                        "passed_time": 50.28218633,
                        "remaining_time": 607.0012951,
                        "test": [
                          0.5631934271
                        ]
                      },
                      {
                        "learn": [
                          0.5593603381
                        ],
                        "iteration": 153,
                        "passed_time": 50.53931827,
                        "remaining_time": 605.8154645,
                        "test": [
                          0.5631947138
                        ]
                      },
                      {
                        "learn": [
                          0.5593464074
                        ],
                        "iteration": 154,
                        "passed_time": 50.77362837,
                        "remaining_time": 604.3699635,
                        "test": [
                          0.5631903007
                        ]
                      },
                      {
                        "learn": [
                          0.5592727739
                        ],
                        "iteration": 155,
                        "passed_time": 51.06005159,
                        "remaining_time": 603.5559944,
                        "test": [
                          0.5631046255
                        ]
                      },
                      {
                        "learn": [
                          0.5592640903
                        ],
                        "iteration": 156,
                        "passed_time": 51.26233003,
                        "remaining_time": 601.7609825,
                        "test": [
                          0.5631051687
                        ]
                      },
                      {
                        "learn": [
                          0.5592603858
                        ],
                        "iteration": 157,
                        "passed_time": 51.47227807,
                        "remaining_time": 600.0755456,
                        "test": [
                          0.5631059915
                        ]
                      },
                      {
                        "learn": [
                          0.5592408805
                        ],
                        "iteration": 158,
                        "passed_time": 51.75726025,
                        "remaining_time": 599.2774599,
                        "test": [
                          0.5630886392
                        ]
                      },
                      {
                        "learn": [
                          0.5592221913
                        ],
                        "iteration": 159,
                        "passed_time": 51.95729311,
                        "remaining_time": 597.5088708,
                        "test": [
                          0.5630600601
                        ]
                      },
                      {
                        "learn": [
                          0.5592157898
                        ],
                        "iteration": 160,
                        "passed_time": 52.23829182,
                        "remaining_time": 596.6845879,
                        "test": [
                          0.5630610084
                        ]
                      },
                      {
                        "learn": [
                          0.559193317
                        ],
                        "iteration": 161,
                        "passed_time": 52.51700128,
                        "remaining_time": 595.8410393,
                        "test": [
                          0.5630621066
                        ]
                      },
                      {
                        "learn": [
                          0.5591558175
                        ],
                        "iteration": 162,
                        "passed_time": 52.80572334,
                        "remaining_time": 595.1172624,
                        "test": [
                          0.563012934
                        ]
                      },
                      {
                        "learn": [
                          0.5591466831
                        ],
                        "iteration": 163,
                        "passed_time": 53.00946767,
                        "remaining_time": 593.4474551,
                        "test": [
                          0.5630119536
                        ]
                      },
                      {
                        "learn": [
                          0.5591404493
                        ],
                        "iteration": 164,
                        "passed_time": 53.23377923,
                        "remaining_time": 592.0241509,
                        "test": [
                          0.563011539
                        ]
                      },
                      {
                        "learn": [
                          0.5591264641
                        ],
                        "iteration": 165,
                        "passed_time": 53.51952517,
                        "remaining_time": 591.2940311,
                        "test": [
                          0.5630023473
                        ]
                      },
                      {
                        "learn": [
                          0.5591107387
                        ],
                        "iteration": 166,
                        "passed_time": 53.82012048,
                        "remaining_time": 590.7322207,
                        "test": [
                          0.5629917371
                        ]
                      },
                      {
                        "learn": [
                          0.5591004092
                        ],
                        "iteration": 167,
                        "passed_time": 54.17736676,
                        "remaining_time": 590.7912851,
                        "test": [
                          0.5629907677
                        ]
                      },
                      {
                        "learn": [
                          0.5590864349
                        ],
                        "iteration": 168,
                        "passed_time": 54.69890593,
                        "remaining_time": 592.6254246,
                        "test": [
                          0.562974477
                        ]
                      },
                      {
                        "learn": [
                          0.5590813293
                        ],
                        "iteration": 169,
                        "passed_time": 55.16950986,
                        "remaining_time": 593.8835473,
                        "test": [
                          0.5629717984
                        ]
                      },
                      {
                        "learn": [
                          0.5590611184
                        ],
                        "iteration": 170,
                        "passed_time": 55.61666264,
                        "remaining_time": 594.8706197,
                        "test": [
                          0.5629567694
                        ]
                      },
                      {
                        "learn": [
                          0.5590460539
                        ],
                        "iteration": 171,
                        "passed_time": 56.08421003,
                        "remaining_time": 596.0577671,
                        "test": [
                          0.5629388294
                        ]
                      },
                      {
                        "learn": [
                          0.5590348552
                        ],
                        "iteration": 172,
                        "passed_time": 56.61859242,
                        "remaining_time": 597.931609,
                        "test": [
                          0.5629329997
                        ]
                      },
                      {
                        "learn": [
                          0.5590294412
                        ],
                        "iteration": 173,
                        "passed_time": 56.93302046,
                        "remaining_time": 597.4695135,
                        "test": [
                          0.5629354152
                        ]
                      },
                      {
                        "learn": [
                          0.5590009011
                        ],
                        "iteration": 174,
                        "passed_time": 57.19724514,
                        "remaining_time": 596.4855565,
                        "test": [
                          0.5629248579
                        ]
                      },
                      {
                        "learn": [
                          0.558994692
                        ],
                        "iteration": 175,
                        "passed_time": 57.40799855,
                        "remaining_time": 594.9556213,
                        "test": [
                          0.5629242856
                        ]
                      },
                      {
                        "learn": [
                          0.5589881567
                        ],
                        "iteration": 176,
                        "passed_time": 57.67019005,
                        "remaining_time": 593.9703755,
                        "test": [
                          0.5629213357
                        ]
                      },
                      {
                        "learn": [
                          0.5589840833
                        ],
                        "iteration": 177,
                        "passed_time": 57.88340327,
                        "remaining_time": 592.4919144,
                        "test": [
                          0.562922447
                        ]
                      },
                      {
                        "learn": [
                          0.5589484244
                        ],
                        "iteration": 178,
                        "passed_time": 58.17082615,
                        "remaining_time": 591.7825386,
                        "test": [
                          0.5628937642
                        ]
                      },
                      {
                        "learn": [
                          0.5589448582
                        ],
                        "iteration": 179,
                        "passed_time": 58.40188821,
                        "remaining_time": 590.5079808,
                        "test": [
                          0.5628916741
                        ]
                      },
                      {
                        "learn": [
                          0.5589128664
                        ],
                        "iteration": 180,
                        "passed_time": 58.66397056,
                        "remaining_time": 589.5566986,
                        "test": [
                          0.5628646086
                        ]
                      },
                      {
                        "learn": [
                          0.5589061376
                        ],
                        "iteration": 181,
                        "passed_time": 58.92102384,
                        "remaining_time": 588.5627546,
                        "test": [
                          0.5628644329
                        ]
                      },
                      {
                        "learn": [
                          0.5589001
                        ],
                        "iteration": 182,
                        "passed_time": 59.21198997,
                        "remaining_time": 587.9135834,
                        "test": [
                          0.5628630098
                        ]
                      },
                      {
                        "learn": [
                          0.5588920269
                        ],
                        "iteration": 183,
                        "passed_time": 59.47319505,
                        "remaining_time": 586.9745773,
                        "test": [
                          0.5628584284
                        ]
                      },
                      {
                        "learn": [
                          0.5588683422
                        ],
                        "iteration": 184,
                        "passed_time": 59.74313441,
                        "remaining_time": 586.128589,
                        "test": [
                          0.5628254144
                        ]
                      },
                      {
                        "learn": [
                          0.5588358091
                        ],
                        "iteration": 185,
                        "passed_time": 60.00235787,
                        "remaining_time": 585.1842859,
                        "test": [
                          0.5627981579
                        ]
                      },
                      {
                        "learn": [
                          0.5588346033
                        ],
                        "iteration": 186,
                        "passed_time": 60.1985451,
                        "remaining_time": 583.6361618,
                        "test": [
                          0.5627990876
                        ]
                      },
                      {
                        "learn": [
                          0.5588192748
                        ],
                        "iteration": 187,
                        "passed_time": 60.46901467,
                        "remaining_time": 582.8183755,
                        "test": [
                          0.5627995402
                        ]
                      },
                      {
                        "learn": [
                          0.5588150079
                        ],
                        "iteration": 188,
                        "passed_time": 60.69681756,
                        "remaining_time": 581.5975481,
                        "test": [
                          0.5628004254
                        ]
                      },
                      {
                        "learn": [
                          0.558790156
                        ],
                        "iteration": 189,
                        "passed_time": 60.93096374,
                        "remaining_time": 580.447602,
                        "test": [
                          0.562760009
                        ]
                      },
                      {
                        "learn": [
                          0.5587286733
                        ],
                        "iteration": 190,
                        "passed_time": 61.25244354,
                        "remaining_time": 580.1343998,
                        "test": [
                          0.5627128407
                        ]
                      },
                      {
                        "learn": [
                          0.5587170408
                        ],
                        "iteration": 191,
                        "passed_time": 61.55573735,
                        "remaining_time": 579.6498601,
                        "test": [
                          0.5627050965
                        ]
                      },
                      {
                        "learn": [
                          0.5587153296
                        ],
                        "iteration": 192,
                        "passed_time": 61.82519992,
                        "remaining_time": 578.8504469,
                        "test": [
                          0.5627051196
                        ]
                      },
                      {
                        "learn": [
                          0.558701446
                        ],
                        "iteration": 193,
                        "passed_time": 62.12663775,
                        "remaining_time": 578.3541638,
                        "test": [
                          0.5627089354
                        ]
                      },
                      {
                        "learn": [
                          0.5586966133
                        ],
                        "iteration": 194,
                        "passed_time": 62.44431242,
                        "remaining_time": 578.010174,
                        "test": [
                          0.5627058107
                        ]
                      },
                      {
                        "learn": [
                          0.5586699717
                        ],
                        "iteration": 195,
                        "passed_time": 62.67522194,
                        "remaining_time": 576.867859,
                        "test": [
                          0.5626971368
                        ]
                      },
                      {
                        "learn": [
                          0.5586644245
                        ],
                        "iteration": 196,
                        "passed_time": 62.91683583,
                        "remaining_time": 575.8327665,
                        "test": [
                          0.5626981586
                        ]
                      },
                      {
                        "learn": [
                          0.5586548174
                        ],
                        "iteration": 197,
                        "passed_time": 63.18060274,
                        "remaining_time": 575.0073037,
                        "test": [
                          0.56269766
                        ]
                      },
                      {
                        "learn": [
                          0.5586494119
                        ],
                        "iteration": 198,
                        "passed_time": 63.47564038,
                        "remaining_time": 574.4704941,
                        "test": [
                          0.5626988273
                        ]
                      },
                      {
                        "learn": [
                          0.5585676822
                        ],
                        "iteration": 199,
                        "passed_time": 63.76323681,
                        "remaining_time": 573.8691313,
                        "test": [
                          0.562617218
                        ]
                      },
                      {
                        "learn": [
                          0.5585568189
                        ],
                        "iteration": 200,
                        "passed_time": 63.97485299,
                        "remaining_time": 572.5908484,
                        "test": [
                          0.5626197237
                        ]
                      },
                      {
                        "learn": [
                          0.5585406398
                        ],
                        "iteration": 201,
                        "passed_time": 64.26180248,
                        "remaining_time": 571.9936676,
                        "test": [
                          0.5625951992
                        ]
                      },
                      {
                        "learn": [
                          0.5584892741
                        ],
                        "iteration": 202,
                        "passed_time": 64.61181985,
                        "remaining_time": 571.9578339,
                        "test": [
                          0.5625723949
                        ]
                      },
                      {
                        "learn": [
                          0.5584791702
                        ],
                        "iteration": 203,
                        "passed_time": 64.95314073,
                        "remaining_time": 571.8423567,
                        "test": [
                          0.5625800675
                        ]
                      },
                      {
                        "learn": [
                          0.5584726507
                        ],
                        "iteration": 204,
                        "passed_time": 65.19714006,
                        "remaining_time": 570.872519,
                        "test": [
                          0.562581121
                        ]
                      },
                      {
                        "learn": [
                          0.5584529781
                        ],
                        "iteration": 205,
                        "passed_time": 65.47183717,
                        "remaining_time": 570.1770674,
                        "test": [
                          0.5625831723
                        ]
                      },
                      {
                        "learn": [
                          0.5584488233
                        ],
                        "iteration": 206,
                        "passed_time": 65.79409396,
                        "remaining_time": 569.8976351,
                        "test": [
                          0.5625820963
                        ]
                      },
                      {
                        "learn": [
                          0.5584411337
                        ],
                        "iteration": 207,
                        "passed_time": 65.9998993,
                        "remaining_time": 568.6145171,
                        "test": [
                          0.5625765862
                        ]
                      },
                      {
                        "learn": [
                          0.5584327124
                        ],
                        "iteration": 208,
                        "passed_time": 66.29034788,
                        "remaining_time": 568.0670481,
                        "test": [
                          0.562575191
                        ]
                      },
                      {
                        "learn": [
                          0.558424582
                        ],
                        "iteration": 209,
                        "passed_time": 66.55089216,
                        "remaining_time": 567.2671284,
                        "test": [
                          0.5625776121
                        ]
                      },
                      {
                        "learn": [
                          0.5584058807
                        ],
                        "iteration": 210,
                        "passed_time": 66.90023169,
                        "remaining_time": 567.2251872,
                        "test": [
                          0.5625643462
                        ]
                      },
                      {
                        "learn": [
                          0.5583956511
                        ],
                        "iteration": 211,
                        "passed_time": 67.29223589,
                        "remaining_time": 567.5401782,
                        "test": [
                          0.5625599778
                        ]
                      },
                      {
                        "learn": [
                          0.5583873127
                        ],
                        "iteration": 212,
                        "passed_time": 67.82354986,
                        "remaining_time": 569.0172939,
                        "test": [
                          0.5625523566
                        ]
                      },
                      {
                        "learn": [
                          0.5583824868
                        ],
                        "iteration": 213,
                        "passed_time": 68.381932,
                        "remaining_time": 570.7015446,
                        "test": [
                          0.5625522152
                        ]
                      },
                      {
                        "learn": [
                          0.5583722764
                        ],
                        "iteration": 214,
                        "passed_time": 68.86758284,
                        "remaining_time": 571.7610947,
                        "test": [
                          0.5625496342
                        ]
                      },
                      {
                        "learn": [
                          0.5583697384
                        ],
                        "iteration": 215,
                        "passed_time": 69.33355491,
                        "remaining_time": 572.6438054,
                        "test": [
                          0.5625459274
                        ]
                      },
                      {
                        "learn": [
                          0.5583511616
                        ],
                        "iteration": 216,
                        "passed_time": 69.84444675,
                        "remaining_time": 573.8831731,
                        "test": [
                          0.5625407466
                        ]
                      },
                      {
                        "learn": [
                          0.558349113
                        ],
                        "iteration": 217,
                        "passed_time": 70.07034058,
                        "remaining_time": 572.7768207,
                        "test": [
                          0.5625398378
                        ]
                      },
                      {
                        "learn": [
                          0.5583397437
                        ],
                        "iteration": 218,
                        "passed_time": 70.32830624,
                        "remaining_time": 571.9393306,
                        "test": [
                          0.5625331543
                        ]
                      },
                      {
                        "learn": [
                          0.5583250078
                        ],
                        "iteration": 219,
                        "passed_time": 70.61005672,
                        "remaining_time": 571.2995499,
                        "test": [
                          0.5625267664
                        ]
                      },
                      {
                        "learn": [
                          0.5583181945
                        ],
                        "iteration": 220,
                        "passed_time": 70.92992685,
                        "remaining_time": 570.9698636,
                        "test": [
                          0.5625251144
                        ]
                      },
                      {
                        "learn": [
                          0.5582987341
                        ],
                        "iteration": 221,
                        "passed_time": 71.17617297,
                        "remaining_time": 570.0506106,
                        "test": [
                          0.562503344
                        ]
                      },
                      {
                        "learn": [
                          0.5582818086
                        ],
                        "iteration": 222,
                        "passed_time": 71.49213757,
                        "remaining_time": 569.6929527,
                        "test": [
                          0.5624835492
                        ]
                      },
                      {
                        "learn": [
                          0.5582799352
                        ],
                        "iteration": 223,
                        "passed_time": 71.76822453,
                        "remaining_time": 569.0194945,
                        "test": [
                          0.5624840503
                        ]
                      },
                      {
                        "learn": [
                          0.558266061
                        ],
                        "iteration": 224,
                        "passed_time": 72.04413927,
                        "remaining_time": 568.3482098,
                        "test": [
                          0.562475142
                        ]
                      },
                      {
                        "learn": [
                          0.5582593213
                        ],
                        "iteration": 225,
                        "passed_time": 72.26722483,
                        "remaining_time": 567.2657383,
                        "test": [
                          0.5624746806
                        ]
                      },
                      {
                        "learn": [
                          0.5582586226
                        ],
                        "iteration": 226,
                        "passed_time": 72.49942797,
                        "remaining_time": 566.262052,
                        "test": [
                          0.5624749641
                        ]
                      },
                      {
                        "learn": [
                          0.5582521648
                        ],
                        "iteration": 227,
                        "passed_time": 72.76665523,
                        "remaining_time": 565.537338,
                        "test": [
                          0.5624731253
                        ]
                      },
                      {
                        "learn": [
                          0.5582402536
                        ],
                        "iteration": 228,
                        "passed_time": 72.98484374,
                        "remaining_time": 564.4373723,
                        "test": [
                          0.5624670385
                        ]
                      },
                      {
                        "learn": [
                          0.5582356508
                        ],
                        "iteration": 229,
                        "passed_time": 73.19214584,
                        "remaining_time": 563.2612962,
                        "test": [
                          0.5624679225
                        ]
                      },
                      {
                        "learn": [
                          0.5582303421
                        ],
                        "iteration": 230,
                        "passed_time": 73.3903926,
                        "remaining_time": 562.0242619,
                        "test": [
                          0.5624637926
                        ]
                      },
                      {
                        "learn": [
                          0.5582275019
                        ],
                        "iteration": 231,
                        "passed_time": 73.68224782,
                        "remaining_time": 561.5095437,
                        "test": [
                          0.5624635454
                        ]
                      },
                      {
                        "learn": [
                          0.5582148345
                        ],
                        "iteration": 232,
                        "passed_time": 73.9345043,
                        "remaining_time": 560.6964339,
                        "test": [
                          0.5624578838
                        ]
                      },
                      {
                        "learn": [
                          0.5582029306
                        ],
                        "iteration": 233,
                        "passed_time": 74.19750832,
                        "remaining_time": 559.9692295,
                        "test": [
                          0.562445875
                        ]
                      },
                      {
                        "learn": [
                          0.5581985328
                        ],
                        "iteration": 234,
                        "passed_time": 74.40135344,
                        "remaining_time": 558.8016546,
                        "test": [
                          0.5624437585
                        ]
                      },
                      {
                        "learn": [
                          0.5581903016
                        ],
                        "iteration": 235,
                        "passed_time": 74.61641768,
                        "remaining_time": 557.726105,
                        "test": [
                          0.5624453069
                        ]
                      },
                      {
                        "learn": [
                          0.5581752286
                        ],
                        "iteration": 236,
                        "passed_time": 74.85875766,
                        "remaining_time": 556.8607163,
                        "test": [
                          0.5624456923
                        ]
                      },
                      {
                        "learn": [
                          0.5581672891
                        ],
                        "iteration": 237,
                        "passed_time": 75.12400629,
                        "remaining_time": 556.1701642,
                        "test": [
                          0.5624434206
                        ]
                      },
                      {
                        "learn": [
                          0.5581631293
                        ],
                        "iteration": 238,
                        "passed_time": 75.326732,
                        "remaining_time": 555.0224898,
                        "test": [
                          0.5624386461
                        ]
                      },
                      {
                        "learn": [
                          0.5581384444
                        ],
                        "iteration": 239,
                        "passed_time": 75.55919602,
                        "remaining_time": 554.1007708,
                        "test": [
                          0.5624284235
                        ]
                      },
                      {
                        "learn": [
                          0.5581291729
                        ],
                        "iteration": 240,
                        "passed_time": 75.80630475,
                        "remaining_time": 553.29166,
                        "test": [
                          0.5624284083
                        ]
                      },
                      {
                        "learn": [
                          0.5581059104
                        ],
                        "iteration": 241,
                        "passed_time": 76.08097168,
                        "remaining_time": 552.6873893,
                        "test": [
                          0.5624240147
                        ]
                      },
                      {
                        "learn": [
                          0.558102206
                        ],
                        "iteration": 242,
                        "passed_time": 76.3073178,
                        "remaining_time": 551.7364501,
                        "test": [
                          0.5624262815
                        ]
                      },
                      {
                        "learn": [
                          0.5581013119
                        ],
                        "iteration": 243,
                        "passed_time": 76.54057535,
                        "remaining_time": 550.8411898,
                        "test": [
                          0.562426186
                        ]
                      },
                      {
                        "learn": [
                          0.5580943983
                        ],
                        "iteration": 244,
                        "passed_time": 76.83592119,
                        "remaining_time": 550.3960886,
                        "test": [
                          0.5624249993
                        ]
                      },
                      {
                        "learn": [
                          0.558090458
                        ],
                        "iteration": 245,
                        "passed_time": 77.14615137,
                        "remaining_time": 550.0583313,
                        "test": [
                          0.5624234086
                        ]
                      },
                      {
                        "learn": [
                          0.5580874497
                        ],
                        "iteration": 246,
                        "passed_time": 77.35515253,
                        "remaining_time": 549.0023578,
                        "test": [
                          0.5624245521
                        ]
                      },
                      {
                        "learn": [
                          0.558080244
                        ],
                        "iteration": 247,
                        "passed_time": 77.58592874,
                        "remaining_time": 548.107045,
                        "test": [
                          0.5624236732
                        ]
                      },
                      {
                        "learn": [
                          0.5580725154
                        ],
                        "iteration": 248,
                        "passed_time": 77.86328297,
                        "remaining_time": 547.5446124,
                        "test": [
                          0.5624267917
                        ]
                      },
                      {
                        "learn": [
                          0.5580671037
                        ],
                        "iteration": 249,
                        "passed_time": 78.15732701,
                        "remaining_time": 547.1012891,
                        "test": [
                          0.5624203281
                        ]
                      },
                      {
                        "learn": [
                          0.5580606592
                        ],
                        "iteration": 250,
                        "passed_time": 78.3618829,
                        "remaining_time": 546.0355904,
                        "test": [
                          0.5624184396
                        ]
                      },
                      {
                        "learn": [
                          0.5580464812
                        ],
                        "iteration": 251,
                        "passed_time": 78.58590157,
                        "remaining_time": 545.11173,
                        "test": [
                          0.5623951659
                        ]
                      },
                      {
                        "learn": [
                          0.5580386596
                        ],
                        "iteration": 252,
                        "passed_time": 78.8761698,
                        "remaining_time": 544.6508642,
                        "test": [
                          0.5623946581
                        ]
                      },
                      {
                        "learn": [
                          0.5580283901
                        ],
                        "iteration": 253,
                        "passed_time": 79.120465,
                        "remaining_time": 543.8753224,
                        "test": [
                          0.5623857437
                        ]
                      },
                      {
                        "learn": [
                          0.5580069579
                        ],
                        "iteration": 254,
                        "passed_time": 79.33431291,
                        "remaining_time": 542.8955923,
                        "test": [
                          0.5623693542
                        ]
                      },
                      {
                        "learn": [
                          0.5580002519
                        ],
                        "iteration": 255,
                        "passed_time": 79.59211567,
                        "remaining_time": 542.221288,
                        "test": [
                          0.5623703845
                        ]
                      },
                      {
                        "learn": [
                          0.5579922166
                        ],
                        "iteration": 256,
                        "passed_time": 79.86512661,
                        "remaining_time": 541.6533684,
                        "test": [
                          0.5623710063
                        ]
                      },
                      {
                        "learn": [
                          0.5579873428
                        ],
                        "iteration": 257,
                        "passed_time": 80.38793981,
                        "remaining_time": 542.7743843,
                        "test": [
                          0.5623683327
                        ]
                      },
                      {
                        "learn": [
                          0.5579858828
                        ],
                        "iteration": 258,
                        "passed_time": 80.75612953,
                        "remaining_time": 542.8433263,
                        "test": [
                          0.5623675293
                        ]
                      },
                      {
                        "learn": [
                          0.5579807327
                        ],
                        "iteration": 259,
                        "passed_time": 81.30071086,
                        "remaining_time": 544.0893727,
                        "test": [
                          0.5623719699
                        ]
                      },
                      {
                        "learn": [
                          0.557961921
                        ],
                        "iteration": 260,
                        "passed_time": 81.71906001,
                        "remaining_time": 544.4806335,
                        "test": [
                          0.5623561212
                        ]
                      },
                      {
                        "learn": [
                          0.5579591919
                        ],
                        "iteration": 261,
                        "passed_time": 82.23400411,
                        "remaining_time": 545.5064853,
                        "test": [
                          0.5623557273
                        ]
                      },
                      {
                        "learn": [
                          0.5579493659
                        ],
                        "iteration": 262,
                        "passed_time": 82.72749726,
                        "remaining_time": 546.3789458,
                        "test": [
                          0.5623543316
                        ]
                      },
                      {
                        "learn": [
                          0.5579464854
                        ],
                        "iteration": 263,
                        "passed_time": 83.05379506,
                        "remaining_time": 546.1416221,
                        "test": [
                          0.562354156
                        ]
                      },
                      {
                        "learn": [
                          0.5579413398
                        ],
                        "iteration": 264,
                        "passed_time": 83.2857982,
                        "remaining_time": 545.2862637,
                        "test": [
                          0.5623547728
                        ]
                      },
                      {
                        "learn": [
                          0.5579398495
                        ],
                        "iteration": 265,
                        "passed_time": 83.48770725,
                        "remaining_time": 544.2394149,
                        "test": [
                          0.5623544999
                        ]
                      },
                      {
                        "learn": [
                          0.5579363553
                        ],
                        "iteration": 266,
                        "passed_time": 83.72170839,
                        "remaining_time": 543.4071934,
                        "test": [
                          0.5623567377
                        ]
                      },
                      {
                        "learn": [
                          0.5579267602
                        ],
                        "iteration": 267,
                        "passed_time": 84.00782965,
                        "remaining_time": 542.9162722,
                        "test": [
                          0.5623511628
                        ]
                      },
                      {
                        "learn": [
                          0.5579014171
                        ],
                        "iteration": 268,
                        "passed_time": 84.31891244,
                        "remaining_time": 542.5874998,
                        "test": [
                          0.5623169645
                        ]
                      },
                      {
                        "learn": [
                          0.5578986019
                        ],
                        "iteration": 269,
                        "passed_time": 84.57158287,
                        "remaining_time": 541.8845865,
                        "test": [
                          0.5623183292
                        ]
                      },
                      {
                        "learn": [
                          0.5578842772
                        ],
                        "iteration": 270,
                        "passed_time": 84.86561865,
                        "remaining_time": 541.4489101,
                        "test": [
                          0.562317262
                        ]
                      },
                      {
                        "learn": [
                          0.5578768887
                        ],
                        "iteration": 271,
                        "passed_time": 85.09878343,
                        "remaining_time": 540.6275653,
                        "test": [
                          0.5623140544
                        ]
                      },
                      {
                        "learn": [
                          0.5578747231
                        ],
                        "iteration": 272,
                        "passed_time": 85.40030275,
                        "remaining_time": 540.2429408,
                        "test": [
                          0.562314743
                        ]
                      },
                      {
                        "learn": [
                          0.5578712958
                        ],
                        "iteration": 273,
                        "passed_time": 85.64346058,
                        "remaining_time": 539.4912882,
                        "test": [
                          0.5623157278
                        ]
                      },
                      {
                        "learn": [
                          0.557866298
                        ],
                        "iteration": 274,
                        "passed_time": 85.88051236,
                        "remaining_time": 538.7050321,
                        "test": [
                          0.5623173272
                        ]
                      },
                      {
                        "learn": [
                          0.5578616918
                        ],
                        "iteration": 275,
                        "passed_time": 86.14782372,
                        "remaining_time": 538.1117685,
                        "test": [
                          0.5623192276
                        ]
                      },
                      {
                        "learn": [
                          0.5578438976
                        ],
                        "iteration": 276,
                        "passed_time": 86.43867568,
                        "remaining_time": 537.6672859,
                        "test": [
                          0.5623114648
                        ]
                      },
                      {
                        "learn": [
                          0.5578350641
                        ],
                        "iteration": 277,
                        "passed_time": 86.68433934,
                        "remaining_time": 536.9440012,
                        "test": [
                          0.562312433
                        ]
                      },
                      {
                        "learn": [
                          0.5578245508
                        ],
                        "iteration": 278,
                        "passed_time": 86.88633691,
                        "remaining_time": 535.9547879,
                        "test": [
                          0.562318362
                        ]
                      },
                      {
                        "learn": [
                          0.5578174503
                        ],
                        "iteration": 279,
                        "passed_time": 87.16100297,
                        "remaining_time": 535.4175896,
                        "test": [
                          0.5623183662
                        ]
                      },
                      {
                        "learn": [
                          0.5578126415
                        ],
                        "iteration": 280,
                        "passed_time": 87.44292776,
                        "remaining_time": 534.9266648,
                        "test": [
                          0.5623116135
                        ]
                      },
                      {
                        "learn": [
                          0.5578062735
                        ],
                        "iteration": 281,
                        "passed_time": 87.74258878,
                        "remaining_time": 534.5452749,
                        "test": [
                          0.5623099419
                        ]
                      },
                      {
                        "learn": [
                          0.5578021794
                        ],
                        "iteration": 282,
                        "passed_time": 88.0638588,
                        "remaining_time": 534.2955673,
                        "test": [
                          0.562308057
                        ]
                      },
                      {
                        "learn": [
                          0.5577976517
                        ],
                        "iteration": 283,
                        "passed_time": 88.3589342,
                        "remaining_time": 533.8870813,
                        "test": [
                          0.5623123688
                        ]
                      },
                      {
                        "learn": [
                          0.557794605
                        ],
                        "iteration": 284,
                        "passed_time": 88.63907582,
                        "remaining_time": 533.3895264,
                        "test": [
                          0.5623125495
                        ]
                      },
                      {
                        "learn": [
                          0.5577908389
                        ],
                        "iteration": 285,
                        "passed_time": 88.84374834,
                        "remaining_time": 532.4412051,
                        "test": [
                          0.5623117281
                        ]
                      },
                      {
                        "learn": [
                          0.5577871424
                        ],
                        "iteration": 286,
                        "passed_time": 89.04177335,
                        "remaining_time": 531.4583894,
                        "test": [
                          0.5623118239
                        ]
                      },
                      {
                        "learn": [
                          0.5577848359
                        ],
                        "iteration": 287,
                        "passed_time": 89.25651095,
                        "remaining_time": 530.5803706,
                        "test": [
                          0.5623160044
                        ]
                      },
                      {
                        "learn": [
                          0.5577847119
                        ],
                        "iteration": 288,
                        "passed_time": 89.48071903,
                        "remaining_time": 529.7630113,
                        "test": [
                          0.5623160003
                        ]
                      },
                      {
                        "learn": [
                          0.557777643
                        ],
                        "iteration": 289,
                        "passed_time": 89.68189228,
                        "remaining_time": 528.8139166,
                        "test": [
                          0.5623133676
                        ]
                      },
                      {
                        "learn": [
                          0.5577708932
                        ],
                        "iteration": 290,
                        "passed_time": 89.96492268,
                        "remaining_time": 528.3506971,
                        "test": [
                          0.562317107
                        ]
                      },
                      {
                        "learn": [
                          0.5577666404
                        ],
                        "iteration": 291,
                        "passed_time": 90.20427169,
                        "remaining_time": 527.6332057,
                        "test": [
                          0.562317153
                        ]
                      },
                      {
                        "learn": [
                          0.5577583174
                        ],
                        "iteration": 292,
                        "passed_time": 90.46640996,
                        "remaining_time": 527.0517468,
                        "test": [
                          0.5623124466
                        ]
                      },
                      {
                        "learn": [
                          0.5577556518
                        ],
                        "iteration": 293,
                        "passed_time": 90.69152146,
                        "remaining_time": 526.2576041,
                        "test": [
                          0.5623227994
                        ]
                      },
                      {
                        "learn": [
                          0.5577501409
                        ],
                        "iteration": 294,
                        "passed_time": 90.88701171,
                        "remaining_time": 525.2961185,
                        "test": [
                          0.5623242396
                        ]
                      },
                      {
                        "learn": [
                          0.5577464251
                        ],
                        "iteration": 295,
                        "passed_time": 91.09143566,
                        "remaining_time": 524.3912377,
                        "test": [
                          0.562317932
                        ]
                      },
                      {
                        "learn": [
                          0.5577348538
                        ],
                        "iteration": 296,
                        "passed_time": 91.3351516,
                        "remaining_time": 523.7163743,
                        "test": [
                          0.5623083295
                        ]
                      },
                      {
                        "learn": [
                          0.5577079416
                        ],
                        "iteration": 297,
                        "passed_time": 91.66926321,
                        "remaining_time": 523.5606912,
                        "test": [
                          0.5622997375
                        ]
                      },
                      {
                        "learn": [
                          0.557701572
                        ],
                        "iteration": 298,
                        "passed_time": 91.91589736,
                        "remaining_time": 522.9061586,
                        "test": [
                          0.5622999473
                        ]
                      },
                      {
                        "learn": [
                          0.5576944601
                        ],
                        "iteration": 299,
                        "passed_time": 92.22702989,
                        "remaining_time": 522.6198361,
                        "test": [
                          0.5623020916
                        ]
                      },
                      {
                        "learn": [
                          0.5576813694
                        ],
                        "iteration": 300,
                        "passed_time": 92.4904607,
                        "remaining_time": 522.0640954,
                        "test": [
                          0.5622992329
                        ]
                      },
                      {
                        "learn": [
                          0.5576660153
                        ],
                        "iteration": 301,
                        "passed_time": 92.77935726,
                        "remaining_time": 521.6534723,
                        "test": [
                          0.5622970114
                        ]
                      },
                      {
                        "learn": [
                          0.5576596822
                        ],
                        "iteration": 302,
                        "passed_time": 93.07192053,
                        "remaining_time": 521.2641886,
                        "test": [
                          0.5622983475
                        ]
                      },
                      {
                        "learn": [
                          0.557657008
                        ],
                        "iteration": 303,
                        "passed_time": 93.46939911,
                        "remaining_time": 521.4608582,
                        "test": [
                          0.5622966893
                        ]
                      },
                      {
                        "learn": [
                          0.5576362203
                        ],
                        "iteration": 304,
                        "passed_time": 93.91512438,
                        "remaining_time": 521.9217568,
                        "test": [
                          0.5622918873
                        ]
                      },
                      {
                        "learn": [
                          0.5576298717
                        ],
                        "iteration": 305,
                        "passed_time": 94.31264845,
                        "remaining_time": 522.1098904,
                        "test": [
                          0.5622922578
                        ]
                      },
                      {
                        "learn": [
                          0.5576245812
                        ],
                        "iteration": 306,
                        "passed_time": 94.90688096,
                        "remaining_time": 523.3789885,
                        "test": [
                          0.5622905041
                        ]
                      },
                      {
                        "learn": [
                          0.5576233893
                        ],
                        "iteration": 307,
                        "passed_time": 95.29611063,
                        "remaining_time": 523.5098025,
                        "test": [
                          0.5622898842
                        ]
                      },
                      {
                        "learn": [
                          0.5576198789
                        ],
                        "iteration": 308,
                        "passed_time": 95.77197431,
                        "remaining_time": 524.1113546,
                        "test": [
                          0.562290829
                        ]
                      },
                      {
                        "learn": [
                          0.5576177343
                        ],
                        "iteration": 309,
                        "passed_time": 96.05898664,
                        "remaining_time": 523.676411,
                        "test": [
                          0.5622882633
                        ]
                      },
                      {
                        "learn": [
                          0.5576126914
                        ],
                        "iteration": 310,
                        "passed_time": 96.28128444,
                        "remaining_time": 522.8909628,
                        "test": [
                          0.5622868086
                        ]
                      },
                      {
                        "learn": [
                          0.5575599627
                        ],
                        "iteration": 311,
                        "passed_time": 96.51505138,
                        "remaining_time": 522.1711754,
                        "test": [
                          0.5622373758
                        ]
                      },
                      {
                        "learn": [
                          0.5575299179
                        ],
                        "iteration": 312,
                        "passed_time": 96.76413661,
                        "remaining_time": 521.5370558,
                        "test": [
                          0.5622162914
                        ]
                      },
                      {
                        "learn": [
                          0.5575223918
                        ],
                        "iteration": 313,
                        "passed_time": 96.96083557,
                        "remaining_time": 520.6241044,
                        "test": [
                          0.5622161984
                        ]
                      },
                      {
                        "learn": [
                          0.5575148335
                        ],
                        "iteration": 314,
                        "passed_time": 97.27776315,
                        "remaining_time": 520.3588283,
                        "test": [
                          0.5622166192
                        ]
                      },
                      {
                        "learn": [
                          0.5575079981
                        ],
                        "iteration": 315,
                        "passed_time": 97.52273133,
                        "remaining_time": 519.7097455,
                        "test": [
                          0.5622168795
                        ]
                      },
                      {
                        "learn": [
                          0.55750393
                        ],
                        "iteration": 316,
                        "passed_time": 97.84653944,
                        "remaining_time": 519.4817851,
                        "test": [
                          0.5622058875
                        ]
                      },
                      {
                        "learn": [
                          0.5575004325
                        ],
                        "iteration": 317,
                        "passed_time": 98.08929982,
                        "remaining_time": 518.8245355,
                        "test": [
                          0.5622052138
                        ]
                      },
                      {
                        "learn": [
                          0.557484754
                        ],
                        "iteration": 318,
                        "passed_time": 98.39797607,
                        "remaining_time": 518.5172344,
                        "test": [
                          0.5621964692
                        ]
                      },
                      {
                        "learn": [
                          0.5574823907
                        ],
                        "iteration": 319,
                        "passed_time": 98.72457782,
                        "remaining_time": 518.3040335,
                        "test": [
                          0.5621972418
                        ]
                      },
                      {
                        "learn": [
                          0.5574771773
                        ],
                        "iteration": 320,
                        "passed_time": 98.94760223,
                        "remaining_time": 517.5483618,
                        "test": [
                          0.5621974811
                        ]
                      },
                      {
                        "learn": [
                          0.5574612366
                        ],
                        "iteration": 321,
                        "passed_time": 99.16040783,
                        "remaining_time": 516.7427464,
                        "test": [
                          0.5621816116
                        ]
                      },
                      {
                        "learn": [
                          0.5574597223
                        ],
                        "iteration": 322,
                        "passed_time": 99.35918539,
                        "remaining_time": 515.8679687,
                        "test": [
                          0.5621805786
                        ]
                      },
                      {
                        "learn": [
                          0.5574590166
                        ],
                        "iteration": 323,
                        "passed_time": 99.56016365,
                        "remaining_time": 515.0087478,
                        "test": [
                          0.5621794525
                        ]
                      },
                      {
                        "learn": [
                          0.5574523333
                        ],
                        "iteration": 324,
                        "passed_time": 99.79115463,
                        "remaining_time": 514.3082585,
                        "test": [
                          0.5621775601
                        ]
                      },
                      {
                        "learn": [
                          0.5574331144
                        ],
                        "iteration": 325,
                        "passed_time": 100.0750122,
                        "remaining_time": 513.8821181,
                        "test": [
                          0.5621583675
                        ]
                      },
                      {
                        "learn": [
                          0.5574294273
                        ],
                        "iteration": 326,
                        "passed_time": 100.3185981,
                        "remaining_time": 513.2508094,
                        "test": [
                          0.5621586497
                        ]
                      },
                      {
                        "learn": [
                          0.5574245285
                        ],
                        "iteration": 327,
                        "passed_time": 100.5397104,
                        "remaining_time": 512.507304,
                        "test": [
                          0.5621511241
                        ]
                      },
                      {
                        "learn": [
                          0.5574204537
                        ],
                        "iteration": 328,
                        "passed_time": 100.7640624,
                        "remaining_time": 511.7834294,
                        "test": [
                          0.5621509621
                        ]
                      },
                      {
                        "learn": [
                          0.5574148529
                        ],
                        "iteration": 329,
                        "passed_time": 101.0275777,
                        "remaining_time": 511.2607719,
                        "test": [
                          0.5621516346
                        ]
                      },
                      {
                        "learn": [
                          0.5574068919
                        ],
                        "iteration": 330,
                        "passed_time": 101.3236651,
                        "remaining_time": 510.9039188,
                        "test": [
                          0.5621492442
                        ]
                      },
                      {
                        "learn": [
                          0.5573999368
                        ],
                        "iteration": 331,
                        "passed_time": 101.5461848,
                        "remaining_time": 510.1778202,
                        "test": [
                          0.5621427022
                        ]
                      },
                      {
                        "learn": [
                          0.5573926672
                        ],
                        "iteration": 332,
                        "passed_time": 101.7538303,
                        "remaining_time": 509.3802854,
                        "test": [
                          0.5621431323
                        ]
                      },
                      {
                        "learn": [
                          0.5573762425
                        ],
                        "iteration": 333,
                        "passed_time": 102.0244313,
                        "remaining_time": 508.9003073,
                        "test": [
                          0.5621285228
                        ]
                      },
                      {
                        "learn": [
                          0.5573723186
                        ],
                        "iteration": 334,
                        "passed_time": 102.2700274,
                        "remaining_time": 508.2973006,
                        "test": [
                          0.5621235169
                        ]
                      },
                      {
                        "learn": [
                          0.5573703512
                        ],
                        "iteration": 335,
                        "passed_time": 102.4797367,
                        "remaining_time": 507.5186958,
                        "test": [
                          0.562121448
                        ]
                      },
                      {
                        "learn": [
                          0.5573691552
                        ],
                        "iteration": 336,
                        "passed_time": 102.7010229,
                        "remaining_time": 506.8005969,
                        "test": [
                          0.5621219003
                        ]
                      },
                      {
                        "learn": [
                          0.5573650212
                        ],
                        "iteration": 337,
                        "passed_time": 102.9617146,
                        "remaining_time": 506.2792,
                        "test": [
                          0.5621245961
                        ]
                      },
                      {
                        "learn": [
                          0.5573591742
                        ],
                        "iteration": 338,
                        "passed_time": 103.207964,
                        "remaining_time": 505.6885788,
                        "test": [
                          0.5621246288
                        ]
                      },
                      {
                        "learn": [
                          0.5573511264
                        ],
                        "iteration": 339,
                        "passed_time": 103.4606105,
                        "remaining_time": 505.1312162,
                        "test": [
                          0.5621144355
                        ]
                      },
                      {
                        "learn": [
                          0.5573421877
                        ],
                        "iteration": 340,
                        "passed_time": 103.710637,
                        "remaining_time": 504.562894,
                        "test": [
                          0.5621101742
                        ]
                      },
                      {
                        "learn": [
                          0.5573392606
                        ],
                        "iteration": 341,
                        "passed_time": 103.9774608,
                        "remaining_time": 504.0778657,
                        "test": [
                          0.5621082768
                        ]
                      },
                      {
                        "learn": [
                          0.5573354785
                        ],
                        "iteration": 342,
                        "passed_time": 104.2395974,
                        "remaining_time": 503.5714661,
                        "test": [
                          0.562113524
                        ]
                      },
                      {
                        "learn": [
                          0.5573265986
                        ],
                        "iteration": 343,
                        "passed_time": 104.4602352,
                        "remaining_time": 502.8667135,
                        "test": [
                          0.5621020514
                        ]
                      },
                      {
                        "learn": [
                          0.5573249671
                        ],
                        "iteration": 344,
                        "passed_time": 104.6704659,
                        "remaining_time": 502.1148435,
                        "test": [
                          0.5621018856
                        ]
                      },
                      {
                        "learn": [
                          0.5573201527
                        ],
                        "iteration": 345,
                        "passed_time": 104.9701069,
                        "remaining_time": 501.7935166,
                        "test": [
                          0.5621014202
                        ]
                      },
                      {
                        "learn": [
                          0.557317175
                        ],
                        "iteration": 346,
                        "passed_time": 105.164463,
                        "remaining_time": 500.9707702,
                        "test": [
                          0.5621014805
                        ]
                      },
                      {
                        "learn": [
                          0.5573125074
                        ],
                        "iteration": 347,
                        "passed_time": 105.3980761,
                        "remaining_time": 500.3379933,
                        "test": [
                          0.5621051313
                        ]
                      },
                      {
                        "learn": [
                          0.5573088442
                        ],
                        "iteration": 348,
                        "passed_time": 105.704807,
                        "remaining_time": 500.0533991,
                        "test": [
                          0.5621035301
                        ]
                      },
                      {
                        "learn": [
                          0.5573060785
                        ],
                        "iteration": 349,
                        "passed_time": 106.085804,
                        "remaining_time": 500.1187901,
                        "test": [
                          0.562103856
                        ]
                      },
                      {
                        "learn": [
                          0.5572976878
                        ],
                        "iteration": 350,
                        "passed_time": 106.5003798,
                        "remaining_time": 500.3393912,
                        "test": [
                          0.5620984514
                        ]
                      },
                      {
                        "learn": [
                          0.5572888128
                        ],
                        "iteration": 351,
                        "passed_time": 106.8679174,
                        "remaining_time": 500.3361588,
                        "test": [
                          0.5620960734
                        ]
                      },
                      {
                        "learn": [
                          0.5572842635
                        ],
                        "iteration": 352,
                        "passed_time": 107.501986,
                        "remaining_time": 501.5744219,
                        "test": [
                          0.5620899878
                        ]
                      },
                      {
                        "learn": [
                          0.5572747695
                        ],
                        "iteration": 353,
                        "passed_time": 107.8944144,
                        "remaining_time": 501.6785481,
                        "test": [
                          0.562086052
                        ]
                      },
                      {
                        "learn": [
                          0.5572710542
                        ],
                        "iteration": 354,
                        "passed_time": 108.4520615,
                        "remaining_time": 502.5454681,
                        "test": [
                          0.5620841667
                        ]
                      },
                      {
                        "learn": [
                          0.5572642952
                        ],
                        "iteration": 355,
                        "passed_time": 108.8621663,
                        "remaining_time": 502.7230377,
                        "test": [
                          0.5620758679
                        ]
                      },
                      {
                        "learn": [
                          0.557259585
                        ],
                        "iteration": 356,
                        "passed_time": 109.0607098,
                        "remaining_time": 501.9236589,
                        "test": [
                          0.5620759688
                        ]
                      },
                      {
                        "learn": [
                          0.5572526119
                        ],
                        "iteration": 357,
                        "passed_time": 109.3622326,
                        "remaining_time": 501.5999607,
                        "test": [
                          0.5620716838
                        ]
                      },
                      {
                        "learn": [
                          0.5572522365
                        ],
                        "iteration": 358,
                        "passed_time": 109.5657571,
                        "remaining_time": 500.8284329,
                        "test": [
                          0.5620716767
                        ]
                      },
                      {
                        "learn": [
                          0.5572483935
                        ],
                        "iteration": 359,
                        "passed_time": 109.7914076,
                        "remaining_time": 500.1608568,
                        "test": [
                          0.5620730712
                        ]
                      },
                      {
                        "learn": [
                          0.5572360285
                        ],
                        "iteration": 360,
                        "passed_time": 110.0632188,
                        "remaining_time": 499.7053066,
                        "test": [
                          0.5620667557
                        ]
                      },
                      {
                        "learn": [
                          0.5572265556
                        ],
                        "iteration": 361,
                        "passed_time": 110.3179198,
                        "remaining_time": 499.17335,
                        "test": [
                          0.5620682329
                        ]
                      },
                      {
                        "learn": [
                          0.5572063724
                        ],
                        "iteration": 362,
                        "passed_time": 110.6256593,
                        "remaining_time": 498.8821054,
                        "test": [
                          0.5620448331
                        ]
                      },
                      {
                        "learn": [
                          0.5572023132
                        ],
                        "iteration": 363,
                        "passed_time": 110.8752986,
                        "remaining_time": 498.3296387,
                        "test": [
                          0.5620481324
                        ]
                      },
                      {
                        "learn": [
                          0.5572004724
                        ],
                        "iteration": 364,
                        "passed_time": 111.2596207,
                        "remaining_time": 498.3821367,
                        "test": [
                          0.5620449105
                        ]
                      },
                      {
                        "learn": [
                          0.5571975799
                        ],
                        "iteration": 365,
                        "passed_time": 111.534792,
                        "remaining_time": 497.9449455,
                        "test": [
                          0.5620435856
                        ]
                      },
                      {
                        "learn": [
                          0.5571891423
                        ],
                        "iteration": 366,
                        "passed_time": 111.8131991,
                        "remaining_time": 497.5230358,
                        "test": [
                          0.562034619
                        ]
                      },
                      {
                        "learn": [
                          0.5571806515
                        ],
                        "iteration": 367,
                        "passed_time": 112.0526594,
                        "remaining_time": 496.9291852,
                        "test": [
                          0.5620293415
                        ]
                      },
                      {
                        "learn": [
                          0.5571743616
                        ],
                        "iteration": 368,
                        "passed_time": 112.3028132,
                        "remaining_time": 496.384521,
                        "test": [
                          0.5620298129
                        ]
                      },
                      {
                        "learn": [
                          0.5571667188
                        ],
                        "iteration": 369,
                        "passed_time": 112.6162248,
                        "remaining_time": 496.1201254,
                        "test": [
                          0.5620221475
                        ]
                      },
                      {
                        "learn": [
                          0.5571585809
                        ],
                        "iteration": 370,
                        "passed_time": 112.8890036,
                        "remaining_time": 495.6770534,
                        "test": [
                          0.5620208827
                        ]
                      },
                      {
                        "learn": [
                          0.5571420354
                        ],
                        "iteration": 371,
                        "passed_time": 113.1362584,
                        "remaining_time": 495.1231955,
                        "test": [
                          0.5620146154
                        ]
                      },
                      {
                        "learn": [
                          0.5571401239
                        ],
                        "iteration": 372,
                        "passed_time": 113.3885197,
                        "remaining_time": 494.5928191,
                        "test": [
                          0.562014765
                        ]
                      },
                      {
                        "learn": [
                          0.5571365423
                        ],
                        "iteration": 373,
                        "passed_time": 113.6496389,
                        "remaining_time": 494.1024407,
                        "test": [
                          0.5620146105
                        ]
                      },
                      {
                        "learn": [
                          0.5571353199
                        ],
                        "iteration": 374,
                        "passed_time": 113.8687658,
                        "remaining_time": 493.4313186,
                        "test": [
                          0.5620144724
                        ]
                      },
                      {
                        "learn": [
                          0.5571278067
                        ],
                        "iteration": 375,
                        "passed_time": 114.1167627,
                        "remaining_time": 492.8872943,
                        "test": [
                          0.5620153662
                        ]
                      },
                      {
                        "learn": [
                          0.5571238519
                        ],
                        "iteration": 376,
                        "passed_time": 114.3558035,
                        "remaining_time": 492.3062841,
                        "test": [
                          0.562015756
                        ]
                      },
                      {
                        "learn": [
                          0.5571191902
                        ],
                        "iteration": 377,
                        "passed_time": 114.5963904,
                        "remaining_time": 491.7337175,
                        "test": [
                          0.5620139685
                        ]
                      },
                      {
                        "learn": [
                          0.557108846
                        ],
                        "iteration": 378,
                        "passed_time": 114.8007185,
                        "remaining_time": 491.0078224,
                        "test": [
                          0.5620130123
                        ]
                      },
                      {
                        "learn": [
                          0.557103909
                        ],
                        "iteration": 379,
                        "passed_time": 115.0260429,
                        "remaining_time": 490.3741831,
                        "test": [
                          0.5620108542
                        ]
                      },
                      {
                        "learn": [
                          0.5571003711
                        ],
                        "iteration": 380,
                        "passed_time": 115.2738067,
                        "remaining_time": 489.8380395,
                        "test": [
                          0.5620091729
                        ]
                      },
                      {
                        "learn": [
                          0.5570875301
                        ],
                        "iteration": 381,
                        "passed_time": 115.6320888,
                        "remaining_time": 489.7715174,
                        "test": [
                          0.5619824443
                        ]
                      },
                      {
                        "learn": [
                          0.5570848366
                        ],
                        "iteration": 382,
                        "passed_time": 115.9286268,
                        "remaining_time": 489.4427927,
                        "test": [
                          0.5619809266
                        ]
                      },
                      {
                        "learn": [
                          0.5570809852
                        ],
                        "iteration": 383,
                        "passed_time": 116.1387616,
                        "remaining_time": 488.7506217,
                        "test": [
                          0.5619802202
                        ]
                      },
                      {
                        "learn": [
                          0.5570782714
                        ],
                        "iteration": 384,
                        "passed_time": 116.4643083,
                        "remaining_time": 488.5450856,
                        "test": [
                          0.5619793446
                        ]
                      },
                      {
                        "learn": [
                          0.5570770805
                        ],
                        "iteration": 385,
                        "passed_time": 116.72582,
                        "remaining_time": 488.0711748,
                        "test": [
                          0.5619806477
                        ]
                      },
                      {
                        "learn": [
                          0.5570700461
                        ],
                        "iteration": 386,
                        "passed_time": 117.0310919,
                        "remaining_time": 487.7807525,
                        "test": [
                          0.561981443
                        ]
                      },
                      {
                        "learn": [
                          0.5570690323
                        ],
                        "iteration": 387,
                        "passed_time": 117.2378361,
                        "remaining_time": 487.0809068,
                        "test": [
                          0.5619800685
                        ]
                      },
                      {
                        "learn": [
                          0.557067385
                        ],
                        "iteration": 388,
                        "passed_time": 117.4696829,
                        "remaining_time": 486.4875556,
                        "test": [
                          0.5619829319
                        ]
                      },
                      {
                        "learn": [
                          0.557060619
                        ],
                        "iteration": 389,
                        "passed_time": 117.7093751,
                        "remaining_time": 485.9284461,
                        "test": [
                          0.561987588
                        ]
                      },
                      {
                        "learn": [
                          0.5570570892
                        ],
                        "iteration": 390,
                        "passed_time": 117.9414187,
                        "remaining_time": 485.3394952,
                        "test": [
                          0.5619819854
                        ]
                      },
                      {
                        "learn": [
                          0.557047742
                        ],
                        "iteration": 391,
                        "passed_time": 118.1385641,
                        "remaining_time": 484.6092121,
                        "test": [
                          0.5619800145
                        ]
                      },
                      {
                        "learn": [
                          0.5570474799
                        ],
                        "iteration": 392,
                        "passed_time": 118.3878617,
                        "remaining_time": 484.0948952,
                        "test": [
                          0.5619800745
                        ]
                      },
                      {
                        "learn": [
                          0.5570327815
                        ],
                        "iteration": 393,
                        "passed_time": 118.6424899,
                        "remaining_time": 483.6036516,
                        "test": [
                          0.5619885282
                        ]
                      },
                      {
                        "learn": [
                          0.5570271932
                        ],
                        "iteration": 394,
                        "passed_time": 118.8459175,
                        "remaining_time": 482.9055635,
                        "test": [
                          0.5619879353
                        ]
                      },
                      {
                        "learn": [
                          0.5570247586
                        ],
                        "iteration": 395,
                        "passed_time": 119.2484169,
                        "remaining_time": 483.0163147,
                        "test": [
                          0.5619855067
                        ]
                      },
                      {
                        "learn": [
                          0.5570232158
                        ],
                        "iteration": 396,
                        "passed_time": 119.7101614,
                        "remaining_time": 483.3636996,
                        "test": [
                          0.5619850274
                        ]
                      },
                      {
                        "learn": [
                          0.5570060331
                        ],
                        "iteration": 397,
                        "passed_time": 120.2754952,
                        "remaining_time": 484.1239781,
                        "test": [
                          0.5619734583
                        ]
                      },
                      {
                        "learn": [
                          0.5570026009
                        ],
                        "iteration": 398,
                        "passed_time": 120.7326396,
                        "remaining_time": 484.4434986,
                        "test": [
                          0.5619751772
                        ]
                      },
                      {
                        "learn": [
                          0.55697515
                        ],
                        "iteration": 399,
                        "passed_time": 121.1471914,
                        "remaining_time": 484.5887656,
                        "test": [
                          0.561950241
                        ]
                      },
                      {
                        "learn": [
                          0.5569722271
                        ],
                        "iteration": 400,
                        "passed_time": 121.5829206,
                        "remaining_time": 484.8156857,
                        "test": [
                          0.5619506162
                        ]
                      },
                      {
                        "learn": [
                          0.556971006
                        ],
                        "iteration": 401,
                        "passed_time": 122.2333797,
                        "remaining_time": 485.8928875,
                        "test": [
                          0.5619526128
                        ]
                      },
                      {
                        "learn": [
                          0.5569672585
                        ],
                        "iteration": 402,
                        "passed_time": 122.5183713,
                        "remaining_time": 485.5132479,
                        "test": [
                          0.5619536904
                        ]
                      },
                      {
                        "learn": [
                          0.5569641282
                        ],
                        "iteration": 403,
                        "passed_time": 122.8991672,
                        "remaining_time": 485.5125516,
                        "test": [
                          0.5619532035
                        ]
                      },
                      {
                        "learn": [
                          0.5569603761
                        ],
                        "iteration": 404,
                        "passed_time": 123.1893679,
                        "remaining_time": 485.1531895,
                        "test": [
                          0.5619531491
                        ]
                      },
                      {
                        "learn": [
                          0.5569584005
                        ],
                        "iteration": 405,
                        "passed_time": 123.4307288,
                        "remaining_time": 484.6024181,
                        "test": [
                          0.5619536403
                        ]
                      },
                      {
                        "learn": [
                          0.5569542847
                        ],
                        "iteration": 406,
                        "passed_time": 123.6721624,
                        "remaining_time": 484.0534513,
                        "test": [
                          0.5619561367
                        ]
                      },
                      {
                        "learn": [
                          0.5569520171
                        ],
                        "iteration": 407,
                        "passed_time": 123.9022955,
                        "remaining_time": 483.4618982,
                        "test": [
                          0.5619581057
                        ]
                      },
                      {
                        "learn": [
                          0.5569441959
                        ],
                        "iteration": 408,
                        "passed_time": 124.1790937,
                        "remaining_time": 483.0536382,
                        "test": [
                          0.5619542121
                        ]
                      },
                      {
                        "learn": [
                          0.5569351528
                        ],
                        "iteration": 409,
                        "passed_time": 124.4483162,
                        "remaining_time": 482.6166408,
                        "test": [
                          0.5619566337
                        ]
                      },
                      {
                        "learn": [
                          0.556934278
                        ],
                        "iteration": 410,
                        "passed_time": 124.6658774,
                        "remaining_time": 481.980728,
                        "test": [
                          0.56195651
                        ]
                      },
                      {
                        "learn": [
                          0.5569328211
                        ],
                        "iteration": 411,
                        "passed_time": 124.909321,
                        "remaining_time": 481.4466062,
                        "test": [
                          0.5619524522
                        ]
                      },
                      {
                        "learn": [
                          0.5569319668
                        ],
                        "iteration": 412,
                        "passed_time": 125.1753674,
                        "remaining_time": 481.0007459,
                        "test": [
                          0.5619524864
                        ]
                      },
                      {
                        "learn": [
                          0.5569304135
                        ],
                        "iteration": 413,
                        "passed_time": 125.4534534,
                        "remaining_time": 480.6018772,
                        "test": [
                          0.5619519758
                        ]
                      },
                      {
                        "learn": [
                          0.5569215313
                        ],
                        "iteration": 414,
                        "passed_time": 125.7089968,
                        "remaining_time": 480.1174939,
                        "test": [
                          0.5619581455
                        ]
                      },
                      {
                        "learn": [
                          0.5569195751
                        ],
                        "iteration": 415,
                        "passed_time": 126.0605639,
                        "remaining_time": 479.9998396,
                        "test": [
                          0.5619580629
                        ]
                      },
                      {
                        "learn": [
                          0.5569094699
                        ],
                        "iteration": 416,
                        "passed_time": 126.3306685,
                        "remaining_time": 479.5718182,
                        "test": [
                          0.5619576157
                        ]
                      },
                      {
                        "learn": [
                          0.5569051366
                        ],
                        "iteration": 417,
                        "passed_time": 126.54888,
                        "remaining_time": 478.9481536,
                        "test": [
                          0.5619566736
                        ]
                      },
                      {
                        "learn": [
                          0.5569030593
                        ],
                        "iteration": 418,
                        "passed_time": 126.7445604,
                        "remaining_time": 478.2414083,
                        "test": [
                          0.5619568991
                        ]
                      },
                      {
                        "learn": [
                          0.5568966788
                        ],
                        "iteration": 419,
                        "passed_time": 127.0181419,
                        "remaining_time": 477.8301527,
                        "test": [
                          0.561951355
                        ]
                      },
                      {
                        "learn": [
                          0.5568933948
                        ],
                        "iteration": 420,
                        "passed_time": 127.2382147,
                        "remaining_time": 477.2188621,
                        "test": [
                          0.5619500008
                        ]
                      },
                      {
                        "learn": [
                          0.5568855167
                        ],
                        "iteration": 421,
                        "passed_time": 127.4939091,
                        "remaining_time": 476.7426267,
                        "test": [
                          0.5619334374
                        ]
                      },
                      {
                        "learn": [
                          0.5568719018
                        ],
                        "iteration": 422,
                        "passed_time": 127.7207144,
                        "remaining_time": 476.1597318,
                        "test": [
                          0.5619013588
                        ]
                      },
                      {
                        "learn": [
                          0.5568543145
                        ],
                        "iteration": 423,
                        "passed_time": 127.9309008,
                        "remaining_time": 475.5167444,
                        "test": [
                          0.5618831651
                        ]
                      },
                      {
                        "learn": [
                          0.5568519243
                        ],
                        "iteration": 424,
                        "passed_time": 128.1628935,
                        "remaining_time": 474.9566052,
                        "test": [
                          0.5618835473
                        ]
                      },
                      {
                        "learn": [
                          0.5568446284
                        ],
                        "iteration": 425,
                        "passed_time": 128.4628452,
                        "remaining_time": 474.6491039,
                        "test": [
                          0.5618829892
                        ]
                      },
                      {
                        "learn": [
                          0.5568416152
                        ],
                        "iteration": 426,
                        "passed_time": 128.7102999,
                        "remaining_time": 474.1482475,
                        "test": [
                          0.5618791241
                        ]
                      },
                      {
                        "learn": [
                          0.5568402107
                        ],
                        "iteration": 427,
                        "passed_time": 128.9018241,
                        "remaining_time": 473.4431482,
                        "test": [
                          0.5618826801
                        ]
                      },
                      {
                        "learn": [
                          0.5568375023
                        ],
                        "iteration": 428,
                        "passed_time": 129.240259,
                        "remaining_time": 473.2784311,
                        "test": [
                          0.5618814861
                        ]
                      },
                      {
                        "learn": [
                          0.5568302566
                        ],
                        "iteration": 429,
                        "passed_time": 129.5550824,
                        "remaining_time": 473.0266963,
                        "test": [
                          0.5618803825
                        ]
                      },
                      {
                        "learn": [
                          0.5568229502
                        ],
                        "iteration": 430,
                        "passed_time": 129.8646018,
                        "remaining_time": 472.75536,
                        "test": [
                          0.56188084
                        ]
                      },
                      {
                        "learn": [
                          0.55680765
                        ],
                        "iteration": 431,
                        "passed_time": 130.1271191,
                        "remaining_time": 472.313247,
                        "test": [
                          0.5618696415
                        ]
                      },
                      {
                        "learn": [
                          0.5568024537
                        ],
                        "iteration": 432,
                        "passed_time": 130.4344434,
                        "remaining_time": 472.0341172,
                        "test": [
                          0.5618687612
                        ]
                      },
                      {
                        "learn": [
                          0.556792137
                        ],
                        "iteration": 433,
                        "passed_time": 130.6451858,
                        "remaining_time": 471.4063618,
                        "test": [
                          0.5618731139
                        ]
                      },
                      {
                        "learn": [
                          0.5567894408
                        ],
                        "iteration": 434,
                        "passed_time": 130.8767839,
                        "remaining_time": 470.8555557,
                        "test": [
                          0.5618720847
                        ]
                      },
                      {
                        "learn": [
                          0.5567705502
                        ],
                        "iteration": 435,
                        "passed_time": 131.1048341,
                        "remaining_time": 470.2934875,
                        "test": [
                          0.5618671748
                        ]
                      },
                      {
                        "learn": [
                          0.5567662233
                        ],
                        "iteration": 436,
                        "passed_time": 131.4368284,
                        "remaining_time": 470.1047203,
                        "test": [
                          0.5618609105
                        ]
                      },
                      {
                        "learn": [
                          0.5567614399
                        ],
                        "iteration": 437,
                        "passed_time": 131.6340946,
                        "remaining_time": 469.4348304,
                        "test": [
                          0.5618637551
                        ]
                      },
                      {
                        "learn": [
                          0.5567609996
                        ],
                        "iteration": 438,
                        "passed_time": 131.8367048,
                        "remaining_time": 468.786096,
                        "test": [
                          0.5618640148
                        ]
                      },
                      {
                        "learn": [
                          0.5567589111
                        ],
                        "iteration": 439,
                        "passed_time": 132.1730115,
                        "remaining_time": 468.6134043,
                        "test": [
                          0.5618635957
                        ]
                      },
                      {
                        "learn": [
                          0.5567550132
                        ],
                        "iteration": 440,
                        "passed_time": 132.831245,
                        "remaining_time": 469.5780294,
                        "test": [
                          0.5618636244
                        ]
                      },
                      {
                        "learn": [
                          0.5567476517
                        ],
                        "iteration": 441,
                        "passed_time": 133.2575587,
                        "remaining_time": 469.7178202,
                        "test": [
                          0.5618622519
                        ]
                      },
                      {
                        "learn": [
                          0.5567099851
                        ],
                        "iteration": 442,
                        "passed_time": 133.7934243,
                        "remaining_time": 470.2400939,
                        "test": [
                          0.561839448
                        ]
                      },
                      {
                        "learn": [
                          0.5567080342
                        ],
                        "iteration": 443,
                        "passed_time": 134.1889477,
                        "remaining_time": 470.2657718,
                        "test": [
                          0.5618393681
                        ]
                      },
                      {
                        "learn": [
                          0.5567042294
                        ],
                        "iteration": 444,
                        "passed_time": 134.6713298,
                        "remaining_time": 470.5930738,
                        "test": [
                          0.5618442868
                        ]
                      },
                      {
                        "learn": [
                          0.5566949197
                        ],
                        "iteration": 445,
                        "passed_time": 135.2031157,
                        "remaining_time": 471.0888828,
                        "test": [
                          0.5618442148
                        ]
                      },
                      {
                        "learn": [
                          0.5566898731
                        ],
                        "iteration": 446,
                        "passed_time": 135.4930851,
                        "remaining_time": 470.7399577,
                        "test": [
                          0.5618457712
                        ]
                      },
                      {
                        "learn": [
                          0.55668439
                        ],
                        "iteration": 447,
                        "passed_time": 135.7437722,
                        "remaining_time": 470.2552109,
                        "test": [
                          0.5618479563
                        ]
                      },
                      {
                        "learn": [
                          0.5566736895
                        ],
                        "iteration": 448,
                        "passed_time": 135.9753949,
                        "remaining_time": 469.7056515,
                        "test": [
                          0.5618466185
                        ]
                      },
                      {
                        "learn": [
                          0.5566733672
                        ],
                        "iteration": 449,
                        "passed_time": 136.1602963,
                        "remaining_time": 468.9965761,
                        "test": [
                          0.5618461389
                        ]
                      },
                      {
                        "learn": [
                          0.5566630123
                        ],
                        "iteration": 450,
                        "passed_time": 136.4116529,
                        "remaining_time": 468.5180717,
                        "test": [
                          0.5618290993
                        ]
                      },
                      {
                        "learn": [
                          0.5566621746
                        ],
                        "iteration": 451,
                        "passed_time": 136.7046082,
                        "remaining_time": 468.1830387,
                        "test": [
                          0.5618286608
                        ]
                      },
                      {
                        "learn": [
                          0.5566609845
                        ],
                        "iteration": 452,
                        "passed_time": 136.9251294,
                        "remaining_time": 467.6008281,
                        "test": [
                          0.5618307628
                        ]
                      },
                      {
                        "learn": [
                          0.5566562032
                        ],
                        "iteration": 453,
                        "passed_time": 137.1173256,
                        "remaining_time": 466.9237563,
                        "test": [
                          0.5618295612
                        ]
                      },
                      {
                        "learn": [
                          0.556654865
                        ],
                        "iteration": 454,
                        "passed_time": 137.354649,
                        "remaining_time": 466.40205,
                        "test": [
                          0.5618296163
                        ]
                      },
                      {
                        "learn": [
                          0.5566516544
                        ],
                        "iteration": 455,
                        "passed_time": 137.6062987,
                        "remaining_time": 465.9300993,
                        "test": [
                          0.5618281848
                        ]
                      },
                      {
                        "learn": [
                          0.5566500924
                        ],
                        "iteration": 456,
                        "passed_time": 137.8214264,
                        "remaining_time": 465.3358007,
                        "test": [
                          0.5618300007
                        ]
                      },
                      {
                        "learn": [
                          0.5566395832
                        ],
                        "iteration": 457,
                        "passed_time": 138.1083941,
                        "remaining_time": 464.98503,
                        "test": [
                          0.5618219107
                        ]
                      },
                      {
                        "learn": [
                          0.5566337952
                        ],
                        "iteration": 458,
                        "passed_time": 138.3251773,
                        "remaining_time": 464.3989068,
                        "test": [
                          0.5618203081
                        ]
                      },
                      {
                        "learn": [
                          0.556627539
                        ],
                        "iteration": 459,
                        "passed_time": 138.5306038,
                        "remaining_time": 463.7763691,
                        "test": [
                          0.5618147366
                        ]
                      },
                      {
                        "learn": [
                          0.5566161792
                        ],
                        "iteration": 460,
                        "passed_time": 138.8820437,
                        "remaining_time": 463.6430917,
                        "test": [
                          0.5618096452
                        ]
                      },
                      {
                        "learn": [
                          0.5566138198
                        ],
                        "iteration": 461,
                        "passed_time": 139.1312559,
                        "remaining_time": 463.1685532,
                        "test": [
                          0.5618149491
                        ]
                      },
                      {
                        "learn": [
                          0.5566123787
                        ],
                        "iteration": 462,
                        "passed_time": 139.4387134,
                        "remaining_time": 462.8883424,
                        "test": [
                          0.5618146221
                        ]
                      },
                      {
                        "learn": [
                          0.5566070454
                        ],
                        "iteration": 463,
                        "passed_time": 139.6687814,
                        "remaining_time": 462.3518281,
                        "test": [
                          0.5618179868
                        ]
                      },
                      {
                        "learn": [
                          0.5566023133
                        ],
                        "iteration": 464,
                        "passed_time": 139.9470629,
                        "remaining_time": 461.9757884,
                        "test": [
                          0.5618171511
                        ]
                      },
                      {
                        "learn": [
                          0.5565913236
                        ],
                        "iteration": 465,
                        "passed_time": 140.2136103,
                        "remaining_time": 461.5615413,
                        "test": [
                          0.5618199499
                        ]
                      },
                      {
                        "learn": [
                          0.556588014
                        ],
                        "iteration": 466,
                        "passed_time": 140.441976,
                        "remaining_time": 461.0225894,
                        "test": [
                          0.5618203755
                        ]
                      },
                      {
                        "learn": [
                          0.556585834
                        ],
                        "iteration": 467,
                        "passed_time": 140.7624174,
                        "remaining_time": 460.7863748,
                        "test": [
                          0.5618201656
                        ]
                      },
                      {
                        "learn": [
                          0.5565777193
                        ],
                        "iteration": 468,
                        "passed_time": 141.1280391,
                        "remaining_time": 460.6972875,
                        "test": [
                          0.5618209285
                        ]
                      },
                      {
                        "learn": [
                          0.5565746964
                        ],
                        "iteration": 469,
                        "passed_time": 141.342578,
                        "remaining_time": 460.1152009,
                        "test": [
                          0.5618216196
                        ]
                      },
                      {
                        "learn": [
                          0.5565719427
                        ],
                        "iteration": 470,
                        "passed_time": 141.5705108,
                        "remaining_time": 459.5781549,
                        "test": [
                          0.5618215243
                        ]
                      },
                      {
                        "learn": [
                          0.5565696204
                        ],
                        "iteration": 471,
                        "passed_time": 141.7970724,
                        "remaining_time": 459.0379802,
                        "test": [
                          0.5618216262
                        ]
                      },
                      {
                        "learn": [
                          0.5565627439
                        ],
                        "iteration": 472,
                        "passed_time": 142.0364894,
                        "remaining_time": 458.5406329,
                        "test": [
                          0.5618209573
                        ]
                      },
                      {
                        "learn": [
                          0.5565562139
                        ],
                        "iteration": 473,
                        "passed_time": 142.27385,
                        "remaining_time": 458.0377534,
                        "test": [
                          0.5618197743
                        ]
                      },
                      {
                        "learn": [
                          0.5565446433
                        ],
                        "iteration": 474,
                        "passed_time": 142.5520664,
                        "remaining_time": 457.6671606,
                        "test": [
                          0.56181284
                        ]
                      },
                      {
                        "learn": [
                          0.556538544
                        ],
                        "iteration": 475,
                        "passed_time": 142.776175,
                        "remaining_time": 457.1237201,
                        "test": [
                          0.5618130238
                        ]
                      },
                      {
                        "learn": [
                          0.556532263
                        ],
                        "iteration": 476,
                        "passed_time": 143.0110495,
                        "remaining_time": 456.6159924,
                        "test": [
                          0.5618141087
                        ]
                      },
                      {
                        "learn": [
                          0.5565305157
                        ],
                        "iteration": 477,
                        "passed_time": 143.2525259,
                        "remaining_time": 456.1304277,
                        "test": [
                          0.5618146118
                        ]
                      },
                      {
                        "learn": [
                          0.5565280581
                        ],
                        "iteration": 478,
                        "passed_time": 143.6272962,
                        "remaining_time": 456.0691389,
                        "test": [
                          0.5618182941
                        ]
                      },
                      {
                        "learn": [
                          0.5565208673
                        ],
                        "iteration": 479,
                        "passed_time": 143.9669057,
                        "remaining_time": 455.8952012,
                        "test": [
                          0.5618162383
                        ]
                      },
                      {
                        "learn": [
                          0.5565197765
                        ],
                        "iteration": 480,
                        "passed_time": 144.2383216,
                        "remaining_time": 455.5052195,
                        "test": [
                          0.5618148363
                        ]
                      },
                      {
                        "learn": [
                          0.5565180668
                        ],
                        "iteration": 481,
                        "passed_time": 144.7392817,
                        "remaining_time": 455.8386507,
                        "test": [
                          0.5618142833
                        ]
                      },
                      {
                        "learn": [
                          0.5565166539
                        ],
                        "iteration": 482,
                        "passed_time": 145.2998923,
                        "remaining_time": 456.3559764,
                        "test": [
                          0.5618177815
                        ]
                      },
                      {
                        "learn": [
                          0.5565156144
                        ],
                        "iteration": 483,
                        "passed_time": 145.7220895,
                        "remaining_time": 456.4353052,
                        "test": [
                          0.5618173742
                        ]
                      },
                      {
                        "learn": [
                          0.5565130982
                        ],
                        "iteration": 484,
                        "passed_time": 146.1738062,
                        "remaining_time": 456.6047761,
                        "test": [
                          0.5618178437
                        ]
                      },
                      {
                        "learn": [
                          0.5565099909
                        ],
                        "iteration": 485,
                        "passed_time": 146.648251,
                        "remaining_time": 456.8424938,
                        "test": [
                          0.5618166468
                        ]
                      },
                      {
                        "learn": [
                          0.5565094229
                        ],
                        "iteration": 486,
                        "passed_time": 147.0867678,
                        "remaining_time": 456.9656667,
                        "test": [
                          0.5618167941
                        ]
                      },
                      {
                        "learn": [
                          0.5564871853
                        ],
                        "iteration": 487,
                        "passed_time": 147.5404016,
                        "remaining_time": 457.1333756,
                        "test": [
                          0.5618049612
                        ]
                      },
                      {
                        "learn": [
                          0.5564805605
                        ],
                        "iteration": 488,
                        "passed_time": 148.0842812,
                        "remaining_time": 457.5774007,
                        "test": [
                          0.5618003946
                        ]
                      },
                      {
                        "learn": [
                          0.5564786856
                        ],
                        "iteration": 489,
                        "passed_time": 148.5506846,
                        "remaining_time": 457.7786403,
                        "test": [
                          0.5617998071
                        ]
                      },
                      {
                        "learn": [
                          0.5564720083
                        ],
                        "iteration": 490,
                        "passed_time": 148.9565136,
                        "remaining_time": 457.790996,
                        "test": [
                          0.5617984643
                        ]
                      },
                      {
                        "learn": [
                          0.5564691893
                        ],
                        "iteration": 491,
                        "passed_time": 149.4044494,
                        "remaining_time": 457.9307108,
                        "test": [
                          0.5618034963
                        ]
                      },
                      {
                        "learn": [
                          0.5564668916
                        ],
                        "iteration": 492,
                        "passed_time": 149.7911976,
                        "remaining_time": 457.8810035,
                        "test": [
                          0.5618036582
                        ]
                      },
                      {
                        "learn": [
                          0.556461809
                        ],
                        "iteration": 493,
                        "passed_time": 150.1476291,
                        "remaining_time": 457.737509,
                        "test": [
                          0.5617994225
                        ]
                      },
                      {
                        "learn": [
                          0.5564533215
                        ],
                        "iteration": 494,
                        "passed_time": 150.3997338,
                        "remaining_time": 457.2759584,
                        "test": [
                          0.5618030005
                        ]
                      },
                      {
                        "learn": [
                          0.556450481
                        ],
                        "iteration": 495,
                        "passed_time": 150.6982099,
                        "remaining_time": 456.9558622,
                        "test": [
                          0.5618026792
                        ]
                      },
                      {
                        "learn": [
                          0.5564481309
                        ],
                        "iteration": 496,
                        "passed_time": 150.8955958,
                        "remaining_time": 456.3301419,
                        "test": [
                          0.5618031631
                        ]
                      },
                      {
                        "learn": [
                          0.5564466117
                        ],
                        "iteration": 497,
                        "passed_time": 151.0984093,
                        "remaining_time": 455.7225116,
                        "test": [
                          0.5618025701
                        ]
                      },
                      {
                        "learn": [
                          0.5564415402
                        ],
                        "iteration": 498,
                        "passed_time": 151.2979237,
                        "remaining_time": 455.1065801,
                        "test": [
                          0.5618024974
                        ]
                      },
                      {
                        "learn": [
                          0.5564391679
                        ],
                        "iteration": 499,
                        "passed_time": 151.5204941,
                        "remaining_time": 454.5614823,
                        "test": [
                          0.5618021449
                        ]
                      },
                      {
                        "learn": [
                          0.5564364181
                        ],
                        "iteration": 500,
                        "passed_time": 151.7496503,
                        "remaining_time": 454.0373768,
                        "test": [
                          0.5618027902
                        ]
                      },
                      {
                        "learn": [
                          0.5564320992
                        ],
                        "iteration": 501,
                        "passed_time": 152.0250996,
                        "remaining_time": 453.6525881,
                        "test": [
                          0.5618050828
                        ]
                      },
                      {
                        "learn": [
                          0.5564282235
                        ],
                        "iteration": 502,
                        "passed_time": 152.2945163,
                        "remaining_time": 453.2502802,
                        "test": [
                          0.5618084321
                        ]
                      },
                      {
                        "learn": [
                          0.556422338
                        ],
                        "iteration": 503,
                        "passed_time": 152.5399821,
                        "remaining_time": 452.7774073,
                        "test": [
                          0.5618099802
                        ]
                      },
                      {
                        "learn": [
                          0.5564099888
                        ],
                        "iteration": 504,
                        "passed_time": 152.7996579,
                        "remaining_time": 452.347502,
                        "test": [
                          0.5618079582
                        ]
                      },
                      {
                        "learn": [
                          0.556409342
                        ],
                        "iteration": 505,
                        "passed_time": 153.0508442,
                        "remaining_time": 451.893204,
                        "test": [
                          0.5618069809
                        ]
                      },
                      {
                        "learn": [
                          0.5564067019
                        ],
                        "iteration": 506,
                        "passed_time": 153.2714319,
                        "remaining_time": 451.3496012,
                        "test": [
                          0.561805629
                        ]
                      },
                      {
                        "learn": [
                          0.5563993975
                        ],
                        "iteration": 507,
                        "passed_time": 153.5014608,
                        "remaining_time": 450.8349991,
                        "test": [
                          0.561809097
                        ]
                      },
                      {
                        "learn": [
                          0.5563963801
                        ],
                        "iteration": 508,
                        "passed_time": 153.7313271,
                        "remaining_time": 450.3210386,
                        "test": [
                          0.5618113511
                        ]
                      },
                      {
                        "learn": [
                          0.5563919655
                        ],
                        "iteration": 509,
                        "passed_time": 154.034598,
                        "remaining_time": 450.0226491,
                        "test": [
                          0.561808501
                        ]
                      },
                      {
                        "learn": [
                          0.5563913109
                        ],
                        "iteration": 510,
                        "passed_time": 154.3058815,
                        "remaining_time": 449.6310325,
                        "test": [
                          0.5618102095
                        ]
                      },
                      {
                        "learn": [
                          0.5563854973
                        ],
                        "iteration": 511,
                        "passed_time": 154.6262478,
                        "remaining_time": 449.3825325,
                        "test": [
                          0.5618117669
                        ]
                      },
                      {
                        "learn": [
                          0.5563853649
                        ],
                        "iteration": 512,
                        "passed_time": 154.8465418,
                        "remaining_time": 448.8436797,
                        "test": [
                          0.5618116453
                        ]
                      },
                      {
                        "learn": [
                          0.5563834267
                        ],
                        "iteration": 513,
                        "passed_time": 155.0543486,
                        "remaining_time": 448.2699649,
                        "test": [
                          0.5618105592
                        ]
                      },
                      {
                        "learn": [
                          0.556375122
                        ],
                        "iteration": 514,
                        "passed_time": 155.8706927,
                        "remaining_time": 449.4523858,
                        "test": [
                          0.5618040215
                        ]
                      },
                      {
                        "learn": [
                          0.5563732004
                        ],
                        "iteration": 515,
                        "passed_time": 156.1240996,
                        "remaining_time": 449.0080693,
                        "test": [
                          0.5618034454
                        ]
                      },
                      {
                        "learn": [
                          0.5563682008
                        ],
                        "iteration": 516,
                        "passed_time": 156.3227976,
                        "remaining_time": 448.4075605,
                        "test": [
                          0.5618057829
                        ]
                      },
                      {
                        "learn": [
                          0.556365805
                        ],
                        "iteration": 517,
                        "passed_time": 156.5045151,
                        "remaining_time": 447.7600221,
                        "test": [
                          0.5618056214
                        ]
                      },
                      {
                        "learn": [
                          0.5563643965
                        ],
                        "iteration": 518,
                        "passed_time": 156.7627183,
                        "remaining_time": 447.3325353,
                        "test": [
                          0.5618066431
                        ]
                      },
                      {
                        "learn": [
                          0.5563526766
                        ],
                        "iteration": 519,
                        "passed_time": 156.9889642,
                        "remaining_time": 446.8147444,
                        "test": [
                          0.5618012706
                        ]
                      },
                      {
                        "learn": [
                          0.5563460144
                        ],
                        "iteration": 520,
                        "passed_time": 157.2705719,
                        "remaining_time": 446.4552319,
                        "test": [
                          0.5618003753
                        ]
                      },
                      {
                        "learn": [
                          0.5563442416
                        ],
                        "iteration": 521,
                        "passed_time": 157.5059266,
                        "remaining_time": 445.9650565,
                        "test": [
                          0.561800883
                        ]
                      },
                      {
                        "learn": [
                          0.5563433454
                        ],
                        "iteration": 522,
                        "passed_time": 157.737917,
                        "remaining_time": 445.4663544,
                        "test": [
                          0.5618009543
                        ]
                      },
                      {
                        "learn": [
                          0.5563378087
                        ],
                        "iteration": 523,
                        "passed_time": 158.0449822,
                        "remaining_time": 445.1801407,
                        "test": [
                          0.5618059152
                        ]
                      },
                      {
                        "learn": [
                          0.5563199778
                        ],
                        "iteration": 524,
                        "passed_time": 158.3017108,
                        "remaining_time": 444.7524257,
                        "test": [
                          0.5618006134
                        ]
                      },
                      {
                        "learn": [
                          0.5562961953
                        ],
                        "iteration": 525,
                        "passed_time": 158.5399358,
                        "remaining_time": 444.2735082,
                        "test": [
                          0.5617927712
                        ]
                      },
                      {
                        "learn": [
                          0.5562838172
                        ],
                        "iteration": 526,
                        "passed_time": 158.7620733,
                        "remaining_time": 443.7505388,
                        "test": [
                          0.5617971351
                        ]
                      },
                      {
                        "learn": [
                          0.5562819305
                        ],
                        "iteration": 527,
                        "passed_time": 159.006823,
                        "remaining_time": 443.2917489,
                        "test": [
                          0.561798272
                        ]
                      },
                      {
                        "learn": [
                          0.5562753856
                        ],
                        "iteration": 528,
                        "passed_time": 159.2312026,
                        "remaining_time": 442.7771247,
                        "test": [
                          0.5618044456
                        ]
                      },
                      {
                        "learn": [
                          0.5562749919
                        ],
                        "iteration": 529,
                        "passed_time": 159.4319176,
                        "remaining_time": 442.1979601,
                        "test": [
                          0.5618044272
                        ]
                      },
                      {
                        "learn": [
                          0.5562708231
                        ],
                        "iteration": 530,
                        "passed_time": 159.7106333,
                        "remaining_time": 441.8360082,
                        "test": [
                          0.5618063658
                        ]
                      },
                      {
                        "learn": [
                          0.5562641944
                        ],
                        "iteration": 531,
                        "passed_time": 160.0140159,
                        "remaining_time": 441.5424348,
                        "test": [
                          0.5618014724
                        ]
                      },
                      {
                        "learn": [
                          0.5562571632
                        ],
                        "iteration": 532,
                        "passed_time": 160.3994887,
                        "remaining_time": 441.4747654,
                        "test": [
                          0.5617997772
                        ]
                      },
                      {
                        "learn": [
                          0.5562493517
                        ],
                        "iteration": 533,
                        "passed_time": 161.0929155,
                        "remaining_time": 442.2513374,
                        "test": [
                          0.5617959596
                        ]
                      },
                      {
                        "learn": [
                          0.5562383221
                        ],
                        "iteration": 534,
                        "passed_time": 161.6878458,
                        "remaining_time": 442.7526991,
                        "test": [
                          0.5617766933
                        ]
                      },
                      {
                        "learn": [
                          0.5562368208
                        ],
                        "iteration": 535,
                        "passed_time": 162.2320123,
                        "remaining_time": 443.1113171,
                        "test": [
                          0.5617770912
                        ]
                      },
                      {
                        "learn": [
                          0.5562360817
                        ],
                        "iteration": 536,
                        "passed_time": 162.6863227,
                        "remaining_time": 443.2217692,
                        "test": [
                          0.5617774079
                        ]
                      },
                      {
                        "learn": [
                          0.5562354499
                        ],
                        "iteration": 537,
                        "passed_time": 163.1461615,
                        "remaining_time": 443.3451452,
                        "test": [
                          0.5617771463
                        ]
                      },
                      {
                        "learn": [
                          0.5562345
                        ],
                        "iteration": 538,
                        "passed_time": 163.3569881,
                        "remaining_time": 442.7913908,
                        "test": [
                          0.5617799161
                        ]
                      },
                      {
                        "learn": [
                          0.5562262092
                        ],
                        "iteration": 539,
                        "passed_time": 163.6829159,
                        "remaining_time": 442.5501058,
                        "test": [
                          0.5617752002
                        ]
                      },
                      {
                        "learn": [
                          0.5562163486
                        ],
                        "iteration": 540,
                        "passed_time": 163.9287129,
                        "remaining_time": 442.0924068,
                        "test": [
                          0.5617649871
                        ]
                      },
                      {
                        "learn": [
                          0.5562144842
                        ],
                        "iteration": 541,
                        "passed_time": 164.1759872,
                        "remaining_time": 441.6394636,
                        "test": [
                          0.5617640182
                        ]
                      },
                      {
                        "learn": [
                          0.5562116078
                        ],
                        "iteration": 542,
                        "passed_time": 164.4208606,
                        "remaining_time": 441.1808359,
                        "test": [
                          0.5617661778
                        ]
                      },
                      {
                        "learn": [
                          0.5562114048
                        ],
                        "iteration": 543,
                        "passed_time": 164.6106644,
                        "remaining_time": 440.5756018,
                        "test": [
                          0.5617661709
                        ]
                      },
                      {
                        "learn": [
                          0.5562085733
                        ],
                        "iteration": 544,
                        "passed_time": 164.8997,
                        "remaining_time": 440.2368138,
                        "test": [
                          0.561765726
                        ]
                      },
                      {
                        "learn": [
                          0.5562045543
                        ],
                        "iteration": 545,
                        "passed_time": 165.178467,
                        "remaining_time": 439.8708628,
                        "test": [
                          0.5617665748
                        ]
                      },
                      {
                        "learn": [
                          0.5561660204
                        ],
                        "iteration": 546,
                        "passed_time": 165.4303651,
                        "remaining_time": 439.4338582,
                        "test": [
                          0.5617203897
                        ]
                      },
                      {
                        "learn": [
                          0.5561536415
                        ],
                        "iteration": 547,
                        "passed_time": 165.6954534,
                        "remaining_time": 439.0324788,
                        "test": [
                          0.5617168173
                        ]
                      },
                      {
                        "learn": [
                          0.5561503326
                        ],
                        "iteration": 548,
                        "passed_time": 165.8967332,
                        "remaining_time": 438.4629505,
                        "test": [
                          0.5617169564
                        ]
                      },
                      {
                        "learn": [
                          0.5561404159
                        ],
                        "iteration": 549,
                        "passed_time": 166.133116,
                        "remaining_time": 437.9873059,
                        "test": [
                          0.5617255706
                        ]
                      },
                      {
                        "learn": [
                          0.55613335
                        ],
                        "iteration": 550,
                        "passed_time": 166.440274,
                        "remaining_time": 437.6986517,
                        "test": [
                          0.5617230284
                        ]
                      },
                      {
                        "learn": [
                          0.556131122
                        ],
                        "iteration": 551,
                        "passed_time": 166.6683489,
                        "remaining_time": 437.2024804,
                        "test": [
                          0.5617235569
                        ]
                      },
                      {
                        "learn": [
                          0.5561272171
                        ],
                        "iteration": 552,
                        "passed_time": 166.9407576,
                        "remaining_time": 436.8232844,
                        "test": [
                          0.561720482
                        ]
                      },
                      {
                        "learn": [
                          0.5561246582
                        ],
                        "iteration": 553,
                        "passed_time": 167.2054723,
                        "remaining_time": 436.4243916,
                        "test": [
                          0.5617208752
                        ]
                      },
                      {
                        "learn": [
                          0.5561200161
                        ],
                        "iteration": 554,
                        "passed_time": 167.4444255,
                        "remaining_time": 435.9589096,
                        "test": [
                          0.5617201817
                        ]
                      },
                      {
                        "learn": [
                          0.5561184651
                        ],
                        "iteration": 555,
                        "passed_time": 167.6590023,
                        "remaining_time": 435.4309341,
                        "test": [
                          0.5617181809
                        ]
                      },
                      {
                        "learn": [
                          0.5561164038
                        ],
                        "iteration": 556,
                        "passed_time": 167.8605032,
                        "remaining_time": 434.8702085,
                        "test": [
                          0.5617199584
                        ]
                      },
                      {
                        "learn": [
                          0.5561149699
                        ],
                        "iteration": 557,
                        "passed_time": 168.0878684,
                        "remaining_time": 434.3776097,
                        "test": [
                          0.5617184352
                        ]
                      },
                      {
                        "learn": [
                          0.5561022684
                        ],
                        "iteration": 558,
                        "passed_time": 168.3986129,
                        "remaining_time": 434.1008967,
                        "test": [
                          0.5617161956
                        ]
                      },
                      {
                        "learn": [
                          0.556093528
                        ],
                        "iteration": 559,
                        "passed_time": 168.6840195,
                        "remaining_time": 433.7589072,
                        "test": [
                          0.5617190771
                        ]
                      },
                      {
                        "learn": [
                          0.556092131
                        ],
                        "iteration": 560,
                        "passed_time": 168.9481844,
                        "remaining_time": 433.3626334,
                        "test": [
                          0.5617185238
                        ]
                      },
                      {
                        "learn": [
                          0.5560795659
                        ],
                        "iteration": 561,
                        "passed_time": 169.1546111,
                        "remaining_time": 432.819094,
                        "test": [
                          0.5617181496
                        ]
                      },
                      {
                        "learn": [
                          0.5560768257
                        ],
                        "iteration": 562,
                        "passed_time": 169.4337684,
                        "remaining_time": 432.4623894,
                        "test": [
                          0.5617187244
                        ]
                      },
                      {
                        "learn": [
                          0.5560749761
                        ],
                        "iteration": 563,
                        "passed_time": 169.6610268,
                        "remaining_time": 431.9738199,
                        "test": [
                          0.5617187799
                        ]
                      },
                      {
                        "learn": [
                          0.5560737417
                        ],
                        "iteration": 564,
                        "passed_time": 169.8754471,
                        "remaining_time": 431.4535691,
                        "test": [
                          0.5617187429
                        ]
                      },
                      {
                        "learn": [
                          0.556065807
                        ],
                        "iteration": 565,
                        "passed_time": 170.1867804,
                        "remaining_time": 431.1799347,
                        "test": [
                          0.5617221381
                        ]
                      },
                      {
                        "learn": [
                          0.5560592606
                        ],
                        "iteration": 566,
                        "passed_time": 170.5398432,
                        "remaining_time": 431.0116318,
                        "test": [
                          0.5617233308
                        ]
                      },
                      {
                        "learn": [
                          0.5560520954
                        ],
                        "iteration": 567,
                        "passed_time": 170.8904327,
                        "remaining_time": 430.836443,
                        "test": [
                          0.5617246295
                        ]
                      },
                      {
                        "learn": [
                          0.5560457968
                        ],
                        "iteration": 568,
                        "passed_time": 171.1335252,
                        "remaining_time": 430.3902891,
                        "test": [
                          0.5617259413
                        ]
                      },
                      {
                        "learn": [
                          0.5560398497
                        ],
                        "iteration": 569,
                        "passed_time": 171.6032817,
                        "remaining_time": 430.5134963,
                        "test": [
                          0.56171909
                        ]
                      },
                      {
                        "learn": [
                          0.5560285906
                        ],
                        "iteration": 570,
                        "passed_time": 171.9369363,
                        "remaining_time": 430.2940139,
                        "test": [
                          0.5617116562
                        ]
                      },
                      {
                        "learn": [
                          0.5560257041
                        ],
                        "iteration": 571,
                        "passed_time": 172.2030793,
                        "remaining_time": 429.9055897,
                        "test": [
                          0.5617122088
                        ]
                      },
                      {
                        "learn": [
                          0.5560161754
                        ],
                        "iteration": 572,
                        "passed_time": 172.485614,
                        "remaining_time": 429.558414,
                        "test": [
                          0.5617139515
                        ]
                      },
                      {
                        "learn": [
                          0.5560104407
                        ],
                        "iteration": 573,
                        "passed_time": 172.7747639,
                        "remaining_time": 429.2278977,
                        "test": [
                          0.5617174178
                        ]
                      },
                      {
                        "learn": [
                          0.5560052065
                        ],
                        "iteration": 574,
                        "passed_time": 173.0172648,
                        "remaining_time": 428.781917,
                        "test": [
                          0.5617223074
                        ]
                      },
                      {
                        "learn": [
                          0.5560044818
                        ],
                        "iteration": 575,
                        "passed_time": 173.2792583,
                        "remaining_time": 428.3848331,
                        "test": [
                          0.5617215547
                        ]
                      },
                      {
                        "learn": [
                          0.5560038744
                        ],
                        "iteration": 576,
                        "passed_time": 173.7480507,
                        "remaining_time": 428.4982254,
                        "test": [
                          0.5617223702
                        ]
                      },
                      {
                        "learn": [
                          0.5559972921
                        ],
                        "iteration": 577,
                        "passed_time": 174.2249999,
                        "remaining_time": 428.6296712,
                        "test": [
                          0.5617169985
                        ]
                      },
                      {
                        "learn": [
                          0.5559942888
                        ],
                        "iteration": 578,
                        "passed_time": 174.7980723,
                        "remaining_time": 428.9949236,
                        "test": [
                          0.5617225655
                        ]
                      },
                      {
                        "learn": [
                          0.5559620907
                        ],
                        "iteration": 579,
                        "passed_time": 175.4953165,
                        "remaining_time": 429.6609472,
                        "test": [
                          0.5616917819
                        ]
                      },
                      {
                        "learn": [
                          0.5559564935
                        ],
                        "iteration": 580,
                        "passed_time": 176.0316731,
                        "remaining_time": 429.9293358,
                        "test": [
                          0.5616903686
                        ]
                      },
                      {
                        "learn": [
                          0.5559514486
                        ],
                        "iteration": 581,
                        "passed_time": 176.4043203,
                        "remaining_time": 429.7960931,
                        "test": [
                          0.561684261
                        ]
                      },
                      {
                        "learn": [
                          0.5559487544
                        ],
                        "iteration": 582,
                        "passed_time": 176.5975724,
                        "remaining_time": 429.2260036,
                        "test": [
                          0.5616842975
                        ]
                      },
                      {
                        "learn": [
                          0.5559468598
                        ],
                        "iteration": 583,
                        "passed_time": 176.7898765,
                        "remaining_time": 428.654906,
                        "test": [
                          0.5616844419
                        ]
                      },
                      {
                        "learn": [
                          0.5559413042
                        ],
                        "iteration": 584,
                        "passed_time": 177.0599779,
                        "remaining_time": 428.2732799,
                        "test": [
                          0.5616854337
                        ]
                      },
                      {
                        "learn": [
                          0.5559308998
                        ],
                        "iteration": 585,
                        "passed_time": 177.2820903,
                        "remaining_time": 427.7762385,
                        "test": [
                          0.5616818147
                        ]
                      },
                      {
                        "learn": [
                          0.5559173023
                        ],
                        "iteration": 586,
                        "passed_time": 177.5144826,
                        "remaining_time": 427.3048789,
                        "test": [
                          0.5616744224
                        ]
                      },
                      {
                        "learn": [
                          0.5559161358
                        ],
                        "iteration": 587,
                        "passed_time": 177.7146374,
                        "remaining_time": 426.7569183,
                        "test": [
                          0.5616732946
                        ]
                      },
                      {
                        "learn": [
                          0.5559004619
                        ],
                        "iteration": 588,
                        "passed_time": 177.9835177,
                        "remaining_time": 426.3747766,
                        "test": [
                          0.5616643245
                        ]
                      },
                      {
                        "learn": [
                          0.5558994555
                        ],
                        "iteration": 589,
                        "passed_time": 178.2085315,
                        "remaining_time": 425.8881855,
                        "test": [
                          0.5616643482
                        ]
                      },
                      {
                        "learn": [
                          0.5558965384
                        ],
                        "iteration": 590,
                        "passed_time": 178.415837,
                        "remaining_time": 425.3602612,
                        "test": [
                          0.5616669494
                        ]
                      },
                      {
                        "learn": [
                          0.5558949066
                        ],
                        "iteration": 591,
                        "passed_time": 178.6569616,
                        "remaining_time": 424.9138547,
                        "test": [
                          0.5616657856
                        ]
                      },
                      {
                        "learn": [
                          0.5558929384
                        ],
                        "iteration": 592,
                        "passed_time": 178.9356756,
                        "remaining_time": 424.5573282,
                        "test": [
                          0.5616662659
                        ]
                      },
                      {
                        "learn": [
                          0.5558864106
                        ],
                        "iteration": 593,
                        "passed_time": 179.1825553,
                        "remaining_time": 424.1257118,
                        "test": [
                          0.5616705148
                        ]
                      },
                      {
                        "learn": [
                          0.5558837362
                        ],
                        "iteration": 594,
                        "passed_time": 179.4283693,
                        "remaining_time": 423.6921998,
                        "test": [
                          0.5616705105
                        ]
                      },
                      {
                        "learn": [
                          0.5558829463
                        ],
                        "iteration": 595,
                        "passed_time": 179.7148446,
                        "remaining_time": 423.3551038,
                        "test": [
                          0.5616714392
                        ]
                      },
                      {
                        "learn": [
                          0.5558806525
                        ],
                        "iteration": 596,
                        "passed_time": 179.9710626,
                        "remaining_time": 422.9470701,
                        "test": [
                          0.561670278
                        ]
                      },
                      {
                        "learn": [
                          0.5558699502
                        ],
                        "iteration": 597,
                        "passed_time": 180.2487746,
                        "remaining_time": 422.5899365,
                        "test": [
                          0.5616696513
                        ]
                      },
                      {
                        "learn": [
                          0.5558687031
                        ],
                        "iteration": 598,
                        "passed_time": 180.5575543,
                        "remaining_time": 422.3057321,
                        "test": [
                          0.5616697991
                        ]
                      },
                      {
                        "learn": [
                          0.5558616016
                        ],
                        "iteration": 599,
                        "passed_time": 180.7628311,
                        "remaining_time": 421.7799391,
                        "test": [
                          0.5616702088
                        ]
                      },
                      {
                        "learn": [
                          0.5558482331
                        ],
                        "iteration": 600,
                        "passed_time": 181.1277125,
                        "remaining_time": 421.6267384,
                        "test": [
                          0.561663667
                        ]
                      },
                      {
                        "learn": [
                          0.5558425145
                        ],
                        "iteration": 601,
                        "passed_time": 181.4797311,
                        "remaining_time": 421.4429636,
                        "test": [
                          0.5616619464
                        ]
                      },
                      {
                        "learn": [
                          0.5558271125
                        ],
                        "iteration": 602,
                        "passed_time": 181.7261257,
                        "remaining_time": 421.0139265,
                        "test": [
                          0.5616539785
                        ]
                      },
                      {
                        "learn": [
                          0.5558219135
                        ],
                        "iteration": 603,
                        "passed_time": 181.9922642,
                        "remaining_time": 420.6311273,
                        "test": [
                          0.5616503055
                        ]
                      },
                      {
                        "learn": [
                          0.5558184649
                        ],
                        "iteration": 604,
                        "passed_time": 182.2999297,
                        "remaining_time": 420.344466,
                        "test": [
                          0.561651805
                        ]
                      },
                      {
                        "learn": [
                          0.5558158232
                        ],
                        "iteration": 605,
                        "passed_time": 182.5077408,
                        "remaining_time": 419.8280374,
                        "test": [
                          0.5616522486
                        ]
                      },
                      {
                        "learn": [
                          0.5558054424
                        ],
                        "iteration": 606,
                        "passed_time": 182.7184066,
                        "remaining_time": 419.319177,
                        "test": [
                          0.5616555856
                        ]
                      },
                      {
                        "learn": [
                          0.5557991933
                        ],
                        "iteration": 607,
                        "passed_time": 182.910388,
                        "remaining_time": 418.7685199,
                        "test": [
                          0.5616510091
                        ]
                      },
                      {
                        "learn": [
                          0.555798863
                        ],
                        "iteration": 608,
                        "passed_time": 183.1114862,
                        "remaining_time": 418.2398642,
                        "test": [
                          0.5616506888
                        ]
                      },
                      {
                        "learn": [
                          0.5557923723
                        ],
                        "iteration": 609,
                        "passed_time": 183.3625772,
                        "remaining_time": 417.8262006,
                        "test": [
                          0.5616540143
                        ]
                      },
                      {
                        "learn": [
                          0.5557801765
                        ],
                        "iteration": 610,
                        "passed_time": 183.619245,
                        "remaining_time": 417.4257468,
                        "test": [
                          0.5616562924
                        ]
                      },
                      {
                        "learn": [
                          0.5557776714
                        ],
                        "iteration": 611,
                        "passed_time": 183.8851062,
                        "remaining_time": 417.0466134,
                        "test": [
                          0.5616563293
                        ]
                      },
                      {
                        "learn": [
                          0.5557722573
                        ],
                        "iteration": 612,
                        "passed_time": 184.2003709,
                        "remaining_time": 416.779632,
                        "test": [
                          0.561653799
                        ]
                      },
                      {
                        "learn": [
                          0.5557516903
                        ],
                        "iteration": 613,
                        "passed_time": 184.5396805,
                        "remaining_time": 416.5667707,
                        "test": [
                          0.5616342524
                        ]
                      },
                      {
                        "learn": [
                          0.5557493595
                        ],
                        "iteration": 614,
                        "passed_time": 184.751104,
                        "remaining_time": 416.0654944,
                        "test": [
                          0.5616320845
                        ]
                      },
                      {
                        "learn": [
                          0.5557306874
                        ],
                        "iteration": 615,
                        "passed_time": 185.0343853,
                        "remaining_time": 415.726606,
                        "test": [
                          0.5616184456
                        ]
                      },
                      {
                        "learn": [
                          0.5557292056
                        ],
                        "iteration": 616,
                        "passed_time": 185.2641566,
                        "remaining_time": 415.2679556,
                        "test": [
                          0.5616184675
                        ]
                      },
                      {
                        "learn": [
                          0.5557270414
                        ],
                        "iteration": 617,
                        "passed_time": 185.6359942,
                        "remaining_time": 415.127741,
                        "test": [
                          0.5616227519
                        ]
                      },
                      {
                        "learn": [
                          0.5557235981
                        ],
                        "iteration": 618,
                        "passed_time": 185.9136106,
                        "remaining_time": 414.776569,
                        "test": [
                          0.561623387
                        ]
                      },
                      {
                        "learn": [
                          0.5557217861
                        ],
                        "iteration": 619,
                        "passed_time": 186.1967608,
                        "remaining_time": 414.4379515,
                        "test": [
                          0.5616241998
                        ]
                      },
                      {
                        "learn": [
                          0.555718478
                        ],
                        "iteration": 620,
                        "passed_time": 186.6277629,
                        "remaining_time": 414.4278341,
                        "test": [
                          0.5616237976
                        ]
                      },
                      {
                        "learn": [
                          0.5557168115
                        ],
                        "iteration": 621,
                        "passed_time": 187.0329122,
                        "remaining_time": 414.3590885,
                        "test": [
                          0.5616249657
                        ]
                      },
                      {
                        "learn": [
                          0.5557162365
                        ],
                        "iteration": 622,
                        "passed_time": 187.4767474,
                        "remaining_time": 414.3747691,
                        "test": [
                          0.5616249636
                        ]
                      },
                      {
                        "learn": [
                          0.5557078949
                        ],
                        "iteration": 623,
                        "passed_time": 188.0463909,
                        "remaining_time": 414.6664004,
                        "test": [
                          0.5616194053
                        ]
                      },
                      {
                        "learn": [
                          0.5557038449
                        ],
                        "iteration": 624,
                        "passed_time": 188.4590158,
                        "remaining_time": 414.6098348,
                        "test": [
                          0.5616198849
                        ]
                      },
                      {
                        "learn": [
                          0.5556995401
                        ],
                        "iteration": 625,
                        "passed_time": 188.8473473,
                        "remaining_time": 414.4988103,
                        "test": [
                          0.561617097
                        ]
                      },
                      {
                        "learn": [
                          0.5556965133
                        ],
                        "iteration": 626,
                        "passed_time": 189.2335212,
                        "remaining_time": 414.3821765,
                        "test": [
                          0.5616171689
                        ]
                      },
                      {
                        "learn": [
                          0.55569447
                        ],
                        "iteration": 627,
                        "passed_time": 189.5961538,
                        "remaining_time": 414.2132531,
                        "test": [
                          0.5616186325
                        ]
                      },
                      {
                        "learn": [
                          0.5556908079
                        ],
                        "iteration": 628,
                        "passed_time": 189.9209909,
                        "remaining_time": 413.961333,
                        "test": [
                          0.5616179396
                        ]
                      },
                      {
                        "learn": [
                          0.5556803559
                        ],
                        "iteration": 629,
                        "passed_time": 190.2776357,
                        "remaining_time": 413.7783508,
                        "test": [
                          0.561614639
                        ]
                      },
                      {
                        "learn": [
                          0.5556794038
                        ],
                        "iteration": 630,
                        "passed_time": 190.5058916,
                        "remaining_time": 413.3162688,
                        "test": [
                          0.5616147491
                        ]
                      },
                      {
                        "learn": [
                          0.555673353
                        ],
                        "iteration": 631,
                        "passed_time": 190.7396403,
                        "remaining_time": 412.8668164,
                        "test": [
                          0.5616113037
                        ]
                      },
                      {
                        "learn": [
                          0.5556709252
                        ],
                        "iteration": 632,
                        "passed_time": 191.0052835,
                        "remaining_time": 412.4869234,
                        "test": [
                          0.5616117488
                        ]
                      },
                      {
                        "learn": [
                          0.5556670396
                        ],
                        "iteration": 633,
                        "passed_time": 191.2134842,
                        "remaining_time": 411.9836269,
                        "test": [
                          0.5616112568
                        ]
                      },
                      {
                        "learn": [
                          0.5556592025
                        ],
                        "iteration": 634,
                        "passed_time": 191.4516885,
                        "remaining_time": 411.5457556,
                        "test": [
                          0.5616138452
                        ]
                      },
                      {
                        "learn": [
                          0.5556545718
                        ],
                        "iteration": 635,
                        "passed_time": 191.764754,
                        "remaining_time": 411.2690635,
                        "test": [
                          0.5616122431
                        ]
                      },
                      {
                        "learn": [
                          0.5556503894
                        ],
                        "iteration": 636,
                        "passed_time": 192.047029,
                        "remaining_time": 410.9263745,
                        "test": [
                          0.5616139759
                        ]
                      },
                      {
                        "learn": [
                          0.5556405236
                        ],
                        "iteration": 637,
                        "passed_time": 192.2698614,
                        "remaining_time": 410.4569768,
                        "test": [
                          0.5616209374
                        ]
                      },
                      {
                        "learn": [
                          0.5556388531
                        ],
                        "iteration": 638,
                        "passed_time": 192.5549582,
                        "remaining_time": 410.1209673,
                        "test": [
                          0.5616196786
                        ]
                      },
                      {
                        "learn": [
                          0.5556361754
                        ],
                        "iteration": 639,
                        "passed_time": 192.8683431,
                        "remaining_time": 409.8452291,
                        "test": [
                          0.5616188048
                        ]
                      },
                      {
                        "learn": [
                          0.555633747
                        ],
                        "iteration": 640,
                        "passed_time": 193.1643631,
                        "remaining_time": 409.5325577,
                        "test": [
                          0.5616124946
                        ]
                      },
                      {
                        "learn": [
                          0.5556306351
                        ],
                        "iteration": 641,
                        "passed_time": 193.4240512,
                        "remaining_time": 409.1430866,
                        "test": [
                          0.5616124699
                        ]
                      },
                      {
                        "learn": [
                          0.5556254323
                        ],
                        "iteration": 642,
                        "passed_time": 193.6654537,
                        "remaining_time": 408.7154287,
                        "test": [
                          0.5616128737
                        ]
                      },
                      {
                        "learn": [
                          0.555621574
                        ],
                        "iteration": 643,
                        "passed_time": 193.9175768,
                        "remaining_time": 408.3109225,
                        "test": [
                          0.5616164482
                        ]
                      },
                      {
                        "learn": [
                          0.5556182024
                        ],
                        "iteration": 644,
                        "passed_time": 194.1374727,
                        "remaining_time": 407.8391868,
                        "test": [
                          0.5616156875
                        ]
                      },
                      {
                        "learn": [
                          0.5556166797
                        ],
                        "iteration": 645,
                        "passed_time": 194.3589708,
                        "remaining_time": 407.3715889,
                        "test": [
                          0.561617168
                        ]
                      },
                      {
                        "learn": [
                          0.5556153756
                        ],
                        "iteration": 646,
                        "passed_time": 194.6346632,
                        "remaining_time": 407.0180824,
                        "test": [
                          0.5616166427
                        ]
                      },
                      {
                        "learn": [
                          0.5556131224
                        ],
                        "iteration": 647,
                        "passed_time": 194.8360345,
                        "remaining_time": 406.5097511,
                        "test": [
                          0.561615946
                        ]
                      },
                      {
                        "learn": [
                          0.5556094116
                        ],
                        "iteration": 648,
                        "passed_time": 195.0771369,
                        "remaining_time": 406.0850723,
                        "test": [
                          0.5616153875
                        ]
                      },
                      {
                        "learn": [
                          0.5556072296
                        ],
                        "iteration": 649,
                        "passed_time": 195.2838639,
                        "remaining_time": 405.5895634,
                        "test": [
                          0.5616157333
                        ]
                      },
                      {
                        "learn": [
                          0.5556029969
                        ],
                        "iteration": 650,
                        "passed_time": 195.5046629,
                        "remaining_time": 405.1241018,
                        "test": [
                          0.561617346
                        ]
                      },
                      {
                        "learn": [
                          0.555601045
                        ],
                        "iteration": 651,
                        "passed_time": 195.7110609,
                        "remaining_time": 404.6296167,
                        "test": [
                          0.5616190021
                        ]
                      },
                      {
                        "learn": [
                          0.5555977629
                        ],
                        "iteration": 652,
                        "passed_time": 195.9522346,
                        "remaining_time": 404.2077488,
                        "test": [
                          0.561618598
                        ]
                      },
                      {
                        "learn": [
                          0.5555901249
                        ],
                        "iteration": 653,
                        "passed_time": 196.2293196,
                        "remaining_time": 403.8603428,
                        "test": [
                          0.5616219164
                        ]
                      },
                      {
                        "learn": [
                          0.555584794
                        ],
                        "iteration": 654,
                        "passed_time": 196.4653603,
                        "remaining_time": 403.4288697,
                        "test": [
                          0.5616234988
                        ]
                      },
                      {
                        "learn": [
                          0.5555822821
                        ],
                        "iteration": 655,
                        "passed_time": 196.6972915,
                        "remaining_time": 402.9895727,
                        "test": [
                          0.561623793
                        ]
                      },
                      {
                        "learn": [
                          0.555574263
                        ],
                        "iteration": 656,
                        "passed_time": 196.9760033,
                        "remaining_time": 402.6465334,
                        "test": [
                          0.561628328
                        ]
                      },
                      {
                        "learn": [
                          0.5555693038
                        ],
                        "iteration": 657,
                        "passed_time": 197.2755138,
                        "remaining_time": 402.3461087,
                        "test": [
                          0.5616335443
                        ]
                      },
                      {
                        "learn": [
                          0.5555679454
                        ],
                        "iteration": 658,
                        "passed_time": 197.5277678,
                        "remaining_time": 401.9495245,
                        "test": [
                          0.5616351002
                        ]
                      },
                      {
                        "learn": [
                          0.5555671391
                        ],
                        "iteration": 659,
                        "passed_time": 197.7961232,
                        "remaining_time": 401.5860683,
                        "test": [
                          0.5616347031
                        ]
                      },
                      {
                        "learn": [
                          0.5555601733
                        ],
                        "iteration": 660,
                        "passed_time": 198.0720282,
                        "remaining_time": 401.2381934,
                        "test": [
                          0.5616374021
                        ]
                      },
                      {
                        "learn": [
                          0.5555561413
                        ],
                        "iteration": 661,
                        "passed_time": 198.2870964,
                        "remaining_time": 400.7675754,
                        "test": [
                          0.5616382913
                        ]
                      },
                      {
                        "learn": [
                          0.5555519452
                        ],
                        "iteration": 662,
                        "passed_time": 198.5182951,
                        "remaining_time": 400.3302572,
                        "test": [
                          0.5616354686
                        ]
                      },
                      {
                        "learn": [
                          0.5555480751
                        ],
                        "iteration": 663,
                        "passed_time": 198.7544104,
                        "remaining_time": 399.9034523,
                        "test": [
                          0.5616426484
                        ]
                      },
                      {
                        "learn": [
                          0.5555453737
                        ],
                        "iteration": 664,
                        "passed_time": 199.0663259,
                        "remaining_time": 399.6293911,
                        "test": [
                          0.5616411442
                        ]
                      },
                      {
                        "learn": [
                          0.5555384703
                        ],
                        "iteration": 665,
                        "passed_time": 199.351713,
                        "remaining_time": 399.3020797,
                        "test": [
                          0.5616328426
                        ]
                      },
                      {
                        "learn": [
                          0.5555340978
                        ],
                        "iteration": 666,
                        "passed_time": 199.7450766,
                        "remaining_time": 399.1906853,
                        "test": [
                          0.5616412532
                        ]
                      },
                      {
                        "learn": [
                          0.5555319252
                        ],
                        "iteration": 667,
                        "passed_time": 200.4241807,
                        "remaining_time": 399.6482167,
                        "test": [
                          0.5616417073
                        ]
                      },
                      {
                        "learn": [
                          0.555528324
                        ],
                        "iteration": 668,
                        "passed_time": 200.9817428,
                        "remaining_time": 399.8605376,
                        "test": [
                          0.5616370923
                        ]
                      },
                      {
                        "learn": [
                          0.5555243569
                        ],
                        "iteration": 669,
                        "passed_time": 201.5532149,
                        "remaining_time": 400.0981728,
                        "test": [
                          0.5616375803
                        ]
                      },
                      {
                        "learn": [
                          0.5555185345
                        ],
                        "iteration": 670,
                        "passed_time": 201.975766,
                        "remaining_time": 400.0384396,
                        "test": [
                          0.5616390446
                        ]
                      },
                      {
                        "learn": [
                          0.5555119189
                        ],
                        "iteration": 671,
                        "passed_time": 202.4205336,
                        "remaining_time": 400.0215307,
                        "test": [
                          0.5616399746
                        ]
                      },
                      {
                        "learn": [
                          0.5555100577
                        ],
                        "iteration": 672,
                        "passed_time": 202.6563921,
                        "remaining_time": 399.5914299,
                        "test": [
                          0.5616404097
                        ]
                      },
                      {
                        "learn": [
                          0.5555087032
                        ],
                        "iteration": 673,
                        "passed_time": 202.871294,
                        "remaining_time": 399.1206763,
                        "test": [
                          0.5616400911
                        ]
                      },
                      {
                        "learn": [
                          0.5555071106
                        ],
                        "iteration": 674,
                        "passed_time": 203.1153137,
                        "remaining_time": 398.707838,
                        "test": [
                          0.561640253
                        ]
                      },
                      {
                        "learn": [
                          0.5555024404
                        ],
                        "iteration": 675,
                        "passed_time": 203.3531989,
                        "remaining_time": 398.2834842,
                        "test": [
                          0.561641324
                        ]
                      },
                      {
                        "learn": [
                          0.5555001891
                        ],
                        "iteration": 676,
                        "passed_time": 203.6240026,
                        "remaining_time": 397.924011,
                        "test": [
                          0.5616436118
                        ]
                      },
                      {
                        "learn": [
                          0.555496095
                        ],
                        "iteration": 677,
                        "passed_time": 203.8733996,
                        "remaining_time": 397.5230593,
                        "test": [
                          0.5616433357
                        ]
                      },
                      {
                        "learn": [
                          0.5554942913
                        ],
                        "iteration": 678,
                        "passed_time": 204.0779389,
                        "remaining_time": 397.0352831,
                        "test": [
                          0.5616412321
                        ]
                      },
                      {
                        "learn": [
                          0.5554932063
                        ],
                        "iteration": 679,
                        "passed_time": 204.2740596,
                        "remaining_time": 396.5319981,
                        "test": [
                          0.5616398655
                        ]
                      },
                      {
                        "learn": [
                          0.5554904329
                        ],
                        "iteration": 680,
                        "passed_time": 204.4725054,
                        "remaining_time": 396.0341184,
                        "test": [
                          0.5616407898
                        ]
                      },
                      {
                        "learn": [
                          0.5554847594
                        ],
                        "iteration": 681,
                        "passed_time": 204.7226232,
                        "remaining_time": 395.6369757,
                        "test": [
                          0.5616453316
                        ]
                      },
                      {
                        "learn": [
                          0.555475209
                        ],
                        "iteration": 682,
                        "passed_time": 205.000756,
                        "remaining_time": 395.2942835,
                        "test": [
                          0.561636983
                        ]
                      },
                      {
                        "learn": [
                          0.5554697344
                        ],
                        "iteration": 683,
                        "passed_time": 205.2558313,
                        "remaining_time": 394.9074182,
                        "test": [
                          0.5616387128
                        ]
                      },
                      {
                        "learn": [
                          0.5554668379
                        ],
                        "iteration": 684,
                        "passed_time": 205.5847315,
                        "remaining_time": 394.6626597,
                        "test": [
                          0.5616363613
                        ]
                      },
                      {
                        "learn": [
                          0.5554626869
                        ],
                        "iteration": 685,
                        "passed_time": 205.8388828,
                        "remaining_time": 394.2744782,
                        "test": [
                          0.5616350495
                        ]
                      },
                      {
                        "learn": [
                          0.5554598317
                        ],
                        "iteration": 686,
                        "passed_time": 206.157302,
                        "remaining_time": 394.009516,
                        "test": [
                          0.5616361023
                        ]
                      },
                      {
                        "learn": [
                          0.5554591116
                        ],
                        "iteration": 687,
                        "passed_time": 206.3907186,
                        "remaining_time": 393.5823006,
                        "test": [
                          0.5616353265
                        ]
                      },
                      {
                        "learn": [
                          0.5554520478
                        ],
                        "iteration": 688,
                        "passed_time": 206.7516429,
                        "remaining_time": 393.3982638,
                        "test": [
                          0.5616403604
                        ]
                      },
                      {
                        "learn": [
                          0.555450981
                        ],
                        "iteration": 689,
                        "passed_time": 207.0266136,
                        "remaining_time": 393.0505273,
                        "test": [
                          0.5616408008
                        ]
                      },
                      {
                        "learn": [
                          0.5554491965
                        ],
                        "iteration": 690,
                        "passed_time": 207.2562749,
                        "remaining_time": 392.6171692,
                        "test": [
                          0.5616398218
                        ]
                      },
                      {
                        "learn": [
                          0.5554479114
                        ],
                        "iteration": 691,
                        "passed_time": 207.4630336,
                        "remaining_time": 392.1411097,
                        "test": [
                          0.5616398719
                        ]
                      },
                      {
                        "learn": [
                          0.5554459781
                        ],
                        "iteration": 692,
                        "passed_time": 207.8186848,
                        "remaining_time": 391.9466392,
                        "test": [
                          0.5616416764
                        ]
                      },
                      {
                        "learn": [
                          0.5554454862
                        ],
                        "iteration": 693,
                        "passed_time": 208.0825916,
                        "remaining_time": 391.5790557,
                        "test": [
                          0.5616416719
                        ]
                      },
                      {
                        "learn": [
                          0.5554423543
                        ],
                        "iteration": 694,
                        "passed_time": 208.283467,
                        "remaining_time": 391.0934165,
                        "test": [
                          0.561641476
                        ]
                      },
                      {
                        "learn": [
                          0.5554359943
                        ],
                        "iteration": 695,
                        "passed_time": 208.5181956,
                        "remaining_time": 390.6720216,
                        "test": [
                          0.5616429622
                        ]
                      },
                      {
                        "learn": [
                          0.5554275383
                        ],
                        "iteration": 696,
                        "passed_time": 208.7308049,
                        "remaining_time": 390.2098117,
                        "test": [
                          0.561636199
                        ]
                      },
                      {
                        "learn": [
                          0.5554242304
                        ],
                        "iteration": 697,
                        "passed_time": 209.0125103,
                        "remaining_time": 389.8772039,
                        "test": [
                          0.5616372128
                        ]
                      },
                      {
                        "learn": [
                          0.5554198149
                        ],
                        "iteration": 698,
                        "passed_time": 209.2074292,
                        "remaining_time": 389.3832124,
                        "test": [
                          0.5616363395
                        ]
                      },
                      {
                        "learn": [
                          0.5554171796
                        ],
                        "iteration": 699,
                        "passed_time": 209.5158413,
                        "remaining_time": 389.1008481,
                        "test": [
                          0.5616376369
                        ]
                      },
                      {
                        "learn": [
                          0.5554114545
                        ],
                        "iteration": 700,
                        "passed_time": 209.809445,
                        "remaining_time": 388.7909687,
                        "test": [
                          0.5616364123
                        ]
                      },
                      {
                        "learn": [
                          0.5554086525
                        ],
                        "iteration": 701,
                        "passed_time": 210.1746569,
                        "remaining_time": 388.6135395,
                        "test": [
                          0.5616372439
                        ]
                      },
                      {
                        "learn": [
                          0.5553983237
                        ],
                        "iteration": 702,
                        "passed_time": 210.5137186,
                        "remaining_time": 388.38733,
                        "test": [
                          0.5616377683
                        ]
                      },
                      {
                        "learn": [
                          0.5553948712
                        ],
                        "iteration": 703,
                        "passed_time": 210.7470503,
                        "remaining_time": 387.9661608,
                        "test": [
                          0.5616352171
                        ]
                      },
                      {
                        "learn": [
                          0.555394509
                        ],
                        "iteration": 704,
                        "passed_time": 210.9432022,
                        "remaining_time": 387.4772295,
                        "test": [
                          0.561635387
                        ]
                      },
                      {
                        "learn": [
                          0.5553878994
                        ],
                        "iteration": 705,
                        "passed_time": 211.2048627,
                        "remaining_time": 387.1091959,
                        "test": [
                          0.5616311692
                        ]
                      },
                      {
                        "learn": [
                          0.5553839452
                        ],
                        "iteration": 706,
                        "passed_time": 211.431946,
                        "remaining_time": 386.6782266,
                        "test": [
                          0.5616316918
                        ]
                      },
                      {
                        "learn": [
                          0.5553821238
                        ],
                        "iteration": 707,
                        "passed_time": 211.6550267,
                        "remaining_time": 386.2405289,
                        "test": [
                          0.5616320109
                        ]
                      },
                      {
                        "learn": [
                          0.5553816467
                        ],
                        "iteration": 708,
                        "passed_time": 211.8980659,
                        "remaining_time": 385.8397787,
                        "test": [
                          0.5616322953
                        ]
                      },
                      {
                        "learn": [
                          0.5553803997
                        ],
                        "iteration": 709,
                        "passed_time": 212.1419705,
                        "remaining_time": 385.4410449,
                        "test": [
                          0.5616344335
                        ]
                      },
                      {
                        "learn": [
                          0.5553766687
                        ],
                        "iteration": 710,
                        "passed_time": 212.400837,
                        "remaining_time": 385.0698718,
                        "test": [
                          0.5616342919
                        ]
                      },
                      {
                        "learn": [
                          0.555370352
                        ],
                        "iteration": 711,
                        "passed_time": 212.7956086,
                        "remaining_time": 384.9448649,
                        "test": [
                          0.5616342032
                        ]
                      },
                      {
                        "learn": [
                          0.5553659794
                        ],
                        "iteration": 712,
                        "passed_time": 213.2537416,
                        "remaining_time": 384.9334719,
                        "test": [
                          0.5616282962
                        ]
                      },
                      {
                        "learn": [
                          0.5553620246
                        ],
                        "iteration": 713,
                        "passed_time": 213.6427105,
                        "remaining_time": 384.7962545,
                        "test": [
                          0.5616271922
                        ]
                      },
                      {
                        "learn": [
                          0.555359741
                        ],
                        "iteration": 714,
                        "passed_time": 214.0308397,
                        "remaining_time": 384.6568239,
                        "test": [
                          0.5616268324
                        ]
                      },
                      {
                        "learn": [
                          0.5553547175
                        ],
                        "iteration": 715,
                        "passed_time": 214.5250459,
                        "remaining_time": 384.7069258,
                        "test": [
                          0.5616291277
                        ]
                      },
                      {
                        "learn": [
                          0.5553495822
                        ],
                        "iteration": 716,
                        "passed_time": 215.014336,
                        "remaining_time": 384.7467129,
                        "test": [
                          0.5616258174
                        ]
                      },
                      {
                        "learn": [
                          0.5553483795
                        ],
                        "iteration": 717,
                        "passed_time": 215.459272,
                        "remaining_time": 384.7058311,
                        "test": [
                          0.5616297158
                        ]
                      },
                      {
                        "learn": [
                          0.5553463956
                        ],
                        "iteration": 718,
                        "passed_time": 215.7321616,
                        "remaining_time": 384.3573005,
                        "test": [
                          0.5616320042
                        ]
                      },
                      {
                        "learn": [
                          0.5553445466
                        ],
                        "iteration": 719,
                        "passed_time": 215.9487716,
                        "remaining_time": 383.9089273,
                        "test": [
                          0.5616309891
                        ]
                      },
                      {
                        "learn": [
                          0.5553419258
                        ],
                        "iteration": 720,
                        "passed_time": 216.1637986,
                        "remaining_time": 383.458389,
                        "test": [
                          0.5616302223
                        ]
                      },
                      {
                        "learn": [
                          0.5553393741
                        ],
                        "iteration": 721,
                        "passed_time": 216.485758,
                        "remaining_time": 383.1977822,
                        "test": [
                          0.5616329486
                        ]
                      },
                      {
                        "learn": [
                          0.5553373932
                        ],
                        "iteration": 722,
                        "passed_time": 216.8030458,
                        "remaining_time": 382.9287544,
                        "test": [
                          0.5616326871
                        ]
                      },
                      {
                        "learn": [
                          0.5553331274
                        ],
                        "iteration": 723,
                        "passed_time": 217.0524651,
                        "remaining_time": 382.5399799,
                        "test": [
                          0.5616354068
                        ]
                      },
                      {
                        "learn": [
                          0.5553321307
                        ],
                        "iteration": 724,
                        "passed_time": 217.3088622,
                        "remaining_time": 382.1638612,
                        "test": [
                          0.5616355675
                        ]
                      },
                      {
                        "learn": [
                          0.5553254236
                        ],
                        "iteration": 725,
                        "passed_time": 217.6036903,
                        "remaining_time": 381.8555117,
                        "test": [
                          0.5616339381
                        ]
                      },
                      {
                        "learn": [
                          0.5553240868
                        ],
                        "iteration": 726,
                        "passed_time": 217.8363562,
                        "remaining_time": 381.4383513,
                        "test": [
                          0.5616334956
                        ]
                      },
                      {
                        "learn": [
                          0.5553207354
                        ],
                        "iteration": 727,
                        "passed_time": 218.0435352,
                        "remaining_time": 380.9771658,
                        "test": [
                          0.5616212257
                        ]
                      },
                      {
                        "learn": [
                          0.5553152251
                        ],
                        "iteration": 728,
                        "passed_time": 218.3541364,
                        "remaining_time": 380.6969923,
                        "test": [
                          0.5616201848
                        ]
                      },
                      {
                        "learn": [
                          0.5553134716
                        ],
                        "iteration": 729,
                        "passed_time": 218.6926065,
                        "remaining_time": 380.4652195,
                        "test": [
                          0.5616191777
                        ]
                      },
                      {
                        "learn": [
                          0.5553110716
                        ],
                        "iteration": 730,
                        "passed_time": 218.9241077,
                        "remaining_time": 380.0474591,
                        "test": [
                          0.5616178785
                        ]
                      },
                      {
                        "learn": [
                          0.5553104481
                        ],
                        "iteration": 731,
                        "passed_time": 219.1499825,
                        "remaining_time": 379.6204615,
                        "test": [
                          0.5616202217
                        ]
                      },
                      {
                        "learn": [
                          0.5553067929
                        ],
                        "iteration": 732,
                        "passed_time": 219.3853537,
                        "remaining_time": 379.2104271,
                        "test": [
                          0.5616232828
                        ]
                      },
                      {
                        "learn": [
                          0.5553063954
                        ],
                        "iteration": 733,
                        "passed_time": 219.5786854,
                        "remaining_time": 378.7283593,
                        "test": [
                          0.5616233002
                        ]
                      }
                    ],
                    "meta": {
                      "test_sets": [
                        "test"
                      ],
                      "test_metrics": [
                        {
                          "best_value": "Min",
                          "name": "Logloss"
                        }
                      ],
                      "learn_metrics": [
                        {
                          "best_value": "Min",
                          "name": "Logloss"
                        }
                      ],
                      "launch_mode": "Train",
                      "parameters": "",
                      "iteration_count": 2000,
                      "learn_sets": [
                        "learn"
                      ],
                      "name": "experiment"
                    }
                  }
                }
              }
            },
            "layout": "IPY_MODEL_207f8dedc15c48718319c34cf106f5c4"
          }
        }
      }
    }
  },
  "nbformat": 4,
  "nbformat_minor": 5
}